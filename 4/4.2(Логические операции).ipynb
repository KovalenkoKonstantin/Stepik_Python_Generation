﻿{
 "cells": [
  {
   "cell_type": "code",
   "execution_count": 1,
   "metadata": {
    "collapsed": true,
    "pycharm": {
     "name": "#%%\n"
    }
   },
   "outputs": [
    {
     "name": "stdout",
     "output_type": "stream",
     "text": [
      "число 34 выиграло\n"
     ]
    }
   ],
   "source": [
    "num1 = 34\n",
    "num2 = 81\n",
    "if num1 // 9 == 0 or num2 % 9 == 0:\n",
    "    print('число', num1, 'выиграло')\n",
    "else:\n",
    "    print('число', num2, 'выиграло')"
   ]
  },
  {
   "cell_type": "code",
   "execution_count": 2,
   "outputs": [
    {
     "name": "stdout",
     "output_type": "stream",
     "text": [
      "100\n"
     ]
    }
   ],
   "source": [
    "a = 7\n",
    "\n",
    "if a >= 2 and a <= 17:\n",
    "    b = 3\n",
    "    p = a * a + b * b\n",
    "else:\n",
    "    b = 5\n",
    "\n",
    "p = (a + b) * (a + b)\n",
    "print(p)"
   ],
   "metadata": {
    "collapsed": false,
    "pycharm": {
     "name": "#%%\n"
    }
   }
  },
  {
   "cell_type": "markdown",
   "source": [
    "Напишите программу, которая принимает целое число\n",
    "x и определяет, принадлежит ли данное число указанному промежутку.\n",
    "\n",
    "Формат входных данных\n",
    "На вход программе подаётся целое число\n",
    "x.\n",
    "\n",
    "Формат выходных данных\n",
    "Программа должна вывести текст в соответствии с условием задачи."
   ],
   "metadata": {
    "collapsed": false,
    "pycharm": {
     "name": "#%% md\n"
    }
   }
  },
  {
   "cell_type": "code",
   "execution_count": null,
   "outputs": [],
   "source": [
    "x = int(input())\n",
    "if -1 < x < 17:\n",
    "    print('Принадлежит')\n",
    "else:\n",
    "    print('Не принадлежит')"
   ],
   "metadata": {
    "collapsed": false,
    "pycharm": {
     "name": "#%%\n"
    }
   }
  },
  {
   "cell_type": "code",
   "execution_count": null,
   "outputs": [],
   "source": [
    "print(('Не п', 'П')[-1 < int(input()) < 17] + 'ринадлежит')"
   ],
   "metadata": {
    "collapsed": false,
    "pycharm": {
     "name": "#%%\n"
    }
   }
  },
  {
   "cell_type": "code",
   "execution_count": null,
   "outputs": [],
   "source": [
    "print('Принадлежит' if -1 < int(input()) < 17 else 'Не принадлежит')"
   ],
   "metadata": {
    "collapsed": false,
    "pycharm": {
     "name": "#%%\n"
    }
   }
  },
  {
   "cell_type": "markdown",
   "source": [
    "Напишите программу, которая принимает целое число\n",
    "x и определяет, принадлежит ли данное число указанным промежуткам.\n",
    "\n",
    "Формат входных данных\n",
    "На вход программе подаётся целое число\n",
    "x.\n",
    "\n",
    "Формат выходных данных\n",
    "Программа должна вывести текст в соответствии с условием задачи."
   ],
   "metadata": {
    "collapsed": false,
    "pycharm": {
     "name": "#%% md\n"
    }
   }
  },
  {
   "cell_type": "code",
   "execution_count": 5,
   "outputs": [
    {
     "name": "stdout",
     "output_type": "stream",
     "text": [
      "Не принадлежит\n"
     ]
    }
   ],
   "source": [
    "x = int(input())\n",
    "print('Принадлежит' if -3 >= x or x >= 7 else 'Не принадлежит')"
   ],
   "metadata": {
    "collapsed": false,
    "pycharm": {
     "name": "#%%\n"
    }
   }
  },
  {
   "cell_type": "code",
   "execution_count": null,
   "outputs": [],
   "source": [
    "print('Принадлежит' if not -3 < int(input()) < 7 else 'Не принадлежит')"
   ],
   "metadata": {
    "collapsed": false,
    "pycharm": {
     "name": "#%%\n"
    }
   }
  },
  {
   "cell_type": "code",
   "execution_count": null,
   "outputs": [],
   "source": [
    "print('Не принадлежит' if int(input()) in range(-2, 7) else 'Принадлежит')"
   ],
   "metadata": {
    "collapsed": false,
    "pycharm": {
     "name": "#%%\n"
    }
   }
  },
  {
   "cell_type": "markdown",
   "source": [
    "Напишите программу, которая принимает целое число\n",
    "x и определяет, принадлежит ли данное число указанным промежуткам.\n",
    "\n",
    "Формат входных данных\n",
    "На вход программе подаётся целое число\n",
    "x.\n",
    "\n",
    "Формат выходных данных\n",
    "Программа должна вывести текст в соответствии с условием задачи."
   ],
   "metadata": {
    "collapsed": false,
    "pycharm": {
     "name": "#%% md\n"
    }
   }
  },
  {
   "cell_type": "code",
   "execution_count": null,
   "outputs": [],
   "source": [
    "x = int(input())\n",
    "print('Принадлежит' if -30 >= x and x <= -2 else 'Принадлежит' if 7 >= x and x <= 25 else 'Не принадлежит')"
   ],
   "metadata": {
    "collapsed": false,
    "pycharm": {
     "name": "#%%\n"
    }
   }
  },
  {
   "cell_type": "code",
   "execution_count": 6,
   "outputs": [
    {
     "name": "stdout",
     "output_type": "stream",
     "text": [
      "Не принадлежит\n"
     ]
    }
   ],
   "source": [
    "x = int(input())\n",
    "print('Принадлежит' if x in range(-29, -1) or x in range(8, 26) else 'Не принадлежит')"
   ],
   "metadata": {
    "collapsed": false,
    "pycharm": {
     "name": "#%%\n"
    }
   }
  }
 ],
 "metadata": {
  "kernelspec": {
   "display_name": "Python 3",
   "language": "python",
   "name": "python3"
  },
  "language_info": {
   "codemirror_mode": {
    "name": "ipython",
    "version": 2
   },
   "file_extension": ".py",
   "mimetype": "text/x-python",
   "name": "python",
   "nbconvert_exporter": "python",
   "pygments_lexer": "ipython2",
   "version": "2.7.6"
  }
 },
 "nbformat": 4,
 "nbformat_minor": 0
}