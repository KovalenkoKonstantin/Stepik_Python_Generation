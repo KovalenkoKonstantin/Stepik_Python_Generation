﻿{
 "cells": [
  {
   "cell_type": "markdown",
   "source": [
    "Напишите программу, которая определяет, разрешён ли пользователю доступ к интернет-ресурсу или нет.\n",
    "\n",
    "Формат входных данных\n",
    "На вход программе подаётся целое число – возраст пользователя.\n",
    "\n",
    "Формат выходных данных\n",
    "Программа должна вывести текст «Доступ разрешен», если возраст пользователя не менее\n",
    "18\n",
    "18 лет, или «Доступ запрещен» в противном случае.\n",
    "\n",
    "Тестовые данные 🟢\n",
    "Sample Input 1:\n",
    "\n",
    "16\n",
    "Sample Output 1:\n",
    "\n",
    "Доступ запрещен\n",
    "Sample Input 2:\n",
    "\n",
    "18\n",
    "Sample Output 2:\n",
    "\n",
    "Доступ разрешен\n",
    "Sample Input 3:\n",
    "\n",
    "19\n",
    "Sample Output 3:\n",
    "\n",
    "Доступ разрешен"
   ],
   "metadata": {
    "collapsed": false,
    "pycharm": {
     "name": "#%% md\n"
    }
   }
  },
  {
   "cell_type": "code",
   "execution_count": 4,
   "outputs": [
    {
     "name": "stdout",
     "output_type": "stream",
     "text": [
      "Доступ запрещен\n"
     ]
    }
   ],
   "source": [
    "l = ['Доступ запрещен', 'Доступ разрешен']\n",
    "print(l[0] if int(input()) < 18 else l[1])"
   ],
   "metadata": {
    "collapsed": false,
    "pycharm": {
     "name": "#%%\n"
    }
   }
  }
 ],
 "metadata": {
  "kernelspec": {
   "display_name": "Python 3",
   "language": "python",
   "name": "python3"
  },
  "language_info": {
   "codemirror_mode": {
    "name": "ipython",
    "version": 2
   },
   "file_extension": ".py",
   "mimetype": "text/x-python",
   "name": "python",
   "nbconvert_exporter": "python",
   "pygments_lexer": "ipython2",
   "version": "2.7.6"
  }
 },
 "nbformat": 4,
 "nbformat_minor": 0
}