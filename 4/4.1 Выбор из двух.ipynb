﻿{
 "cells": [
  {
   "cell_type": "markdown",
   "source": [
    "Напишите программу, которая определяет, разрешён ли пользователю доступ к интернет-ресурсу или нет.\n",
    "\n",
    "Формат входных данных\n",
    "На вход программе подаётся целое число – возраст пользователя.\n",
    "\n",
    "Формат выходных данных\n",
    "Программа должна вывести текст «Доступ разрешен», если возраст пользователя не менее\n",
    "18\n",
    "18 лет, или «Доступ запрещен» в противном случае.\n",
    "\n",
    "Тестовые данные 🟢\n",
    "Sample Input 1:\n",
    "\n",
    "16\n",
    "Sample Output 1:\n",
    "\n",
    "Доступ запрещен\n",
    "Sample Input 2:\n",
    "\n",
    "18\n",
    "Sample Output 2:\n",
    "\n",
    "Доступ разрешен\n",
    "Sample Input 3:\n",
    "\n",
    "19\n",
    "Sample Output 3:\n",
    "\n",
    "Доступ разрешен"
   ],
   "metadata": {
    "collapsed": false,
    "pycharm": {
     "name": "#%% md\n"
    }
   }
  },
  {
   "cell_type": "code",
   "execution_count": 4,
   "outputs": [
    {
     "name": "stdout",
     "output_type": "stream",
     "text": [
      "Доступ запрещен\n"
     ]
    }
   ],
   "source": [
    "l = ['Доступ запрещен', 'Доступ разрешен']\n",
    "print(l[0] if int(input()) < 18 else l[1])"
   ],
   "metadata": {
    "collapsed": false,
    "pycharm": {
     "name": "#%%\n"
    }
   }
  },
  {
   "cell_type": "markdown",
   "source": [
    "Арифметическая прогрессия\n",
    "Напишите программу, которая определяет, являются ли три заданных числа (в указанном порядке) последовательными членами арифметической прогрессии.\n",
    "\n",
    "Формат входных данных\n",
    "На вход программе подаются три числа, каждое на отдельной строке.\n",
    "\n",
    "Формат выходных данных\n",
    "Программа должна вывести «YES» или «NO» (без кавычек) в соответствии с условием задачи.\n",
    "\n",
    "Тестовые данные 🟢\n",
    "Sample Input 1:\n",
    "\n",
    "1\n",
    "2\n",
    "3\n",
    "Sample Output 1:\n",
    "\n",
    "YES\n",
    "Sample Input 2:\n",
    "\n",
    "1\n",
    "2\n",
    "4\n",
    "Sample Output 2:\n",
    "\n",
    "NO\n",
    "Sample Input 3:\n",
    "\n",
    "2\n",
    "4\n",
    "8\n",
    "Sample Output 3:\n",
    "\n",
    "NO"
   ],
   "metadata": {
    "collapsed": false,
    "pycharm": {
     "name": "#%% md\n"
    }
   }
  },
  {
   "cell_type": "code",
   "execution_count": null,
   "outputs": [],
   "source": [
    "l = [int(input()), int(input()), int(input())]\n",
    "\n",
    "print('YES' if l[2] - l[1] == l[1] - l[0] else 'NO')\n"
   ],
   "metadata": {
    "collapsed": false,
    "pycharm": {
     "name": "#%%\n"
    }
   }
  },
  {
   "cell_type": "code",
   "execution_count": null,
   "outputs": [],
   "source": [
    "print('YES' if int(input()) - 2 * int(input()) == - int(input()) else 'NO')"
   ],
   "metadata": {
    "collapsed": false,
    "pycharm": {
     "name": "#%%\n"
    }
   }
  },
  {
   "cell_type": "markdown",
   "source": [
    "Наименьшее из двух чисел\n",
    "Напишите программу, которая определяет наименьшее из двух чисел.\n",
    "\n",
    "Формат входных данных\n",
    "На вход программе подаются два различных целых числа.\n",
    "\n",
    "Формат выходных данных\n",
    "Программа должна вывести наименьшее из двух чисел."
   ],
   "metadata": {
    "collapsed": false,
    "pycharm": {
     "name": "#%% md\n"
    }
   }
  },
  {
   "cell_type": "code",
   "execution_count": null,
   "outputs": [],
   "source": [
    "a = int(input())\n",
    "b = int(input())\n",
    "\n",
    "print(min(a, b))"
   ],
   "metadata": {
    "collapsed": false,
    "pycharm": {
     "name": "#%%\n"
    }
   }
  },
  {
   "cell_type": "markdown",
   "source": [
    "Напишите программу, которая определяет наименьшее из четырёх чисел.\n",
    "\n",
    "Формат входных данных\n",
    "На вход программе подаётся четыре целых числа.\n",
    "\n",
    "Формат выходных данных\n",
    "Программа должна вывести наименьшее из четырёх чисел.\n",
    "\n",
    "Примечание. Учитывайте, что минимальные числа могут повторяться (смотрите тест №5). В таком случае необходимо вывести только одно из них."
   ],
   "metadata": {
    "collapsed": false,
    "pycharm": {
     "name": "#%% md\n"
    }
   }
  },
  {
   "cell_type": "code",
   "execution_count": null,
   "outputs": [],
   "source": [
    "l =[]\n",
    "for i in range(4):\n",
    "    l.append(int(input()))\n",
    "print(min(l))\n"
   ],
   "metadata": {
    "collapsed": false,
    "pycharm": {
     "name": "#%%\n"
    }
   }
  },
  {
   "cell_type": "code",
   "execution_count": null,
   "outputs": [],
   "source": [
    "print(min(int(input()) for i in range(4)))"
   ],
   "metadata": {
    "collapsed": false,
    "pycharm": {
     "name": "#%%\n"
    }
   }
  },
  {
   "cell_type": "markdown",
   "source": [
    "Напишите программу, которая по введённому возрасту пользователя сообщает, к какой возрастной группе он относится:\n",
    "\n",
    "до 13 (включительно) – детство;\n",
    "от 14 до 24 (включительно) – молодость;\n",
    "от 25 до 59 (включительно) – зрелость;\n",
    "от 60 (включительно) – старость.\n",
    "Формат входных данных\n",
    "На вход программе подаётся одно целое число – возраст пользователя.\n",
    "\n",
    "Формат выходных данных\n",
    "Программа должна вывести название возрастной группы."
   ],
   "metadata": {
    "collapsed": false,
    "pycharm": {
     "name": "#%% md\n"
    }
   }
  },
  {
   "cell_type": "code",
   "execution_count": null,
   "outputs": [],
   "source": [
    "# Ввод возраста пользователя\n",
    "age = int(input())\n",
    "\n",
    "# Определение возрастной группы\n",
    "if age <= 13:\n",
    "    print(\"детство\")\n",
    "elif 14 <= age <= 24:\n",
    "    print(\"молодость\")\n",
    "elif 25 <= age <= 59:\n",
    "    print(\"зрелость\")\n",
    "else:\n",
    "    print(\"старость\")"
   ],
   "metadata": {
    "collapsed": false,
    "pycharm": {
     "name": "#%%\n"
    }
   }
  },
  {
   "cell_type": "markdown",
   "source": [
    "Напишите программу, которая считывает три числа и подсчитывает сумму только положительных чисел.\n",
    "\n",
    "Формат входных данных\n",
    "На вход программе подаются три целых числа, каждое на новой строке.\n",
    "\n",
    "Формат выходных данных\n",
    "Программа должна вывести одно число – сумму положительных чисел.\n",
    "\n",
    "Примечание. Если положительных чисел нет, то следует вывести 0."
   ],
   "metadata": {
    "collapsed": false,
    "pycharm": {
     "name": "#%% md\n"
    }
   }
  },
  {
   "cell_type": "code",
   "execution_count": null,
   "outputs": [],
   "source": [
    "l =[]\n",
    "for i in range(3):\n",
    "    a = int(input())\n",
    "    if a > -1:\n",
    "        l.append(a)\n",
    "print(sum(l))"
   ],
   "metadata": {
    "collapsed": false,
    "pycharm": {
     "name": "#%%\n"
    }
   }
  },
  {
   "cell_type": "code",
   "execution_count": null,
   "outputs": [],
   "source": [
    "print(max(0, int(input())) + max(0, int(input())) + max(0, int(input())))"
   ],
   "metadata": {
    "collapsed": false,
    "pycharm": {
     "name": "#%%\n"
    }
   }
  }
 ],
 "metadata": {
  "kernelspec": {
   "display_name": "Python 3",
   "language": "python",
   "name": "python3"
  },
  "language_info": {
   "codemirror_mode": {
    "name": "ipython",
    "version": 2
   },
   "file_extension": ".py",
   "mimetype": "text/x-python",
   "name": "python",
   "nbconvert_exporter": "python",
   "pygments_lexer": "ipython2",
   "version": "2.7.6"
  }
 },
 "nbformat": 4,
 "nbformat_minor": 0
}