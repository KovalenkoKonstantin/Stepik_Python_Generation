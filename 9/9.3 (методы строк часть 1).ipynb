﻿{
 "cells": [
  {
   "cell_type": "markdown",
   "source": [
    "Метод capitalize() возвращает копию строки s, в которой первый символ имеет верхний регистр, а все остальные символы имеют нижний регистр."
   ],
   "metadata": {
    "collapsed": false,
    "pycharm": {
     "name": "#%% md\n"
    }
   }
  },
  {
   "cell_type": "code",
   "execution_count": 1,
   "outputs": [
    {
     "name": "stdout",
     "output_type": "stream",
     "text": [
      "Foo bar baz qux\n"
     ]
    }
   ],
   "source": [
    "s = 'foO BaR BAZ quX'\n",
    "print(s.capitalize())"
   ],
   "metadata": {
    "collapsed": false,
    "pycharm": {
     "name": "#%%\n"
    }
   }
  },
  {
   "cell_type": "markdown",
   "source": [
    "Метод swapcase() возвращает копию строки s, в которой все символы, имеющие верхний регистр, преобразуются в символы нижнего регистра и наоборот."
   ],
   "metadata": {
    "collapsed": false,
    "pycharm": {
     "name": "#%% md\n"
    }
   }
  },
  {
   "cell_type": "code",
   "execution_count": 2,
   "outputs": [
    {
     "name": "stdout",
     "output_type": "stream",
     "text": [
      "foo bAR 123 BAZ Qux\n"
     ]
    }
   ],
   "source": [
    "s = 'FOO Bar 123 baz qUX'\n",
    "print(s.swapcase())"
   ],
   "metadata": {
    "collapsed": false,
    "pycharm": {
     "name": "#%%\n"
    }
   }
  },
  {
   "cell_type": "markdown",
   "source": [
    "Метод title() возвращает копию строки s, в которой первый символ каждого слова переводится в верхний регистр."
   ],
   "metadata": {
    "collapsed": false,
    "pycharm": {
     "name": "#%% md\n"
    }
   }
  },
  {
   "cell_type": "code",
   "execution_count": 3,
   "outputs": [
    {
     "name": "stdout",
     "output_type": "stream",
     "text": [
      "The Sun Also Rises\n"
     ]
    }
   ],
   "source": [
    "s = 'the sun also rises'\n",
    "print(s.title())"
   ],
   "metadata": {
    "collapsed": false,
    "pycharm": {
     "name": "#%%\n"
    }
   }
  },
  {
   "cell_type": "code",
   "execution_count": 4,
   "outputs": [
    {
     "name": "stdout",
     "output_type": "stream",
     "text": [
      "What'S Happened To Ted'S Ibm Stock?\n"
     ]
    }
   ],
   "source": [
    "s = \"what's happened to ted's IBM stock?\"\n",
    "print(s.title())"
   ],
   "metadata": {
    "collapsed": false,
    "pycharm": {
     "name": "#%%\n"
    }
   }
  },
  {
   "cell_type": "markdown",
   "source": [
    "Метод lower() возвращает копию строки s, в которой все символы имеют нижний регистр."
   ],
   "metadata": {
    "collapsed": false,
    "pycharm": {
     "name": "#%% md\n"
    }
   }
  },
  {
   "cell_type": "code",
   "execution_count": 5,
   "outputs": [
    {
     "name": "stdout",
     "output_type": "stream",
     "text": [
      "foo bar 123 baz qux\n"
     ]
    }
   ],
   "source": [
    "s = 'FOO Bar 123 baz qUX'\n",
    "print(s.lower())"
   ],
   "metadata": {
    "collapsed": false,
    "pycharm": {
     "name": "#%%\n"
    }
   }
  },
  {
   "cell_type": "markdown",
   "source": [
    "Метод upper() возвращает копию строки s, в которой все символы имеют верхний регистр."
   ],
   "metadata": {
    "collapsed": false,
    "pycharm": {
     "name": "#%% md\n"
    }
   }
  },
  {
   "cell_type": "code",
   "execution_count": 6,
   "outputs": [
    {
     "name": "stdout",
     "output_type": "stream",
     "text": [
      "FOO BAR 123 BAZ QUX\n"
     ]
    }
   ],
   "source": [
    "s = 'FOO Bar 123 baz qUX'\n",
    "print(s.upper())"
   ],
   "metadata": {
    "collapsed": false,
    "pycharm": {
     "name": "#%%\n"
    }
   }
  },
  {
   "cell_type": "markdown",
   "source": [
    "Одно очень важное замечание о методах данной категории состоит в том, что они не изменяют исходную строку. Если вы хотите изменить строку s, нужно написать код: s = s.lower(). На самом деле тут вы создаёте совсем другой объект в памяти компьютера, просто он со старым названием s"
   ],
   "metadata": {
    "collapsed": false,
    "pycharm": {
     "name": "#%% md\n"
    }
   }
  },
  {
   "cell_type": "markdown",
   "source": [
    "capitalize — писать прописными буквами, закрепить.\n",
    "swapcase — обменять регистр. swap — гл. обмениваться, case — случай, регистр, падеж, дело, расследование...\n",
    "title — заголовок, титул.\n",
    "lower — нижний.\n",
    "upper — верхний."
   ],
   "metadata": {
    "collapsed": false,
    "pycharm": {
     "name": "#%% md\n"
    }
   }
  },
  {
   "cell_type": "markdown",
   "source": [
    "S = 'str'; S = \"str\"; S = '''str'''; S = \"\"\"str\"\"\"\n",
    "\n",
    "S1 + S2 Конкатенация (сложение строк)\n",
    "\n",
    "S1 * 3 Повторение строки\n",
    "\n",
    "S[i] Обращение по индексу\n",
    "\n",
    "S[i:j:step] Извлечение среза\n",
    "\n",
    "len(S) Длина строки\n",
    "\n",
    "S.find(str, [start],[end]) Поиск подстроки в строке. Возвращает номер первого вхождения или -1\n",
    "\n",
    "S.rfind(str, [start],[end]) Поиск подстроки в строке. Возвращает номер последнего вхождения или -1\n",
    "\n",
    "S.index(str, [start],[end]) Поиск подстроки в строке. Возвращает номер первого вхождения или вызывает ValueError\n",
    "\n",
    "S.rindex(str, [start],[end]) Поиск подстроки в строке. Возвращает номер последнего вхождения или вызывает ValueError\n",
    "\n",
    "S.replace(шаблон, замена) Замена шаблона\n",
    "\n",
    "S.split(символ) Разбиение строки по разделителю\n",
    "\n",
    "S.isdigit() Состоит ли строка из цифр\n",
    "\n",
    "S.isalpha() Состоит ли строка из букв\n",
    "\n",
    "S.isalnum() Состоит ли строка из цифр или букв\n",
    "\n",
    "S.islower() Состоит ли строка из символов в нижнем регистре\n",
    "\n",
    "S.isupper() Состоит ли строка из символов в верхнем регистре\n",
    "\n",
    "S.isspace() Состоит ли строка из неотображаемых символов (пробел, символ перевода страницы ('\\f'), \"новая строка\" ('\\n'), \"перевод каретки\" ('\\r'), \"горизонтальная табуляция\" ('\\t') и \"вертикальная табуляция\" ('\\v'))\n",
    "\n",
    "S.istitle() Начинаются ли слова в строке с заглавной буквы\n",
    "\n",
    "S.upper() Преобразование строки к верхнему регистру\n",
    "\n",
    "S.lower() Преобразование строки к нижнему регистру\n",
    "\n",
    "S.startswith(str) Начинается ли строка S с шаблона str\n",
    "\n",
    "S.endswith(str) Заканчивается ли строка S шаблоном str\n",
    "\n",
    "S.join(список) Сборка строки из списка с разделителем S\n",
    "\n",
    "ord(символ) Символ в его код ASCII\n",
    "\n",
    "chr(число) Код ASCII в символ\n",
    "\n",
    "S.capitalize() Переводит первый символ строки в верхний регистр, а все остальные в нижний\n",
    "\n",
    "S.center(width, [fill]) Возвращает отцентрованную строку, по краям которой стоит символ fill (пробел по умолчанию)\n",
    "\n",
    "S.count(str, [start],[end]) Возвращает количество непересекающихся вхождений подстроки в диапазоне [начало, конец] (0 и длина строки по умолчанию)\n",
    "\n",
    "S.expandtabs([tabsize]) Возвращает копию строки, в которой все символы табуляции заменяются одним или несколькими пробелами, в зависимости от текущего столбца. Если TabSize не указан, размер табуляции полагается равным 8 пробелам\n",
    "\n",
    "S.lstrip([chars]) Удаление пробельных символов в начале строки\n",
    "\n",
    "S.rstrip([chars]) Удаление пробельных символов в конце строки\n",
    "\n",
    "S.strip([chars]) Удаление пробельных символов в начале и в конце строки\n",
    "\n",
    "S.partition(шаблон) Возвращает кортеж, содержащий часть перед первым шаблоном, сам шаблон, и часть после шаблона. Если шаблон не найден, возвращается кортеж, содержащий саму строку, а затем две пустых строки\n",
    "\n",
    "S.rpartition(sep) Возвращает кортеж, содержащий часть перед последним шаблоном, сам шаблон, и часть после шаблона. Если шаблон не найден, возвращается кортеж, содержащий две пустых строки, а затем саму строку\n",
    "\n",
    "S.swapcase() Переводит символы нижнего регистра в верхний, а верхнего – в нижний\n",
    "\n",
    "S.title() Первую букву каждого слова переводит в верхний регистр, а все остальные в нижний\n",
    "\n",
    "S.zfill(width) Делает длину строки не меньшей width, по необходимости заполняя первые символы нулями\n",
    "\n",
    "S.ljust(width, fillchar=\" \") Делает длину строки не меньшей width, по необходимости заполняя последние символы символом fillchar\n",
    "\n",
    "S.rjust(width, fillchar=\" \") Делает длину строки не меньшей width, по необходимости заполняя первые символы символом fillchar"
   ],
   "metadata": {
    "collapsed": false,
    "pycharm": {
     "name": "#%% md\n"
    }
   }
  },
  {
   "cell_type": "code",
   "execution_count": 7,
   "outputs": [
    {
     "name": "stdout",
     "output_type": "stream",
     "text": [
      "I learn python language\n"
     ]
    }
   ],
   "source": [
    "s = 'i Learn Python language'\n",
    "print(s.capitalize())"
   ],
   "metadata": {
    "collapsed": false,
    "pycharm": {
     "name": "#%%\n"
    }
   }
  },
  {
   "cell_type": "code",
   "execution_count": 8,
   "outputs": [
    {
     "name": "stdout",
     "output_type": "stream",
     "text": [
      "i learn python language\n"
     ]
    }
   ],
   "source": [
    "s = 'i LEARN Python LAnguaGE'\n",
    "print(s.lower())"
   ],
   "metadata": {
    "collapsed": false,
    "pycharm": {
     "name": "#%%\n"
    }
   }
  },
  {
   "cell_type": "code",
   "execution_count": 9,
   "outputs": [
    {
     "name": "stdout",
     "output_type": "stream",
     "text": [
      "$12344%^$#@!\n"
     ]
    }
   ],
   "source": [
    "s = '$12344%^$#@!'\n",
    "print(s.lower())"
   ],
   "metadata": {
    "collapsed": false,
    "pycharm": {
     "name": "#%%\n"
    }
   }
  },
  {
   "cell_type": "code",
   "execution_count": 10,
   "outputs": [
    {
     "name": "stdout",
     "output_type": "stream",
     "text": [
      "a A\n"
     ]
    }
   ],
   "source": [
    "s1 = 'a'\n",
    "s2 = s1.upper()\n",
    "print(s1, s2)"
   ],
   "metadata": {
    "collapsed": false,
    "pycharm": {
     "name": "#%%\n"
    }
   }
  },
  {
   "cell_type": "code",
   "execution_count": 11,
   "outputs": [
    {
     "name": "stdout",
     "output_type": "stream",
     "text": [
      "I LEARN PYTHON LANGUAGE\n"
     ]
    }
   ],
   "source": [
    "s = 'i LEARN Python LAnguaGE'\n",
    "print(s.upper())"
   ],
   "metadata": {
    "collapsed": false,
    "pycharm": {
     "name": "#%%\n"
    }
   }
  },
  {
   "cell_type": "code",
   "execution_count": 12,
   "outputs": [
    {
     "name": "stdout",
     "output_type": "stream",
     "text": [
      "I learn pYTHON laNGUAge\n"
     ]
    }
   ],
   "source": [
    "s = 'i LEARN Python LAnguaGE'\n",
    "print(s.swapcase())"
   ],
   "metadata": {
    "collapsed": false,
    "pycharm": {
     "name": "#%%\n"
    }
   }
  },
  {
   "cell_type": "markdown",
   "source": [
    "На вход программе подаётся строка, состоящая из имени и фамилии человека, разделённых одним пробелом. Напишите программу, которая проверяет, что имя и фамилия начинаются с заглавной буквы.\n",
    "\n",
    "Формат входных данных\n",
    "На вход программе подаётся строка.\n",
    "\n",
    "Формат выходных данных\n",
    "Программа должна вывести «YES», если имя и фамилия начинаются с заглавной буквы, или «NO» в противном случае.\n",
    "\n",
    "Примечание. Строка содержит только буквы и символ пробела."
   ],
   "metadata": {
    "collapsed": false,
    "pycharm": {
     "name": "#%% md\n"
    }
   }
  },
  {
   "cell_type": "code",
   "execution_count": null,
   "outputs": [],
   "source": [
    "s = input()\n",
    "\n",
    "name = s[:s.find(' ')]\n",
    "surname = s[s.find(' ') + 1:]\n",
    "print('YES' if name[0] == name[0].capitalize() and surname[0] == surname[0].capitalize() else 'NO')"
   ],
   "metadata": {
    "collapsed": false,
    "pycharm": {
     "name": "#%%\n"
    }
   }
  },
  {
   "cell_type": "code",
   "execution_count": null,
   "outputs": [],
   "source": [
    "s = input()\n",
    "\n",
    "if s == s.title():\n",
    "    print(\"YES\")\n",
    "else:\n",
    "    print(\"NO\")"
   ],
   "metadata": {
    "collapsed": false,
    "pycharm": {
     "name": "#%%\n"
    }
   }
  },
  {
   "cell_type": "markdown",
   "source": [
    "На вход программе подается строка. Напишите программу, которая меняет регистр символов, другими словами замените все строчные символы заглавными и наоборот.\n",
    "\n",
    "Формат входных данных\n",
    "На вход программе подается строка.\n",
    "\n",
    "Формат выходных данных\n",
    "Программа должна вывести строку в соответствии с условием задачи."
   ],
   "metadata": {
    "collapsed": false,
    "pycharm": {
     "name": "#%% md\n"
    }
   }
  },
  {
   "cell_type": "code",
   "execution_count": null,
   "outputs": [],
   "source": [
    "s = input()\n",
    "print(s.swapcase())"
   ],
   "metadata": {
    "collapsed": false,
    "pycharm": {
     "name": "#%%\n"
    }
   }
  },
  {
   "cell_type": "markdown",
   "source": [
    "На вход программе подается строка текста. Напишите программу, которая определяет является ли оттенок текста хорошим или нет. Текст имеет хороший оттенок, если содержит подстроку «хорош» во всевозможных регистрах.\n",
    "\n",
    "Формат входных данных\n",
    "На вход программе подается строка текста.\n",
    "\n",
    "Формат выходных данных\n",
    "Программа должна вывести «YES» если текст имеет хороший оттенок и «NO» в противном случае.\n",
    "\n",
    "Примечание. Текст содержащий хорош, ХОРОШ, Хорош, хОРОШ и т.д. имеет хороший оттенок."
   ],
   "metadata": {
    "collapsed": false,
    "pycharm": {
     "name": "#%% md\n"
    }
   }
  },
  {
   "cell_type": "code",
   "execution_count": null,
   "outputs": [],
   "source": [
    "s = input()\n",
    "s = s.lower()\n",
    "\n",
    "print('YES' if 'хорош' in s else 'NO')"
   ],
   "metadata": {
    "collapsed": false,
    "pycharm": {
     "name": "#%%\n"
    }
   }
  },
  {
   "cell_type": "markdown",
   "source": [
    "На вход программе подается строка. Напишите программу, которая подсчитывает количество буквенных символов в нижнем регистре.\n",
    "\n",
    "Формат входных данных\n",
    "На вход программе подается строка.\n",
    "\n",
    "Формат выходных данных\n",
    "Программа должна вывести количество буквенных символов в нижнем регистре."
   ],
   "metadata": {
    "collapsed": false,
    "pycharm": {
     "name": "#%% md\n"
    }
   }
  },
  {
   "cell_type": "code",
   "execution_count": null,
   "outputs": [],
   "source": [
    "s = input()\n",
    "count = 0\n",
    "\n",
    "for char in s:\n",
    "    if char.islower():\n",
    "        count += 1\n",
    "\n",
    "print(count)"
   ],
   "metadata": {
    "collapsed": false,
    "pycharm": {
     "name": "#%%\n"
    }
   }
  },
  {
   "cell_type": "raw",
   "source": [
    "На вход программе подается строка генетического кода, состоящая из букв А (аденин), Г (гуанин), Ц (цитозин), Т (тимин). Напишите программу, которая подсчитывает сколько аденина, гуанина, цитозина и тимина входит в данную строку генетического кода.\n",
    "\n",
    "Формат входных данных\n",
    "На вход программе подается строка генетического кода, состоящая из символов А, Г, Ц, Т, а, г, ц, т.\n",
    "\n",
    "Формат выходных данных\n",
    "Программа должна вывести сколько гуанина, тимина, цитозина, аденина входит в данную строку генетического кода.\n",
    "\n",
    "Примечание. Строка не содержит символов, кроме как А, Г, Ц, Т, а, г, ц, т."
   ],
   "metadata": {
    "collapsed": false,
    "pycharm": {
     "name": "#%% raw\n"
    }
   }
  },
  {
   "cell_type": "code",
   "execution_count": 13,
   "outputs": [
    {
     "name": "stdout",
     "output_type": "stream",
     "text": [
      "Аденин: 3\n",
      "Гуанин: 2\n",
      "Цитозин: 3\n",
      "Тимин: 5\n"
     ]
    }
   ],
   "source": [
    "s = input().lower()\n",
    "print(f'Аденин: {s.count(\"а\")}')\n",
    "print(f'Гуанин: {s.count(\"г\")}')\n",
    "print(f'Цитозин: {s.count(\"ц\")}')\n",
    "print(f'Тимин: {s.count(\"т\")}')"
   ],
   "metadata": {
    "collapsed": false,
    "pycharm": {
     "name": "#%%\n"
    }
   }
  },
  {
   "cell_type": "code",
   "execution_count": null,
   "outputs": [],
   "source": [
    "s = input().upper()\n",
    "for c in ('Аденин:', 'Гуанин:', 'Цитозин:', 'Тимин:'):\n",
    "    print(c, s.count(c[0]))"
   ],
   "metadata": {
    "collapsed": false,
    "pycharm": {
     "name": "#%%\n"
    }
   }
  },
  {
   "cell_type": "code",
   "execution_count": null,
   "outputs": [],
   "source": [
    "x = input().lower().count\n",
    "print(f\"Аденин: {x('а')}\\nГуанин: {x('г')}\\nЦитозин: {x('ц')}\\nТимин: {x('т')}\")"
   ],
   "metadata": {
    "collapsed": false,
    "pycharm": {
     "name": "#%%\n"
    }
   }
  },
  {
   "cell_type": "raw",
   "source": [
    "Джим Хоппер с помощью радиоприемника пытается получить сообщение Оди. На приёмник ему поступает n различных последовательностей кода Морзе. Декодировав их, он получает последовательности из цифр и букв строчного латинского алфавита. При этом только в сообщениях Оди содержится число 11, причём минимум 3 раза. Помогите определить Джиму количество сообщений от Оди.\n",
    "\n",
    "Формат входных данных\n",
    "В первой строке подаётся число n – количество сообщений, в последующих n строках вводятся сами сообщения.\n",
    "\n",
    "Формат выходных данных\n",
    "Программа должна вывести количество сообщений от Оди.\n",
    "\n",
    "Примечание. Обратите внимание, что в сообщениях Оди вхождения числа 11 должны быть непересекающимися. Другими словами, если мы нашли вхождение числа 11, то следующее вхождение должно начинаться строго после окончания предыдущего. Например, в строке '111' содержится одна такая последовательность, в то время как в '1111' их уже две."
   ],
   "metadata": {
    "collapsed": false,
    "pycharm": {
     "name": "#%% raw\n"
    }
   }
  },
  {
   "cell_type": "code",
   "execution_count": 24,
   "outputs": [
    {
     "name": "stdout",
     "output_type": "stream",
     "text": [
      "['11fjoigei23do11i23gf2983fj19f11']\n",
      "1\n",
      "[]\n",
      "[]\n",
      "['111111']\n",
      "2\n",
      "[]\n",
      "2\n"
     ]
    }
   ],
   "source": [
    "import re\n",
    "\n",
    "amount = int(input())\n",
    "pattern = r\"11.*11.*11\"  # задаем регулярное выражение для поиска \"11\" минимум 3 раза\n",
    "\n",
    "# Переменная для подсчета сообщений от Оди\n",
    "messages_from_Odi = 0\n",
    "\n",
    "# Перебираем все сообщения\n",
    "for _ in range(amount):\n",
    "    message = input()\n",
    "    matches = re.findall(pattern, message)\n",
    "\n",
    "# Если найдено хотя бы одно вхождение \"11\" минимум 3 раза, увеличиваем счетчик\n",
    "    if matches:\n",
    "        messages_from_Odi += 1\n",
    "\n",
    "# Выводим количество сообщений от Оди\n",
    "print(messages_from_Odi)"
   ],
   "metadata": {
    "collapsed": false,
    "pycharm": {
     "name": "#%%\n"
    }
   }
  },
  {
   "cell_type": "code",
   "execution_count": 25,
   "outputs": [
    {
     "name": "stdout",
     "output_type": "stream",
     "text": [
      "2\n"
     ]
    }
   ],
   "source": [
    "import re\n",
    "print(sum([1 for _ in range(int(input())) if re.findall(r'11.*11.*11', input())]))"
   ],
   "metadata": {
    "collapsed": false,
    "pycharm": {
     "name": "#%%\n"
    }
   }
  },
  {
   "cell_type": "code",
   "execution_count": null,
   "outputs": [],
   "source": [
    "count = 0\n",
    "for i in range(int(input())):\n",
    "    if input().count('11') >= 3:\n",
    "        count += 1\n",
    "print(count)"
   ],
   "metadata": {
    "collapsed": false,
    "pycharm": {
     "name": "#%%\n"
    }
   }
  },
  {
   "cell_type": "code",
   "execution_count": null,
   "outputs": [],
   "source": [
    "print(sum(input().count('11') > 2 for _ in range(int(input()))))"
   ],
   "metadata": {
    "collapsed": false,
    "pycharm": {
     "name": "#%%\n"
    }
   }
  },
  {
   "cell_type": "code",
   "execution_count": null,
   "outputs": [],
   "source": [
    "print(sum([1 for i in [input() for _ in range(int(input()))] if i.count(\"11\") >= 3]))"
   ],
   "metadata": {
    "collapsed": false,
    "pycharm": {
     "name": "#%%\n"
    }
   }
  },
  {
   "cell_type": "raw",
   "source": [
    "На вход программе подается строка текста. Напишите программу, которая подсчитывает количество цифр в данной строке.\n",
    "\n",
    "Формат входных данных\n",
    "На вход программе подается строка текста.\n",
    "\n",
    "Формат выходных данных\n",
    "Программа должна вывести количество цифр в данной строке."
   ],
   "metadata": {
    "collapsed": false,
    "pycharm": {
     "name": "#%% raw\n"
    }
   }
  },
  {
   "cell_type": "code",
   "execution_count": null,
   "outputs": [],
   "source": [
    "print(sum(1 for i in input() if i.isdigit()))"
   ],
   "metadata": {
    "collapsed": false,
    "pycharm": {
     "name": "#%%\n"
    }
   }
  },
  {
   "cell_type": "code",
   "execution_count": null,
   "outputs": [],
   "source": [
    "print(sum(i.isdigit() for i in input()))"
   ],
   "metadata": {
    "collapsed": false,
    "pycharm": {
     "name": "#%%\n"
    }
   }
  }
 ],
 "metadata": {
  "kernelspec": {
   "display_name": "Python 3",
   "language": "python",
   "name": "python3"
  },
  "language_info": {
   "codemirror_mode": {
    "name": "ipython",
    "version": 2
   },
   "file_extension": ".py",
   "mimetype": "text/x-python",
   "name": "python",
   "nbconvert_exporter": "python",
   "pygments_lexer": "ipython2",
   "version": "2.7.6"
  }
 },
 "nbformat": 4,
 "nbformat_minor": 0
}