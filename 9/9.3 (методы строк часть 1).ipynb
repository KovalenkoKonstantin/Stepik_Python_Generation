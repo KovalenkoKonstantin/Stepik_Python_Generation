﻿{
 "cells": [
  {
   "cell_type": "markdown",
   "source": [
    "Метод capitalize() возвращает копию строки s, в которой первый символ имеет верхний регистр, а все остальные символы имеют нижний регистр."
   ],
   "metadata": {
    "collapsed": false,
    "pycharm": {
     "name": "#%% md\n"
    }
   }
  },
  {
   "cell_type": "code",
   "execution_count": 1,
   "outputs": [
    {
     "name": "stdout",
     "output_type": "stream",
     "text": [
      "Foo bar baz qux\n"
     ]
    }
   ],
   "source": [
    "s = 'foO BaR BAZ quX'\n",
    "print(s.capitalize())"
   ],
   "metadata": {
    "collapsed": false,
    "pycharm": {
     "name": "#%%\n"
    }
   }
  },
  {
   "cell_type": "markdown",
   "source": [
    "Метод swapcase() возвращает копию строки s, в которой все символы, имеющие верхний регистр, преобразуются в символы нижнего регистра и наоборот."
   ],
   "metadata": {
    "collapsed": false,
    "pycharm": {
     "name": "#%% md\n"
    }
   }
  },
  {
   "cell_type": "code",
   "execution_count": 2,
   "outputs": [
    {
     "name": "stdout",
     "output_type": "stream",
     "text": [
      "foo bAR 123 BAZ Qux\n"
     ]
    }
   ],
   "source": [
    "s = 'FOO Bar 123 baz qUX'\n",
    "print(s.swapcase())"
   ],
   "metadata": {
    "collapsed": false,
    "pycharm": {
     "name": "#%%\n"
    }
   }
  },
  {
   "cell_type": "markdown",
   "source": [
    "Метод title() возвращает копию строки s, в которой первый символ каждого слова переводится в верхний регистр."
   ],
   "metadata": {
    "collapsed": false,
    "pycharm": {
     "name": "#%% md\n"
    }
   }
  },
  {
   "cell_type": "code",
   "execution_count": 3,
   "outputs": [
    {
     "name": "stdout",
     "output_type": "stream",
     "text": [
      "The Sun Also Rises\n"
     ]
    }
   ],
   "source": [
    "s = 'the sun also rises'\n",
    "print(s.title())"
   ],
   "metadata": {
    "collapsed": false,
    "pycharm": {
     "name": "#%%\n"
    }
   }
  },
  {
   "cell_type": "code",
   "execution_count": 4,
   "outputs": [
    {
     "name": "stdout",
     "output_type": "stream",
     "text": [
      "What'S Happened To Ted'S Ibm Stock?\n"
     ]
    }
   ],
   "source": [
    "s = \"what's happened to ted's IBM stock?\"\n",
    "print(s.title())"
   ],
   "metadata": {
    "collapsed": false,
    "pycharm": {
     "name": "#%%\n"
    }
   }
  },
  {
   "cell_type": "markdown",
   "source": [
    "Метод lower() возвращает копию строки s, в которой все символы имеют нижний регистр."
   ],
   "metadata": {
    "collapsed": false,
    "pycharm": {
     "name": "#%% md\n"
    }
   }
  },
  {
   "cell_type": "code",
   "execution_count": 5,
   "outputs": [
    {
     "name": "stdout",
     "output_type": "stream",
     "text": [
      "foo bar 123 baz qux\n"
     ]
    }
   ],
   "source": [
    "s = 'FOO Bar 123 baz qUX'\n",
    "print(s.lower())"
   ],
   "metadata": {
    "collapsed": false,
    "pycharm": {
     "name": "#%%\n"
    }
   }
  },
  {
   "cell_type": "markdown",
   "source": [
    "Метод upper() возвращает копию строки s, в которой все символы имеют верхний регистр."
   ],
   "metadata": {
    "collapsed": false,
    "pycharm": {
     "name": "#%% md\n"
    }
   }
  },
  {
   "cell_type": "code",
   "execution_count": 6,
   "outputs": [
    {
     "name": "stdout",
     "output_type": "stream",
     "text": [
      "FOO BAR 123 BAZ QUX\n"
     ]
    }
   ],
   "source": [
    "s = 'FOO Bar 123 baz qUX'\n",
    "print(s.upper())"
   ],
   "metadata": {
    "collapsed": false,
    "pycharm": {
     "name": "#%%\n"
    }
   }
  },
  {
   "cell_type": "markdown",
   "source": [
    "Одно очень важное замечание о методах данной категории состоит в том, что они не изменяют исходную строку. Если вы хотите изменить строку s, нужно написать код: s = s.lower(). На самом деле тут вы создаёте совсем другой объект в памяти компьютера, просто он со старым названием s"
   ],
   "metadata": {
    "collapsed": false,
    "pycharm": {
     "name": "#%% md\n"
    }
   }
  },
  {
   "cell_type": "markdown",
   "source": [
    "capitalize — писать прописными буквами, закрепить.\n",
    "swapcase — обменять регистр. swap — гл. обмениваться, case — случай, регистр, падеж, дело, расследование...\n",
    "title — заголовок, титул.\n",
    "lower — нижний.\n",
    "upper — верхний."
   ],
   "metadata": {
    "collapsed": false,
    "pycharm": {
     "name": "#%% md\n"
    }
   }
  },
  {
   "cell_type": "markdown",
   "source": [
    "S = 'str'; S = \"str\"; S = '''str'''; S = \"\"\"str\"\"\"\n",
    "\n",
    "S1 + S2 Конкатенация (сложение строк)\n",
    "\n",
    "S1 * 3 Повторение строки\n",
    "\n",
    "S[i] Обращение по индексу\n",
    "\n",
    "S[i:j:step] Извлечение среза\n",
    "\n",
    "len(S) Длина строки\n",
    "\n",
    "S.find(str, [start],[end]) Поиск подстроки в строке. Возвращает номер первого вхождения или -1\n",
    "\n",
    "S.rfind(str, [start],[end]) Поиск подстроки в строке. Возвращает номер последнего вхождения или -1\n",
    "\n",
    "S.index(str, [start],[end]) Поиск подстроки в строке. Возвращает номер первого вхождения или вызывает ValueError\n",
    "\n",
    "S.rindex(str, [start],[end]) Поиск подстроки в строке. Возвращает номер последнего вхождения или вызывает ValueError\n",
    "\n",
    "S.replace(шаблон, замена) Замена шаблона\n",
    "\n",
    "S.split(символ) Разбиение строки по разделителю\n",
    "\n",
    "S.isdigit() Состоит ли строка из цифр\n",
    "\n",
    "S.isalpha() Состоит ли строка из букв\n",
    "\n",
    "S.isalnum() Состоит ли строка из цифр или букв\n",
    "\n",
    "S.islower() Состоит ли строка из символов в нижнем регистре\n",
    "\n",
    "S.isupper() Состоит ли строка из символов в верхнем регистре\n",
    "\n",
    "S.isspace() Состоит ли строка из неотображаемых символов (пробел, символ перевода страницы ('\\f'), \"новая строка\" ('\\n'), \"перевод каретки\" ('\\r'), \"горизонтальная табуляция\" ('\\t') и \"вертикальная табуляция\" ('\\v'))\n",
    "\n",
    "S.istitle() Начинаются ли слова в строке с заглавной буквы\n",
    "\n",
    "S.upper() Преобразование строки к верхнему регистру\n",
    "\n",
    "S.lower() Преобразование строки к нижнему регистру\n",
    "\n",
    "S.startswith(str) Начинается ли строка S с шаблона str\n",
    "\n",
    "S.endswith(str) Заканчивается ли строка S шаблоном str\n",
    "\n",
    "S.join(список) Сборка строки из списка с разделителем S\n",
    "\n",
    "ord(символ) Символ в его код ASCII\n",
    "\n",
    "chr(число) Код ASCII в символ\n",
    "\n",
    "S.capitalize() Переводит первый символ строки в верхний регистр, а все остальные в нижний\n",
    "\n",
    "S.center(width, [fill]) Возвращает отцентрованную строку, по краям которой стоит символ fill (пробел по умолчанию)\n",
    "\n",
    "S.count(str, [start],[end]) Возвращает количество непересекающихся вхождений подстроки в диапазоне [начало, конец] (0 и длина строки по умолчанию)\n",
    "\n",
    "S.expandtabs([tabsize]) Возвращает копию строки, в которой все символы табуляции заменяются одним или несколькими пробелами, в зависимости от текущего столбца. Если TabSize не указан, размер табуляции полагается равным 8 пробелам\n",
    "\n",
    "S.lstrip([chars]) Удаление пробельных символов в начале строки\n",
    "\n",
    "S.rstrip([chars]) Удаление пробельных символов в конце строки\n",
    "\n",
    "S.strip([chars]) Удаление пробельных символов в начале и в конце строки\n",
    "\n",
    "S.partition(шаблон) Возвращает кортеж, содержащий часть перед первым шаблоном, сам шаблон, и часть после шаблона. Если шаблон не найден, возвращается кортеж, содержащий саму строку, а затем две пустых строки\n",
    "\n",
    "S.rpartition(sep) Возвращает кортеж, содержащий часть перед последним шаблоном, сам шаблон, и часть после шаблона. Если шаблон не найден, возвращается кортеж, содержащий две пустых строки, а затем саму строку\n",
    "\n",
    "S.swapcase() Переводит символы нижнего регистра в верхний, а верхнего – в нижний\n",
    "\n",
    "S.title() Первую букву каждого слова переводит в верхний регистр, а все остальные в нижний\n",
    "\n",
    "S.zfill(width) Делает длину строки не меньшей width, по необходимости заполняя первые символы нулями\n",
    "\n",
    "S.ljust(width, fillchar=\" \") Делает длину строки не меньшей width, по необходимости заполняя последние символы символом fillchar\n",
    "\n",
    "S.rjust(width, fillchar=\" \") Делает длину строки не меньшей width, по необходимости заполняя первые символы символом fillchar"
   ],
   "metadata": {
    "collapsed": false,
    "pycharm": {
     "name": "#%% md\n"
    }
   }
  },
  {
   "cell_type": "code",
   "execution_count": 7,
   "outputs": [
    {
     "name": "stdout",
     "output_type": "stream",
     "text": [
      "I learn python language\n"
     ]
    }
   ],
   "source": [
    "s = 'i Learn Python language'\n",
    "print(s.capitalize())"
   ],
   "metadata": {
    "collapsed": false,
    "pycharm": {
     "name": "#%%\n"
    }
   }
  },
  {
   "cell_type": "code",
   "execution_count": 8,
   "outputs": [
    {
     "name": "stdout",
     "output_type": "stream",
     "text": [
      "i learn python language\n"
     ]
    }
   ],
   "source": [
    "s = 'i LEARN Python LAnguaGE'\n",
    "print(s.lower())"
   ],
   "metadata": {
    "collapsed": false,
    "pycharm": {
     "name": "#%%\n"
    }
   }
  },
  {
   "cell_type": "code",
   "execution_count": 9,
   "outputs": [
    {
     "name": "stdout",
     "output_type": "stream",
     "text": [
      "$12344%^$#@!\n"
     ]
    }
   ],
   "source": [
    "s = '$12344%^$#@!'\n",
    "print(s.lower())"
   ],
   "metadata": {
    "collapsed": false,
    "pycharm": {
     "name": "#%%\n"
    }
   }
  },
  {
   "cell_type": "code",
   "execution_count": 10,
   "outputs": [
    {
     "name": "stdout",
     "output_type": "stream",
     "text": [
      "a A\n"
     ]
    }
   ],
   "source": [
    "s1 = 'a'\n",
    "s2 = s1.upper()\n",
    "print(s1, s2)"
   ],
   "metadata": {
    "collapsed": false,
    "pycharm": {
     "name": "#%%\n"
    }
   }
  },
  {
   "cell_type": "code",
   "execution_count": 11,
   "outputs": [
    {
     "name": "stdout",
     "output_type": "stream",
     "text": [
      "I LEARN PYTHON LANGUAGE\n"
     ]
    }
   ],
   "source": [
    "s = 'i LEARN Python LAnguaGE'\n",
    "print(s.upper())"
   ],
   "metadata": {
    "collapsed": false,
    "pycharm": {
     "name": "#%%\n"
    }
   }
  },
  {
   "cell_type": "code",
   "execution_count": 12,
   "outputs": [
    {
     "name": "stdout",
     "output_type": "stream",
     "text": [
      "I learn pYTHON laNGUAge\n"
     ]
    }
   ],
   "source": [
    "s = 'i LEARN Python LAnguaGE'\n",
    "print(s.swapcase())"
   ],
   "metadata": {
    "collapsed": false,
    "pycharm": {
     "name": "#%%\n"
    }
   }
  },
  {
   "cell_type": "markdown",
   "source": [
    "На вход программе подаётся строка, состоящая из имени и фамилии человека, разделённых одним пробелом. Напишите программу, которая проверяет, что имя и фамилия начинаются с заглавной буквы.\n",
    "\n",
    "Формат входных данных\n",
    "На вход программе подаётся строка.\n",
    "\n",
    "Формат выходных данных\n",
    "Программа должна вывести «YES», если имя и фамилия начинаются с заглавной буквы, или «NO» в противном случае.\n",
    "\n",
    "Примечание. Строка содержит только буквы и символ пробела."
   ],
   "metadata": {
    "collapsed": false,
    "pycharm": {
     "name": "#%% md\n"
    }
   }
  },
  {
   "cell_type": "code",
   "execution_count": null,
   "outputs": [],
   "source": [
    "s = input()\n",
    "\n",
    "name = s[:s.find(' ')]\n",
    "surname = s[s.find(' ') + 1:]\n",
    "print('YES' if name[0] == name[0].capitalize() and surname[0] == surname[0].capitalize() else 'NO')"
   ],
   "metadata": {
    "collapsed": false,
    "pycharm": {
     "name": "#%%\n"
    }
   }
  },
  {
   "cell_type": "code",
   "execution_count": null,
   "outputs": [],
   "source": [
    "s = input()\n",
    "\n",
    "if s == s.title():\n",
    "    print(\"YES\")\n",
    "else:\n",
    "    print(\"NO\")"
   ],
   "metadata": {
    "collapsed": false,
    "pycharm": {
     "name": "#%%\n"
    }
   }
  },
  {
   "cell_type": "markdown",
   "source": [
    "На вход программе подается строка. Напишите программу, которая меняет регистр символов, другими словами замените все строчные символы заглавными и наоборот.\n",
    "\n",
    "Формат входных данных\n",
    "На вход программе подается строка.\n",
    "\n",
    "Формат выходных данных\n",
    "Программа должна вывести строку в соответствии с условием задачи."
   ],
   "metadata": {
    "collapsed": false,
    "pycharm": {
     "name": "#%% md\n"
    }
   }
  },
  {
   "cell_type": "code",
   "execution_count": null,
   "outputs": [],
   "source": [
    "s = input()\n",
    "print(s.swapcase())"
   ],
   "metadata": {
    "collapsed": false,
    "pycharm": {
     "name": "#%%\n"
    }
   }
  },
  {
   "cell_type": "markdown",
   "source": [
    "На вход программе подается строка текста. Напишите программу, которая определяет является ли оттенок текста хорошим или нет. Текст имеет хороший оттенок, если содержит подстроку «хорош» во всевозможных регистрах.\n",
    "\n",
    "Формат входных данных\n",
    "На вход программе подается строка текста.\n",
    "\n",
    "Формат выходных данных\n",
    "Программа должна вывести «YES» если текст имеет хороший оттенок и «NO» в противном случае.\n",
    "\n",
    "Примечание. Текст содержащий хорош, ХОРОШ, Хорош, хОРОШ и т.д. имеет хороший оттенок."
   ],
   "metadata": {
    "collapsed": false,
    "pycharm": {
     "name": "#%% md\n"
    }
   }
  },
  {
   "cell_type": "code",
   "execution_count": null,
   "outputs": [],
   "source": [
    "s = input()\n",
    "s = s.lower()\n",
    "\n",
    "print('YES' if 'хорош' in s else 'NO')"
   ],
   "metadata": {
    "collapsed": false,
    "pycharm": {
     "name": "#%%\n"
    }
   }
  },
  {
   "cell_type": "markdown",
   "source": [
    "На вход программе подается строка. Напишите программу, которая подсчитывает количество буквенных символов в нижнем регистре.\n",
    "\n",
    "Формат входных данных\n",
    "На вход программе подается строка.\n",
    "\n",
    "Формат выходных данных\n",
    "Программа должна вывести количество буквенных символов в нижнем регистре."
   ],
   "metadata": {
    "collapsed": false,
    "pycharm": {
     "name": "#%% md\n"
    }
   }
  },
  {
   "cell_type": "code",
   "execution_count": null,
   "outputs": [],
   "source": [
    "s = input()\n",
    "count = 0\n",
    "\n",
    "for char in s:\n",
    "    if char.islower():\n",
    "        count += 1\n",
    "\n",
    "print(count)"
   ],
   "metadata": {
    "collapsed": false,
    "pycharm": {
     "name": "#%%\n"
    }
   }
  }
 ],
 "metadata": {
  "kernelspec": {
   "display_name": "Python 3",
   "language": "python",
   "name": "python3"
  },
  "language_info": {
   "codemirror_mode": {
    "name": "ipython",
    "version": 2
   },
   "file_extension": ".py",
   "mimetype": "text/x-python",
   "name": "python",
   "nbconvert_exporter": "python",
   "pygments_lexer": "ipython2",
   "version": "2.7.6"
  }
 },
 "nbformat": 4,
 "nbformat_minor": 0
}