﻿{
 "cells": [
  {
   "cell_type": "code",
   "execution_count": 1,
   "metadata": {
    "collapsed": true,
    "pycharm": {
     "name": "#%%\n"
    }
   },
   "outputs": [
    {
     "name": "stdout",
     "output_type": "stream",
     "text": [
      "aceg\n"
     ]
    }
   ],
   "source": [
    "s = 'abcdefg'\n",
    "print(s[0] + s[2] + s[4] + s[6])"
   ]
  },
  {
   "cell_type": "code",
   "execution_count": 2,
   "outputs": [
    {
     "name": "stdout",
     "output_type": "stream",
     "text": [
      "aaagggdddd\n"
     ]
    }
   ],
   "source": [
    "s = 'abcdefg'\n",
    "print(s[0] * 3 + s[-1] * 3 + s[3] * 2 + s[3] * 2)"
   ],
   "metadata": {
    "collapsed": false,
    "pycharm": {
     "name": "#%%\n"
    }
   }
  },
  {
   "cell_type": "code",
   "execution_count": 3,
   "outputs": [
    {
     "name": "stdout",
     "output_type": "stream",
     "text": [
      "051217"
     ]
    }
   ],
   "source": [
    "s = '01234567891011121314151617'\n",
    "for i in range(0, len(s), 5):\n",
    "    print(s[i], end='')"
   ],
   "metadata": {
    "collapsed": false,
    "pycharm": {
     "name": "#%%\n"
    }
   }
  },
  {
   "cell_type": "markdown",
   "source": [
    "Дополните приведенный код, используя индексатор, так чтобы он вывел символ запятой."
   ],
   "metadata": {
    "collapsed": false,
    "pycharm": {
     "name": "#%% md\n"
    }
   }
  },
  {
   "cell_type": "code",
   "execution_count": 4,
   "outputs": [
    {
     "name": "stdout",
     "output_type": "stream",
     "text": [
      "7\n"
     ]
    }
   ],
   "source": [
    "s = \"In 2010, someone paid 10k Bitcoin for two pizzas.\"\n",
    "index = s.find(',')\n",
    "print(s[index])\n"
   ],
   "metadata": {
    "collapsed": false,
    "pycharm": {
     "name": "#%%\n"
    }
   }
  },
  {
   "cell_type": "markdown",
   "source": [
    "Дополните приведенный код, используя индексатор, так чтобы он вывел символ w."
   ],
   "metadata": {
    "collapsed": false,
    "pycharm": {
     "name": "#%% md\n"
    }
   }
  },
  {
   "cell_type": "code",
   "execution_count": null,
   "outputs": [],
   "source": [
    "s = \"In 2010, someone paid 10k Bitcoin for two pizzas.\"\n",
    "index = s.find('w')\n",
    "print(s[index])"
   ],
   "metadata": {
    "collapsed": false,
    "pycharm": {
     "name": "#%%\n"
    }
   }
  },
  {
   "cell_type": "markdown",
   "source": [
    "На вход программе подается одна строка. Напишите программу, которая выводит элементы строки с индексами 0, 2, 4, ... в столбик.\n",
    "\n",
    "Формат входных данных\n",
    "На вход программе подается одна строка.\n",
    "\n",
    "Формат выходных данных\n",
    "Программа должна вывести элементы строки с индексами 0, 2, 4, ..., каждое на отдельной строке."
   ],
   "metadata": {
    "collapsed": false,
    "pycharm": {
     "name": "#%% md\n"
    }
   }
  },
  {
   "cell_type": "code",
   "execution_count": 10,
   "outputs": [
    {
     "name": "stdout",
     "output_type": "stream",
     "text": [
      "a\n",
      "c\n",
      "e\n",
      "g\n",
      "i\n",
      "k\n",
      "m\n",
      "o\n"
     ]
    }
   ],
   "source": [
    "s = input()\n",
    "\n",
    "for i in range(0, len(s), 2):\n",
    "    print(s[i])"
   ],
   "metadata": {
    "collapsed": false,
    "pycharm": {
     "name": "#%%\n"
    }
   }
  },
  {
   "cell_type": "code",
   "execution_count": null,
   "outputs": [],
   "source": [
    "a = input()\n",
    "\n",
    "for i in a[::2]:\n",
    "    print(i)"
   ],
   "metadata": {
    "collapsed": false,
    "pycharm": {
     "name": "#%%\n"
    }
   }
  },
  {
   "cell_type": "code",
   "execution_count": null,
   "outputs": [],
   "source": [
    "print('\\n'.join(input()[::2]))"
   ],
   "metadata": {
    "collapsed": false,
    "pycharm": {
     "name": "#%%\n"
    }
   }
  },
  {
   "cell_type": "markdown",
   "source": [
    "На вход программе подается одна строка. Напишите программу, которая выводит в столбик элементы строки в обратном порядке.\n",
    "\n",
    "Формат входных данных\n",
    "На вход программе подается одна строка.\n",
    "\n",
    "Формат выходных данных\n",
    "Программа должна вывести в столбик элементы строки в обратном порядке."
   ],
   "metadata": {
    "collapsed": false,
    "pycharm": {
     "name": "#%% md\n"
    }
   }
  },
  {
   "cell_type": "code",
   "execution_count": 26,
   "outputs": [
    {
     "name": "stdout",
     "output_type": "stream",
     "text": [
      "cba\n"
     ]
    }
   ],
   "source": [
    "print(*list(reversed(input())), sep='\\n')"
   ],
   "metadata": {
    "collapsed": false,
    "pycharm": {
     "name": "#%%\n"
    }
   }
  },
  {
   "cell_type": "code",
   "execution_count": null,
   "outputs": [],
   "source": [
    "[print(i) for i in input()[::-1]]"
   ],
   "metadata": {
    "collapsed": false,
    "pycharm": {
     "name": "#%%\n"
    }
   }
  },
  {
   "cell_type": "code",
   "execution_count": null,
   "outputs": [],
   "source": [
    "print(*input()[::-1], sep='\\n')"
   ],
   "metadata": {
    "collapsed": false,
    "pycharm": {
     "name": "#%%\n"
    }
   }
  },
  {
   "cell_type": "code",
   "execution_count": null,
   "outputs": [],
   "source": [
    "print('\\n'.join(input()[::-1]))"
   ],
   "metadata": {
    "collapsed": false,
    "pycharm": {
     "name": "#%%\n"
    }
   }
  },
  {
   "cell_type": "markdown",
   "source": [
    "На вход программе подаются три строки: имя, фамилия и отчество (именно в таком порядке). Напишите программу, которая выводит инициалы человека.\n",
    "\n",
    "Формат входных данных\n",
    "На вход программе подаются три строки, каждая на отдельной строке.\n",
    "\n",
    "Формат выходных данных\n",
    "Программа должна вывести ФИО человека.\n",
    "\n",
    "Примечание. Гарантируется, что имя, фамилия и отчество начинаются с заглавной буквы."
   ],
   "metadata": {
    "collapsed": false,
    "pycharm": {
     "name": "#%% md\n"
    }
   }
  },
  {
   "cell_type": "code",
   "execution_count": null,
   "outputs": [],
   "source": [
    "name = input()\n",
    "last_name = input()\n",
    "surname = input()\n",
    "\n",
    "print(last_name[0], name[0], surname[0], sep='')"
   ],
   "metadata": {
    "collapsed": false,
    "pycharm": {
     "name": "#%%\n"
    }
   }
  },
  {
   "cell_type": "markdown",
   "source": [
    "На вход программе подается одна строка состоящая из цифр. Напишите программу, которая считает сумму цифр данной строки.\n",
    "\n",
    "Формат входных данных\n",
    "На вход программе подается одна строка состоящая из цифр.\n",
    "\n",
    "Формат выходных данных\n",
    "Программа должна вывести сумму цифр данной строки."
   ],
   "metadata": {
    "collapsed": false,
    "pycharm": {
     "name": "#%% md\n"
    }
   }
  },
  {
   "cell_type": "code",
   "execution_count": null,
   "outputs": [],
   "source": [
    "import numpy as np\n",
    "\n",
    "print(np.sum(np.array(list(input()), dtype=int)))"
   ],
   "metadata": {
    "collapsed": false,
    "pycharm": {
     "name": "#%%\n"
    }
   }
  },
  {
   "cell_type": "code",
   "execution_count": null,
   "outputs": [],
   "source": [
    "print(sum(int(i) for i in input()))"
   ],
   "metadata": {
    "collapsed": false,
    "pycharm": {
     "name": "#%%\n"
    }
   }
  },
  {
   "cell_type": "code",
   "execution_count": null,
   "outputs": [],
   "source": [
    "print(sum(map(int, input())))"
   ],
   "metadata": {
    "collapsed": false,
    "pycharm": {
     "name": "#%%\n"
    }
   }
  },
  {
   "cell_type": "code",
   "execution_count": null,
   "outputs": [],
   "source": [
    "print(sum([int(i) for i in input()]))"
   ],
   "metadata": {
    "collapsed": false,
    "pycharm": {
     "name": "#%%\n"
    }
   }
  },
  {
   "cell_type": "markdown",
   "source": [
    "На вход программе подается одна строка. Напишите программу, которая выводит сообщение «Цифра» (без кавычек), если строка содержит цифру. В противном случае вывести сообщение «Цифр нет» (без кавычек).\n",
    "\n",
    "Формат входных данных\n",
    "На вход программе подается одна строка.\n",
    "\n",
    "Формат выходных данных\n",
    "Программа должна вывести текст в соответствии с условием задачи."
   ],
   "metadata": {
    "collapsed": false,
    "pycharm": {
     "name": "#%% md\n"
    }
   }
  },
  {
   "cell_type": "code",
   "execution_count": null,
   "outputs": [],
   "source": [
    "print('Цифра' if any(i.isdigit() for i in input()) else 'Цифр нет')"
   ],
   "metadata": {
    "collapsed": false,
    "pycharm": {
     "name": "#%%\n"
    }
   }
  },
  {
   "cell_type": "markdown",
   "source": [
    "На вход программе подается одна строка. Напишите программу, которая определяет, сколько раз в строке встречаются символы + и *.\n",
    "\n",
    "Формат входных данных\n",
    "На вход программе подается одна строка.\n",
    "\n",
    "Формат выходных данных\n",
    "Программа должна вывести сколько раз встречаются символы + и * в строке."
   ],
   "metadata": {
    "collapsed": false,
    "pycharm": {
     "name": "#%% md\n"
    }
   }
  },
  {
   "cell_type": "code",
   "execution_count": null,
   "outputs": [],
   "source": [
    "count_1 = 0\n",
    "count_2 = 0\n",
    "\n",
    "for char in input():\n",
    "    if char in ('+'):\n",
    "        count_1 += 1\n",
    "    if char in ('*'):\n",
    "        count_2 += 1\n",
    "\n",
    "print(f'Символ + встречается {count_1} раз')\n",
    "print(f'Символ * встречается {count_2} раз')"
   ],
   "metadata": {
    "collapsed": false,
    "pycharm": {
     "name": "#%%\n"
    }
   }
  },
  {
   "cell_type": "code",
   "execution_count": null,
   "outputs": [],
   "source": [
    "n = input()\n",
    "print(\"Символ + встречается\", n.count(\"+\"), \"раз\")\n",
    "print(\"Символ * встречается\", n.count(\"*\"), \"раз\")"
   ],
   "metadata": {
    "collapsed": false,
    "pycharm": {
     "name": "#%%\n"
    }
   }
  },
  {
   "cell_type": "code",
   "execution_count": null,
   "outputs": [],
   "source": [
    "a = input()\n",
    "\n",
    "[print(f'Символ {i} встречается {a.count(i)} раз') for i in ['+', '*']]"
   ],
   "metadata": {
    "collapsed": false,
    "pycharm": {
     "name": "#%%\n"
    }
   }
  },
  {
   "cell_type": "markdown",
   "source": [
    "На вход программе подается одна строка. Напишите программу, которая определяет сколько в ней одинаковых соседних символов.\n",
    "\n",
    "Формат входных данных\n",
    "На вход программе подается одна строка.\n",
    "\n",
    "Формат выходных данных\n",
    "Программа должна вывести количество одинаковых соседних символов."
   ],
   "metadata": {
    "collapsed": false,
    "pycharm": {
     "name": "#%% md\n"
    }
   }
  },
  {
   "cell_type": "code",
   "execution_count": 34,
   "outputs": [
    {
     "name": "stdout",
     "output_type": "stream",
     "text": [
      "0\n"
     ]
    }
   ],
   "source": [
    "count = 0\n",
    "\n",
    "for i in range(1, len(input())):\n",
    "    if s[i] == s[i - 1]:\n",
    "        count += 1\n",
    "\n",
    "print(count)"
   ],
   "metadata": {
    "collapsed": false,
    "pycharm": {
     "name": "#%%\n"
    }
   }
  },
  {
   "cell_type": "markdown",
   "source": [
    "На вход программе подается одна строка с буквами русского языка. Напишите программу, которая определяет количество гласных и согласных звуков.\n",
    "\n",
    "Формат входных данных\n",
    "На вход программе подается одна строка.\n",
    "\n",
    "Формат выходных данных\n",
    "Программа должна вывести количество гласных и согласных звуков.\n",
    "\n",
    "Примечание. В русском языке\n",
    "9 букв, передающих гласные звуки, и 21 буква, передающая согласные звуки (букву ё игнорируем):"
   ],
   "metadata": {
    "collapsed": false,
    "pycharm": {
     "name": "#%% md\n"
    }
   }
  },
  {
   "cell_type": "code",
   "execution_count": 35,
   "outputs": [
    {
     "name": "stdout",
     "output_type": "stream",
     "text": [
      "Количество гласных букв равно 25\n",
      "Количество согласных букв равно 35\n"
     ]
    }
   ],
   "source": [
    "s = input()\n",
    "# s = 'Вдохновение – это умение приводить себя в рабочее состояние!'\n",
    "\n",
    "consonant = 0\n",
    "vovel = 0\n",
    "\n",
    "for char in s:\n",
    "    if char in ('ауоыиэяюёеАУОЫИЭЯЮЁЕ'):\n",
    "        vovel += 1\n",
    "\n",
    "for char in s:\n",
    "    if char in ('бвгджзйклмнпрстфхцчшщБВГДЖЗЙКЛМНПРСТФХЦЧШЩ'):\n",
    "        consonant += 1\n",
    "\n",
    "print(f'Количество гласных букв равно {vovel}')\n",
    "print(f'Количество согласных букв равно {consonant}')"
   ],
   "metadata": {
    "collapsed": false,
    "pycharm": {
     "name": "#%%\n"
    }
   }
  },
  {
   "cell_type": "markdown",
   "source": [
    "На вход программе подается натуральное число, записанное в десятичной системе счисления. Напишите программу, которая переводит данное число в двоичную систему счисления.\n",
    "\n",
    "Формат входных данных\n",
    "На вход программе подается одно натуральное число.\n",
    "\n",
    "Формат выходных данных\n",
    "Программа должна вывести число записанное в двоичной системе счисления."
   ],
   "metadata": {
    "collapsed": false,
    "pycharm": {
     "name": "#%% md\n"
    }
   }
  },
  {
   "cell_type": "code",
   "execution_count": null,
   "outputs": [],
   "source": [
    "print(bin(int(input()))[2:])"
   ],
   "metadata": {
    "collapsed": false,
    "pycharm": {
     "name": "#%%\n"
    }
   }
  }
 ],
 "metadata": {
  "kernelspec": {
   "display_name": "Python 3",
   "language": "python",
   "name": "python3"
  },
  "language_info": {
   "codemirror_mode": {
    "name": "ipython",
    "version": 2
   },
   "file_extension": ".py",
   "mimetype": "text/x-python",
   "name": "python",
   "nbconvert_exporter": "python",
   "pygments_lexer": "ipython2",
   "version": "2.7.6"
  }
 },
 "nbformat": 4,
 "nbformat_minor": 0
}