﻿{
 "cells": [
  {
   "cell_type": "raw",
   "source": [
    "Для более наглядного форматирования мы можем использовать строковый метод format()."
   ],
   "metadata": {
    "collapsed": false,
    "pycharm": {
     "name": "#%% raw\n"
    }
   }
  },
  {
   "cell_type": "code",
   "execution_count": 1,
   "outputs": [
    {
     "name": "stdout",
     "output_type": "stream",
     "text": [
      "My name is Timur, I was born in 1992\n"
     ]
    }
   ],
   "source": [
    "birth_year = 1992\n",
    "text = 'My name is Timur, I was born in {}'.format(birth_year)\n",
    "\n",
    "print(text)"
   ],
   "metadata": {
    "collapsed": false,
    "pycharm": {
     "name": "#%%\n"
    }
   }
  },
  {
   "cell_type": "raw",
   "source": [
    "Мы передаем необходимые параметры методу format(), а Python ставит их вместо фигурных скобок {} – заполнителей. Мы можем создавать сколько угодно заполнителей."
   ],
   "metadata": {
    "collapsed": false,
    "pycharm": {
     "name": "#%% raw\n"
    }
   }
  },
  {
   "cell_type": "code",
   "execution_count": 2,
   "outputs": [
    {
     "name": "stdout",
     "output_type": "stream",
     "text": [
      "My name is Timur, I was born in 1992, I work as a math teacher.\n"
     ]
    }
   ],
   "source": [
    "birth_year = 1992\n",
    "name = 'Timur'\n",
    "profession = 'math teacher'\n",
    "text = 'My name is {}, I was born in {}, I work as a {}.'.format(name, birth_year, profession)\n",
    "\n",
    "print(text)"
   ],
   "metadata": {
    "collapsed": false,
    "pycharm": {
     "name": "#%%\n"
    }
   }
  },
  {
   "cell_type": "raw",
   "source": [
    "Для наглядности и гибкости форматирования мы можем использовать порядковый номер в заполнителе: {0}, {1}, {2} и т.д. Такой номер определяет позицию параметра, переданного методу format() (нумерация начинается с нуля):"
   ],
   "metadata": {
    "collapsed": false,
    "pycharm": {
     "name": "#%% raw\n"
    }
   }
  },
  {
   "cell_type": "code",
   "execution_count": 3,
   "outputs": [
    {
     "name": "stdout",
     "output_type": "stream",
     "text": [
      "My name is Timur, I was born in 1992, I work as a math teacher.\n"
     ]
    }
   ],
   "source": [
    "birth_year = 1992\n",
    "name = 'Timur'\n",
    "profession = 'math teacher'\n",
    "text = 'My name is {0}, I was born in {1}, I work as a {2}.'.format(name, birth_year, profession)\n",
    "\n",
    "print(text)"
   ],
   "metadata": {
    "collapsed": false,
    "pycharm": {
     "name": "#%%\n"
    }
   }
  },
  {
   "cell_type": "raw",
   "source": [
    "Параметр name встает в заполнителе {0}, параметр birth_year – в заполнителе {1} и т.д. Мы можем использовать одно и то же число в нескольких заполнителях или не использовать совсем, а также мы можем использовать числа в разном порядке."
   ],
   "metadata": {
    "collapsed": false,
    "pycharm": {
     "name": "#%% raw\n"
    }
   }
  },
  {
   "cell_type": "code",
   "execution_count": 4,
   "outputs": [
    {
     "name": "stdout",
     "output_type": "stream",
     "text": [
      "My name is Timur-Timur-Timur!\n",
      "Moscow is my city and Timur is my name!\n"
     ]
    }
   ],
   "source": [
    "name = 'Timur'\n",
    "city = 'Moscow'\n",
    "text1 = 'My name is {0}-{0}-{0}!'.format(name, city)\n",
    "text2 = '{1} is my city and {0} is my name!'.format(name, city)\n",
    "\n",
    "print(text1)\n",
    "print(text2)"
   ],
   "metadata": {
    "collapsed": false,
    "pycharm": {
     "name": "#%%\n"
    }
   }
  },
  {
   "cell_type": "raw",
   "source": [
    "В Python 3.6 появилась новая разновидность строк — f-строки. Если поставить перед строкой префикс f, в заполнители можно будет включить код, например, имя переменной или любые другие выражения. f-строки обеспечивают чистый и интуитивно понятный способ форматирования строк."
   ],
   "metadata": {
    "collapsed": false,
    "pycharm": {
     "name": "#%% raw\n"
    }
   }
  },
  {
   "cell_type": "code",
   "execution_count": 12,
   "outputs": [
    {
     "name": "stdout",
     "output_type": "stream",
     "text": [
      "Taylor Swift is a very famous singer from the USA. She was born on 1989/12/13 in West Reading, Pennsylvania.\n"
     ]
    }
   ],
   "source": [
    "first_name = 'Taylor'\n",
    "last_name = 'Swift'\n",
    "country = 'USA'\n",
    "birth_date = '1989/12/13'\n",
    "birth_place = 'West Reading, Pennsylvania'\n",
    "text = f'{first_name} {last_name} is a very famous singer from the {country}. She was born on {birth_date} in {birth_place}.'\n",
    "\n",
    "print(text)"
   ],
   "metadata": {
    "collapsed": false,
    "pycharm": {
     "name": "#%%\n"
    }
   }
  },
  {
   "cell_type": "raw",
   "source": [
    "До версии Python 3.12 повторное использование тех же кавычек, что и окружающие f-строку, вызывает ошибку синтаксиса."
   ],
   "metadata": {
    "collapsed": false,
    "pycharm": {
     "name": "#%% raw\n"
    }
   }
  },
  {
   "cell_type": "code",
   "execution_count": 11,
   "outputs": [
    {
     "ename": "SyntaxError",
     "evalue": "f-string: expecting '}' (1055316810.py, line 1)",
     "output_type": "error",
     "traceback": [
      "\u001B[1;36m  Cell \u001B[1;32mIn[11], line 1\u001B[1;36m\u001B[0m\n\u001B[1;33m    text = f'{'London'} is the capital of {'England'} and the {'United Kingdom'}'\u001B[0m\n\u001B[1;37m               ^\u001B[0m\n\u001B[1;31mSyntaxError\u001B[0m\u001B[1;31m:\u001B[0m f-string: expecting '}'\n"
     ]
    }
   ],
   "source": [
    "text = f'{'London'} is the capital of {'England'} and the {'United Kingdom'}'"
   ],
   "metadata": {
    "collapsed": false,
    "pycharm": {
     "name": "#%%\n"
    }
   }
  },
  {
   "cell_type": "raw",
   "source": [
    "В версии Python 3.12 это ограничение сняли."
   ],
   "metadata": {
    "collapsed": false,
    "pycharm": {
     "name": "#%% raw\n"
    }
   }
  },
  {
   "cell_type": "code",
   "execution_count": 13,
   "outputs": [
    {
     "name": "stdout",
     "output_type": "stream",
     "text": [
      "The desert planet Arrakis, rich in valuable spice, is exploited by cruel Harkonnens.\n"
     ]
    }
   ],
   "source": [
    "planet = 'Arrakis'\n",
    "bad_guys = 'Harkonnens'\n",
    "text = 'The desert planet {}, rich in valuable spice, is exploited by cruel {}.'.format(planet, bad_guys)\n",
    "\n",
    "print(text)"
   ],
   "metadata": {
    "collapsed": false,
    "pycharm": {
     "name": "#%%\n"
    }
   }
  },
  {
   "cell_type": "code",
   "execution_count": 14,
   "outputs": [
    {
     "name": "stdout",
     "output_type": "stream",
     "text": [
      "Duke Leto Atreides is the ruler of the planet Caladan.\n"
     ]
    }
   ],
   "source": [
    "name = 'Leto Atreides'\n",
    "planet = 'Caladan'\n",
    "text = 'Duke {1} is the ruler of the planet {0}.'.format(planet, name)\n",
    "\n",
    "print(text)"
   ],
   "metadata": {
    "collapsed": false,
    "pycharm": {
     "name": "#%%\n"
    }
   }
  },
  {
   "cell_type": "code",
   "execution_count": 15,
   "outputs": [
    {
     "name": "stdout",
     "output_type": "stream",
     "text": [
      "The novel \"Dune\" was published in 1965 by Frank Herbert.\n"
     ]
    }
   ],
   "source": [
    "name = 'Dune'\n",
    "text = f'The novel \"{name}\" was published in 1965 by Frank Herbert.'\n",
    "\n",
    "print(text)"
   ],
   "metadata": {
    "collapsed": false,
    "pycharm": {
     "name": "#%%\n"
    }
   }
  },
  {
   "cell_type": "code",
   "execution_count": 16,
   "outputs": [
    {
     "name": "stdout",
     "output_type": "stream",
     "text": [
      "For the {name} spice is used by the navigators to find safe paths between the stars.\n"
     ]
    }
   ],
   "source": [
    "name = 'Imperium'\n",
    "text = 'For the {name} spice is used by the navigators to find safe paths between the stars.'\n",
    "\n",
    "print(text)"
   ],
   "metadata": {
    "collapsed": false,
    "pycharm": {
     "name": "#%%\n"
    }
   }
  },
  {
   "cell_type": "code",
   "execution_count": 17,
   "outputs": [
    {
     "ename": "SyntaxError",
     "evalue": "f-string: expecting '}' (65220585.py, line 1)",
     "output_type": "error",
     "traceback": [
      "\u001B[1;36m  Cell \u001B[1;32mIn[17], line 1\u001B[1;36m\u001B[0m\n\u001B[1;33m    text = f'By Imperial decree, Leto Atreides is now the fief of the planet {'Arrakis'}.'\u001B[0m\n\u001B[1;37m                                                                               ^\u001B[0m\n\u001B[1;31mSyntaxError\u001B[0m\u001B[1;31m:\u001B[0m f-string: expecting '}'\n"
     ]
    }
   ],
   "source": [
    "text = f'By Imperial decree, Leto Atreides is now the fief of the planet {'Arrakis'}.'\n",
    "print(text)"
   ],
   "metadata": {
    "collapsed": false,
    "pycharm": {
     "name": "#%%\n"
    }
   }
  },
  {
   "cell_type": "raw",
   "source": [
    "Используя метод format(), дополните приведённый код так, чтобы он вывел текст:\n",
    "\n",
    "In 2010, someone paid 10k Bitcoin for two pizzas."
   ],
   "metadata": {
    "collapsed": false,
    "pycharm": {
     "name": "#%% raw\n"
    }
   }
  },
  {
   "cell_type": "code",
   "execution_count": 20,
   "outputs": [
    {
     "name": "stdout",
     "output_type": "stream",
     "text": [
      "In 2010, someone paid 10k Bitcoin for two pizzas.\n"
     ]
    }
   ],
   "source": [
    "s = 'In {0}, someone paid {1} {2} for two pizzas.'.format(2010, '10k', 'Bitcoin')\n",
    "\n",
    "print(s)"
   ],
   "metadata": {
    "collapsed": false,
    "pycharm": {
     "name": "#%%\n"
    }
   }
  },
  {
   "cell_type": "raw",
   "source": [
    "Используя f-строку, дополните приведённый код так, чтобы он вывел текст:\n",
    "\n",
    "In 2010, someone paid 10K Bitcoin for two pizzas."
   ],
   "metadata": {
    "collapsed": false,
    "pycharm": {
     "name": "#%% raw\n"
    }
   }
  },
  {
   "cell_type": "code",
   "execution_count": 21,
   "outputs": [
    {
     "name": "stdout",
     "output_type": "stream",
     "text": [
      "In 2010, someone paid 10k Bitcoin for two pizzas.\n"
     ]
    }
   ],
   "source": [
    "one = 2010\n",
    "two = '10K'\n",
    "three = 'Bitcoin'\n",
    "\n",
    "s = f'In {one}, someone paid {two} {three} for two pizzas.'\n",
    "\n",
    "print(s)"
   ],
   "metadata": {
    "collapsed": false,
    "pycharm": {
     "name": "#%%\n"
    }
   }
  },
  {
   "cell_type": "raw",
   "source": [
    "Вследствие кибератаки на банк «Разбогатеем вместе» сломался алгоритм, выводящий курсы валют для определённой даты в мобильном приложении. Технический отдел банка просит вас исправить ситуацию и наладить вывод. На вход программе подаются следующие значения:\n",
    "\n",
    "дата (в формате ДД-ММ-ГГГГ)\n",
    "курс доллара (сколько российских рублей стоит 1 доллар)\n",
    "курс юаня (сколько российских рублей стоит 1 юань)\n",
    "Напишите программу, которая выводит строку, показывающую, сколько российских рублей стоит 1 доллар и 1 юань на указанную дату в формате:\n",
    "\n",
    "На <дата>: 1$ = <курс доллара>₽, 1¥ = <курс юаня>₽\n",
    "Формат входных данных\n",
    "На вход программе подаются три строки: дата, курс доллара и курс юаня.\n",
    "\n",
    "Формат выходных данных\n",
    "Программа должна вывести текст в соответствии с условием задачи."
   ],
   "metadata": {
    "collapsed": false,
    "pycharm": {
     "name": "#%% raw\n"
    }
   }
  },
  {
   "cell_type": "code",
   "execution_count": null,
   "outputs": [],
   "source": [
    "# Получаем входные данные от пользователя\n",
    "date = input(\"Введите дату (в формате ДД-ММ-ГГГГ): \")\n",
    "usd_rate = float(input(\"Введите курс доллара (сколько российских рублей стоит 1 доллар): \"))\n",
    "cny_rate = float(input(\"Введите курс юаня (сколько российских рублей стоит 1 юань): \"))\n",
    "\n",
    "# Выводим результат на экран\n",
    "print(f\"На {date}: 1$ = {usd_rate}₽, 1¥ = {cny_rate}₽\")"
   ],
   "metadata": {
    "collapsed": false,
    "pycharm": {
     "name": "#%%\n"
    }
   }
  },
  {
   "cell_type": "raw",
   "source": [
    "Гвидо, засевший за компьютером и не ведущий активный образ жизни, «немного» поднабрал в весе. Осталось всего 60 дней до лета, а хочется быть в форме. Вот Гвидо и решился на похудение. Все дни до лета он пронумеровал от 1 до 60 (включительно). Перед началом похудения у Гвидо был вес 100 кг, а своей целью он поставил достичь веса 88 кг (или меньше). Он решил худеть на одну и ту же массу ежедневно.\n",
    "\n",
    "Напишите программу, которая принимает на вход текущий день и текущий вес Гвидо. Программа должна вывести фразу:\n",
    "\n",
    "«Все идет по плану» (без кавычек), если Гвидо удаётся держать планку в похудении и его вес ниже либо равен тому, который он запланировал на текущий день\n",
    "«Что-то пошло не так» (без кавычек), если Гвидо не очень старается и его вес выше того, который он запланировал на текущий день\n",
    "Также программа должна вывести информацию о номере дня похудения, текущем весе Гвидо и цели по весу на текущий день в формате:\n",
    "\n",
    "#<номер дня> ДЕНЬ: ТЕКУЩИЙ ВЕС = <текущий вес Гвидо> кг, ЦЕЛЬ по ВЕСУ = <цель по весу на текущий день> кг\n",
    "Формат входных данных\n",
    "На вход программе подаются два числа (каждое на новой строке): номер дня похудения (целое число) и текущий вес Гвидо (действительное число).\n",
    "\n",
    "Формат выходных данных\n",
    "Программа должна вывести текст в соответствии с условием задачи.\n",
    "\n",
    "Примечание. В 1-й день похудения Гвидо уже должен похудеть (см. 1 тест)."
   ],
   "metadata": {
    "collapsed": false,
    "pycharm": {
     "name": "#%% raw\n"
    }
   }
  },
  {
   "cell_type": "code",
   "execution_count": null,
   "outputs": [],
   "source": [
    "# Получаем входные данные от пользователя\n",
    "day = int(input(\"Введите номер дня похудения: \"))\n",
    "current_weight = float(input(\"Введите текущий вес Гвидо: \"))\n",
    "\n",
    "# Рассчитываем целевой вес на текущий день\n",
    "target_weight = 100 - (100 - 88) / 60 * day\n",
    "\n",
    "# Проверяем, идет ли по плану похудение\n",
    "if current_weight <= target_weight:\n",
    "    print(f\"#{day} ДЕНЬ: ТЕКУЩИЙ ВЕС = {current_weight} кг, ЦЕЛЬ по ВЕСУ = {target_weight} кг\")\n",
    "    print(\"Все идет по плану\")\n",
    "else:\n",
    "    print(f\"#{day} ДЕНЬ: ТЕКУЩИЙ ВЕС = {current_weight} кг, ЦЕЛЬ по ВЕСУ = {target_weight} кг\")\n",
    "    print(\"Что-то пошло не так\")"
   ],
   "metadata": {
    "collapsed": false,
    "pycharm": {
     "name": "#%%\n"
    }
   }
  }
 ],
 "metadata": {
  "kernelspec": {
   "display_name": "Python 3",
   "language": "python",
   "name": "python3"
  },
  "language_info": {
   "codemirror_mode": {
    "name": "ipython",
    "version": 2
   },
   "file_extension": ".py",
   "mimetype": "text/x-python",
   "name": "python",
   "nbconvert_exporter": "python",
   "pygments_lexer": "ipython2",
   "version": "2.7.6"
  }
 },
 "nbformat": 4,
 "nbformat_minor": 0
}