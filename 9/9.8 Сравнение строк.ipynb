{
 "cells": [
  {
   "cell_type": "markdown",
   "source": [
    "Тема урока: сравнение строк"
   ],
   "metadata": {
    "collapsed": false
   },
   "id": "456e5400e2b54a3b"
  },
  {
   "cell_type": "markdown",
   "source": [
    "В Python мы можем сравнивать с помощью операторов ==, !=, <, <=, > и >= не только числа, но и строки. В отличие от чисел, сравнение строк происходит на основе лексикографического порядка – в соответствии с кодами составляющих их символов в таблице Unicode."
   ],
   "metadata": {
    "collapsed": false
   },
   "id": "19262b0476a5cdfd"
  },
  {
   "cell_type": "markdown",
   "source": [
    "Сравнение строк единичной длины"
   ],
   "metadata": {
    "collapsed": false
   },
   "id": "6a8b4be0c6a7d39c"
  },
  {
   "cell_type": "markdown",
   "source": [
    "Начнем с примера сравнения строк, состоящих из одного символа. В Python это сравнение происходит путем сравнения кодов этих символов в таблице Unicode."
   ],
   "metadata": {
    "collapsed": false
   },
   "id": "5a0e58a571ac27e5"
  },
  {
   "cell_type": "code",
   "execution_count": 2,
   "outputs": [
    {
     "name": "stdout",
     "output_type": "stream",
     "text": [
      "False\n",
      "True\n"
     ]
    }
   ],
   "source": [
    "print('a' > 'b')\n",
    "print('a' < 'z')"
   ],
   "metadata": {
    "collapsed": false,
    "ExecuteTime": {
     "end_time": "2024-09-09T13:28:11.367017500Z",
     "start_time": "2024-09-09T13:28:11.359193700Z"
    }
   },
   "id": "2b042803331fe069"
  },
  {
   "cell_type": "markdown",
   "source": [
    "Действительно, код символа a в таблице Unicode равен числу \n",
    "97, а символа b – числу \n",
    "98. Число \n",
    "97 меньше числа \n",
    "98, поэтому и символ a меньше символа b. Аналогично символ z больше символа a, потому что код символа z (число \n",
    "122) больше кода символа a (число \n",
    "97)."
   ],
   "metadata": {
    "collapsed": false
   },
   "id": "c281a4f5c1da4b"
  },
  {
   "cell_type": "markdown",
   "source": [
    "Предыдущий код полностью эквивалентен следующему коду:"
   ],
   "metadata": {
    "collapsed": false
   },
   "id": "253640de50fa8335"
  },
  {
   "cell_type": "code",
   "execution_count": 3,
   "outputs": [
    {
     "name": "stdout",
     "output_type": "stream",
     "text": [
      "False\n",
      "True\n"
     ]
    }
   ],
   "source": [
    "print(ord('a') > ord('b'))\n",
    "print(ord('a') < ord('z'))"
   ],
   "metadata": {
    "collapsed": false,
    "ExecuteTime": {
     "end_time": "2024-09-09T13:28:49.744405700Z",
     "start_time": "2024-09-09T13:28:49.734386500Z"
    }
   },
   "id": "50400f892689486a"
  },
  {
   "cell_type": "markdown",
   "source": [
    "Обратите внимание, что буквы в нижнем регистре всегда больше своих аналогов в верхнем регистре. Для букв русского алфавита это правило также работает."
   ],
   "metadata": {
    "collapsed": false
   },
   "id": "7ae938ece25f8818"
  },
  {
   "cell_type": "code",
   "execution_count": 4,
   "outputs": [
    {
     "name": "stdout",
     "output_type": "stream",
     "text": [
      "True\n",
      "True\n"
     ]
    }
   ],
   "source": [
    "print('d' > 'D')\n",
    "print('Ы' < 'ы')"
   ],
   "metadata": {
    "collapsed": false,
    "ExecuteTime": {
     "end_time": "2024-09-09T13:29:14.629952300Z",
     "start_time": "2024-09-09T13:29:14.625719200Z"
    }
   },
   "id": "2f07d62705b4a551"
  },
  {
   "cell_type": "markdown",
   "source": [
    "Ничего удивительного в этом нет, потому что буквы в нижнем регистре идут после букв в верхнем регистре в таблице Unicode."
   ],
   "metadata": {
    "collapsed": false
   },
   "id": "e9134689416c326a"
  },
  {
   "cell_type": "markdown",
   "source": [
    " Обычно на практике достаточно оперировать таблицей ASCII, которая является подмножеством таблицы Unicode. Первые 128 символов таблицы Unicode совпадают с таблицей ASCII."
   ],
   "metadata": {
    "collapsed": false
   },
   "id": "c9fcd17ad1a5c3df"
  },
  {
   "cell_type": "markdown",
   "source": [
    "Сравнение строк не единичной длины"
   ],
   "metadata": {
    "collapsed": false
   },
   "id": "558e2d06018932de"
  },
  {
   "cell_type": "markdown",
   "source": [
    "Обычно мы работаем не с отдельными символами, а со строками, которые состоят из нескольких символов сразу.\n",
    "\n",
    "Алгоритм сравнения строк:\n",
    "\n",
    "Начинаем с первых символов каждой строки. Если символы равны, переходим к следующей паре символов\n",
    "Когда находим первый отличающийся символ, строка с меньшим символом считается \"меньше\"\n",
    "Если одна из строк заканчивается раньше, то более короткая считается \"меньше\""
   ],
   "metadata": {
    "collapsed": false
   },
   "id": "f82ec71224336dd8"
  },
  {
   "cell_type": "markdown",
   "source": [
    "Чтобы лучше разобраться с алгоритмом сравнения строк, рассмотрим несколько примеров.\n",
    "\n",
    "Пример 1. Сравним строки 'hello' и 'hell'.\n",
    "\n",
    "Сравнение первых символов: h и h – оба символа равны, переходим к следующей паре символов\n",
    "Сравнение вторых символов: e и e – оба символа равны, переходим к следующей паре символов\n",
    "Сравнение третьих символов: l и l – оба символа равны, переходим к следующей паре символов\n",
    "Сравнение четвертых символов: l и l – оба символа равны, переходим к следующей паре символов\n",
    "Сравнение пятых символов: o (у первой строки) и отсутствующий символ (у второй строки) – вторая строка закончилась\n",
    "Поскольку у второй строки закончились символы, а у первой строки они еще есть, считается, что первая строка больше второй. Поэтому 'hello' > 'hell'."
   ],
   "metadata": {
    "collapsed": false
   },
   "id": "99a9dd5c72824a3e"
  },
  {
   "cell_type": "markdown",
   "source": [
    "Пример 2. Сравним строки 'men' и 'mya'.\n",
    "\n",
    "1) Сравнение первых символов: m и m – оба символа равны, переходим к следующей паре символов\n",
    "\n",
    "2) Сравнение вторых символов: e (у первой строки) и y (у второй строки) – символ e (число 101) меньше символа y (число 121)\n",
    "\n",
    "Так как строки начинают различаться со второго символа, то на основе этого символа и делается вывод о результатах сравнения строк. В данном случае символ e меньше символа y. Получаем, что 'men' < 'mya'."
   ],
   "metadata": {
    "collapsed": false
   },
   "id": "169482236b56bd44"
  },
  {
   "cell_type": "markdown",
   "source": [
    "Обратите внимание, что в Python сравнение останавливается, как только находится первое различие между символами на соответствующих позициях. Дальнейшее сравнение символов не требуется."
   ],
   "metadata": {
    "collapsed": false
   },
   "id": "3ad415072b445a14"
  },
  {
   "cell_type": "markdown",
   "source": [
    "Пример 3. Сравним строки 'Meeeeeooooooow' и 'meow'.\n",
    "\n",
    "1) Сравнение первых символов: M (у первой строки) и m (у второй строки) –  символ M (число 77) меньше символа m (число 109).\n",
    "\n",
    "Строки различаются уже на первых символах, и первый символ у первой строки меньше первого символа второй строки. Поэтому 'Meeeeeooooooow' < 'meow'"
   ],
   "metadata": {
    "collapsed": false
   },
   "id": "e58240e46a3b3181"
  },
  {
   "cell_type": "markdown",
   "source": [
    "Примечания"
   ],
   "metadata": {
    "collapsed": false
   },
   "id": "b0cb07fd7bbc00e4"
  },
  {
   "cell_type": "markdown",
   "source": [
    "Примечание 1. Нельзя путать сравнение чисел и сравнение строк, содержащих эти числа."
   ],
   "metadata": {
    "collapsed": false
   },
   "id": "33e838f9db628376"
  },
  {
   "cell_type": "code",
   "execution_count": 5,
   "outputs": [
    {
     "name": "stdout",
     "output_type": "stream",
     "text": [
      "True\n",
      "False\n"
     ]
    }
   ],
   "source": [
    "print(10 > 9)\n",
    "print('10' > '9')"
   ],
   "metadata": {
    "collapsed": false,
    "ExecuteTime": {
     "end_time": "2024-09-09T13:38:04.659182700Z",
     "start_time": "2024-09-09T13:38:04.657175800Z"
    }
   },
   "id": "a529064874bb3f4d"
  },
  {
   "cell_type": "markdown",
   "source": [
    "Примечание 2. Мы можем сравнивать не только строки, состоящие из букв латинского алфавита, но и строки, состоящие из любых символов, которые входят в таблицу Unicode. Алгоритм сравнения строк при этом будет аналогичный – в соответствии с кодами символов в таблице Unicode."
   ],
   "metadata": {
    "collapsed": false
   },
   "id": "7f3e8fd90423eb8c"
  },
  {
   "cell_type": "code",
   "execution_count": 6,
   "outputs": [
    {
     "name": "stdout",
     "output_type": "stream",
     "text": [
      "False\n",
      "True\n",
      "🦆\n"
     ]
    }
   ],
   "source": [
    "print('Тинькофф' == 'Т-банк')\n",
    "print('¥' > '$€£')\n",
    "print(max('🐷', '🦆', '🐔'))"
   ],
   "metadata": {
    "collapsed": false,
    "ExecuteTime": {
     "end_time": "2024-09-09T13:38:35.202211800Z",
     "start_time": "2024-09-09T13:38:35.197341Z"
    }
   },
   "id": "462ac967502c906c"
  },
  {
   "cell_type": "markdown",
   "source": [
    "Примечание 3. В Python не поддерживается операция сравнения строк и чисел друг с другом."
   ],
   "metadata": {
    "collapsed": false
   },
   "id": "cc823f84ccfba0b9"
  },
  {
   "cell_type": "code",
   "execution_count": 7,
   "outputs": [
    {
     "ename": "TypeError",
     "evalue": "'>' not supported between instances of 'str' and 'int'",
     "output_type": "error",
     "traceback": [
      "\u001B[1;31m---------------------------------------------------------------------------\u001B[0m",
      "\u001B[1;31mTypeError\u001B[0m                                 Traceback (most recent call last)",
      "Cell \u001B[1;32mIn[7], line 1\u001B[0m\n\u001B[1;32m----> 1\u001B[0m \u001B[38;5;28mprint\u001B[39m(\u001B[38;5;124;43m'\u001B[39;49m\u001B[38;5;124;43m45\u001B[39;49m\u001B[38;5;124;43m'\u001B[39;49m\u001B[43m \u001B[49m\u001B[38;5;241;43m>\u001B[39;49m\u001B[43m \u001B[49m\u001B[38;5;241;43m44\u001B[39;49m)\n",
      "\u001B[1;31mTypeError\u001B[0m: '>' not supported between instances of 'str' and 'int'"
     ]
    }
   ],
   "source": [
    "print('45' > 44)"
   ],
   "metadata": {
    "collapsed": false,
    "ExecuteTime": {
     "end_time": "2024-09-09T13:39:24.712182Z",
     "start_time": "2024-09-09T13:39:24.429155700Z"
    }
   },
   "id": "1c7d1f76fb4ddf3e"
  },
  {
   "cell_type": "markdown",
   "source": [
    "Python пытается выполнить лексикографическое сравнение для строк и числовое сравнение для чисел. Но эти операции несопоставимы, и поэтому возникает ошибка."
   ],
   "metadata": {
    "collapsed": false
   },
   "id": "73e896e867a6b60"
  },
  {
   "cell_type": "markdown",
   "source": [
    "Примечание 4. В Python встроенные функции min() и max() могут принимать строки в качестве аргументов и сравнивают их лексикографически (используя порядок символов в кодировке Unicode). Как несложно догадаться, функция min() вернёт самую \"маленькую\" строку, а max() – самую \"большую\" строку."
   ],
   "metadata": {
    "collapsed": false
   },
   "id": "3936c767dbe1c933"
  },
  {
   "cell_type": "code",
   "execution_count": 8,
   "outputs": [
    {
     "name": "stdout",
     "output_type": "stream",
     "text": [
      "try\n",
      "cape\n"
     ]
    }
   ],
   "source": [
    "print(max('tree', 'try', 'true'))\n",
    "print(min('cat', 'car', 'cape'))"
   ],
   "metadata": {
    "collapsed": false,
    "ExecuteTime": {
     "end_time": "2024-09-09T13:40:00.155121700Z",
     "start_time": "2024-09-09T13:40:00.141839600Z"
    }
   },
   "id": "926c4aa5097c83d5"
  },
  {
   "cell_type": "markdown",
   "source": [
    "Обратите внимание, что мы не можем одновременно передавать строки и числа в качестве аргументов в функции min() и max(). Это является следствием того, что мы не можем сравнивать строки с числами."
   ],
   "metadata": {
    "collapsed": false
   },
   "id": "e9b07f91804ce8da"
  },
  {
   "cell_type": "code",
   "execution_count": 9,
   "outputs": [
    {
     "ename": "TypeError",
     "evalue": "'<' not supported between instances of 'int' and 'str'",
     "output_type": "error",
     "traceback": [
      "\u001B[1;31m---------------------------------------------------------------------------\u001B[0m",
      "\u001B[1;31mTypeError\u001B[0m                                 Traceback (most recent call last)",
      "Cell \u001B[1;32mIn[9], line 1\u001B[0m\n\u001B[1;32m----> 1\u001B[0m \u001B[38;5;28mprint\u001B[39m(\u001B[38;5;28;43mmin\u001B[39;49m\u001B[43m(\u001B[49m\u001B[38;5;124;43m'\u001B[39;49m\u001B[38;5;124;43m2\u001B[39;49m\u001B[38;5;124;43m'\u001B[39;49m\u001B[43m,\u001B[49m\u001B[43m \u001B[49m\u001B[38;5;241;43m8\u001B[39;49m\u001B[43m,\u001B[49m\u001B[43m \u001B[49m\u001B[38;5;124;43m'\u001B[39;49m\u001B[38;5;124;43m45\u001B[39;49m\u001B[38;5;124;43m'\u001B[39;49m\u001B[43m,\u001B[49m\u001B[43m \u001B[49m\u001B[38;5;241;43m90\u001B[39;49m\u001B[43m)\u001B[49m)\n",
      "\u001B[1;31mTypeError\u001B[0m: '<' not supported between instances of 'int' and 'str'"
     ]
    }
   ],
   "source": [
    "print(min('2', 8, '45', 90))"
   ],
   "metadata": {
    "collapsed": false,
    "ExecuteTime": {
     "end_time": "2024-09-09T13:40:20.539027900Z",
     "start_time": "2024-09-09T13:40:20.529770Z"
    }
   },
   "id": "dc708f82f672b688"
  }
 ],
 "metadata": {
  "kernelspec": {
   "display_name": "Python 3",
   "language": "python",
   "name": "python3"
  },
  "language_info": {
   "codemirror_mode": {
    "name": "ipython",
    "version": 2
   },
   "file_extension": ".py",
   "mimetype": "text/x-python",
   "name": "python",
   "nbconvert_exporter": "python",
   "pygments_lexer": "ipython2",
   "version": "2.7.6"
  }
 },
 "nbformat": 4,
 "nbformat_minor": 5
}
