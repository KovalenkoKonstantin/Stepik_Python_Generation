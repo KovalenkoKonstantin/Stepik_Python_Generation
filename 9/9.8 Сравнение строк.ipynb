{
 "cells": [
  {
   "cell_type": "markdown",
   "source": [
    "Тема урока: сравнение строк"
   ],
   "metadata": {
    "collapsed": false
   },
   "id": "456e5400e2b54a3b"
  },
  {
   "cell_type": "markdown",
   "source": [
    "В Python мы можем сравнивать с помощью операторов ==, !=, <, <=, > и >= не только числа, но и строки. В отличие от чисел, сравнение строк происходит на основе лексикографического порядка – в соответствии с кодами составляющих их символов в таблице Unicode."
   ],
   "metadata": {
    "collapsed": false
   },
   "id": "19262b0476a5cdfd"
  },
  {
   "cell_type": "markdown",
   "source": [
    "Сравнение строк единичной длины"
   ],
   "metadata": {
    "collapsed": false
   },
   "id": "6a8b4be0c6a7d39c"
  },
  {
   "cell_type": "markdown",
   "source": [
    "Начнем с примера сравнения строк, состоящих из одного символа. В Python это сравнение происходит путем сравнения кодов этих символов в таблице Unicode."
   ],
   "metadata": {
    "collapsed": false
   },
   "id": "5a0e58a571ac27e5"
  },
  {
   "cell_type": "code",
   "execution_count": 2,
   "outputs": [
    {
     "name": "stdout",
     "output_type": "stream",
     "text": [
      "False\n",
      "True\n"
     ]
    }
   ],
   "source": [
    "print('a' > 'b')\n",
    "print('a' < 'z')"
   ],
   "metadata": {
    "collapsed": false,
    "ExecuteTime": {
     "end_time": "2024-09-09T13:28:11.367017500Z",
     "start_time": "2024-09-09T13:28:11.359193700Z"
    }
   },
   "id": "2b042803331fe069"
  },
  {
   "cell_type": "markdown",
   "source": [
    "Действительно, код символа a в таблице Unicode равен числу \n",
    "97, а символа b – числу \n",
    "98. Число \n",
    "97 меньше числа \n",
    "98, поэтому и символ a меньше символа b. Аналогично символ z больше символа a, потому что код символа z (число \n",
    "122) больше кода символа a (число \n",
    "97)."
   ],
   "metadata": {
    "collapsed": false
   },
   "id": "c281a4f5c1da4b"
  },
  {
   "cell_type": "markdown",
   "source": [
    "Предыдущий код полностью эквивалентен следующему коду:"
   ],
   "metadata": {
    "collapsed": false
   },
   "id": "253640de50fa8335"
  },
  {
   "cell_type": "code",
   "execution_count": 3,
   "outputs": [
    {
     "name": "stdout",
     "output_type": "stream",
     "text": [
      "False\n",
      "True\n"
     ]
    }
   ],
   "source": [
    "print(ord('a') > ord('b'))\n",
    "print(ord('a') < ord('z'))"
   ],
   "metadata": {
    "collapsed": false,
    "ExecuteTime": {
     "end_time": "2024-09-09T13:28:49.744405700Z",
     "start_time": "2024-09-09T13:28:49.734386500Z"
    }
   },
   "id": "50400f892689486a"
  },
  {
   "cell_type": "markdown",
   "source": [
    "Обратите внимание, что буквы в нижнем регистре всегда больше своих аналогов в верхнем регистре. Для букв русского алфавита это правило также работает."
   ],
   "metadata": {
    "collapsed": false
   },
   "id": "7ae938ece25f8818"
  },
  {
   "cell_type": "code",
   "execution_count": 4,
   "outputs": [
    {
     "name": "stdout",
     "output_type": "stream",
     "text": [
      "True\n",
      "True\n"
     ]
    }
   ],
   "source": [
    "print('d' > 'D')\n",
    "print('Ы' < 'ы')"
   ],
   "metadata": {
    "collapsed": false,
    "ExecuteTime": {
     "end_time": "2024-09-09T13:29:14.629952300Z",
     "start_time": "2024-09-09T13:29:14.625719200Z"
    }
   },
   "id": "2f07d62705b4a551"
  },
  {
   "cell_type": "markdown",
   "source": [
    "Ничего удивительного в этом нет, потому что буквы в нижнем регистре идут после букв в верхнем регистре в таблице Unicode."
   ],
   "metadata": {
    "collapsed": false
   },
   "id": "e9134689416c326a"
  },
  {
   "cell_type": "markdown",
   "source": [
    " Обычно на практике достаточно оперировать таблицей ASCII, которая является подмножеством таблицы Unicode. Первые 128 символов таблицы Unicode совпадают с таблицей ASCII."
   ],
   "metadata": {
    "collapsed": false
   },
   "id": "c9fcd17ad1a5c3df"
  },
  {
   "cell_type": "markdown",
   "source": [
    "Сравнение строк не единичной длины"
   ],
   "metadata": {
    "collapsed": false
   },
   "id": "558e2d06018932de"
  },
  {
   "cell_type": "markdown",
   "source": [
    "Обычно мы работаем не с отдельными символами, а со строками, которые состоят из нескольких символов сразу.\n",
    "\n",
    "Алгоритм сравнения строк:\n",
    "\n",
    "Начинаем с первых символов каждой строки. Если символы равны, переходим к следующей паре символов\n",
    "Когда находим первый отличающийся символ, строка с меньшим символом считается \"меньше\"\n",
    "Если одна из строк заканчивается раньше, то более короткая считается \"меньше\""
   ],
   "metadata": {
    "collapsed": false
   },
   "id": "f82ec71224336dd8"
  },
  {
   "cell_type": "markdown",
   "source": [
    "Чтобы лучше разобраться с алгоритмом сравнения строк, рассмотрим несколько примеров.\n",
    "\n",
    "Пример 1. Сравним строки 'hello' и 'hell'.\n",
    "\n",
    "Сравнение первых символов: h и h – оба символа равны, переходим к следующей паре символов\n",
    "Сравнение вторых символов: e и e – оба символа равны, переходим к следующей паре символов\n",
    "Сравнение третьих символов: l и l – оба символа равны, переходим к следующей паре символов\n",
    "Сравнение четвертых символов: l и l – оба символа равны, переходим к следующей паре символов\n",
    "Сравнение пятых символов: o (у первой строки) и отсутствующий символ (у второй строки) – вторая строка закончилась\n",
    "Поскольку у второй строки закончились символы, а у первой строки они еще есть, считается, что первая строка больше второй. Поэтому 'hello' > 'hell'."
   ],
   "metadata": {
    "collapsed": false
   },
   "id": "99a9dd5c72824a3e"
  },
  {
   "cell_type": "markdown",
   "source": [
    "Пример 2. Сравним строки 'men' и 'mya'.\n",
    "\n",
    "1) Сравнение первых символов: m и m – оба символа равны, переходим к следующей паре символов\n",
    "\n",
    "2) Сравнение вторых символов: e (у первой строки) и y (у второй строки) – символ e (число 101) меньше символа y (число 121)\n",
    "\n",
    "Так как строки начинают различаться со второго символа, то на основе этого символа и делается вывод о результатах сравнения строк. В данном случае символ e меньше символа y. Получаем, что 'men' < 'mya'."
   ],
   "metadata": {
    "collapsed": false
   },
   "id": "169482236b56bd44"
  },
  {
   "cell_type": "markdown",
   "source": [
    "Обратите внимание, что в Python сравнение останавливается, как только находится первое различие между символами на соответствующих позициях. Дальнейшее сравнение символов не требуется."
   ],
   "metadata": {
    "collapsed": false
   },
   "id": "3ad415072b445a14"
  },
  {
   "cell_type": "markdown",
   "source": [
    "Пример 3. Сравним строки 'Meeeeeooooooow' и 'meow'.\n",
    "\n",
    "1) Сравнение первых символов: M (у первой строки) и m (у второй строки) –  символ M (число 77) меньше символа m (число 109).\n",
    "\n",
    "Строки различаются уже на первых символах, и первый символ у первой строки меньше первого символа второй строки. Поэтому 'Meeeeeooooooow' < 'meow'"
   ],
   "metadata": {
    "collapsed": false
   },
   "id": "e58240e46a3b3181"
  },
  {
   "cell_type": "markdown",
   "source": [
    "Примечания"
   ],
   "metadata": {
    "collapsed": false
   },
   "id": "b0cb07fd7bbc00e4"
  },
  {
   "cell_type": "markdown",
   "source": [
    "Примечание 1. Нельзя путать сравнение чисел и сравнение строк, содержащих эти числа."
   ],
   "metadata": {
    "collapsed": false
   },
   "id": "33e838f9db628376"
  },
  {
   "cell_type": "code",
   "execution_count": 5,
   "outputs": [
    {
     "name": "stdout",
     "output_type": "stream",
     "text": [
      "True\n",
      "False\n"
     ]
    }
   ],
   "source": [
    "print(10 > 9)\n",
    "print('10' > '9')"
   ],
   "metadata": {
    "collapsed": false,
    "ExecuteTime": {
     "end_time": "2024-09-09T13:38:04.659182700Z",
     "start_time": "2024-09-09T13:38:04.657175800Z"
    }
   },
   "id": "a529064874bb3f4d"
  },
  {
   "cell_type": "markdown",
   "source": [
    "Примечание 2. Мы можем сравнивать не только строки, состоящие из букв латинского алфавита, но и строки, состоящие из любых символов, которые входят в таблицу Unicode. Алгоритм сравнения строк при этом будет аналогичный – в соответствии с кодами символов в таблице Unicode."
   ],
   "metadata": {
    "collapsed": false
   },
   "id": "7f3e8fd90423eb8c"
  },
  {
   "cell_type": "code",
   "execution_count": 6,
   "outputs": [
    {
     "name": "stdout",
     "output_type": "stream",
     "text": [
      "False\n",
      "True\n",
      "🦆\n"
     ]
    }
   ],
   "source": [
    "print('Тинькофф' == 'Т-банк')\n",
    "print('¥' > '$€£')\n",
    "print(max('🐷', '🦆', '🐔'))"
   ],
   "metadata": {
    "collapsed": false,
    "ExecuteTime": {
     "end_time": "2024-09-09T13:38:35.202211800Z",
     "start_time": "2024-09-09T13:38:35.197341Z"
    }
   },
   "id": "462ac967502c906c"
  },
  {
   "cell_type": "markdown",
   "source": [
    "Примечание 3. В Python не поддерживается операция сравнения строк и чисел друг с другом."
   ],
   "metadata": {
    "collapsed": false
   },
   "id": "cc823f84ccfba0b9"
  },
  {
   "cell_type": "code",
   "execution_count": 7,
   "outputs": [
    {
     "ename": "TypeError",
     "evalue": "'>' not supported between instances of 'str' and 'int'",
     "output_type": "error",
     "traceback": [
      "\u001B[1;31m---------------------------------------------------------------------------\u001B[0m",
      "\u001B[1;31mTypeError\u001B[0m                                 Traceback (most recent call last)",
      "Cell \u001B[1;32mIn[7], line 1\u001B[0m\n\u001B[1;32m----> 1\u001B[0m \u001B[38;5;28mprint\u001B[39m(\u001B[38;5;124;43m'\u001B[39;49m\u001B[38;5;124;43m45\u001B[39;49m\u001B[38;5;124;43m'\u001B[39;49m\u001B[43m \u001B[49m\u001B[38;5;241;43m>\u001B[39;49m\u001B[43m \u001B[49m\u001B[38;5;241;43m44\u001B[39;49m)\n",
      "\u001B[1;31mTypeError\u001B[0m: '>' not supported between instances of 'str' and 'int'"
     ]
    }
   ],
   "source": [
    "print('45' > 44)"
   ],
   "metadata": {
    "collapsed": false,
    "ExecuteTime": {
     "end_time": "2024-09-09T13:39:24.712182Z",
     "start_time": "2024-09-09T13:39:24.429155700Z"
    }
   },
   "id": "1c7d1f76fb4ddf3e"
  },
  {
   "cell_type": "markdown",
   "source": [
    "Python пытается выполнить лексикографическое сравнение для строк и числовое сравнение для чисел. Но эти операции несопоставимы, и поэтому возникает ошибка."
   ],
   "metadata": {
    "collapsed": false
   },
   "id": "73e896e867a6b60"
  },
  {
   "cell_type": "markdown",
   "source": [
    "Примечание 4. В Python встроенные функции min() и max() могут принимать строки в качестве аргументов и сравнивают их лексикографически (используя порядок символов в кодировке Unicode). Как несложно догадаться, функция min() вернёт самую \"маленькую\" строку, а max() – самую \"большую\" строку."
   ],
   "metadata": {
    "collapsed": false
   },
   "id": "3936c767dbe1c933"
  },
  {
   "cell_type": "code",
   "execution_count": 8,
   "outputs": [
    {
     "name": "stdout",
     "output_type": "stream",
     "text": [
      "try\n",
      "cape\n"
     ]
    }
   ],
   "source": [
    "print(max('tree', 'try', 'true'))\n",
    "print(min('cat', 'car', 'cape'))"
   ],
   "metadata": {
    "collapsed": false,
    "ExecuteTime": {
     "end_time": "2024-09-09T13:40:00.155121700Z",
     "start_time": "2024-09-09T13:40:00.141839600Z"
    }
   },
   "id": "926c4aa5097c83d5"
  },
  {
   "cell_type": "markdown",
   "source": [
    "Обратите внимание, что мы не можем одновременно передавать строки и числа в качестве аргументов в функции min() и max(). Это является следствием того, что мы не можем сравнивать строки с числами."
   ],
   "metadata": {
    "collapsed": false
   },
   "id": "e9b07f91804ce8da"
  },
  {
   "cell_type": "code",
   "execution_count": 9,
   "outputs": [
    {
     "ename": "TypeError",
     "evalue": "'<' not supported between instances of 'int' and 'str'",
     "output_type": "error",
     "traceback": [
      "\u001B[1;31m---------------------------------------------------------------------------\u001B[0m",
      "\u001B[1;31mTypeError\u001B[0m                                 Traceback (most recent call last)",
      "Cell \u001B[1;32mIn[9], line 1\u001B[0m\n\u001B[1;32m----> 1\u001B[0m \u001B[38;5;28mprint\u001B[39m(\u001B[38;5;28;43mmin\u001B[39;49m\u001B[43m(\u001B[49m\u001B[38;5;124;43m'\u001B[39;49m\u001B[38;5;124;43m2\u001B[39;49m\u001B[38;5;124;43m'\u001B[39;49m\u001B[43m,\u001B[49m\u001B[43m \u001B[49m\u001B[38;5;241;43m8\u001B[39;49m\u001B[43m,\u001B[49m\u001B[43m \u001B[49m\u001B[38;5;124;43m'\u001B[39;49m\u001B[38;5;124;43m45\u001B[39;49m\u001B[38;5;124;43m'\u001B[39;49m\u001B[43m,\u001B[49m\u001B[43m \u001B[49m\u001B[38;5;241;43m90\u001B[39;49m\u001B[43m)\u001B[49m)\n",
      "\u001B[1;31mTypeError\u001B[0m: '<' not supported between instances of 'int' and 'str'"
     ]
    }
   ],
   "source": [
    "print(min('2', 8, '45', 90))"
   ],
   "metadata": {
    "collapsed": false,
    "ExecuteTime": {
     "end_time": "2024-09-09T13:40:20.539027900Z",
     "start_time": "2024-09-09T13:40:20.529770Z"
    }
   },
   "id": "dc708f82f672b688"
  },
  {
   "cell_type": "code",
   "execution_count": 10,
   "outputs": [
    {
     "name": "stdout",
     "output_type": "stream",
     "text": [
      "11\n",
      "9\n"
     ]
    }
   ],
   "source": [
    "print(max(9, 10, 11))\n",
    "print(max('9', '10', '11'))"
   ],
   "metadata": {
    "collapsed": false,
    "ExecuteTime": {
     "end_time": "2024-09-09T13:47:47.823910100Z",
     "start_time": "2024-09-09T13:47:47.818365800Z"
    }
   },
   "id": "3ee2ad7b232c5570"
  },
  {
   "cell_type": "code",
   "execution_count": 11,
   "outputs": [
    {
     "name": "stdout",
     "output_type": "stream",
     "text": [
      "109\n"
     ]
    }
   ],
   "source": [
    "print(min('9', '10', '11') + max('9', '10', '11'))"
   ],
   "metadata": {
    "collapsed": false,
    "ExecuteTime": {
     "end_time": "2024-09-09T13:48:00.114344200Z",
     "start_time": "2024-09-09T13:48:00.109602700Z"
    }
   },
   "id": "295ff3066e114c77"
  },
  {
   "cell_type": "code",
   "execution_count": 12,
   "outputs": [
    {
     "ename": "TypeError",
     "evalue": "unsupported operand type(s) for +: 'int' and 'str'",
     "output_type": "error",
     "traceback": [
      "\u001B[1;31m---------------------------------------------------------------------------\u001B[0m",
      "\u001B[1;31mTypeError\u001B[0m                                 Traceback (most recent call last)",
      "Cell \u001B[1;32mIn[12], line 1\u001B[0m\n\u001B[1;32m----> 1\u001B[0m \u001B[38;5;28mprint\u001B[39m(\u001B[38;5;28;43mmin\u001B[39;49m\u001B[43m(\u001B[49m\u001B[38;5;241;43m10\u001B[39;49m\u001B[43m,\u001B[49m\u001B[43m \u001B[49m\u001B[38;5;241;43m5\u001B[39;49m\u001B[43m,\u001B[49m\u001B[43m \u001B[49m\u001B[38;5;241;43m15\u001B[39;49m\u001B[43m)\u001B[49m\u001B[43m \u001B[49m\u001B[38;5;241;43m+\u001B[39;49m\u001B[43m \u001B[49m\u001B[38;5;28;43mmax\u001B[39;49m\u001B[43m(\u001B[49m\u001B[38;5;124;43m'\u001B[39;49m\u001B[38;5;124;43m10\u001B[39;49m\u001B[38;5;124;43m'\u001B[39;49m\u001B[43m,\u001B[49m\u001B[43m \u001B[49m\u001B[38;5;124;43m'\u001B[39;49m\u001B[38;5;124;43m5\u001B[39;49m\u001B[38;5;124;43m'\u001B[39;49m\u001B[43m,\u001B[49m\u001B[43m \u001B[49m\u001B[38;5;124;43m'\u001B[39;49m\u001B[38;5;124;43m15\u001B[39;49m\u001B[38;5;124;43m'\u001B[39;49m\u001B[43m)\u001B[49m)\n",
      "\u001B[1;31mTypeError\u001B[0m: unsupported operand type(s) for +: 'int' and 'str'"
     ]
    }
   ],
   "source": [
    "print(min(10, 5, 15) + max('10', '5', '15'))"
   ],
   "metadata": {
    "collapsed": false,
    "ExecuteTime": {
     "end_time": "2024-09-09T13:48:17.516384900Z",
     "start_time": "2024-09-09T13:48:17.505427Z"
    }
   },
   "id": "b68bdd627042e856"
  },
  {
   "cell_type": "code",
   "execution_count": 13,
   "outputs": [
    {
     "ename": "TypeError",
     "evalue": "'>' not supported between instances of 'str' and 'int'",
     "output_type": "error",
     "traceback": [
      "\u001B[1;31m---------------------------------------------------------------------------\u001B[0m",
      "\u001B[1;31mTypeError\u001B[0m                                 Traceback (most recent call last)",
      "Cell \u001B[1;32mIn[13], line 1\u001B[0m\n\u001B[1;32m----> 1\u001B[0m \u001B[38;5;28mprint\u001B[39m(\u001B[38;5;28mmin\u001B[39m(\u001B[38;5;241m10\u001B[39m, \u001B[38;5;241m5\u001B[39m, \u001B[38;5;241m15\u001B[39m) \u001B[38;5;241m+\u001B[39m \u001B[38;5;28;43mmax\u001B[39;49m\u001B[43m(\u001B[49m\u001B[38;5;241;43m10\u001B[39;49m\u001B[43m,\u001B[49m\u001B[43m \u001B[49m\u001B[38;5;241;43m5\u001B[39;49m\u001B[43m,\u001B[49m\u001B[43m \u001B[49m\u001B[38;5;124;43m'\u001B[39;49m\u001B[38;5;124;43m15\u001B[39;49m\u001B[38;5;124;43m'\u001B[39;49m\u001B[43m)\u001B[49m)\n",
      "\u001B[1;31mTypeError\u001B[0m: '>' not supported between instances of 'str' and 'int'"
     ]
    }
   ],
   "source": [
    "print(min(10, 5, 15) + max(10, 5, '15'))"
   ],
   "metadata": {
    "collapsed": false,
    "ExecuteTime": {
     "end_time": "2024-09-09T13:48:45.288094700Z",
     "start_time": "2024-09-09T13:48:45.275745800Z"
    }
   },
   "id": "16867a9a3e425a4b"
  },
  {
   "cell_type": "markdown",
   "source": [
    "На вход программе подается последовательность строк, каждая строка на отдельной строке. Концом последовательности является слово «КОНЕЦ» (без кавычек). При этом само слово «КОНЕЦ» не входит в последовательность, лишь символизируя ее окончание. Напишите программу, которая находит в данной последовательности максимальную и минимальную строки (в лексикографическом порядке) и выводит их в следующем формате:\n",
    "\n",
    "Минимальная строка ⬇️: <минимальная строка>\n",
    "Максимальная строка ⬆️: <максимальная строка>\n",
    "Формат входных данных\n",
    "На вход программе подается последовательность строк, каждая на отдельной строке.\n",
    "\n",
    "Формат выходных данных\n",
    "Программа должна вывести текст в соответствии с условием задачи.\n",
    "\n",
    "Примечание. Не только у чисел мы можем находить максимум и минимум. 🤪"
   ],
   "metadata": {
    "collapsed": false
   },
   "id": "ba834d90b0cfbafc"
  },
  {
   "cell_type": "code",
   "execution_count": null,
   "outputs": [],
   "source": [
    "x = ''\n",
    "l = []\n",
    "while x != 'КОНЕЦ':\n",
    "    x = input()\n",
    "    l.append(x)\n",
    "\n",
    "# lines = list(iter(input, 'КОНЕЦ'))\n",
    "l = l[:-1]\n",
    "\n",
    "print(f'Минимальная строка ⬇️: {min(l)}')\n",
    "print(f'Максимальная строка ⬆️: {max(l)}')"
   ],
   "metadata": {
    "collapsed": false
   },
   "id": "2c23acdafb94e2e8"
  },
  {
   "cell_type": "markdown",
   "source": [
    "Волшебное число ✨\n",
    "В некотором наборе слов Сэм находит \"волшебное\" число по следующему алгоритму: берет самую \"маленькую\" и самую \"большую\" строки, перемножает Unicode-коды последних символов этих строк и возводит полученное число в квадрат. Результатом и является \"волшебное\" число.\n",
    "\n",
    "На вход программе подаются 4 слова. Найдите \"волшебное\" число в этом наборе слов.\n",
    "\n",
    "Формат входных данных\n",
    "На вход программе подаются 4 слова, каждое на отдельной строке.\n",
    "\n",
    "Формат выходных данных\n",
    "Программа должна вывести \"волшебное\" число в наборе слов."
   ],
   "metadata": {
    "collapsed": false
   },
   "id": "816bf80582d0fd03"
  },
  {
   "cell_type": "code",
   "execution_count": null,
   "outputs": [],
   "source": [
    "l = [input() for _ in range(4)]\n",
    "mn = min(l)\n",
    "mx = max(l)\n",
    "\n",
    "print((ord(mn[-1]) * ord(mx[-1])) ** 2)"
   ],
   "metadata": {
    "collapsed": false
   },
   "id": "123429ef5e51b0d8"
  },
  {
   "cell_type": "markdown",
   "source": [
    "В школе BEEGEEK названия учебных классов необычные. Они имеют следующий формат:\n",
    "\n",
    "<номер класса><буква класса>\n",
    "где <номер класса> должен находиться в диапазоне от 0 (как и все у программистов) до 9 включительно, а буквой класса могут быть все буквы в диапазоне от «А» до «П» включительно.\n",
    "\n",
    "Напишите программу, которая принимает натуральное число n, а далее n названий классов, каждое на новой строке. Для каждого названия класса ваша программа должна выводить на отдельной строке «YES» (без кавычек), если название класса корректное, или «NO» (без кавычек) в противном случае.\n",
    "\n",
    "Формат входных данных\n",
    "На вход программе подается натуральное число n, а затем n названий классов, каждое на отдельной строке.\n",
    "\n",
    "Формат выходных данных\n",
    "Программа должна вывести на отдельной строке для каждого названия класса «YES» (без кавычек) или «NO» (без кавычек) в соответствии с условием задачи.\n",
    "\n",
    "Примечание. Будем считать, что буквы Ё нет в русском алфавите, а значит, класс с такой буквой также будет считаться некорректным. 😢"
   ],
   "metadata": {
    "collapsed": false
   },
   "id": "7b82ef834715a4eb"
  },
  {
   "cell_type": "code",
   "execution_count": 23,
   "outputs": [
    {
     "name": "stdout",
     "output_type": "stream",
     "text": [
      "YES\n"
     ]
    }
   ],
   "source": [
    "for i in range(int(input())):\n",
    "    x = input()\n",
    "    print('NO' if len(x) != 2 else 'YES' if ord(x[0]) in range(ord('0'), ord('9') + 1) and ord(x[1]) in range(ord('А'),\n",
    "                                                                                                              ord('П') + 1) else 'NO')"
   ],
   "metadata": {
    "collapsed": false,
    "ExecuteTime": {
     "end_time": "2024-09-10T05:49:44.830354Z",
     "start_time": "2024-09-10T05:49:35.270380100Z"
    }
   },
   "id": "e5155f15787eba8c"
  },
  {
   "cell_type": "markdown",
   "source": [
    "На вход программе подаются 2 строки. Вам необходимо сравнить эти строки посимвольно, не учитывая регистр и игнорируя все небуквенные символы. Программа должна вывести «YES», если строки окажутся равны в результате такой проверки, или «NO» в противном случае.\n",
    "\n",
    "Формат входных данных\n",
    "На вход программе подаются 2 строки, каждая на отдельной строке.\n",
    "\n",
    "Формат выходных данных\n",
    "Программа должна вывести «YES» или «NO» в соответствии с условием задачи."
   ],
   "metadata": {
    "collapsed": false
   },
   "id": "e5edbcfe232fad6b"
  },
  {
   "cell_type": "code",
   "execution_count": null,
   "outputs": [],
   "source": [
    "l1 = [i.lower() for i in input() if i.isalpha()]\n",
    "l2 = [i.lower() for i in input() if i.isalpha()]\n",
    "\n",
    "# print(l1)\n",
    "# print(l2)\n",
    "print(('NO', 'YES')[l1 == l2])"
   ],
   "metadata": {
    "collapsed": false
   },
   "id": "f9455fbff44fd017"
  },
  {
   "cell_type": "markdown",
   "source": [
    "На вход программе подаются 3 различных слова. Вам необходимо отсортировать эти слова по возрастанию в лексикографическом порядке и вывести их на одной строке, разделяя символом пробела.\n",
    "\n",
    "Формат входных данных\n",
    "На вход программе подаются 3 слова, каждое на отдельной строке.\n",
    "\n",
    "Формат выходных данных\n",
    "Программа должна вывести 3 слова на одной строке, разделяя их символом пробела."
   ],
   "metadata": {
    "collapsed": false
   },
   "id": "3a7d678e13337243"
  },
  {
   "cell_type": "code",
   "execution_count": null,
   "outputs": [],
   "source": [
    "s1 = input()\n",
    "s2 = input()\n",
    "s3 = input()\n",
    "\n",
    "l = [s1, s2, s3]\n",
    "print(*sorted(l))"
   ],
   "metadata": {
    "collapsed": false
   },
   "id": "c0404348634a82b8"
  },
  {
   "cell_type": "markdown",
   "source": [
    "Все книги в домашней библиотеке Душнилы, друга Сэма, должны быть обязательно отсортированы по возрастанию: сначала по фамилиям авторов, а в случае совпадения фамилий – по названиям. Напишите программу, которая проверяет, верно ли отсортированы книги.\n",
    "\n",
    "На вход вашей программе поступает число n, а затем – n строк, каждая строка представляет собой книгу в следующем формате:\n",
    "\n",
    "<фамилия автора> <инициалы автора>, «<название книги>»\n",
    "Программа должна вывести «YES» (без кавычек), если книги отсортированы в соответствии с пожеланиями Душнилы, или «NO» (без кавычек) в противном случае.\n",
    "\n",
    "Формат входных данных\n",
    "На вход программе подается натуральное число n, а затем – n строк.\n",
    "\n",
    "Формат выходных данных\n",
    "Программа должна вывести «YES» (без кавычек) или «NO» (без кавычек) в соответствии с условием задачи.\n",
    "\n",
    "Примечание 1. Обратите внимание, что Душнила игнорирует инициалы автора при сортировке книг.\n",
    "\n",
    "Примечание 2. Гарантируется, что книги в наборе не повторяются.\n",
    "\n",
    "Примечание 3. Гарантируется, что фамилия автора состоит из одного слова."
   ],
   "metadata": {
    "collapsed": false
   },
   "id": "5d4cafef16fe7dfc"
  },
  {
   "cell_type": "code",
   "execution_count": null,
   "outputs": [],
   "source": [
    "books = [tuple(input().replace('»', '').strip().split(', «')) for _ in range(int(input()))]\n",
    "sorted_books = sorted(books, key=lambda x: (x[0].split()[0], x[1]))\n",
    "print(books)\n",
    "print(sorted_books)\n",
    "\n",
    "\n",
    "def check_sort(list1, list2):\n",
    "    return print('YES' if list1 == list2 else 'NO')\n",
    "\n",
    "check_sort(books, sorted_books)"
   ],
   "metadata": {
    "collapsed": false
   },
   "id": "8baca254bc0d65cb"
  },
  {
   "cell_type": "code",
   "execution_count": 24,
   "outputs": [
    {
     "name": "stdout",
     "output_type": "stream",
     "text": [
      "['Гоголь Н.В.', '«Мертвые души»']\n"
     ]
    }
   ],
   "source": [
    "library = [input().split() for _ in range(int(input()))]\n",
    "\n",
    "print((\"NO\", \"YES\")[library == sorted(library, key=lambda x: (x[0], x[2]))])"
   ],
   "metadata": {
    "collapsed": false,
    "ExecuteTime": {
     "end_time": "2024-09-10T06:08:07.432472600Z",
     "start_time": "2024-09-10T06:08:07.426863300Z"
    }
   },
   "id": "c66fa4a114919977"
  },
  {
   "cell_type": "code",
   "execution_count": 25,
   "outputs": [
    {
     "name": "stdout",
     "output_type": "stream",
     "text": [
      "D-N-A\n"
     ]
    }
   ],
   "source": [
    "print('-'.join('DNA'))"
   ],
   "metadata": {
    "collapsed": false,
    "ExecuteTime": {
     "end_time": "2024-09-10T07:25:42.887680Z",
     "start_time": "2024-09-10T07:25:42.883650700Z"
    }
   },
   "id": "38b1d58f18750569"
  },
  {
   "cell_type": "code",
   "execution_count": 26,
   "outputs": [
    {
     "ename": "AttributeError",
     "evalue": "'list' object has no attribute 'join'",
     "output_type": "error",
     "traceback": [
      "\u001B[1;31m---------------------------------------------------------------------------\u001B[0m",
      "\u001B[1;31mAttributeError\u001B[0m                            Traceback (most recent call last)",
      "Cell \u001B[1;32mIn[26], line 2\u001B[0m\n\u001B[0;32m      1\u001B[0m symbols \u001B[38;5;241m=\u001B[39m [\u001B[38;5;124m'\u001B[39m\u001B[38;5;124mI\u001B[39m\u001B[38;5;124m'\u001B[39m, \u001B[38;5;124m'\u001B[39m\u001B[38;5;124mD\u001B[39m\u001B[38;5;124m'\u001B[39m, \u001B[38;5;124m'\u001B[39m\u001B[38;5;124mO\u001B[39m\u001B[38;5;124m'\u001B[39m, \u001B[38;5;124m'\u001B[39m\u001B[38;5;124mL\u001B[39m\u001B[38;5;124m'\u001B[39m]\n\u001B[1;32m----> 2\u001B[0m \u001B[38;5;28mprint\u001B[39m(\u001B[43msymbols\u001B[49m\u001B[38;5;241;43m.\u001B[39;49m\u001B[43mjoin\u001B[49m(\u001B[38;5;124m'\u001B[39m\u001B[38;5;124m-\u001B[39m\u001B[38;5;124m'\u001B[39m))\n",
      "\u001B[1;31mAttributeError\u001B[0m: 'list' object has no attribute 'join'"
     ]
    }
   ],
   "source": [
    "symbols = ['I', 'D', 'O', 'L']\n",
    "print(symbols.join('-'))"
   ],
   "metadata": {
    "collapsed": false,
    "ExecuteTime": {
     "end_time": "2024-09-10T07:26:04.415297Z",
     "start_time": "2024-09-10T07:26:04.403915600Z"
    }
   },
   "id": "96906401d13d8915"
  },
  {
   "cell_type": "code",
   "execution_count": 27,
   "outputs": [
    {
     "data": {
      "text/plain": "6900"
     },
     "execution_count": 27,
     "metadata": {},
     "output_type": "execute_result"
    }
   ],
   "source": [
    "1725*4"
   ],
   "metadata": {
    "collapsed": false,
    "ExecuteTime": {
     "end_time": "2024-09-10T07:46:43.022263400Z",
     "start_time": "2024-09-10T07:46:43.016892800Z"
    }
   },
   "id": "43973b89f9bccba7"
  }
 ],
 "metadata": {
  "kernelspec": {
   "display_name": "Python 3",
   "language": "python",
   "name": "python3"
  },
  "language_info": {
   "codemirror_mode": {
    "name": "ipython",
    "version": 2
   },
   "file_extension": ".py",
   "mimetype": "text/x-python",
   "name": "python",
   "nbconvert_exporter": "python",
   "pygments_lexer": "ipython2",
   "version": "2.7.6"
  }
 },
 "nbformat": 4,
 "nbformat_minor": 5
}
