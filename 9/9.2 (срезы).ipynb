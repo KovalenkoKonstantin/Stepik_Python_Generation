﻿{
 "cells": [
  {
   "cell_type": "code",
   "execution_count": 1,
   "metadata": {
    "collapsed": true,
    "pycharm": {
     "name": "#%%\n"
    }
   },
   "outputs": [
    {
     "name": "stdout",
     "output_type": "stream",
     "text": [
      "gda\n"
     ]
    }
   ],
   "source": [
    "s = 'abcdefg'\n",
    "print(s[::-3])"
   ]
  },
  {
   "cell_type": "markdown",
   "source": [
    "Дополните приведенный код, используя срезы, так чтобы он вывел первые 12 символов строки s."
   ],
   "metadata": {
    "collapsed": false,
    "pycharm": {
     "name": "#%% md\n"
    }
   }
  },
  {
   "cell_type": "code",
   "execution_count": 3,
   "outputs": [
    {
     "name": "stdout",
     "output_type": "stream",
     "text": [
      "In 2010, som\n"
     ]
    }
   ],
   "source": [
    "s = \"In 2010, someone paid 10k Bitcoin for two pizzas.\"\n",
    "print(s[:12])"
   ],
   "metadata": {
    "collapsed": false,
    "pycharm": {
     "name": "#%%\n"
    }
   }
  },
  {
   "cell_type": "markdown",
   "source": [
    "Дополните приведенный код, используя срезы, так чтобы он вывел последние 9 символов строки s."
   ],
   "metadata": {
    "collapsed": false,
    "pycharm": {
     "name": "#%% md\n"
    }
   }
  },
  {
   "cell_type": "code",
   "execution_count": null,
   "outputs": [],
   "source": [
    "s = \"In 2010, someone paid 10k Bitcoin for two pizzas.\"\n",
    "print(s[-9:])"
   ],
   "metadata": {
    "collapsed": false,
    "pycharm": {
     "name": "#%%\n"
    }
   }
  },
  {
   "cell_type": "markdown",
   "source": [
    "Дополните приведенный код, используя срезы, так чтобы он вывел каждый 7 символ строки s (начиная с 0-го индекса)."
   ],
   "metadata": {
    "collapsed": false,
    "pycharm": {
     "name": "#%% md\n"
    }
   }
  },
  {
   "cell_type": "code",
   "execution_count": null,
   "outputs": [],
   "source": [
    "s = \"In 2010, someone paid 10k Bitcoin for two pizzas.\"\n",
    "print(s[::7])"
   ],
   "metadata": {
    "collapsed": false,
    "pycharm": {
     "name": "#%%\n"
    }
   }
  },
  {
   "cell_type": "markdown",
   "source": [
    "Дополните приведенный код, используя срезы, так чтобы он вывел строку s в обратном порядке."
   ],
   "metadata": {
    "collapsed": false,
    "pycharm": {
     "name": "#%% md\n"
    }
   }
  },
  {
   "cell_type": "code",
   "execution_count": null,
   "outputs": [],
   "source": [
    "s = \"In 2010, someone paid 10k Bitcoin for two pizzas.\"\n",
    "print(s[::-1])"
   ],
   "metadata": {
    "collapsed": false,
    "pycharm": {
     "name": "#%%\n"
    }
   }
  },
  {
   "cell_type": "markdown",
   "source": [
    "На вход программе подается одно слово, записанное в нижнем регистре. Напишите программу, которая определяет, является ли оно палиндромом.\n",
    "\n",
    "Формат входных данных\n",
    "На вход программе подается одно слово в нижнем регистре.\n",
    "\n",
    "Формат выходных данных\n",
    "Программа должна вывести «YES», если слово является палиндромом, и «NO» в противном случае.\n",
    "\n",
    "Примечание. Палиндром считается слово, которое читается одинаково в обоих направлениях. Например, слово «потоп» является палиндромом."
   ],
   "metadata": {
    "collapsed": false,
    "pycharm": {
     "name": "#%% md\n"
    }
   }
  },
  {
   "cell_type": "code",
   "execution_count": null,
   "outputs": [],
   "source": [
    "(lambda i: print('YES' if i == i[::-1] else 'NO'))(input())"
   ],
   "metadata": {
    "collapsed": false,
    "pycharm": {
     "name": "#%%\n"
    }
   }
  },
  {
   "cell_type": "markdown",
   "source": [
    "На вход программе подается одна строка. Напишите программу, которая выводит:\n",
    "\n",
    "общее количество символов в строке;\n",
    "исходную строку, повторенную 3 раза;\n",
    "первый символ строки;\n",
    "первые три символа строки;\n",
    "последние три символа строки;\n",
    "строку в обратном порядке;\n",
    "строку с удаленным первым и последним символами.\n",
    "Формат входных данных\n",
    "На вход программе подается одна строка, длина которой больше 3 символов.\n",
    "\n",
    "Формат выходных данных\n",
    "Программа должна вывести данные в соответствии с условием. Каждое значение выводится на отдельной строке."
   ],
   "metadata": {
    "collapsed": false,
    "pycharm": {
     "name": "#%% md\n"
    }
   }
  },
  {
   "cell_type": "code",
   "execution_count": null,
   "outputs": [],
   "source": [
    "s = input()\n",
    "\n",
    "# Общее количество символов в строке\n",
    "total_chars = len(s)\n",
    "\n",
    "# Исходная строка, повторенная 3 раза\n",
    "repeated_s = s * 3\n",
    "\n",
    "# Первый символ строки\n",
    "first_char = s[0]\n",
    "\n",
    "# Первые три символа строки\n",
    "first_three_chars = s[:3]\n",
    "\n",
    "# Последние три символа строки\n",
    "last_three_chars = s[-3:]\n",
    "\n",
    "# Строка в обратном порядке\n",
    "reversed_s = s[::-1]\n",
    "\n",
    "# Строка с удаленным первым и последним символами\n",
    "removed_first_last = s[1:-1]\n",
    "\n",
    "# Вывод результатов\n",
    "print(total_chars)\n",
    "print(repeated_s)\n",
    "print(first_char)\n",
    "print(first_three_chars)\n",
    "print(last_three_chars)\n",
    "print(reversed_s)\n",
    "print(removed_first_last)"
   ],
   "metadata": {
    "collapsed": false,
    "pycharm": {
     "name": "#%%\n"
    }
   }
  },
  {
   "cell_type": "markdown",
   "source": [
    "На вход программе подается одна строка. Напишите программу, которая выводит:\n",
    "\n",
    "третий символ этой строки;\n",
    "предпоследний символ этой строки;\n",
    "первые пять символов этой строки;\n",
    "всю строку, кроме последних двух символов;\n",
    "все символы с четными индексами;\n",
    "все символы с нечетными индексами;\n",
    "все символы в обратном порядке;\n",
    "все символы строки через один в обратном порядке, начиная с последнего.\n",
    "Формат входных данных\n",
    "На вход программе подается одна строка, длина которой больше 5 символов.\n",
    "\n",
    "Формат выходных данных\n",
    "Программа должна вывести данные в соответствии с условием. Каждое значение выводится на отдельной строке."
   ],
   "metadata": {
    "collapsed": false,
    "pycharm": {
     "name": "#%% md\n"
    }
   }
  },
  {
   "cell_type": "code",
   "execution_count": null,
   "outputs": [],
   "source": [
    "s = input()\n",
    "\n",
    "# Третий символ строки\n",
    "third_char = s[2]\n",
    "\n",
    "# Предпоследний символ строки\n",
    "before_last_char = s[-2]\n",
    "\n",
    "# Первые пять символов строки\n",
    "first_five_chars = s[:5]\n",
    "\n",
    "# Вся строка, кроме последних двух символов\n",
    "all_except_last_two = s[:-2]\n",
    "\n",
    "# Все символы с четными индексами\n",
    "even_indexes = s[::2]\n",
    "\n",
    "# Все символы с нечетными индексами\n",
    "odd_indexes = s[1::2]\n",
    "\n",
    "# Все символы в обратном порядке\n",
    "reversed_s = s[::-1]\n",
    "\n",
    "# Все символы через один в обратном порядке, начиная с последнего\n",
    "every_other_reverse = s[::-2]\n",
    "\n",
    "# Вывод результатов\n",
    "print(third_char)\n",
    "print(before_last_char)\n",
    "print(first_five_chars)\n",
    "print(all_except_last_two)\n",
    "print(even_indexes)\n",
    "print(odd_indexes)\n",
    "print(reversed_s)\n",
    "print(every_other_reverse)"
   ],
   "metadata": {
    "collapsed": false,
    "pycharm": {
     "name": "#%%\n"
    }
   }
  },
  {
   "cell_type": "markdown",
   "source": [
    "На вход программе подается строка текста. Напишите программу, которая разрежет ее на две равные части, переставит их местами и выведет на экран.\n",
    "\n",
    "Формат входных данных\n",
    "На вход программе подается строка текста.\n",
    "\n",
    "Формат выходных данных\n",
    "Программа должна вывести текст в соответствии с условием задачи.\n",
    "\n",
    "Примечание. Если длина строки нечетная, то длина первой части должна быть на один символ больше."
   ],
   "metadata": {
    "collapsed": false,
    "pycharm": {
     "name": "#%% md\n"
    }
   }
  },
  {
   "cell_type": "code",
   "execution_count": 6,
   "outputs": [
    {
     "name": "stdout",
     "output_type": "stream",
     "text": [
      "a\n"
     ]
    }
   ],
   "source": [
    "import math\n",
    "\n",
    "s = input()\n",
    "ln = math.ceil(len(s) / 2)\n",
    "\n",
    "s1 = s[:ln]\n",
    "s2 = s[ln:]\n",
    "\n",
    "print(s2 + s1)"
   ],
   "metadata": {
    "collapsed": false,
    "pycharm": {
     "name": "#%%\n"
    }
   }
  },
  {
   "cell_type": "code",
   "execution_count": 8,
   "outputs": [
    {
     "data": {
      "text/plain": "3"
     },
     "execution_count": 8,
     "metadata": {},
     "output_type": "execute_result"
    }
   ],
   "source": [
    "import math\n",
    "math.floor(len('abcdefg') / 2)"
   ],
   "metadata": {
    "collapsed": false,
    "pycharm": {
     "name": "#%%\n"
    }
   }
  }
 ],
 "metadata": {
  "kernelspec": {
   "display_name": "Python 3",
   "language": "python",
   "name": "python3"
  },
  "language_info": {
   "codemirror_mode": {
    "name": "ipython",
    "version": 2
   },
   "file_extension": ".py",
   "mimetype": "text/x-python",
   "name": "python",
   "nbconvert_exporter": "python",
   "pygments_lexer": "ipython2",
   "version": "2.7.6"
  }
 },
 "nbformat": 4,
 "nbformat_minor": 0
}