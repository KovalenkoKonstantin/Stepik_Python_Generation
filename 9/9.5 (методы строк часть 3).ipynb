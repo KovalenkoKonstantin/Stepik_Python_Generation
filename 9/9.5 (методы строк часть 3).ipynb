﻿{
 "cells": [
  {
   "cell_type": "raw",
   "source": [
    "Метод isalnum() определяет, состоит ли исходная строка из буквенно-цифровых символов. Метод возвращает значение True, если исходная строка является непустой и состоит только из буквенно-цифровых символов, или False в противном случае."
   ],
   "metadata": {
    "collapsed": false,
    "pycharm": {
     "name": "#%% raw\n"
    }
   }
  },
  {
   "cell_type": "code",
   "execution_count": 12,
   "outputs": [
    {
     "name": "stdout",
     "output_type": "stream",
     "text": [
      "True\n",
      "False\n",
      "False\n",
      "False\n"
     ]
    }
   ],
   "source": [
    "s1 = 'abc123'\n",
    "s2 = 'abc$*123'\n",
    "s3 = ''\n",
    "s4 = ' '\n",
    "\n",
    "print(s1.isalnum())\n",
    "print(s2.isalnum())\n",
    "print(s3.isalnum())\n",
    "print(s4.isalnum())"
   ],
   "metadata": {
    "collapsed": false,
    "pycharm": {
     "name": "#%%\n"
    }
   }
  },
  {
   "cell_type": "code",
   "execution_count": 2,
   "outputs": [
    {
     "name": "stdout",
     "output_type": "stream",
     "text": [
      "True\n",
      "True\n"
     ]
    }
   ],
   "source": [
    "s1 = 'BEEGEEK'\n",
    "s2 = '2202'\n",
    "\n",
    "print(s1.isalnum())\n",
    "print(s2.isalnum())"
   ],
   "metadata": {
    "collapsed": false,
    "pycharm": {
     "name": "#%%\n"
    }
   }
  },
  {
   "cell_type": "raw",
   "source": [
    "Метод isalpha() определяет, состоит ли исходная строка из буквенных символов. Метод возвращает значение True, если исходная строка является непустой и состоит только из буквенных символов, или False в противном случае."
   ],
   "metadata": {
    "collapsed": false,
    "pycharm": {
     "name": "#%% raw\n"
    }
   }
  },
  {
   "cell_type": "code",
   "execution_count": 3,
   "outputs": [
    {
     "name": "stdout",
     "output_type": "stream",
     "text": [
      "True\n",
      "False\n",
      "False\n"
     ]
    }
   ],
   "source": [
    "s1 = 'ABCabc'\n",
    "s2 = 'abc123'\n",
    "s3 = ''\n",
    "\n",
    "print(s1.isalpha())\n",
    "print(s2.isalpha())\n",
    "print(s3.isalpha())"
   ],
   "metadata": {
    "collapsed": false,
    "pycharm": {
     "name": "#%%\n"
    }
   }
  },
  {
   "cell_type": "raw",
   "source": [
    "Метод isdigit() определяет, состоит ли исходная строка только из цифровых символов. Метод возвращает значение True, если исходная строка является непустой и состоит только из цифровых символов, или False в противном случае."
   ],
   "metadata": {
    "collapsed": false,
    "pycharm": {
     "name": "#%% raw\n"
    }
   }
  },
  {
   "cell_type": "code",
   "execution_count": 4,
   "outputs": [
    {
     "name": "stdout",
     "output_type": "stream",
     "text": [
      "True\n",
      "False\n",
      "False\n"
     ]
    }
   ],
   "source": [
    "s1 = '1234567'\n",
    "s2 = 'abc123'\n",
    "s3 = ''\n",
    "\n",
    "print(s1.isdigit())\n",
    "print(s2.isdigit())\n",
    "print(s3.isdigit())"
   ],
   "metadata": {
    "collapsed": false,
    "pycharm": {
     "name": "#%%\n"
    }
   }
  },
  {
   "cell_type": "raw",
   "source": [
    "Метод islower() определяет, являются ли все буквенные символы исходной строки строчными (имеют нижний регистр). Метод возвращает значение True, если все буквенные символы исходной строки являются строчными, или False в противном случае."
   ],
   "metadata": {
    "collapsed": false,
    "pycharm": {
     "name": "#%% raw\n"
    }
   }
  },
  {
   "cell_type": "code",
   "execution_count": 13,
   "outputs": [
    {
     "name": "stdout",
     "output_type": "stream",
     "text": [
      "True\n",
      "True\n",
      "False\n",
      "False\n"
     ]
    }
   ],
   "source": [
    "s1 = 'abc'\n",
    "s2 = 'abc1$d'\n",
    "s3 = 'Abc1$D'\n",
    "s4 = '123'\n",
    "\n",
    "print(s1.islower())\n",
    "print(s2.islower())\n",
    "print(s3.islower())\n",
    "print(s4.islower())"
   ],
   "metadata": {
    "collapsed": false,
    "pycharm": {
     "name": "#%%\n"
    }
   }
  },
  {
   "cell_type": "raw",
   "source": [
    "метод islower() игнорирует все небуквенные символы."
   ],
   "metadata": {
    "collapsed": false,
    "pycharm": {
     "name": "#%% raw\n"
    }
   }
  },
  {
   "cell_type": "code",
   "execution_count": 6,
   "outputs": [
    {
     "name": "stdout",
     "output_type": "stream",
     "text": [
      "False\n",
      "False\n",
      "True\n"
     ]
    }
   ],
   "source": [
    "print('1234'.islower())\n",
    "print('+-*/'.islower())\n",
    "print('ab#%'.islower())"
   ],
   "metadata": {
    "collapsed": false,
    "pycharm": {
     "name": "#%%\n"
    }
   }
  },
  {
   "cell_type": "raw",
   "source": [
    "Метод isupper() определяет, являются ли все буквенные символы исходной строки заглавными (имеют верхний регистр). Метод возвращает значение True, если все буквенные символы исходной строки являются заглавными, или False в противном случае."
   ],
   "metadata": {
    "collapsed": false,
    "pycharm": {
     "name": "#%% raw\n"
    }
   }
  },
  {
   "cell_type": "code",
   "execution_count": 7,
   "outputs": [
    {
     "name": "stdout",
     "output_type": "stream",
     "text": [
      "True\n",
      "True\n",
      "False\n"
     ]
    }
   ],
   "source": [
    "s1 = 'ABC'\n",
    "s2 = 'ABC1$D'\n",
    "s3 = 'Abc1$D'\n",
    "\n",
    "print(s1.isupper())\n",
    "print(s2.isupper())\n",
    "print(s3.isupper())"
   ],
   "metadata": {
    "collapsed": false,
    "pycharm": {
     "name": "#%%\n"
    }
   }
  },
  {
   "cell_type": "raw",
   "source": [
    "метод isupper() игнорирует все небуквенные символы."
   ],
   "metadata": {
    "collapsed": false,
    "pycharm": {
     "name": "#%% raw\n"
    }
   }
  },
  {
   "cell_type": "code",
   "execution_count": 8,
   "outputs": [
    {
     "name": "stdout",
     "output_type": "stream",
     "text": [
      "False\n",
      "False\n",
      "True\n"
     ]
    }
   ],
   "source": [
    "print('5678'.isupper())\n",
    "print('!?_&'.isupper())\n",
    "print('AB%$'.isupper())"
   ],
   "metadata": {
    "collapsed": false,
    "pycharm": {
     "name": "#%%\n"
    }
   }
  },
  {
   "cell_type": "raw",
   "source": [
    "Метод isspace() определяет, состоит ли исходная строка только из пробельных символов. Метод возвращает значение True, если строка состоит только из пробельных символов, или False в противном случае."
   ],
   "metadata": {
    "collapsed": false,
    "pycharm": {
     "name": "#%% raw\n"
    }
   }
  },
  {
   "cell_type": "code",
   "execution_count": 10,
   "outputs": [
    {
     "name": "stdout",
     "output_type": "stream",
     "text": [
      "True\n",
      "False\n"
     ]
    }
   ],
   "source": [
    "s1 = '       '\n",
    "s2 = ' abc1$d '\n",
    "\n",
    "print(s1.isspace())\n",
    "print(s2.isspace())"
   ],
   "metadata": {
    "collapsed": false,
    "pycharm": {
     "name": "#%%\n"
    }
   }
  },
  {
   "cell_type": "raw",
   "source": [
    "Для пустой строки метод isspace() также возвращает False, так как в этом случае строка не состоит из пробельных символов."
   ],
   "metadata": {
    "collapsed": false,
    "pycharm": {
     "name": "#%% raw\n"
    }
   }
  },
  {
   "cell_type": "code",
   "execution_count": 11,
   "outputs": [
    {
     "name": "stdout",
     "output_type": "stream",
     "text": [
      "False\n"
     ]
    }
   ],
   "source": [
    "s1 = ''\n",
    "print(s1.isspace())"
   ],
   "metadata": {
    "collapsed": false,
    "pycharm": {
     "name": "#%%\n"
    }
   }
  },
  {
   "cell_type": "raw",
   "source": [
    "На платформе Stepik пользователи оставляют комментарии, но не все из них соответствуют правилам. Так, например, модератор Сэм считает неуместными комментарии те, которые представляют собой пустую строку или состоят только из пробелов. Подобные комментарии он удаляет – нечего засорять курс бесполезным материалом!\n",
    "\n",
    "Ваша задача – написать программу, которая поможет Сэму проверять комментарии. Программа должна принимать на вход натуральное число n, а затем\n",
    "\n",
    "n строк, представляющих тексты комментариев. Для каждого комментария ваша программа должна выводить номер этого комментария (начиная с 1), затем двоеточие (:), затем через пробел его текст или сообщение «COMMENT SHOULD BE DELETED» (без кавычек), если комментарий должен быть удалён Сэмом.\n",
    "\n",
    "Формат входных данных\n",
    "На вход программе подаётся одно натуральное число n, а затем – n строк.\n",
    "\n",
    "Формат выходных данных\n",
    "Для каждого комментария программа должна вывести его текст или сообщение «COMMENT SHOULD BE DELETED», если комментарий должен быть удалён."
   ],
   "metadata": {
    "collapsed": false,
    "pycharm": {
     "name": "#%% raw\n"
    }
   }
  },
  {
   "cell_type": "code",
   "execution_count": null,
   "outputs": [],
   "source": [
    "n = int(input())\n",
    "\n",
    "for i in range(n):\n",
    "    s = input()\n",
    "    if s.isspace()or len(s)==0:\n",
    "        print(f'{i + 1}: COMMENT SHOULD BE DELETED')\n",
    "    else:\n",
    "        print(f'{i + 1}: {s}')"
   ],
   "metadata": {
    "collapsed": false,
    "pycharm": {
     "name": "#%%\n"
    }
   }
  },
  {
   "cell_type": "raw",
   "source": [
    "В службе по дорожному движению решили оптимизировать процесс создания автомобильных номеров: вместо человека генерацию автомобильных номеров поручили некоторой GPT (модели машинного обучения). Как мы знаем, искусственный интеллект еще сыроват и делает много ошибок, поэтому его результаты следует тщательно проверять. Корректный автомобильный номер (в России) имеет следующий формат:\n",
    "\n",
    "Напишите программу, которая принимает на вход строку и проверяет, является ли эта строка корректным автомобильным номером. Программа должна вывести «YES» (без кавычек), если искусственный интеллект справился со своей задачей, или «NO» (без кавычек) в противном случае. В нашей задаче корректным автомобильным номером будем считать следующие форматы:\n",
    "\n",
    "<БУКВА><ЦИФРА><ЦИФРА><ЦИФРА><БУКВА><БУКВА>_<ЦИФРА><ЦИФРА>\n",
    "<БУКВА><ЦИФРА><ЦИФРА><ЦИФРА><БУКВА><БУКВА>_<ЦИФРА><ЦИФРА><ЦИФРА>\n",
    "где <ЦИФРА> – это любая цифра, а <БУКВА> – это одна из букв кириллицы АВЕКМНОРСТУХ."
   ],
   "metadata": {
    "collapsed": false,
    "pycharm": {
     "name": "#%% raw\n"
    }
   }
  },
  {
   "cell_type": "code",
   "execution_count": null,
   "outputs": [],
   "source": [
    "import re\n",
    "\n",
    "pattern = r'[АВЕКМНОРСТУХ]\\d{3}[АВЕКМНОРСТУХ]{2}_\\d{2,3}$'\n",
    "\n",
    "s = input()\n",
    "result = re.match(pattern, s)\n",
    "\n",
    "if result:\n",
    "    print('YES')\n",
    "else:\n",
    "    print('NO')"
   ],
   "metadata": {
    "collapsed": false,
    "pycharm": {
     "name": "#%%\n"
    }
   }
  },
  {
   "cell_type": "raw",
   "source": [
    "Во время собеседования вам предложили решить задачу на валидацию имени пользователя. Пользователь пытается создать никнейм для своего аккаунта в соцсети Y. Правила для корректного никнейма в соцсети Y следующие:\n",
    "\n",
    "никнейм должен начинаться с символа @\n",
    "никнейм должен содержать от 5 до 15 (включительно) символов (включая первый символ @)\n",
    "никнейм должен содержать только строчные буквы и цифры (помимо первого символа @)\n",
    "Напишите программу, которая выводит «Correct» (без кавычек), если никнейм соответствует всем вышеприведенным правилам, или «Incorrect» (без кавычек) в противном случае.\n",
    "\n",
    "Формат входных данных\n",
    "На вход программе подаётся одна строка – никнейм.\n",
    "\n",
    "Формат выходных данных\n",
    "Программа должна вывести текст в соответствии с условием задачи.\n",
    "\n",
    "Примечание. Обратите внимание, что никнейму необязательно содержать строчные буквы и цифры одновременно, никнейм может содержать только строчные буквы или только цифры (помимо первого символа @). Например, следующие никнеймы считаются корректными:\n",
    "\n",
    "@duncan\n",
    "@1111"
   ],
   "metadata": {
    "collapsed": false,
    "pycharm": {
     "name": "#%% raw\n"
    }
   }
  },
  {
   "cell_type": "code",
   "execution_count": null,
   "outputs": [],
   "source": [
    "import re\n",
    "\n",
    "pattern =  r'@([a-z\\d]{4,14})$'\n",
    "\n",
    "print('Correct' if re.match(pattern, input()) else 'Incorrect')"
   ],
   "metadata": {
    "collapsed": false,
    "pycharm": {
     "name": "#%%\n"
    }
   }
  },
  {
   "cell_type": "code",
   "execution_count": null,
   "outputs": [],
   "source": [
    "import re\n",
    "\n",
    "print(\"Correct\" if re.fullmatch(r\"@[a-z0-9]{4,14}\", input()) else \"Incorrect\")"
   ],
   "metadata": {
    "collapsed": false,
    "pycharm": {
     "name": "#%%\n"
    }
   }
  },
  {
   "cell_type": "code",
   "execution_count": null,
   "outputs": [],
   "source": [
    "s = input()\n",
    "print('Correct' if s.startswith('@') and 4 < len(s) < 16 and s[1:].isalnum() and s == s.lower() else 'Incorrect')"
   ],
   "metadata": {
    "collapsed": false,
    "pycharm": {
     "name": "#%%\n"
    }
   }
  }
 ],
 "metadata": {
  "kernelspec": {
   "display_name": "Python 3",
   "language": "python",
   "name": "python3"
  },
  "language_info": {
   "codemirror_mode": {
    "name": "ipython",
    "version": 2
   },
   "file_extension": ".py",
   "mimetype": "text/x-python",
   "name": "python",
   "nbconvert_exporter": "python",
   "pygments_lexer": "ipython2",
   "version": "2.7.6"
  }
 },
 "nbformat": 4,
 "nbformat_minor": 0
}