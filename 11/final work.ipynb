﻿{
 "cells": [
  {
   "cell_type": "code",
   "execution_count": 1,
   "metadata": {
    "collapsed": true,
    "pycharm": {
     "name": "#%%\n"
    }
   },
   "outputs": [
    {
     "name": "stdout",
     "output_type": "stream",
     "text": [
      "[1, 2, 99, 4, 5]\n"
     ]
    }
   ],
   "source": [
    "numbers = [1, 2, 3, 4, 5]\n",
    "numbers[2] = 99\n",
    "print(numbers)"
   ]
  },
  {
   "cell_type": "code",
   "execution_count": 2,
   "outputs": [
    {
     "name": "stdout",
     "output_type": "stream",
     "text": [
      "[0, 1, 2]\n"
     ]
    }
   ],
   "source": [
    "numbers = list(range(3))\n",
    "print(numbers)"
   ],
   "metadata": {
    "collapsed": false,
    "pycharm": {
     "name": "#%%\n"
    }
   }
  },
  {
   "cell_type": "code",
   "execution_count": 3,
   "outputs": [
    {
     "name": "stdout",
     "output_type": "stream",
     "text": [
      "[10, 10, 10, 10, 10]\n"
     ]
    }
   ],
   "source": [
    "numbers = [10] * 5\n",
    "print(numbers)"
   ],
   "metadata": {
    "collapsed": false,
    "pycharm": {
     "name": "#%%\n"
    }
   }
  },
  {
   "cell_type": "code",
   "execution_count": 4,
   "outputs": [
    {
     "name": "stdout",
     "output_type": "stream",
     "text": [
      "1*3*5*7*9*"
     ]
    }
   ],
   "source": [
    "numbers = list(range(1, 10, 2))\n",
    "for i in numbers:\n",
    "    print(i, end='*')"
   ],
   "metadata": {
    "collapsed": false,
    "pycharm": {
     "name": "#%%\n"
    }
   }
  },
  {
   "cell_type": "code",
   "execution_count": 5,
   "outputs": [
    {
     "name": "stdout",
     "output_type": "stream",
     "text": [
      "4\n"
     ]
    }
   ],
   "source": [
    "numbers = [1, 2, 3, 4, 5]\n",
    "print(numbers[-2])"
   ],
   "metadata": {
    "collapsed": false,
    "pycharm": {
     "name": "#%%\n"
    }
   }
  },
  {
   "cell_type": "code",
   "execution_count": 6,
   "outputs": [
    {
     "name": "stdout",
     "output_type": "stream",
     "text": [
      "[1, 2, 3, 10, 20, 30]\n"
     ]
    }
   ],
   "source": [
    "numbers1 = [1, 2, 3]\n",
    "numbers2 = [10, 20, 30]\n",
    "numbers3 = numbers1 + numbers2\n",
    "print(numbers3)"
   ],
   "metadata": {
    "collapsed": false,
    "pycharm": {
     "name": "#%%\n"
    }
   }
  },
  {
   "cell_type": "code",
   "execution_count": 7,
   "outputs": [
    {
     "name": "stdout",
     "output_type": "stream",
     "text": [
      "[2, 3]\n"
     ]
    }
   ],
   "source": [
    "numbers = [1, 2, 3, 4, 5]\n",
    "my_list = numbers[1:3]\n",
    "print(my_list)"
   ],
   "metadata": {
    "collapsed": false,
    "pycharm": {
     "name": "#%%\n"
    }
   }
  },
  {
   "cell_type": "code",
   "execution_count": 8,
   "outputs": [
    {
     "name": "stdout",
     "output_type": "stream",
     "text": [
      "[2, 3, 4, 5]\n"
     ]
    }
   ],
   "source": [
    "numbers = [1, 2, 3, 4, 5]\n",
    "my_list = numbers[1:]\n",
    "print(my_list)"
   ],
   "metadata": {
    "collapsed": false,
    "pycharm": {
     "name": "#%%\n"
    }
   }
  },
  {
   "cell_type": "code",
   "execution_count": 9,
   "outputs": [
    {
     "name": "stdout",
     "output_type": "stream",
     "text": [
      "[1, 2, 3, 4]\n"
     ]
    }
   ],
   "source": [
    "numbers = [1, 2, 3, 4, 5]\n",
    "my_list = numbers[:-1]\n",
    "print(my_list)"
   ],
   "metadata": {
    "collapsed": false,
    "pycharm": {
     "name": "#%%\n"
    }
   }
  },
  {
   "cell_type": "code",
   "execution_count": 10,
   "outputs": [
    {
     "name": "stdout",
     "output_type": "stream",
     "text": [
      "[1, 2, 3, 4, 5]\n"
     ]
    }
   ],
   "source": [
    "numbers = [1, 2, 3, 4, 5]\n",
    "my_list = numbers[:]\n",
    "print(my_list)"
   ],
   "metadata": {
    "collapsed": false,
    "pycharm": {
     "name": "#%%\n"
    }
   }
  },
  {
   "cell_type": "code",
   "execution_count": 11,
   "outputs": [
    {
     "name": "stdout",
     "output_type": "stream",
     "text": [
      "Ceмья Джасмин: ['Джим', 'Джилл', 'Джон', 'Джасмин']\n"
     ]
    }
   ],
   "source": [
    "names = ['Джим', 'Джилл', 'Джон', 'Джасмин']\n",
    "if 'Джасмин' not in names:\n",
    "    print ('Не могу найти Джасмин.')\n",
    "else:\n",
    "    print('Ceмья Джасмин: ', end='')\n",
    "    print(names)"
   ],
   "metadata": {
    "collapsed": false,
    "pycharm": {
     "name": "#%%\n"
    }
   }
  },
  {
   "cell_type": "raw",
   "source": [
    "На вход программе подается четное число\n",
    "\n",
    "n,n≥2. Напишите программу, которая выводит список четных чисел\n",
    "\n",
    " [2, 4, 6, ..., n].\n",
    "\n",
    "Формат входных данных\n",
    "На вход программе подается четное натуральное число.\n",
    "\n",
    "Формат выходных данных\n",
    "Программа должна вывести текст в соответствии с условием задачи."
   ],
   "metadata": {
    "collapsed": false,
    "pycharm": {
     "name": "#%% raw\n"
    }
   }
  },
  {
   "cell_type": "code",
   "execution_count": null,
   "outputs": [],
   "source": [
    "# Чтение входного числа\n",
    "n = int(input())\n",
    "\n",
    "# Создание списка чётных чисел от 2 до n включительно\n",
    "even_numbers = list(range(2, n+1, 2))\n",
    "\n",
    "# Вывод списка\n",
    "print(even_numbers)"
   ],
   "metadata": {
    "collapsed": false,
    "pycharm": {
     "name": "#%%\n"
    }
   }
  },
  {
   "cell_type": "raw",
   "source": [
    "На вход программе подаются две строки текста, содержащие целые числа. Из данных строк формируются списки чисел L и M. Напишите программу, которая создает третий список, элементами которого являются суммы соответствующих элементов списков L и M. Далее программа должна вывести каждый элемент полученного списка на одной строке через 1 пробел.\n",
    "\n",
    "Формат входных данных\n",
    "На вход программе подаются две строки текста, содержащие целые числа, разделенные символом пробела.\n",
    "\n",
    "Формат выходных данных\n",
    "Программа должна вывести текст в соответствии с условием задачи.\n",
    "\n",
    "Примечание. Количество чисел в обеих строках одинаковое."
   ],
   "metadata": {
    "collapsed": false,
    "pycharm": {
     "name": "#%% raw\n"
    }
   }
  },
  {
   "cell_type": "raw",
   "source": [
    "- `input().split()` считывает строку и разбивает её на части по пробелу, возвращая список строк.\n",
    "- `map(int, input().split())` преобразует каждую строку списка в целое число.\n",
    "- `list(map(...))` преобразует результат `map` в список целых чисел.\n",
    "- `[L[i] + M[i] for i in range(len(L))]` создаёт список, где каждому элементу соответствует сумма элементов из списков `L` и `M`.\n",
    "- `' '.join(map(str, sum_list))` преобразует все элементы списка `sum_list` обратно в строки и объединяет их в одну строку, разделённую пробелами."
   ],
   "metadata": {
    "collapsed": false,
    "pycharm": {
     "name": "#%% raw\n"
    }
   }
  },
  {
   "cell_type": "code",
   "execution_count": null,
   "outputs": [],
   "source": [
    "# Чтение двух строк и преобразование их в списки целых чисел\n",
    "L = list(map(int, input().split()))\n",
    "M = list(map(int, input().split()))\n",
    "\n",
    "# Создание списка сумм соответствующих элементов списков L и M\n",
    "sum_list = [L[i] + M[i] for i in range(len(L))]\n",
    "\n",
    "# Вывод элементов полученного списка на одной строке через пробел\n",
    "print(' '.join(map(str, sum_list)))"
   ],
   "metadata": {
    "collapsed": false,
    "pycharm": {
     "name": "#%%\n"
    }
   }
  },
  {
   "cell_type": "raw",
   "source": [
    "На вход программе подается строка текста, содержащая натуральные числа. Напишите программу, которая вставляет между каждым числом знак +, а затем вычисляет сумму полученных чисел.\n",
    "\n",
    "Формат входных данных\n",
    "На вход программе подается строка текста, содержащая натуральные числа, разделенные символом пробела.\n",
    "\n",
    "Формат выходных данных\n",
    "Программа должна вывести текст в соответствии с условием задачи.\n",
    "\n",
    "Примечание. Строковый метод join() работает только со списком строк."
   ],
   "metadata": {
    "collapsed": false,
    "pycharm": {
     "name": "#%% raw\n"
    }
   }
  },
  {
   "cell_type": "raw",
   "source": [
    "- `input()` читает входную строку.\n",
    "- `split()` разбивает строку на список подстрок (чисел).\n",
    "- `\"+\".join(numbers)` объединяет список строк чисел через знак \"+\".\n",
    "- `map(int, numbers)` преобразует все элементы списка из строк в целые числа.\n",
    "- `sum()` вычисляет сумму чисел."
   ],
   "metadata": {
    "collapsed": false,
    "pycharm": {
     "name": "#%% raw\n"
    }
   }
  },
  {
   "cell_type": "code",
   "execution_count": null,
   "outputs": [],
   "source": [
    "# Чтение строки текста и разделение её на список чисел (в виде строк)\n",
    "numbers = input().split()\n",
    "\n",
    "# Вставка знака \"+\" между числами\n",
    "expression = \"+\".join(numbers)\n",
    "\n",
    "# Вычисление суммы и вывод результата\n",
    "sum_result = sum(map(int, numbers))\n",
    "\n",
    "# Вывод выражения и суммы\n",
    "print(expression, '=', sum_result, sep='')"
   ],
   "metadata": {
    "collapsed": false,
    "pycharm": {
     "name": "#%%\n"
    }
   }
  },
  {
   "cell_type": "raw",
   "source": [
    "На вход программе подается строка текста. Напишите программу, которая определяет, является ли введенная строка корректным телефонным номером. Строка текста является корректным телефонным номером, если она имеет формат:\n",
    "\n",
    "abc-def-hijk или\n",
    "7-abc-def-hijk,\n",
    "где a, b, c, d, e, f, h, i, j, k – цифры от 0 до 9.\n",
    "\n",
    "Формат входных данных\n",
    "На вход программе подается строка текста.\n",
    "\n",
    "Формат выходных данных\n",
    "Программа должна вывести «YES», если строка является корректным телефонным номером и «NO» в противном случае.\n",
    "\n",
    "Примечание. Телефонный номер должен содержать только цифры и символ -, а количество цифр в каждой группе должно быть правильным."
   ],
   "metadata": {
    "collapsed": false,
    "pycharm": {
     "name": "#%% raw\n"
    }
   }
  },
  {
   "cell_type": "raw",
   "source": [
    "1. Функция `is_valid_phone_number` разбивает входную строку на части, используя символ `-` как разделитель.\n",
    "2. Затем она проверяет:\n",
    "- Если строка состоит из трех частей (`abc-def-hijk`), то каждая часть должна иметь требуемую длину (3 цифры, 3 цифры и 4 цифры соответственно), и все части должны быть числовыми.\n",
    "- Если строка состоит из четырех частей (`7-abc-def-hijk`), то первая часть должна быть \"7\", а остальные части должны иметь соответствующие длины (3 цифры, 3 цифры и 4 цифры соответственно), и все части, кроме первой, должны быть числовыми.\n",
    "3. Возвращает `True`, если все условия выполнены, иначе `False`.\n",
    "4. После этого производится проверка на распознанный формат и выводится результат."
   ],
   "metadata": {
    "collapsed": false,
    "pycharm": {
     "name": "#%% raw\n"
    }
   }
  },
  {
   "cell_type": "code",
   "execution_count": null,
   "outputs": [],
   "source": [
    "def is_valid_phone_number(number):\n",
    "    parts = number.split('-')\n",
    "\n",
    "    # Проверка формата abc-def-hijk\n",
    "    if len(parts) == 3:\n",
    "        if len(parts[0]) == 3 and len(parts[1]) == 3 and len(parts[2]) == 4:\n",
    "            if parts[0].isdigit() and parts[1].isdigit() and parts[2].isdigit():\n",
    "                return True\n",
    "\n",
    "    # Проверка формата 7-abc-def-hijk\n",
    "    elif len(parts) == 4:\n",
    "        if parts[0] == '7':\n",
    "            if len(parts[1]) == 3 and len(parts[2]) == 3 and len(parts[3]) == 4:\n",
    "                if parts[1].isdigit() and parts[2].isdigit() and parts[3].isdigit():\n",
    "                    return True\n",
    "\n",
    "    return False\n",
    "\n",
    "# Чтение входной строки\n",
    "phone_number = input()\n",
    "\n",
    "# Проверка на корректность номера\n",
    "if is_valid_phone_number(phone_number):\n",
    "    print(\"YES\")\n",
    "else:\n",
    "    print(\"NO\")"
   ],
   "metadata": {
    "collapsed": false,
    "pycharm": {
     "name": "#%%\n"
    }
   }
  },
  {
   "cell_type": "raw",
   "source": [
    "На вход программе подается строка текста. Напишите программу, использующую списочное выражение, которая находит длину самого длинного слова.\n",
    "\n",
    "Формат входных данных\n",
    "На вход программе подается строка текста.\n",
    "\n",
    "Формат выходных данных\n",
    "Программа должна вывести текст в соответствии с условием задачи."
   ],
   "metadata": {
    "collapsed": false,
    "pycharm": {
     "name": "#%% raw\n"
    }
   }
  },
  {
   "cell_type": "raw",
   "source": [
    "- `input()` считывает входную строку.\n",
    "- `text.split()` разбивает строку на список слов.\n",
    "- `[len(word) for word in text.split()]` создаёт список длин этих слов.\n",
    "- `max(word_lengths)` находит максимальную длину слова в списке `word_lengths`.\n",
    "- `print(max_length)` выводит максимальную длину."
   ],
   "metadata": {
    "collapsed": false,
    "pycharm": {
     "name": "#%% raw\n"
    }
   }
  },
  {
   "cell_type": "code",
   "execution_count": null,
   "outputs": [],
   "source": [
    "# Чтение строки текста\n",
    "text = input()\n",
    "\n",
    "# Разделение строки на слова и вычисление длин слов\n",
    "word_lengths = [len(word) for word in text.split()]\n",
    "\n",
    "# Определение максимальной длины\n",
    "max_length = max(word_lengths)\n",
    "\n",
    "# Вывод результата\n",
    "print(max_length)"
   ],
   "metadata": {
    "collapsed": false,
    "pycharm": {
     "name": "#%%\n"
    }
   }
  },
  {
   "cell_type": "raw",
   "source": [
    "На вход программе подается строка текста. Напишите программу, использующую списочное выражение, которая преобразует каждое слово введенного текста в \"молодежный жаргон\" по следующему правилу:\n",
    "\n",
    "первая буква каждого слова удаляется и ставится в конец слова;\n",
    "затем в конец слова добавляется слог \"ки\".\n",
    "Формат входных данных\n",
    "На вход программе подается строка текста на русском языке.\n",
    "\n",
    "Формат выходных данных\n",
    "Программа должна вывести текст в соответствии с условием задачи."
   ],
   "metadata": {
    "collapsed": false,
    "pycharm": {
     "name": "#%% raw\n"
    }
   }
  },
  {
   "cell_type": "raw",
   "source": [
    "- `input(\"Введите строку: \")` считывает входную строку.\n",
    "- `text.split()` разбивает строку на список слов.\n",
    "- `[word[1:] + word[0] + 'ки' for word in text.split()]` создаёт новый список, где каждый элемент преобразован по правилу: удаление первой буквы, ее добавление в конец слова и добавление слога \"ки\".\n",
    "- `' '.join(...)` объединяет список преобразованных слов обратно в строку, разделяя их пробелами.\n",
    "- `print(jargon_text)` выводит полученный результат."
   ],
   "metadata": {
    "collapsed": false,
    "pycharm": {
     "name": "#%% raw\n"
    }
   }
  },
  {
   "cell_type": "code",
   "execution_count": null,
   "outputs": [],
   "source": [
    "# Чтение строки текста\n",
    "text = input()\n",
    "\n",
    "# Преобразование каждого слова в \"молодежный жаргон\" и объединение их обратно в строку\n",
    "jargon_text = ' '.join([word[1:] + word[0] + 'ки' for word in text.split()])\n",
    "\n",
    "# Вывод результата\n",
    "print(jargon_text)"
   ],
   "metadata": {
    "collapsed": false,
    "pycharm": {
     "name": "#%%\n"
    }
   }
  }
 ],
 "metadata": {
  "kernelspec": {
   "display_name": "Python 3",
   "language": "python",
   "name": "python3"
  },
  "language_info": {
   "codemirror_mode": {
    "name": "ipython",
    "version": 2
   },
   "file_extension": ".py",
   "mimetype": "text/x-python",
   "name": "python",
   "nbconvert_exporter": "python",
   "pygments_lexer": "ipython2",
   "version": "2.7.6"
  }
 },
 "nbformat": 4,
 "nbformat_minor": 0
}