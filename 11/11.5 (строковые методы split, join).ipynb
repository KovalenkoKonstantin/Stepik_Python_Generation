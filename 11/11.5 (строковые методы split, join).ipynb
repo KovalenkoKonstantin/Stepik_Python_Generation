﻿{
 "cells": [
  {
   "cell_type": "raw",
   "source": [
    "В предыдущем модуле мы детально изучили основные строковые методы, однако обошли стороной два важных: split() и join(), имеющих отношение к спискам. Они как бы противоположны по смыслу: метод split() разбивает строку по произвольному разделителю на список слов, а метод join() собирает строку из списка слов через заданный разделитель."
   ],
   "metadata": {
    "collapsed": false,
    "pycharm": {
     "name": "#%% raw\n"
    }
   }
  },
  {
   "cell_type": "raw",
   "source": [
    "Метод split() разбивает строку на слова, используя в качестве разделителя последовательность пробельных символов."
   ],
   "metadata": {
    "collapsed": false,
    "pycharm": {
     "name": "#%% raw\n"
    }
   }
  },
  {
   "cell_type": "code",
   "execution_count": 1,
   "outputs": [
    {
     "name": "stdout",
     "output_type": "stream",
     "text": [
      "['Python', 'is', 'the', 'most', 'powerful', 'language']\n"
     ]
    }
   ],
   "source": [
    "s = 'Python is the most powerful language'\n",
    "words = s.split()\n",
    "print(words)"
   ],
   "metadata": {
    "collapsed": false,
    "pycharm": {
     "name": "#%%\n"
    }
   }
  },
  {
   "cell_type": "raw",
   "source": [
    "Таким образом, вызов метода split() разбивает строку на слова и возвращает список, содержащий все слова."
   ],
   "metadata": {
    "collapsed": false,
    "pycharm": {
     "name": "#%% raw\n"
    }
   }
  },
  {
   "cell_type": "code",
   "execution_count": null,
   "outputs": [],
   "source": [
    "numbers = input().split()"
   ],
   "metadata": {
    "collapsed": false,
    "pycharm": {
     "name": "#%%\n"
    }
   }
  },
  {
   "cell_type": "raw",
   "source": [
    "Если при запуске этой программы ввести строку 1 2 3 4 5, то список numbers будет следующим  ['1', '2', '3', '4', '5']. Обратите внимание, что список будет состоять из строк, а не из чисел. Если требуется получить именно список чисел, то затем нужно элементы списка по одному преобразовать в числа:"
   ],
   "metadata": {
    "collapsed": false,
    "pycharm": {
     "name": "#%% raw\n"
    }
   }
  },
  {
   "cell_type": "code",
   "execution_count": null,
   "outputs": [],
   "source": [
    "numbers = input().split()\n",
    "for i in range(len(numbers)):\n",
    "    numbers[i] = int(numbers[i])"
   ],
   "metadata": {
    "collapsed": false,
    "pycharm": {
     "name": "#%%\n"
    }
   }
  },
  {
   "cell_type": "raw",
   "source": [
    "У метода split() есть необязательный параметр, который определяет, какой набор символов будет использоваться в качестве разделителя между элементами списка. Например, вызов метода split('.') вернет список, полученный разделением исходной строки по символу '.'."
   ],
   "metadata": {
    "collapsed": false,
    "pycharm": {
     "name": "#%% raw\n"
    }
   }
  },
  {
   "cell_type": "code",
   "execution_count": 2,
   "outputs": [
    {
     "name": "stdout",
     "output_type": "stream",
     "text": [
      "['192', '168', '1', '24']\n"
     ]
    }
   ],
   "source": [
    "ip = '192.168.1.24'\n",
    "numbers = ip.split('.')  # указываем явно разделитель\n",
    "print(numbers)"
   ],
   "metadata": {
    "collapsed": false,
    "pycharm": {
     "name": "#%%\n"
    }
   }
  },
  {
   "cell_type": "raw",
   "source": [
    "Метод join() собирает строку из элементов списка, используя в качестве разделителя строку, к которой применяется метод."
   ],
   "metadata": {
    "collapsed": false,
    "pycharm": {
     "name": "#%% raw\n"
    }
   }
  },
  {
   "cell_type": "code",
   "execution_count": 3,
   "outputs": [
    {
     "name": "stdout",
     "output_type": "stream",
     "text": [
      "Python is the most powerful language\n"
     ]
    }
   ],
   "source": [
    "words = ['Python', 'is', 'the', 'most', 'powerful', 'language']\n",
    "s = ' '.join(words)\n",
    "print(s)"
   ],
   "metadata": {
    "collapsed": false,
    "pycharm": {
     "name": "#%%\n"
    }
   }
  },
  {
   "cell_type": "raw",
   "source": [
    "Обратите внимание, все слова разделены одним пробелом, поскольку метод join() вызывался на строке, состоящей из одного символа пробела ' '."
   ],
   "metadata": {
    "collapsed": false,
    "pycharm": {
     "name": "#%% raw\n"
    }
   }
  },
  {
   "cell_type": "code",
   "execution_count": 4,
   "outputs": [
    {
     "name": "stdout",
     "output_type": "stream",
     "text": [
      "Мы*учим*язык*Python\n",
      "Мы-учим-язык-Python\n",
      "Мы?учим?язык?Python\n",
      "Мы!учим!язык!Python\n",
      "Мы*****учим*****язык*****Python\n",
      "МыabcучимabcязыкabcPython\n",
      "Мы123учим123язык123Python\n"
     ]
    }
   ],
   "source": [
    "words = ['Мы', 'учим', 'язык', 'Python']\n",
    "print('*'.join(words))\n",
    "print('-'.join(words))\n",
    "print('?'.join(words))\n",
    "print('!'.join(words))\n",
    "print('*****'.join(words))\n",
    "print('abc'.join(words))\n",
    "print('123'.join(words))"
   ],
   "metadata": {
    "collapsed": false,
    "pycharm": {
     "name": "#%%\n"
    }
   }
  },
  {
   "cell_type": "raw",
   "source": [
    "Строковый метод split() служит для преобразования строки в список, а метод join() — для преобразования списка в строку."
   ],
   "metadata": {
    "collapsed": false,
    "pycharm": {
     "name": "#%% raw\n"
    }
   }
  },
  {
   "cell_type": "raw",
   "source": [
    "Существует большая разница между результатами вызова методов s.split() и s.split('  '). Разница в поведении проявляется, когда строка содержит несколько пробелов между словами."
   ],
   "metadata": {
    "collapsed": false,
    "pycharm": {
     "name": "#%% raw\n"
    }
   }
  },
  {
   "cell_type": "code",
   "execution_count": 5,
   "outputs": [
    {
     "name": "stdout",
     "output_type": "stream",
     "text": [
      "['Python', 'is', 'the', 'most', 'powerful', 'language']\n",
      "['Python', '', '', '', 'is', '', '', 'the', '', 'most', '', 'powerful', '', 'language']\n"
     ]
    }
   ],
   "source": [
    "s = 'Python    is   the  most  powerful  language'\n",
    "words1 = s.split()\n",
    "words2 = s.split(' ')\n",
    "print(words1)\n",
    "print(words2)"
   ],
   "metadata": {
    "collapsed": false,
    "pycharm": {
     "name": "#%%\n"
    }
   }
  },
  {
   "cell_type": "raw",
   "source": [
    "Методы split() и join() являются строковыми методами. Следующий код приводит к ошибке:"
   ],
   "metadata": {
    "collapsed": false,
    "pycharm": {
     "name": "#%% raw\n"
    }
   }
  },
  {
   "cell_type": "code",
   "execution_count": 6,
   "outputs": [
    {
     "ename": "AttributeError",
     "evalue": "'list' object has no attribute 'split'",
     "output_type": "error",
     "traceback": [
      "\u001B[1;31m---------------------------------------------------------------------------\u001B[0m",
      "\u001B[1;31mAttributeError\u001B[0m                            Traceback (most recent call last)",
      "Cell \u001B[1;32mIn[6], line 1\u001B[0m\n\u001B[1;32m----> 1\u001B[0m \u001B[38;5;28mprint\u001B[39m(\u001B[43m[\u001B[49m\u001B[38;5;241;43m1\u001B[39;49m\u001B[43m,\u001B[49m\u001B[43m \u001B[49m\u001B[38;5;241;43m2\u001B[39;49m\u001B[43m]\u001B[49m\u001B[38;5;241;43m.\u001B[39;49m\u001B[43msplit\u001B[49m())\n\u001B[0;32m      2\u001B[0m \u001B[38;5;28mprint\u001B[39m([\u001B[38;5;241m1\u001B[39m, \u001B[38;5;241m2\u001B[39m]\u001B[38;5;241m.\u001B[39mjoin([\u001B[38;5;241m3\u001B[39m, \u001B[38;5;241m4\u001B[39m, \u001B[38;5;241m5\u001B[39m]))\n",
      "\u001B[1;31mAttributeError\u001B[0m: 'list' object has no attribute 'split'"
     ]
    }
   ],
   "source": [
    "print([1, 2].split())\n",
    "print([1, 2].join([3, 4, 5]))"
   ],
   "metadata": {
    "collapsed": false,
    "pycharm": {
     "name": "#%%\n"
    }
   }
  },
  {
   "cell_type": "raw",
   "source": [
    "Строковый метод join() работает только со списком строк. Следующий код приводит к ошибке:"
   ],
   "metadata": {
    "collapsed": false,
    "pycharm": {
     "name": "#%% raw\n"
    }
   }
  },
  {
   "cell_type": "code",
   "execution_count": 7,
   "outputs": [
    {
     "ename": "TypeError",
     "evalue": "sequence item 0: expected str instance, int found",
     "output_type": "error",
     "traceback": [
      "\u001B[1;31m---------------------------------------------------------------------------\u001B[0m",
      "\u001B[1;31mTypeError\u001B[0m                                 Traceback (most recent call last)",
      "Cell \u001B[1;32mIn[7], line 2\u001B[0m\n\u001B[0;32m      1\u001B[0m numbers \u001B[38;5;241m=\u001B[39m [\u001B[38;5;241m1\u001B[39m, \u001B[38;5;241m2\u001B[39m, \u001B[38;5;241m3\u001B[39m, \u001B[38;5;241m4\u001B[39m]  \u001B[38;5;66;03m# список чисел\u001B[39;00m\n\u001B[1;32m----> 2\u001B[0m s \u001B[38;5;241m=\u001B[39m \u001B[38;5;124;43m'\u001B[39;49m\u001B[38;5;124;43m*\u001B[39;49m\u001B[38;5;124;43m'\u001B[39;49m\u001B[38;5;241;43m.\u001B[39;49m\u001B[43mjoin\u001B[49m\u001B[43m(\u001B[49m\u001B[43mnumbers\u001B[49m\u001B[43m)\u001B[49m\n\u001B[0;32m      3\u001B[0m \u001B[38;5;28mprint\u001B[39m(s)\n",
      "\u001B[1;31mTypeError\u001B[0m: sequence item 0: expected str instance, int found"
     ]
    }
   ],
   "source": [
    "numbers = [1, 2, 3, 4]  # список чисел\n",
    "s = '*'.join(numbers)\n",
    "print(s)"
   ],
   "metadata": {
    "collapsed": false,
    "pycharm": {
     "name": "#%%\n"
    }
   }
  },
  {
   "cell_type": "raw",
   "source": [
    "На вход программе подается строка текста. Напишите программу, которая выводит слова введенной строки в столбик.\n",
    "\n",
    "Формат входных данных\n",
    "На вход программе подается строка текста.\n",
    "\n",
    "Формат выходных данных\n",
    "Программа должна вывести текст в соответствии с условием задачи."
   ],
   "metadata": {
    "collapsed": false,
    "pycharm": {
     "name": "#%% raw\n"
    }
   }
  },
  {
   "cell_type": "code",
   "execution_count": null,
   "outputs": [],
   "source": [
    "s = input()\n",
    "\n",
    "print(*s.split(), sep='\\n')"
   ],
   "metadata": {
    "collapsed": false,
    "pycharm": {
     "name": "#%%\n"
    }
   }
  },
  {
   "cell_type": "raw",
   "source": [
    "На вход программе подается строка текста, содержащая имя, отчество и фамилию человека. Напишите программу, которая выводит инициалы человека.\n",
    "\n",
    "Формат входных данных\n",
    "На вход программе подается строка текста, содержащая имя, отчество и фамилию человека.\n",
    "\n",
    "Формат выходных данных\n",
    "Программа должна вывести текст в соответствии с условием задачи."
   ],
   "metadata": {
    "collapsed": false,
    "pycharm": {
     "name": "#%% raw\n"
    }
   }
  },
  {
   "cell_type": "code",
   "execution_count": null,
   "outputs": [],
   "source": [
    "s = input().split()\n",
    "\n",
    "for i in s:\n",
    "    print(i[0] + '.', end='')"
   ],
   "metadata": {
    "collapsed": false,
    "pycharm": {
     "name": "#%%\n"
    }
   }
  },
  {
   "cell_type": "code",
   "execution_count": null,
   "outputs": [],
   "source": [
    "full_name = input().split()\n",
    "print(full_name[0][0], full_name[1][0], full_name[2][0], sep=\".\", end=\".\")"
   ],
   "metadata": {
    "collapsed": false,
    "pycharm": {
     "name": "#%%\n"
    }
   }
  },
  {
   "cell_type": "code",
   "execution_count": null,
   "outputs": [],
   "source": [
    "print('.'.join([name[0] for name in input().split()]), end='.')"
   ],
   "metadata": {
    "collapsed": false,
    "pycharm": {
     "name": "#%%\n"
    }
   }
  },
  {
   "cell_type": "raw",
   "source": [
    "В операционной системе Windows полное имя файла состоит из буквы диска, после которого ставится двоеточие и символ  \"\\\",  затем через такой же символ перечисляются подкаталоги (папки), в которых находится файл, в конце пишется имя файла (C:\\Windows\\System32\\calc.exe).\n",
    "\n",
    "На вход программе подается одна строка с корректным именем файла в операционной системе Windows. Напишите программу, которая разбирает строку на части, разделенные символом \"\\\". Каждую часть вывести в отдельной строке.\n",
    "\n",
    "Формат входных данных\n",
    "На вход программе подается одна строка.\n",
    "\n",
    "Формат выходных данных\n",
    "Программа должна вывести текст в соответствии с условием задачи.\n",
    "\n",
    "Примечание. В Python символ \\ обычно используется для создания специальных символьных последовательностей, которые представляют собой управляющие символы или экранированные последовательности. Например, \\n представляет символ новой строки, \\t представляет символ табуляции и т.д. Однако если символ \\ используется как часть строки, его следует экранировать, т.е. использовать два обратных слэша \\\\."
   ],
   "metadata": {
    "collapsed": false,
    "pycharm": {
     "name": "#%% raw\n"
    }
   }
  },
  {
   "cell_type": "code",
   "execution_count": null,
   "outputs": [],
   "source": [
    "print(*input().split('\\\\'), sep='\\n')"
   ],
   "metadata": {
    "collapsed": false,
    "pycharm": {
     "name": "#%%\n"
    }
   }
  },
  {
   "cell_type": "raw",
   "source": [
    "На вход программе подается строка текста, содержащая целые числа. Напишите программу, которая по заданным числам строит столбчатую диаграмму.\n",
    "\n",
    "Формат входных данных\n",
    "На вход программе подается строка текста, содержащая целые числа, разделенных символом пробела.\n",
    "\n",
    "Формат выходных данных\n",
    "Программа должна вывести столбчатую диаграмму."
   ],
   "metadata": {
    "collapsed": false,
    "pycharm": {
     "name": "#%% raw\n"
    }
   }
  },
  {
   "cell_type": "code",
   "execution_count": null,
   "outputs": [],
   "source": [
    "l = input().split()\n",
    "\n",
    "for i in l:\n",
    "    print('+' * int(i))"
   ],
   "metadata": {
    "collapsed": false,
    "pycharm": {
     "name": "#%%\n"
    }
   }
  },
  {
   "cell_type": "code",
   "execution_count": null,
   "outputs": [],
   "source": [
    "print(*['+' * int(c) for c in input().split()], sep='\\n')"
   ],
   "metadata": {
    "collapsed": false,
    "pycharm": {
     "name": "#%%\n"
    }
   }
  },
  {
   "cell_type": "code",
   "execution_count": null,
   "outputs": [],
   "source": [
    "[print('+' * int(x)) for x in input().split()]"
   ],
   "metadata": {
    "collapsed": false,
    "pycharm": {
     "name": "#%%\n"
    }
   }
  },
  {
   "cell_type": "code",
   "execution_count": null,
   "outputs": [],
   "source": [
    "print('\\n'.join(['+' * int(i) for i in input().split()]))"
   ],
   "metadata": {
    "collapsed": false,
    "pycharm": {
     "name": "#%%\n"
    }
   }
  },
  {
   "cell_type": "raw",
   "source": [
    "На вход программе подается строка текста, содержащая 4 целых неотрицательных числа, разделенных точкой. Напишите программу, которая определяет, является ли введенная строка текста корректным ip-адресом.\n",
    "\n",
    "Формат входных данных\n",
    "На вход программе подается строка текста, содержащая 4 целых числа, разделенных точкой.\n",
    "\n",
    "Формат выходных данных\n",
    "Программа должна вывести «ДА», если введеная строка является корректным ip-адресом, и «НЕТ» — в противном случае.\n",
    "\n",
    "Примечание. ip-адрес является корректным, если все 4 числа находятся в диапазоне от 0 до 255 включительно."
   ],
   "metadata": {
    "collapsed": false,
    "pycharm": {
     "name": "#%% raw\n"
    }
   }
  },
  {
   "cell_type": "code",
   "execution_count": null,
   "outputs": [],
   "source": [
    "def is_valid_ip_address(ip_address):\n",
    "    nums = ip_address.split('.')\n",
    "    if len(nums) != 4:\n",
    "        return 'НЕТ'\n",
    "    for num in nums:\n",
    "        if not num.isdigit() or not 0 <= int(num) <= 255:\n",
    "            return 'НЕТ'\n",
    "    return 'ДА'\n",
    "\n",
    "ip = input()\n",
    "print(is_valid_ip_address(ip))"
   ],
   "metadata": {
    "collapsed": false,
    "pycharm": {
     "name": "#%%\n"
    }
   }
  },
  {
   "cell_type": "raw",
   "source": [
    "На вход программе подается строка текста и строка-разделитель. Напишите программу, которая вставляет указанный разделитель между каждым символом введенной строки текста.\n",
    "\n",
    "Формат входных данных\n",
    "На вход программе подается строка текста и строка-разделитель, каждая на отдельной строке\n",
    "\n",
    "Формат выходных данных\n",
    "Программа должна вывести текст в соответствии с условием задачи."
   ],
   "metadata": {
    "collapsed": false,
    "pycharm": {
     "name": "#%% raw\n"
    }
   }
  },
  {
   "cell_type": "code",
   "execution_count": null,
   "outputs": [],
   "source": [
    "s = input()\n",
    "delimiter = input()\n",
    "\n",
    "#`list(s)` для разделения строки на отдельные символы\n",
    "chars = list(s)\n",
    "\n",
    "print(chars)\n",
    "print(delimiter.join(chars))"
   ],
   "metadata": {
    "collapsed": false,
    "pycharm": {
     "name": "#%%\n"
    }
   }
  },
  {
   "cell_type": "raw",
   "source": [
    "На вход программе подается строка текста, содержащая целые числа. Из данной строки формируется список чисел. Напишите программу, которая подсчитывает, сколько в полученном списке пар элементов, равных друг другу. Считается, что любые два элемента, равные друг другу образуют одну пару, которую необходимо посчитать.\n",
    "\n",
    "Формат входных данных\n",
    "На вход программе подается строка текста, содержащая целые числа, отделенные символом пробела.\n",
    "\n",
    "Формат выходных данных\n",
    "Программа должна вывести одно число – количество пар элементов, равных друг другу."
   ],
   "metadata": {
    "collapsed": false,
    "pycharm": {
     "name": "#%% raw\n"
    }
   }
  },
  {
   "cell_type": "code",
   "execution_count": null,
   "outputs": [],
   "source": [
    "numbers = input().split()  # Читаем ввод и разбиваем строку на числа\n",
    "pairs_count = 0  # Инициализируем счетчик пар\n",
    "\n",
    "# Преобразуем введенные числа в список целых чисел\n",
    "numbers_list = [int(num) for num in numbers]\n",
    "\n",
    "# Создаем словарь, в котором ключ - число, значение - количество вхождений числа в список\n",
    "numbers_dict = {}\n",
    "for num in numbers_list:\n",
    "    if num in numbers_dict:\n",
    "        numbers_dict[num] += 1\n",
    "    else:\n",
    "        numbers_dict[num] = 1\n",
    "\n",
    "# Подсчитываем количество пар\n",
    "for value in numbers_dict.values():\n",
    "    pairs_count += value * (value - 1) // 2\n",
    "\n",
    "print(pairs_count)"
   ],
   "metadata": {
    "collapsed": false,
    "pycharm": {
     "name": "#%%\n"
    }
   }
  },
  {
   "cell_type": "code",
   "execution_count": null,
   "outputs": [],
   "source": [
    "num, count = input().split(), 0\n",
    "\n",
    "for i in range(len(num)):\n",
    "    for j in range(i + 1, len(num)):\n",
    "        if num[i] == num[j]:\n",
    "            count += 1\n",
    "\n",
    "            \n",
    "print(count)"
   ],
   "metadata": {
    "collapsed": false,
    "pycharm": {
     "name": "#%%\n"
    }
   }
  }
 ],
 "metadata": {
  "kernelspec": {
   "display_name": "Python 3",
   "language": "python",
   "name": "python3"
  },
  "language_info": {
   "codemirror_mode": {
    "name": "ipython",
    "version": 2
   },
   "file_extension": ".py",
   "mimetype": "text/x-python",
   "name": "python",
   "nbconvert_exporter": "python",
   "pygments_lexer": "ipython2",
   "version": "2.7.6"
  }
 },
 "nbformat": 4,
 "nbformat_minor": 0
}