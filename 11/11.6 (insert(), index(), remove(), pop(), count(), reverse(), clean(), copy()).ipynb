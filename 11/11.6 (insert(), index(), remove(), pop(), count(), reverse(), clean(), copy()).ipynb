﻿{
 "cells": [
  {
   "cell_type": "raw",
   "source": [
    "Метод insert() позволяет вставлять значение в список в заданной позиции. В него передается два аргумента:\n",
    "\n",
    "index: индекс, задающий место вставки значения;\n",
    "value: значение, которое требуется вставить."
   ],
   "metadata": {
    "collapsed": false,
    "pycharm": {
     "name": "#%% raw\n"
    }
   }
  },
  {
   "cell_type": "raw",
   "source": [
    "Когда значение вставляется в список, список расширяется в размере, чтобы разместить новое значение. Значение, которое ранее находилось в заданной индексной позиции, и все элементы после него сдвигаются на одну позицию к концу списка."
   ],
   "metadata": {
    "collapsed": false,
    "pycharm": {
     "name": "#%% raw\n"
    }
   }
  },
  {
   "cell_type": "code",
   "execution_count": 2,
   "outputs": [
    {
     "name": "stdout",
     "output_type": "stream",
     "text": [
      "['Gvido', 'Roman', 'Timur']\n",
      "['Anders', 'Gvido', 'Roman', 'Timur']\n",
      "['Anders', 'Gvido', 'Roman', 'Josef', 'Timur']\n"
     ]
    }
   ],
   "source": [
    "names = ['Gvido', 'Roman' , 'Timur']\n",
    "print(names)\n",
    "names.insert(0, 'Anders')\n",
    "print(names)\n",
    "names.insert(3, 'Josef')\n",
    "print(names)"
   ],
   "metadata": {
    "collapsed": false,
    "pycharm": {
     "name": "#%%\n"
    }
   }
  },
  {
   "cell_type": "raw",
   "source": [
    "Если указан недопустимый индекс, то во время выполнения программы не происходит ошибки. Если задан индекс за пределами конца списка, то значение будет добавлено в конец списка. Если применен отрицательный индекс, который указывает на недопустимую позицию, то значение будет вставлено в начало списка."
   ],
   "metadata": {
    "collapsed": false,
    "pycharm": {
     "name": "#%% raw\n"
    }
   }
  },
  {
   "cell_type": "raw",
   "source": [
    "Метод index() возвращает индекс первого элемента, значение которого равняется переданному в метод значению. Таким образом, в метод передается один параметр:\n",
    "\n",
    "value: значение, индекс которого требуется найти."
   ],
   "metadata": {
    "collapsed": false,
    "pycharm": {
     "name": "#%% raw\n"
    }
   }
  },
  {
   "cell_type": "raw",
   "source": [
    "Если элемент в списке не найден, то во время выполнения происходит ошибка."
   ],
   "metadata": {
    "collapsed": false,
    "pycharm": {
     "name": "#%% raw\n"
    }
   }
  },
  {
   "cell_type": "code",
   "execution_count": 3,
   "outputs": [
    {
     "name": "stdout",
     "output_type": "stream",
     "text": [
      "2\n"
     ]
    }
   ],
   "source": [
    "names = ['Gvido', 'Roman' , 'Timur']\n",
    "position = names.index('Timur')\n",
    "print(position)"
   ],
   "metadata": {
    "collapsed": false,
    "pycharm": {
     "name": "#%%\n"
    }
   }
  },
  {
   "cell_type": "code",
   "execution_count": 4,
   "outputs": [
    {
     "ename": "ValueError",
     "evalue": "'Anders' is not in list",
     "output_type": "error",
     "traceback": [
      "\u001B[1;31m---------------------------------------------------------------------------\u001B[0m",
      "\u001B[1;31mValueError\u001B[0m                                Traceback (most recent call last)",
      "Cell \u001B[1;32mIn[4], line 2\u001B[0m\n\u001B[0;32m      1\u001B[0m names \u001B[38;5;241m=\u001B[39m [\u001B[38;5;124m'\u001B[39m\u001B[38;5;124mGvido\u001B[39m\u001B[38;5;124m'\u001B[39m, \u001B[38;5;124m'\u001B[39m\u001B[38;5;124mRoman\u001B[39m\u001B[38;5;124m'\u001B[39m , \u001B[38;5;124m'\u001B[39m\u001B[38;5;124mTimur\u001B[39m\u001B[38;5;124m'\u001B[39m]\n\u001B[1;32m----> 2\u001B[0m position \u001B[38;5;241m=\u001B[39m \u001B[43mnames\u001B[49m\u001B[38;5;241;43m.\u001B[39;49m\u001B[43mindex\u001B[49m\u001B[43m(\u001B[49m\u001B[38;5;124;43m'\u001B[39;49m\u001B[38;5;124;43mAnders\u001B[39;49m\u001B[38;5;124;43m'\u001B[39;49m\u001B[43m)\u001B[49m\n\u001B[0;32m      3\u001B[0m \u001B[38;5;28mprint\u001B[39m(position)\n",
      "\u001B[1;31mValueError\u001B[0m: 'Anders' is not in list"
     ]
    }
   ],
   "source": [
    "names = ['Gvido', 'Roman' , 'Timur']\n",
    "position = names.index('Anders')\n",
    "print(position)"
   ],
   "metadata": {
    "collapsed": false,
    "pycharm": {
     "name": "#%%\n"
    }
   }
  },
  {
   "cell_type": "raw",
   "source": [
    "Чтобы избежать таких ошибок, можно использовать метод index() вместе с оператором принадлежности in:"
   ],
   "metadata": {
    "collapsed": false,
    "pycharm": {
     "name": "#%% raw\n"
    }
   }
  },
  {
   "cell_type": "code",
   "execution_count": 5,
   "outputs": [
    {
     "name": "stdout",
     "output_type": "stream",
     "text": [
      "Такого значения нет в списке\n"
     ]
    }
   ],
   "source": [
    "names = ['Gvido', 'Roman' , 'Timur']\n",
    "if 'Anders' in names:\n",
    "    position = names.index('Anders')\n",
    "    print(position)\n",
    "else:\n",
    "    print('Такого значения нет в списке')"
   ],
   "metadata": {
    "collapsed": false,
    "pycharm": {
     "name": "#%%\n"
    }
   }
  },
  {
   "cell_type": "raw",
   "source": [
    "Метод remove() удаляет первый элемент, значение которого равняется переданному в метод значению. В метод передается один параметр:\n",
    "\n",
    "value: значение, которое требуется удалить.\n",
    "Метод уменьшает размер списка на один элемент. Все элементы после удаленного элемента смещаются на одну позицию к началу списка. Если элемент в списке не найден, то во время выполнения происходит ошибка."
   ],
   "metadata": {
    "collapsed": false,
    "pycharm": {
     "name": "#%% raw\n"
    }
   }
  },
  {
   "cell_type": "code",
   "execution_count": 6,
   "outputs": [
    {
     "name": "stdout",
     "output_type": "stream",
     "text": [
      "['Рис', 'Курица', 'Рыба', 'Брокколи', 'Рис']\n",
      "['Курица', 'Рыба', 'Брокколи', 'Рис']\n"
     ]
    }
   ],
   "source": [
    "food = ['Рис', 'Курица', 'Рыба', 'Брокколи', 'Рис']\n",
    "print(food)\n",
    "food.remove('Рис')\n",
    "print(food)"
   ],
   "metadata": {
    "collapsed": false,
    "pycharm": {
     "name": "#%%\n"
    }
   }
  },
  {
   "cell_type": "raw",
   "source": [
    "метод remove() удаляет только первый элемент с указанным значением. Все последующие его вхождения остаются в списке. Чтобы удалить все вхождения нужно использовать цикл while в связке с оператором принадлежности in и методом remove."
   ],
   "metadata": {
    "collapsed": false,
    "pycharm": {
     "name": "#%% raw\n"
    }
   }
  },
  {
   "cell_type": "code",
   "execution_count": 7,
   "outputs": [
    {
     "name": "stdout",
     "output_type": "stream",
     "text": [
      "['Рис', 'Курица', 'Рыба', 'Брокколи', 'Рис']\n",
      "['Курица', 'Рыба', 'Брокколи']\n"
     ]
    }
   ],
   "source": [
    "food = ['Рис', 'Курица', 'Рыба', 'Брокколи', 'Рис']\n",
    "print(food)\n",
    "\n",
    "while 'Рис' in food:\n",
    "    food.remove('Рис')\n",
    "\n",
    "print(food)"
   ],
   "metadata": {
    "collapsed": false,
    "pycharm": {
     "name": "#%%\n"
    }
   }
  },
  {
   "cell_type": "raw",
   "source": [
    "Метод pop() удаляет элемент по указанному индексу и возвращает его. В метод pop() передается один необязательный аргумент:\n",
    "\n",
    "index: индекс элемента, который требуется удалить.\n",
    "Если индекс не указан, то метод удаляет и возвращает последний элемент списка. Если список пуст или указан индекс за пределами диапазона, то во время выполнения происходит ошибка."
   ],
   "metadata": {
    "collapsed": false,
    "pycharm": {
     "name": "#%% raw\n"
    }
   }
  },
  {
   "cell_type": "code",
   "execution_count": 8,
   "outputs": [
    {
     "name": "stdout",
     "output_type": "stream",
     "text": [
      "Roman\n",
      "['Gvido', 'Timur']\n"
     ]
    }
   ],
   "source": [
    "names = ['Gvido', 'Roman' , 'Timur']\n",
    "item = names.pop(1)\n",
    "print(item)\n",
    "print(names)"
   ],
   "metadata": {
    "collapsed": false,
    "pycharm": {
     "name": "#%%\n"
    }
   }
  },
  {
   "cell_type": "raw",
   "source": [
    "Метод count() возвращает количество элементов в списке, значения которых равны переданному в метод значению.\n",
    "\n",
    "Таким образом, в метод передается один параметр:\n",
    "\n",
    "value: значение, количество элементов, равных которому,  нужно посчитать.\n",
    "Если значение в списке не найдено, то метод возвращает 0."
   ],
   "metadata": {
    "collapsed": false,
    "pycharm": {
     "name": "#%% raw\n"
    }
   }
  },
  {
   "cell_type": "code",
   "execution_count": 9,
   "outputs": [
    {
     "name": "stdout",
     "output_type": "stream",
     "text": [
      "3\n",
      "1\n",
      "0\n"
     ]
    }
   ],
   "source": [
    "names = ['Timur', 'Gvido', 'Roman', 'Timur', 'Anders', 'Timur']\n",
    "cnt1 = names.count('Timur')\n",
    "cnt2 = names.count('Gvido')\n",
    "cnt3 = names.count('Josef')\n",
    "\n",
    "print(cnt1)\n",
    "print(cnt2)\n",
    "print(cnt3)"
   ],
   "metadata": {
    "collapsed": false,
    "pycharm": {
     "name": "#%%\n"
    }
   }
  },
  {
   "cell_type": "raw",
   "source": [
    "Метод reverse() инвертирует порядок следования значений в списке, то есть меняет его на противоположный."
   ],
   "metadata": {
    "collapsed": false,
    "pycharm": {
     "name": "#%% raw\n"
    }
   }
  },
  {
   "cell_type": "code",
   "execution_count": 10,
   "outputs": [
    {
     "name": "stdout",
     "output_type": "stream",
     "text": [
      "['Timur', 'Roman', 'Gvido']\n"
     ]
    }
   ],
   "source": [
    "names = ['Gvido', 'Roman' , 'Timur']\n",
    "names.reverse()\n",
    "print(names)"
   ],
   "metadata": {
    "collapsed": false,
    "pycharm": {
     "name": "#%%\n"
    }
   }
  },
  {
   "cell_type": "raw",
   "source": [
    "Существует большая разница между вызовом метода names.reverse() и использованием среза names[::-1]. Метод reverse() меняет порядок элементов на обратный в текущем списке, а срез создает копию списка, в котором элементы следуют в обратном порядке."
   ],
   "metadata": {
    "collapsed": false,
    "pycharm": {
     "name": "#%% raw\n"
    }
   }
  },
  {
   "cell_type": "raw",
   "source": [
    "Метод clear() удаляет все элементы из списка."
   ],
   "metadata": {
    "collapsed": false,
    "pycharm": {
     "name": "#%% raw\n"
    }
   }
  },
  {
   "cell_type": "code",
   "execution_count": 11,
   "outputs": [
    {
     "name": "stdout",
     "output_type": "stream",
     "text": [
      "[]\n"
     ]
    }
   ],
   "source": [
    "names = ['Gvido', 'Roman' , 'Timur']\n",
    "names.clear()\n",
    "print(names)"
   ],
   "metadata": {
    "collapsed": false,
    "pycharm": {
     "name": "#%%\n"
    }
   }
  },
  {
   "cell_type": "raw",
   "source": [
    "Метод copy() создает поверхностную копию списка."
   ],
   "metadata": {
    "collapsed": false,
    "pycharm": {
     "name": "#%% raw\n"
    }
   }
  },
  {
   "cell_type": "code",
   "execution_count": 12,
   "outputs": [
    {
     "name": "stdout",
     "output_type": "stream",
     "text": [
      "['Gvido', 'Roman', 'Timur']\n",
      "['Gvido', 'Roman', 'Timur']\n"
     ]
    }
   ],
   "source": [
    "names = ['Gvido', 'Roman' , 'Timur']\n",
    "names_copy = names.copy()              # создаем поверхностную копию списка names\n",
    "\n",
    "print(names)\n",
    "print(names_copy)"
   ],
   "metadata": {
    "collapsed": false,
    "pycharm": {
     "name": "#%%\n"
    }
   }
  },
  {
   "cell_type": "raw",
   "source": [
    "Аналогичного результата можно достичь с помощью срезов или функции list():"
   ],
   "metadata": {
    "collapsed": false,
    "pycharm": {
     "name": "#%% raw\n"
    }
   }
  },
  {
   "cell_type": "code",
   "execution_count": 13,
   "outputs": [],
   "source": [
    "names = ['Gvido', 'Roman' , 'Timur']\n",
    "names_copy1 = list(names)             # создаем поверхностную копию с помощью функции list()\n",
    "names_copy2 = names[:]                # создаем поверхностную копию с помощью среза от начала до конца"
   ],
   "metadata": {
    "collapsed": false,
    "pycharm": {
     "name": "#%%\n"
    }
   }
  },
  {
   "cell_type": "raw",
   "source": [
    "Существует большая разница в работе строковых и списочных методов. Строковые методы не изменяют содержимого объекта к которому они применяются, а возвращают новое значение. Списочные методы, напротив, меняют содержимое объекта к которому применяются."
   ],
   "metadata": {
    "collapsed": false,
    "pycharm": {
     "name": "#%% raw\n"
    }
   }
  },
  {
   "cell_type": "raw",
   "source": [
    "Дополните приведённый ниже код, чтобы он:\n",
    "\n",
    "Заменил второй (по порядку) элемент списка на 17;\n",
    "Добавил числа 4, 5 и 6 в конец списка;\n",
    "Удалил первый (по порядку) элемент списка;\n",
    "Удвоил список;\n",
    "Вставил число 25 по индексу 3;\n",
    "Вывел список с помощью функции print()\n",
    "Примечание. Под удвоением списка мы понимаем добавление к исходному списку всех его элементов, сохраняя порядок. Например, при удвоении списка ['py', 'gen'] мы получаем список ['py', 'gen', 'py', 'gen']."
   ],
   "metadata": {
    "collapsed": false,
    "pycharm": {
     "name": "#%% raw\n"
    }
   }
  },
  {
   "cell_type": "code",
   "execution_count": null,
   "outputs": [],
   "source": [
    "numbers = [8, 9, 10, 11]\n",
    "numbers[1] = 17\n",
    "numbers.extend([4, 5, 6])\n",
    "del numbers[0]\n",
    "numbers.extend(numbers)\n",
    "numbers.insert(3, 25)\n",
    "print(numbers)"
   ],
   "metadata": {
    "collapsed": false,
    "pycharm": {
     "name": "#%%\n"
    }
   }
  },
  {
   "cell_type": "raw",
   "source": [
    "На вход программе подается строка текста, содержащая различные натуральные числа. Вам необходимо переставить максимальный и минимальный элементы местами и вывести измененную строку.\n",
    "\n",
    "Формат входных данных\n",
    "На вход программе подается строка текста, содержащая различные натуральные числа, разделенные символом пробела.\n",
    "\n",
    "Формат выходных данных\n",
    "Программа должна вывести текст в соответствии с условием задачи.\n",
    "\n",
    "Примечание. Используйте подходящие встроенные функции и списочные методы."
   ],
   "metadata": {
    "collapsed": false,
    "pycharm": {
     "name": "#%% raw\n"
    }
   }
  },
  {
   "cell_type": "code",
   "execution_count": null,
   "outputs": [],
   "source": [
    "s = input().split()\n",
    "# Конвертируем строки в числа для корректного сравнения\n",
    "s = [int(i) for i in s]\n",
    "print(s)\n",
    "ma = s.index(max(s))\n",
    "mi = s.index(min(s))\n",
    "s[ma], s[mi] = s[mi], s[ma]\n",
    "print(s)\n",
    "print(*s, end=' ')"
   ],
   "metadata": {
    "collapsed": false,
    "pycharm": {
     "name": "#%%\n"
    }
   }
  },
  {
   "cell_type": "raw",
   "source": [
    "На вход программе подается строка, содержащая английский текст. Напишите программу, которая подсчитывает общее количество артиклей: 'a', 'an', 'the'.\n",
    "\n",
    "Формат входных данных\n",
    "На вход программе подается строка, содержащая английский текст. Слова текста разделены символом пробела.\n",
    "\n",
    "Формат выходных данных\n",
    "Программа должна вывести общее количество артиклей 'a', 'an', 'the' вместе с поясняющим текстом.\n",
    "\n",
    "Примечание. Артикли могут начинаться с заглавной буквы 'A', 'An', 'The'."
   ],
   "metadata": {
    "collapsed": false,
    "pycharm": {
     "name": "#%% raw\n"
    }
   }
  },
  {
   "cell_type": "code",
   "execution_count": 17,
   "outputs": [
    {
     "name": "stdout",
     "output_type": "stream",
     "text": [
      "Общее количество артиклей: 7\n",
      "0.00018249987624585629\n"
     ]
    }
   ],
   "source": [
    "import time\n",
    "# start_time = time.time()\n",
    "start_time = time.perf_counter()\n",
    "# s = input().lower().split()\n",
    "s = 'William Shakespeare was born in the town of Stratford, England, in the year 1564. When he was a young man, Shakespeare moved to the city of London, where he began writing plays. His plays were soon very successful, and were enjoyed both by the common people of London and also by the rich and famous. In addition to his plays, Shakespeare wrote many short poems and a few longer poems. Like his plays, these poems are still famous today.'.lower().split()\n",
    "count = 0\n",
    "\n",
    "for i in s:\n",
    "    if i in ('a', 'an', 'the'):\n",
    "        count += 1\n",
    "\n",
    "print('Общее количество артиклей:', count)\n",
    "# end_time = time.time()\n",
    "end_time = time.perf_counter()\n",
    "print(end_time - start_time)"
   ],
   "metadata": {
    "collapsed": false,
    "pycharm": {
     "name": "#%%\n"
    }
   }
  },
  {
   "cell_type": "code",
   "execution_count": null,
   "outputs": [],
   "source": [
    "seq = input().lower().split()\n",
    "res = seq.count(\"a\") + seq.count(\"an\") + seq.count(\"the\")\n",
    "\n",
    "print(f\"Общее количество артиклей: {res}\")"
   ],
   "metadata": {
    "collapsed": false,
    "pycharm": {
     "name": "#%%\n"
    }
   }
  },
  {
   "cell_type": "code",
   "execution_count": 18,
   "outputs": [
    {
     "name": "stdout",
     "output_type": "stream",
     "text": [
      "Общее количество артиклей: 7\n",
      "0.0001401000190526247\n"
     ]
    }
   ],
   "source": [
    "import time\n",
    "# start_time = time.time()\n",
    "start_time = time.perf_counter()\n",
    "# s = input().lower().split()\n",
    "s = 'William Shakespeare was born in the town of Stratford, England, in the year 1564. When he was a young man, Shakespeare moved to the city of London, where he began writing plays. His plays were soon very successful, and were enjoyed both by the common people of London and also by the rich and famous. In addition to his plays, Shakespeare wrote many short poems and a few longer poems. Like his plays, these poems are still famous today.'.lower().split()\n",
    "print(f\"Общее количество артиклей: {s.count('a') + s.count('an') + s.count('the')}\")\n",
    "# end_time = time.time()\n",
    "end_time = time.perf_counter()\n",
    "print(end_time - start_time)"
   ],
   "metadata": {
    "collapsed": false,
    "pycharm": {
     "name": "#%%\n"
    }
   }
  },
  {
   "cell_type": "code",
   "execution_count": null,
   "outputs": [],
   "source": [
    "# Если строка i есть в кортеже пишем 1, продолжаем до конца текста, считаем сумму единиц.\n",
    "print('Общее количество артиклей:', sum([1 for i in input().split() if i.lower() in ('a', 'an', 'the')]))"
   ],
   "metadata": {
    "collapsed": false,
    "pycharm": {
     "name": "#%%\n"
    }
   }
  },
  {
   "cell_type": "code",
   "execution_count": null,
   "outputs": [],
   "source": [
    "print('Общее количество артиклей:', sum(i in ('a', 'an', 'the') for i in input().lower().split()))"
   ],
   "metadata": {
    "collapsed": false,
    "pycharm": {
     "name": "#%%\n"
    }
   }
  },
  {
   "cell_type": "raw",
   "source": [
    "Немалоизвестный в пустошах Мохаве Курьер забрел в Хидден-Вэли – секретный бункер Братства Стали и любезно соглашается помочь им в решении их проблем. Одной из такой проблем являлся странный компьютерный вирус, который проявлялся в виде появления комментариев к программам на терминалах Братства Стали. Известно, что программисты Братства никогда не оставляют комментарии к коду и пишут программы на Python, поэтому удаление всех этих комментариев никак не навредит им. Помогите писцу Ибсену удалить все комментарии из программы.\n",
    "\n",
    "Формат входных данных\n",
    "На первой строке вводится символ решётки и сразу же натуральное число\n",
    "𝑛\n",
    "n — количество строк в программе, не считая первой. Далее следует\n",
    "𝑛\n",
    "n строк кода.\n",
    "\n",
    "Формат выходных данных\n",
    "Нужно вывести те же строки, но удалить комментарии и символы пустого пространства в конце строк. Пустую строку вместо первой строки ввода выводить не надо.\n",
    "\n",
    "Примечание. Обращайте внимание на лишние пробелы в конце строк. Проверяющая система не пропустит ваше решение с ними."
   ],
   "metadata": {
    "collapsed": false,
    "pycharm": {
     "name": "#%% raw\n"
    }
   }
  },
  {
   "cell_type": "code",
   "execution_count": null,
   "outputs": [],
   "source": [
    "s = input()\n",
    "n = int(s[1:])\n",
    "\n",
    "for i in range(n):\n",
    "    s1 = input()\n",
    "    # Разделяем строку по символу '#', максимальное количество разбиений - 1\n",
    "    s1 = s1.rsplit('#', 1)\n",
    "    # Удаляем пробелы справа от первой части перед символом '#'\n",
    "    s1_part = s1[0].rstrip()\n",
    "    print(s1_part[0])"
   ],
   "metadata": {
    "collapsed": false,
    "pycharm": {
     "name": "#%%\n"
    }
   }
  },
  {
   "cell_type": "raw",
   "source": [
    "В Python списки имеют встроенный метод sort(), который сортирует элементы списка по возрастанию или убыванию."
   ],
   "metadata": {
    "collapsed": false,
    "pycharm": {
     "name": "#%% raw\n"
    }
   }
  },
  {
   "cell_type": "code",
   "execution_count": 19,
   "outputs": [
    {
     "name": "stdout",
     "output_type": "stream",
     "text": [
      "Отсортированный список: [-67, -3, -2, 0, 1, 6, 7, 8, 9, 12, 34, 45, 99, 1000]\n"
     ]
    }
   ],
   "source": [
    "a = [1, 7, -3, 9, 0, -67, 34, 12, 45, 1000, 6,  8, -2, 99]\n",
    "a.sort()\n",
    "print('Отсортированный список:', a)"
   ],
   "metadata": {
    "collapsed": false,
    "pycharm": {
     "name": "#%%\n"
    }
   }
  },
  {
   "cell_type": "raw",
   "source": [
    "По умолчанию метод sort() сортирует список по возрастанию. Если требуется отсортировать список по убыванию, необходимо явно указать параметр reverse = True"
   ],
   "metadata": {
    "collapsed": false,
    "pycharm": {
     "name": "#%% raw\n"
    }
   }
  },
  {
   "cell_type": "code",
   "execution_count": 20,
   "outputs": [
    {
     "name": "stdout",
     "output_type": "stream",
     "text": [
      "Отсортированный список: [1000, 99, 45, 34, 12, 9, 8, 7, 6, 1, 0, -2, -3, -67]\n"
     ]
    }
   ],
   "source": [
    "a = [1, 7, -3, 9, 0, -67, 34, 12, 45, 1000, 6,  8, -2, 99]\n",
    "a.sort(reverse=True)  # сортируем по убыванию\n",
    "print('Отсортированный список:', a)"
   ],
   "metadata": {
    "collapsed": false,
    "pycharm": {
     "name": "#%%\n"
    }
   }
  },
  {
   "cell_type": "raw",
   "source": [
    "С помощью метода sort() можно сортировать списки содержащие не только числа, но и строки. В таком случае элементы списка сортируются в соответствии с лексикографическим порядком."
   ],
   "metadata": {
    "collapsed": false,
    "pycharm": {
     "name": "#%% raw\n"
    }
   }
  },
  {
   "cell_type": "code",
   "execution_count": 21,
   "outputs": [
    {
     "name": "stdout",
     "output_type": "stream",
     "text": [
      "Отсортированный список: ['альфа', 'бета', 'гамма', 'дельта']\n"
     ]
    }
   ],
   "source": [
    "a = ['бета', 'альфа', 'дельта', 'гамма']\n",
    "a.sort()\n",
    "print('Отсортированный список:', a)"
   ],
   "metadata": {
    "collapsed": false,
    "pycharm": {
     "name": "#%%\n"
    }
   }
  },
  {
   "cell_type": "raw",
   "source": [
    "Метод sort() использует алгоритм Timsort."
   ],
   "metadata": {
    "collapsed": false,
    "pycharm": {
     "name": "#%% raw\n"
    }
   }
  },
  {
   "cell_type": "raw",
   "source": [
    "Timsort — гибридный алгоритм сортировки. Гибридный, потому что сочетает сортировку вставками и сортировку слиянием. Опубликован в 2002 году Тимом Петерсом. В настоящее время является стандартным алгоритмом[1] сортировки в Python, OpenJDK 7[2], Apple Swift Standard Library 5[3] и реализован в Android JDK 1.5[4]. Основная идея алгоритма заключается в использовании наблюдения, согласно которому на практике сортируемые (упорядочиваемые) массивы данных часто содержат отсортированные (упорядоченные) подмассивы. На таких данных алгоритм timsort сравнительно быстрее некоторых алгоритмов сортировки[5]."
   ],
   "metadata": {
    "collapsed": false,
    "pycharm": {
     "name": "#%% raw\n"
    }
   }
  },
  {
   "cell_type": "raw",
   "source": [
    "На вход программе подается строка текста, содержащая целые числа. Из данной строки формируется список чисел. Напишите программу, которая сортирует и выводит данный список сначала по возрастанию, а затем по убыванию.\n",
    "\n",
    "Формат входных данных\n",
    "На вход программе подается строка текста, содержащая целые числа, разделенные символом пробела.\n",
    "\n",
    "Формат выходных данных\n",
    "Программа должна вывести две строки текста в соответствии с условием задачи."
   ],
   "metadata": {
    "collapsed": false,
    "pycharm": {
     "name": "#%% raw\n"
    }
   }
  },
  {
   "cell_type": "code",
   "execution_count": null,
   "outputs": [],
   "source": [
    "s = input().split()\n",
    "\n",
    "# Конвертируем строки в числа для корректного сравнения\n",
    "s = [int(i) for i in s]\n",
    "\n",
    "s.sort()\n",
    "print(*s)\n",
    "s.sort(reverse=True)\n",
    "print(*s)"
   ],
   "metadata": {
    "collapsed": false,
    "pycharm": {
     "name": "#%%\n"
    }
   }
  }
 ],
 "metadata": {
  "kernelspec": {
   "display_name": "Python 3",
   "language": "python",
   "name": "python3"
  },
  "language_info": {
   "codemirror_mode": {
    "name": "ipython",
    "version": 2
   },
   "file_extension": ".py",
   "mimetype": "text/x-python",
   "name": "python",
   "nbconvert_exporter": "python",
   "pygments_lexer": "ipython2",
   "version": "2.7.6"
  }
 },
 "nbformat": 4,
 "nbformat_minor": 0
}