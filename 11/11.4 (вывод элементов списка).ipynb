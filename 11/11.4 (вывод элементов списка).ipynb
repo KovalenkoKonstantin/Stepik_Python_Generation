﻿{
 "cells": [
  {
   "cell_type": "raw",
   "source": [
    "Для вывода элементов списка каждого на отдельной строке можно использовать следующий код:"
   ],
   "metadata": {
    "collapsed": false,
    "pycharm": {
     "name": "#%% raw\n"
    }
   }
  },
  {
   "cell_type": "code",
   "execution_count": 3,
   "outputs": [
    {
     "name": "stdout",
     "output_type": "stream",
     "text": [
      "0 1 2 3 4 5 6 7 8 9 10 "
     ]
    }
   ],
   "source": [
    "numbers = [0, 1, 2, 3, 4, 5, 6, 7, 8, 9, 10]\n",
    "\n",
    "for i in range(len(numbers)):\n",
    "    print(numbers[i], end=' ')"
   ],
   "metadata": {
    "collapsed": false,
    "pycharm": {
     "name": "#%%\n"
    }
   }
  },
  {
   "cell_type": "raw",
   "source": [
    "Распаковка списка"
   ],
   "metadata": {
    "collapsed": false,
    "pycharm": {
     "name": "#%% raw\n"
    }
   }
  },
  {
   "cell_type": "raw",
   "source": [
    "Вывод элементов списка через один символ пробела:"
   ],
   "metadata": {
    "collapsed": false,
    "pycharm": {
     "name": "#%% raw\n"
    }
   }
  },
  {
   "cell_type": "code",
   "execution_count": 4,
   "outputs": [
    {
     "name": "stdout",
     "output_type": "stream",
     "text": [
      "0 1 2 3 4 5 6 7 8 9 10\n"
     ]
    }
   ],
   "source": [
    "numbers = [0, 1, 2, 3, 4, 5, 6, 7, 8, 9, 10]\n",
    "\n",
    "print(*numbers)"
   ],
   "metadata": {
    "collapsed": false,
    "pycharm": {
     "name": "#%%\n"
    }
   }
  },
  {
   "cell_type": "raw",
   "source": [
    "Вывод элементов списка, каждого на отдельной строке"
   ],
   "metadata": {
    "collapsed": false,
    "pycharm": {
     "name": "#%% raw\n"
    }
   }
  },
  {
   "cell_type": "code",
   "execution_count": 5,
   "outputs": [
    {
     "name": "stdout",
     "output_type": "stream",
     "text": [
      "0\n",
      "1\n",
      "2\n",
      "3\n",
      "4\n",
      "5\n",
      "6\n",
      "7\n",
      "8\n",
      "9\n",
      "10\n"
     ]
    }
   ],
   "source": [
    "numbers = [0, 1, 2, 3, 4, 5, 6, 7, 8, 9, 10]\n",
    "\n",
    "print(*numbers, sep='\\n')"
   ],
   "metadata": {
    "collapsed": false,
    "pycharm": {
     "name": "#%%\n"
    }
   }
  },
  {
   "cell_type": "raw",
   "source": [
    "Поскольку строки содержат символы, подобно тому, как списки содержат элементы, то мы можем использовать распаковку строк точно так же, как и распаковку списков."
   ],
   "metadata": {
    "collapsed": false,
    "pycharm": {
     "name": "#%% raw\n"
    }
   }
  },
  {
   "cell_type": "code",
   "execution_count": 7,
   "outputs": [
    {
     "name": "stdout",
     "output_type": "stream",
     "text": [
      "P y t h o n\n",
      "\n",
      "P\n",
      "y\n",
      "t\n",
      "h\n",
      "o\n",
      "n\n",
      "Python\n"
     ]
    }
   ],
   "source": [
    "s = 'Python'\n",
    "\n",
    "print(*s)\n",
    "print()\n",
    "print(*s, sep='\\n')\n",
    "print(*s, sep='')"
   ],
   "metadata": {
    "collapsed": false,
    "pycharm": {
     "name": "#%%\n"
    }
   }
  },
  {
   "cell_type": "raw",
   "source": [
    "Дополните приведенный код, так чтобы он вывел сумму квадратов элементов списка numbers"
   ],
   "metadata": {
    "collapsed": false,
    "pycharm": {
     "name": "#%% raw\n"
    }
   }
  },
  {
   "cell_type": "code",
   "execution_count": null,
   "outputs": [],
   "source": [
    "numbers = [1, 78, 23, -65, 99, 9089, 34, -32, 0, -67, 1, 11, 111]\n",
    "sm = 0\n",
    "for i in numbers:\n",
    "    sm += i ** 2\n",
    "print(sm)"
   ],
   "metadata": {
    "collapsed": false,
    "pycharm": {
     "name": "#%%\n"
    }
   }
  },
  {
   "cell_type": "code",
   "execution_count": null,
   "outputs": [],
   "source": [
    "numbers = [1, 78, 23, -65, 99, 9089, 34, -32, 0, -67, 1, 11, 111]\n",
    "\n",
    "square_numbers = []\n",
    "for el in numbers:\n",
    "    square_numbers.append(el ** 2)\n",
    "\n",
    "print(sum(square_numbers))"
   ],
   "metadata": {
    "collapsed": false,
    "pycharm": {
     "name": "#%%\n"
    }
   }
  },
  {
   "cell_type": "code",
   "execution_count": null,
   "outputs": [],
   "source": [
    "numbers = [1, 78, 23, -65, 99, 9089, 34, -32, 0, -67, 1, 11, 111]\n",
    "print(sum([i ** 2 for i in numbers]))"
   ],
   "metadata": {
    "collapsed": false,
    "pycharm": {
     "name": "#%%\n"
    }
   }
  },
  {
   "cell_type": "raw",
   "source": [
    "На вход программе подается натуральное число n, а затем n целых чисел. Напишите программу, которая для каждого введенного числа x выводит значение функции\n",
    "\n",
    "f(x)=x+2x+1, каждое на отдельной строке.\n",
    "\n",
    "Формат входных данных\n",
    "На вход программе подаются натуральное число n, а затем n целых чисел, каждое на отдельной строке.\n",
    "\n",
    "Формат выходных данных\n",
    "Программа должна вывести сначала введенные числа, затем пустую строку, а затем соответствующие значения функции.\n",
    "\n",
    "Примечание. Для первого теста имеем:\n",
    "\n",
    "f(1)=1 в степени 2 +2⋅1+1=4,f(2)=2 в степени 2 +2⋅2+1=9,f(3)=3 в степени 2 +2⋅3+1=16, ..."
   ],
   "metadata": {
    "collapsed": false,
    "pycharm": {
     "name": "#%% raw\n"
    }
   }
  },
  {
   "cell_type": "code",
   "execution_count": null,
   "outputs": [],
   "source": [
    "n = int(input())\n",
    "l = []\n",
    "l2 = []\n",
    "for _ in range(n):\n",
    "    num = int(input())\n",
    "    l.append(num)\n",
    "    f = num ** 2 + 2 * num + 1\n",
    "    l2.append(f)\n",
    "\n",
    "print(*l, sep='\\n')\n",
    "print()\n",
    "print(*l2, sep='\\n')"
   ],
   "metadata": {
    "collapsed": false,
    "pycharm": {
     "name": "#%%\n"
    }
   }
  },
  {
   "cell_type": "code",
   "execution_count": null,
   "outputs": [],
   "source": [
    "numbers = [int(input()) for _ in range(int(input()))]\n",
    "print(*numbers, '', *[(x + 1) ** 2 for x in numbers], sep='\\n')"
   ],
   "metadata": {
    "collapsed": false,
    "pycharm": {
     "name": "#%%\n"
    }
   }
  },
  {
   "cell_type": "raw",
   "source": [
    "При анализе данных, собранных в рамках научного эксперимента, бывает полезно удалить самое большое и самое маленькое значение.\n",
    "\n",
    "На вход программе подается натуральное число n, а затем n различных натуральных чисел. Напишите программу, которая удаляет наименьшее и наибольшее значение из указанных чисел, а затем выводит оставшиеся числа каждое на отдельной строке, не меняя их порядок.\n",
    "\n",
    "Формат входных данных\n",
    "На вход программе подаются натуральное число n, а затем n различных натуральных чисел, каждое на отдельной строке.\n",
    "\n",
    "Формат выходных данных\n",
    "Программа должна вывести текст в соответствии с условием задачи."
   ],
   "metadata": {
    "collapsed": false,
    "pycharm": {
     "name": "#%% raw\n"
    }
   }
  },
  {
   "cell_type": "code",
   "execution_count": null,
   "outputs": [],
   "source": [
    "n = int(input())\n",
    "l = []\n",
    "\n",
    "for _ in range(n):\n",
    "    num = int(input())\n",
    "    l.append(num)\n",
    "\n",
    "# print(*l, sep='\\n')\n",
    "# print(l.index(max(l)))\n",
    "# print(l.index(min(l)))\n",
    "l.remove(max(l))\n",
    "l.remove(min(l))\n",
    "\n",
    "print(*l, sep='\\n')"
   ],
   "metadata": {
    "collapsed": false,
    "pycharm": {
     "name": "#%%\n"
    }
   }
  },
  {
   "cell_type": "code",
   "execution_count": null,
   "outputs": [],
   "source": [
    "n = int(input())\n",
    "l = []\n",
    "for _ in range(n):\n",
    "    l.append(int(input()))\n",
    "del l[l.index(max(l))]\n",
    "del l[l.index(min(l))]\n",
    "\n",
    "print(*l, sep='\\n')"
   ],
   "metadata": {
    "collapsed": false,
    "pycharm": {
     "name": "#%%\n"
    }
   }
  },
  {
   "cell_type": "raw",
   "source": [
    "На вход программе подается натуральное число n, а затем n строк. Напишите программу, которая выводит только уникальные строки, в том же порядке, в котором они были введены.\n",
    "\n",
    "Формат входных данных\n",
    "На вход программе подаются натуральное число n, а затем n строк, каждая на отдельной строке.\n",
    "\n",
    "Формат выходных данных\n",
    "Программа должна вывести текст в соответствии с условием задачи.\n",
    "\n",
    "Примечание. Считайте, что все строки состоят из строчных символов."
   ],
   "metadata": {
    "collapsed": false,
    "pycharm": {
     "name": "#%% raw\n"
    }
   }
  },
  {
   "cell_type": "raw",
   "source": [
    "Для получения уникальных значений из списка в Python можно воспользоваться типом данных `set`, который автоматически убирает дублирующиеся элементы."
   ],
   "metadata": {
    "collapsed": false,
    "pycharm": {
     "name": "#%% raw\n"
    }
   }
  },
  {
   "cell_type": "code",
   "execution_count": null,
   "outputs": [],
   "source": [
    "n = int(input())\n",
    "l = []\n",
    "for _ in range(n):\n",
    "    l.append(input())\n",
    "\n",
    "print(*set(l), sep='\\n')"
   ],
   "metadata": {
    "collapsed": false,
    "pycharm": {
     "name": "#%%\n"
    }
   }
  },
  {
   "cell_type": "code",
   "execution_count": null,
   "outputs": [],
   "source": [
    "n = int(input())\n",
    "l = []\n",
    "for _ in range(n):\n",
    "    l.append(input())\n",
    "\n",
    "element_count = {}\n",
    "unique_elements = []\n",
    "for element in l:\n",
    "    element_count[element] = element_count.get(element, 0) + 1\n",
    "    if element_count[element] == 1:\n",
    "        unique_elements.append(element)\n",
    "\n",
    "print(*unique_elements, sep='\\n')"
   ],
   "metadata": {
    "collapsed": false,
    "pycharm": {
     "name": "#%%\n"
    }
   }
  },
  {
   "cell_type": "code",
   "execution_count": null,
   "outputs": [],
   "source": [
    "n = int(input())\n",
    "\n",
    "seq = []\n",
    "for _ in range(n):\n",
    "    s = input()\n",
    "    if s not in seq:\n",
    "        seq.append(s)\n",
    "\n",
    "print(*seq, sep=\"\\n\")"
   ],
   "metadata": {
    "collapsed": false,
    "pycharm": {
     "name": "#%%\n"
    }
   }
  },
  {
   "cell_type": "raw",
   "source": [
    "На вход программе подается натуральное число n, затем n строк, затем еще одна строка — поисковый запрос. Напишите программу, которая выводит все введенные строки, в которых встречается поисковый запрос.\n",
    "\n",
    "Формат входных данных\n",
    "На вход программе подаются натуральное число n — количество строк, затем сами строки в указанном количестве, затем один поисковый запрос.\n",
    "\n",
    "Формат выходных данных\n",
    "Программа должна вывести все введенные строки, в которых встречается поисковый запрос.\n",
    "\n",
    "Примечание. Поиск не должен быть чувствителен к регистру символов."
   ],
   "metadata": {
    "collapsed": false,
    "pycharm": {
     "name": "#%% raw\n"
    }
   }
  },
  {
   "cell_type": "code",
   "execution_count": null,
   "outputs": [],
   "source": [
    "n = int(input())\n",
    "l = []\n",
    "seq = []\n",
    "for _ in range(n):\n",
    "    l.append(input())\n",
    "request = input()\n",
    "\n",
    "for i in l:\n",
    "    if request.lower() in i.lower():\n",
    "        seq.append(i)\n",
    "\n",
    "print(*seq, sep='\\n')"
   ],
   "metadata": {
    "collapsed": false,
    "pycharm": {
     "name": "#%%\n"
    }
   }
  },
  {
   "cell_type": "code",
   "execution_count": null,
   "outputs": [],
   "source": [
    "# .lower  и т.п. не меняют сам объект\n",
    "s = [input() for _ in range(int(input()))]\n",
    "word = input().lower()\n",
    "print(*[i for i in s if word in i.lower()], sep='\\n')"
   ],
   "metadata": {
    "collapsed": false,
    "pycharm": {
     "name": "#%%\n"
    }
   }
  },
  {
   "cell_type": "raw",
   "source": [
    "На вход программе подается натуральное число n, затем n строк, затем число k — количество поисковых запросов, затем k строк — поисковые запросы. Напишите программу, которая выводит все введенные строки, в которых встречаются одновременно все поисковые запросы.\n",
    "\n",
    "Формат входных данных\n",
    "На вход программе подаются натуральное число n — количество строк, затем сами строки в указанном количестве, затем число k, затем сами поисковые запросы.\n",
    "\n",
    "Формат выходных данных\n",
    "Программа должна вывести все введенные строки, в которых встречаются все поисковые запросы.\n",
    "\n",
    "Примечание. Поиск не должен быть чувствителен к регистру символов."
   ],
   "metadata": {
    "collapsed": false,
    "pycharm": {
     "name": "#%% raw\n"
    }
   }
  },
  {
   "cell_type": "code",
   "execution_count": null,
   "outputs": [],
   "source": [
    "l = []\n",
    "l2 = []\n",
    "l3 = []\n",
    "count = 0\n",
    "\n",
    "n = int(input())\n",
    "for _ in range(n):\n",
    "    l.append(input())\n",
    "\n",
    "k = int(input())\n",
    "for _ in range(k):\n",
    "    l2.append(input())\n",
    "\n",
    "for i in l:\n",
    "    for j in l2:\n",
    "        if j.lower() in i.lower():\n",
    "            count += 1\n",
    "        if count == k and i not in l3:\n",
    "            l3.append(i)\n",
    "            count = 0\n",
    "    count = 0\n",
    "\n",
    "print(*l3, sep='\\n')\n"
   ],
   "metadata": {
    "collapsed": false,
    "pycharm": {
     "name": "#%%\n"
    }
   }
  },
  {
   "cell_type": "code",
   "execution_count": null,
   "outputs": [],
   "source": [
    "s = [input() for _ in range(int(input()))]\n",
    "d = [input() for _ in range(int(input()))]\n",
    "for i in s:\n",
    "    for j in d:\n",
    "        if j.lower() not in i.lower():\n",
    "            break\n",
    "    else:\n",
    "        print(i)"
   ],
   "metadata": {
    "collapsed": false,
    "pycharm": {
     "name": "#%%\n"
    }
   }
  },
  {
   "cell_type": "raw",
   "source": [
    "На вход программе подается натуральное число n, а затем n целых чисел. Напишите программу, которая сначала выводит все отрицательные числа, затем нули, а затем все положительные числа, каждое на отдельной строке. Числа должны быть выведены в том же порядке, в котором они были введены.\n",
    "\n",
    "Формат входных данных\n",
    "На вход программе подаются натуральное число n, а затем n целых чисел, каждое на отдельной строке.\n",
    "\n",
    "Формат выходных данных\n",
    "Программа должна вывести текст в соответствии с условием задачи."
   ],
   "metadata": {
    "collapsed": false,
    "pycharm": {
     "name": "#%% raw\n"
    }
   }
  },
  {
   "cell_type": "code",
   "execution_count": null,
   "outputs": [],
   "source": [
    "l = [input() for _ in range(int(input()))]\n",
    "minus = []\n",
    "nill = []\n",
    "plus = []\n",
    "\n",
    "for i in l:\n",
    "    if int(i) < 0:\n",
    "        minus.append(i)\n",
    "    elif int(i) == 0:\n",
    "        nill.append(i)\n",
    "    else:\n",
    "        plus.append(i)\n",
    "\n",
    "print(*minus, *nill, *plus, sep='\\n')"
   ],
   "metadata": {
    "collapsed": false,
    "pycharm": {
     "name": "#%%\n"
    }
   }
  },
  {
   "cell_type": "code",
   "execution_count": null,
   "outputs": [],
   "source": [
    "n = int(input())\n",
    "x = [int(input()) for _ in range(n)]\n",
    "[print(i) for i in x if i < 0]\n",
    "[print(i) for i in x if i == 0]\n",
    "[print(i) for i in x if i > 0]"
   ],
   "metadata": {
    "collapsed": false,
    "pycharm": {
     "name": "#%%\n"
    }
   }
  }
 ],
 "metadata": {
  "kernelspec": {
   "display_name": "Python 3",
   "language": "python",
   "name": "python3"
  },
  "language_info": {
   "codemirror_mode": {
    "name": "ipython",
    "version": 2
   },
   "file_extension": ".py",
   "mimetype": "text/x-python",
   "name": "python",
   "nbconvert_exporter": "python",
   "pygments_lexer": "ipython2",
   "version": "2.7.6"
  }
 },
 "nbformat": 4,
 "nbformat_minor": 0
}