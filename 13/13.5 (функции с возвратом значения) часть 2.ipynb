﻿{
 "cells": [
  {
   "cell_type": "raw",
   "source": [
    "Python позволяет писать булевы функции, возвращающие либо истину (True), либо ложь (False). Булеву функцию можно применять для проверки условия, тогда значения True и False будут сигнализировать о его выполнении."
   ],
   "metadata": {
    "collapsed": false,
    "pycharm": {
     "name": "#%% raw\n"
    }
   }
  },
  {
   "cell_type": "raw",
   "source": [
    "Булевы функции широко применяются для упрощения сложных условий, проверяемых в структурах принятия решения и структурах с повторением.\n",
    "Например, напишем программу, которая просит пользователя ввести число и определяет, четное оно или нечетное."
   ],
   "metadata": {
    "collapsed": false,
    "pycharm": {
     "name": "#%% raw\n"
    }
   }
  },
  {
   "cell_type": "code",
   "execution_count": 1,
   "outputs": [
    {
     "name": "stdout",
     "output_type": "stream",
     "text": [
      "Это число нечетное.\n"
     ]
    }
   ],
   "source": [
    "number = int(input())\n",
    "if number % 2 == 0:\n",
    "    print('Это число четное. ')\n",
    "else:\n",
    "    print('Это число нечетное.')"
   ],
   "metadata": {
    "collapsed": false,
    "pycharm": {
     "name": "#%%\n"
    }
   }
  },
  {
   "cell_type": "raw",
   "source": [
    "Этот фрагмент кода будет легче понять, если написать булеву функцию is_even(), которая принимает число в качестве аргумента и возвращает True, если оно четное, и False если нечетное."
   ],
   "metadata": {
    "collapsed": false,
    "pycharm": {
     "name": "#%% raw\n"
    }
   }
  },
  {
   "cell_type": "code",
   "execution_count": 2,
   "outputs": [],
   "source": [
    "def is_even(number):\n",
    "    if number % 2 == 0:\n",
    "        return True\n",
    "    else:\n",
    "        return False"
   ],
   "metadata": {
    "collapsed": false,
    "pycharm": {
     "name": "#%%\n"
    }
   }
  },
  {
   "cell_type": "raw",
   "source": [
    "Теперь можно переписать инструкцию if-else основной программы так, чтобы она для определения четности переменной number вызывала функцию is_even():"
   ],
   "metadata": {
    "collapsed": false,
    "pycharm": {
     "name": "#%% raw\n"
    }
   }
  },
  {
   "cell_type": "code",
   "execution_count": 3,
   "outputs": [
    {
     "name": "stdout",
     "output_type": "stream",
     "text": [
      "Это число четное. \n"
     ]
    }
   ],
   "source": [
    "number = int(input())\n",
    "if is_even(number):\n",
    "    print('Это число четное. ')\n",
    "else:\n",
    "    print('Это число нечетное.')"
   ],
   "metadata": {
    "collapsed": false,
    "pycharm": {
     "name": "#%%\n"
    }
   }
  },
  {
   "cell_type": "raw",
   "source": [
    "Напишите функцию is_valid_triangle(side1, side2, side3), которая принимает в качестве аргументов три натуральных числа, и возвращает значение True если существует невырожденный треугольник со сторонами side1, side2, side3 и False в противном случае."
   ],
   "metadata": {
    "collapsed": false,
    "pycharm": {
     "name": "#%% raw\n"
    }
   }
  },
  {
   "cell_type": "code",
   "execution_count": null,
   "outputs": [],
   "source": [
    "# объявление функции\n",
    "def is_valid_triangle(side1, side2, side3):\n",
    "    return True if side1 + side2 > side3 and side1 + side3 > side2 and side2 + side3 > side1 else False\n",
    "\n",
    "\n",
    "# считываем данные\n",
    "a, b, c = int(input()), int(input()), int(input())\n",
    "\n",
    "# вызываем функцию\n",
    "print(is_valid_triangle(a, b, c))"
   ],
   "metadata": {
    "collapsed": false,
    "pycharm": {
     "name": "#%%\n"
    }
   }
  },
  {
   "cell_type": "code",
   "execution_count": null,
   "outputs": [],
   "source": [
    "# объявление функции\n",
    "def is_valid_triangle(side1, side2, side3):\n",
    "    sides = sorted([side1, side2, side3])  # создаём отсортированный список из сторон\n",
    "\n",
    "    return sides[0] + sides[1] > sides[2]  # проверяем, минимальная и средняя стороны больше максимальной\n",
    "\n",
    "\n",
    "# считываем данные\n",
    "a, b, c = int(input()), int(input()), int(input())\n",
    "\n",
    "# вызываем функцию\n",
    "print(is_valid_triangle(a, b, c))"
   ],
   "metadata": {
    "collapsed": false,
    "pycharm": {
     "name": "#%%\n"
    }
   }
  },
  {
   "cell_type": "raw",
   "source": [
    "Напишите функцию is_prime(num), которая принимает в качестве аргумента натуральное число и возвращает значение True, если число является простым, или False в противном случае."
   ],
   "metadata": {
    "collapsed": false,
    "pycharm": {
     "name": "#%% raw\n"
    }
   }
  },
  {
   "cell_type": "code",
   "execution_count": 16,
   "outputs": [
    {
     "name": "stdout",
     "output_type": "stream",
     "text": [
      "False\n"
     ]
    }
   ],
   "source": [
    "import math\n",
    "\n",
    "\n",
    "# объявление функции\n",
    "def is_prime(num):\n",
    "    if num <= 1:\n",
    "        return False\n",
    "    if num == 2:\n",
    "        return True\n",
    "    if num % 2 == 0:\n",
    "        return False\n",
    "    for i in range(3, int(math.sqrt(num)) + 1, 2):\n",
    "        if num % i == 0:\n",
    "            return False\n",
    "    return True\n",
    "\n",
    "\n",
    "# считываем данные\n",
    "n = int(input())\n",
    "\n",
    "# вызываем функцию\n",
    "print(is_prime(n))"
   ],
   "metadata": {
    "collapsed": false,
    "pycharm": {
     "name": "#%%\n"
    }
   }
  },
  {
   "cell_type": "code",
   "execution_count": null,
   "outputs": [],
   "source": [
    "# объявление функции\n",
    "def is_prime(num):\n",
    "    return 2 in [num,\n",
    "                 2 ** num % num]  #  результат математической операции 2**N%N всегда = 2, если N - простое число и N != 2\n",
    "\n",
    "\n",
    "# в список помещается само число и результат операции.\n",
    "# функция возвращает True,  если в списке есть 2: это будет либо само число, либо результат операции.\n",
    "# считываем данные\n",
    "n = int(input())\n",
    "\n",
    "# вызываем функцию\n",
    "print(is_prime(n))"
   ],
   "metadata": {
    "collapsed": false,
    "pycharm": {
     "name": "#%%\n"
    }
   }
  },
  {
   "cell_type": "raw",
   "source": [
    "Напишите функцию get_next_prime(num), которая принимает в качестве аргумента натуральное число num и возвращает первое простое число большее числа num.\n",
    "\n",
    "Примечание 1. Используйте функцию is_prime() из предыдущей задачи."
   ],
   "metadata": {
    "collapsed": false,
    "pycharm": {
     "name": "#%% raw\n"
    }
   }
  },
  {
   "cell_type": "code",
   "execution_count": 22,
   "outputs": [
    {
     "name": "stdout",
     "output_type": "stream",
     "text": [
      "13\n"
     ]
    }
   ],
   "source": [
    "import math\n",
    "\n",
    "\n",
    "# объявление функции\n",
    "def is_prime(num):\n",
    "    if num <= 1:\n",
    "        return False\n",
    "    if num == 2:\n",
    "        return True\n",
    "    if num % 2 == 0:\n",
    "        return False\n",
    "    for i in range(3, int(math.sqrt(num)) + 1, 2):\n",
    "        if num % i == 0:\n",
    "            return False\n",
    "    return True\n",
    "\n",
    "\n",
    "# объявление функции\n",
    "def get_next_prime(num):\n",
    "    while is_prime(num + 1) is False:  # проверяю следующее число\n",
    "        num += 1\n",
    "    return num + 1\n",
    "\n",
    "\n",
    "# считываем данные\n",
    "n = int(input())\n",
    "\n",
    "# вызываем функцию\n",
    "print(get_next_prime(n))"
   ],
   "metadata": {
    "collapsed": false,
    "pycharm": {
     "name": "#%%\n"
    }
   }
  },
  {
   "cell_type": "code",
   "execution_count": 30,
   "outputs": [
    {
     "name": "stdout",
     "output_type": "stream",
     "text": [
      "123456791\n"
     ]
    }
   ],
   "source": [
    "def is_prime(num):\n",
    "    if num == 1:\n",
    "        return False  # число 1 не является простым\n",
    "\n",
    "    for i in range(2, int(num ** 0.5) + 1):\n",
    "        if num % i == 0:\n",
    "            return False  # сразу возвращает False, когда находим делитель\n",
    "\n",
    "    return True\n",
    "\n",
    "\n",
    "# объявление функции\n",
    "def get_next_prime(num):\n",
    "    cur_num = num + 1  # начинаем искать следующее простое число\n",
    "\n",
    "    while not is_prime(cur_num):  # если следующее число непростое, то увеличиваем на 1\n",
    "        cur_num += 1\n",
    "\n",
    "    return cur_num\n",
    "\n",
    "\n",
    "# считываем данные\n",
    "n = int(input())\n",
    "\n",
    "# вызываем функцию\n",
    "print(get_next_prime(n))"
   ],
   "metadata": {
    "collapsed": false,
    "pycharm": {
     "name": "#%%\n"
    }
   }
  },
  {
   "cell_type": "code",
   "execution_count": 31,
   "outputs": [
    {
     "name": "stdout",
     "output_type": "stream",
     "text": [
      "123456791\n"
     ]
    }
   ],
   "source": [
    "# объявление функции\n",
    "def get_next_prime(num):\n",
    "    num += 1\n",
    "    for i in range(2, num):\n",
    "        if num % i == 0:\n",
    "            return get_next_prime(num)\n",
    "    return num\n",
    "\n",
    "\n",
    "# считываем данные\n",
    "n = int(input())\n",
    "\n",
    "# вызываем функцию\n",
    "print(get_next_prime(n))\n",
    "\n",
    "# То есть если число непростое, то вызванная функция возвращает саму себя, но уже с увеличенным значением?"
   ],
   "metadata": {
    "collapsed": false,
    "pycharm": {
     "name": "#%%\n"
    }
   }
  },
  {
   "cell_type": "raw",
   "source": [
    "Напишите функцию is_password_good(password), которая принимает в качестве аргумента строковое значение пароля password и возвращает значение True, если пароль является надежным и False - в противном случае.\n",
    "\n",
    "Пароль является надежным если:\n",
    "\n",
    "его длина не менее 8 символов;\n",
    "он содержит как минимум одну заглавную букву (верхний регистр);\n",
    "он содержит как минимум одну строчную букву (нижний регистр);\n",
    "он содержит хотя бы одну цифру."
   ],
   "metadata": {
    "collapsed": false,
    "pycharm": {
     "name": "#%% raw\n"
    }
   }
  },
  {
   "cell_type": "code",
   "execution_count": 32,
   "outputs": [
    {
     "name": "stdout",
     "output_type": "stream",
     "text": [
      "False\n"
     ]
    }
   ],
   "source": [
    "# объявление функции\n",
    "def is_password_good(password):\n",
    "    return len(password) > 7 and any(i.islower() for i in password) > 0 and any(\n",
    "        i.isupper() for i in password) > 0 and any(i.isdigit() for i in password) > 0\n",
    "\n",
    "\n",
    "# считываем данные\n",
    "txt = input()\n",
    "\n",
    "# вызываем функцию\n",
    "print(is_password_good(txt))"
   ],
   "metadata": {
    "collapsed": false,
    "pycharm": {
     "name": "#%%\n"
    }
   }
  },
  {
   "cell_type": "code",
   "execution_count": 33,
   "outputs": [
    {
     "name": "stdout",
     "output_type": "stream",
     "text": [
      "False\n"
     ]
    }
   ],
   "source": [
    "def is_password_good(password):\n",
    "    upp = [i for i in password if i.isupper()]\n",
    "    low = [i for i in password if i.islower()]\n",
    "    dig = [i for i in password if i.isdigit()]\n",
    "    return all([len(password) >= 8, upp, low, dig])\n",
    "\n",
    "\n",
    "txt = input()\n",
    "print(is_password_good(txt))"
   ],
   "metadata": {
    "collapsed": false,
    "pycharm": {
     "name": "#%%\n"
    }
   }
  },
  {
   "cell_type": "raw",
   "source": [
    "Напишите функцию is_one_away(word1, word2), которая принимает в качестве аргументов два слова word1 и word2 и возвращает значение True, если слова имеют одинаковую длину и отличаются ровно в одном символе и False  в противном случае."
   ],
   "metadata": {
    "collapsed": false,
    "pycharm": {
     "name": "#%% raw\n"
    }
   }
  },
  {
   "cell_type": "code",
   "execution_count": null,
   "outputs": [],
   "source": [
    "# объявление функции\n",
    "def is_one_away(word1, word2):\n",
    "    if len(word1) == len(word2):\n",
    "        counter = 0\n",
    "        word2_list = list(word2)  # Преобразуем второе слово в список для изменения\n",
    "        for char in word1:\n",
    "            if char in word2_list:\n",
    "                counter += 1\n",
    "                word2_list.remove(char)  # Удаляем символ из списка\n",
    "        if len(word1) - counter == 1:\n",
    "            return True\n",
    "        else:\n",
    "            return counter == 1\n",
    "    else:\n",
    "        return False\n",
    "\n",
    "# считываем данные\n",
    "txt1 = input()\n",
    "txt2 = input()\n",
    "\n",
    "# вызываем функцию\n",
    "print(is_one_away(txt1, txt2))"
   ],
   "metadata": {
    "collapsed": false,
    "pycharm": {
     "name": "#%%\n"
    }
   }
  },
  {
   "cell_type": "code",
   "execution_count": null,
   "outputs": [],
   "source": [
    "# объявление функции\n",
    "def is_one_away(word1, word2):\n",
    "    return len([i for i in word1 if i not in word2]) == 1 and len(word1) == len(word2)\n",
    "\n",
    "# считываем данные\n",
    "txt1 = input()\n",
    "txt2 = input()\n",
    "\n",
    "# вызываем функцию\n",
    "print(is_one_away(txt1, txt2))"
   ],
   "metadata": {
    "collapsed": false,
    "pycharm": {
     "name": "#%%\n"
    }
   }
  },
  {
   "cell_type": "raw",
   "source": [
    "Напишите функцию is_palindrome(text), которая принимает в качестве аргумента строку text и возвращает значение True если указанный текст является палиндромом и False в противном случае.\n",
    "\n",
    "Примечание 1. Палиндром – это строка, которая читается одинаково в обоих направлениях\n",
    "\n",
    "Примечание 2. При проверке считайте большие и маленькие буквы одинаковыми, а также игнорируйте пробелы, а также символы , . ! ? -."
   ],
   "metadata": {
    "collapsed": false,
    "pycharm": {
     "name": "#%% raw\n"
    }
   }
  },
  {
   "cell_type": "code",
   "execution_count": null,
   "outputs": [],
   "source": [
    "# объявление функции\n",
    "def is_palindrome(text):\n",
    "    text = ''.join([char.lower() for char in text if char.isalpha()])\n",
    "    return text == text[::-1]\n",
    "\n",
    "# считываем данные\n",
    "txt = input()\n",
    "\n",
    "# вызываем функцию\n",
    "print(is_palindrome(txt))"
   ],
   "metadata": {
    "collapsed": false,
    "pycharm": {
     "name": "#%%\n"
    }
   }
  },
  {
   "cell_type": "code",
   "execution_count": null,
   "outputs": [],
   "source": [
    "# объявление функции\n",
    "def is_palindrome(text):\n",
    "    l = [i.lower() for i in text if i.isalpha()]\n",
    "    return l == l[::-1]\n",
    "\n",
    "# считываем данные\n",
    "txt = input()\n",
    "\n",
    "# вызываем функцию\n",
    "print(is_palindrome(txt))"
   ],
   "metadata": {
    "collapsed": false,
    "pycharm": {
     "name": "#%%\n"
    }
   }
  },
  {
   "cell_type": "raw",
   "source": [
    "BEEGEEK наконец-то открыл свой банк, в котором используются специальные банкоматы с необычным паролем.\n",
    "\n",
    "Действительный пароль BEEGEEK банка имеет вид a:b:c, где a, b и c – натуральные числа. Поскольку основатель BEEGEEK фанатеет от математики, то он решил:\n",
    "\n",
    "число a – должно быть палиндромом;\n",
    "число b – должно быть простым;\n",
    "число c – должно быть четным.\n",
    "Напишите функцию is_valid_password(password), которая принимает в качестве аргумента строковое значение пароля password и возвращает значение True, если пароль является действительным паролем BEEGEEK банка и False - в противном случае."
   ],
   "metadata": {
    "collapsed": false,
    "pycharm": {
     "name": "#%% raw\n"
    }
   }
  },
  {
   "cell_type": "code",
   "execution_count": null,
   "outputs": [],
   "source": [
    "# объявление функции\n",
    "def is_valid_password(password):\n",
    "    pass\n",
    "\n",
    "# считываем данные\n",
    "psw = input()\n",
    "\n",
    "# вызываем функцию\n",
    "print(is_valid_password(psw))"
   ],
   "metadata": {
    "collapsed": false,
    "pycharm": {
     "name": "#%%\n"
    }
   }
  }
 ],
 "metadata": {
  "kernelspec": {
   "display_name": "Python 3",
   "language": "python",
   "name": "python3"
  },
  "language_info": {
   "codemirror_mode": {
    "name": "ipython",
    "version": 2
   },
   "file_extension": ".py",
   "mimetype": "text/x-python",
   "name": "python",
   "nbconvert_exporter": "python",
   "pygments_lexer": "ipython2",
   "version": "2.7.6"
  }
 },
 "nbformat": 4,
 "nbformat_minor": 0
}