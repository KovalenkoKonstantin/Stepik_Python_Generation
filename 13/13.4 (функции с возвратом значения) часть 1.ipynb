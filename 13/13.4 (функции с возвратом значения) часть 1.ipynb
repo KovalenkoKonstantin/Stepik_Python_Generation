﻿{
 "cells": [
  {
   "cell_type": "raw",
   "source": [
    "Функция с возвратом значения возвращает значение обратно в ту часть программы, которая ее вызвала."
   ],
   "metadata": {
    "collapsed": false,
    "pycharm": {
     "name": "#%% raw\n"
    }
   }
  },
  {
   "cell_type": "code",
   "execution_count": 1,
   "outputs": [],
   "source": [
    "def convert_to_celsius(temp):\n",
    "    result = (5 / 9) * (temp - 32)\n",
    "    return result"
   ],
   "metadata": {
    "collapsed": false,
    "pycharm": {
     "name": "#%%\n"
    }
   }
  },
  {
   "cell_type": "code",
   "execution_count": null,
   "outputs": [],
   "source": [
    "def convert_grade(grade):\n",
    "    if grade >= 90:\n",
    "        return 5\n",
    "    elif grade >= 80:\n",
    "        return 4\n",
    "    elif grade >= 70:\n",
    "        return 3\n",
    "    elif grade >= 60:\n",
    "        return 2\n",
    "    else:\n",
    "        return 1\n",
    "\n",
    "# основная программа\n",
    "grade = int(input('Введите вашу отметку по 100-балльной системе: '))\n",
    "print(convert_grade(grade))"
   ],
   "metadata": {
    "collapsed": false,
    "pycharm": {
     "name": "#%%\n"
    }
   }
  },
  {
   "cell_type": "raw",
   "source": [
    "Функция, вычисляющая длину гипотенузы, может иметь вид:"
   ],
   "metadata": {
    "collapsed": false,
    "pycharm": {
     "name": "#%% raw\n"
    }
   }
  },
  {
   "cell_type": "code",
   "execution_count": 2,
   "outputs": [],
   "source": [
    "def compute_hypotenuse(a, b):\n",
    "    c = (a ** 2 + b ** 2) ** 0.5\n",
    "    return c"
   ],
   "metadata": {
    "collapsed": false,
    "pycharm": {
     "name": "#%%\n"
    }
   }
  },
  {
   "cell_type": "raw",
   "source": [
    "Напишите функцию convert_to_miles(km), которая принимает в качестве аргумента расстояние в километрах и возвращает расстояние в милях. Формула для преобразования: мили = километры * 0.6214."
   ],
   "metadata": {
    "collapsed": false,
    "pycharm": {
     "name": "#%% raw\n"
    }
   }
  },
  {
   "cell_type": "code",
   "execution_count": null,
   "outputs": [],
   "source": [
    "# объявление функции\n",
    "def convert_to_miles(km):\n",
    "    return km * 0.6214\n",
    "\n",
    "# считываем данные\n",
    "num = int(input())\n",
    "\n",
    "# вызываем функцию\n",
    "print(convert_to_miles(num))"
   ],
   "metadata": {
    "collapsed": false,
    "pycharm": {
     "name": "#%%\n"
    }
   }
  },
  {
   "cell_type": "raw",
   "source": [
    "Напишите функцию get_days(month), которая принимает в качестве аргумента номер месяца и возвращает количество дней в данном месяце.\n",
    "\n",
    "Примечание 1. Гарантируется, что передаваемый аргумент находится в диапазоне от 1 до 12.\n",
    "\n",
    "Примечание 2. Считайте, что год является невисокосным."
   ],
   "metadata": {
    "collapsed": false,
    "pycharm": {
     "name": "#%% raw\n"
    }
   }
  },
  {
   "cell_type": "code",
   "execution_count": null,
   "outputs": [],
   "source": [
    "# объявление функции\n",
    "def get_days(month):\n",
    "    if month in (1, 3, 5, 7, 8, 10, 12):\n",
    "        pa = 31\n",
    "    elif month in (4, 6, 9, 11):\n",
    "        pa = 30\n",
    "    else:\n",
    "        pa = 28\n",
    "    return pa\n",
    "\n",
    "# считываем данные\n",
    "num = int(input())\n",
    "\n",
    "# вызываем функцию\n",
    "print(get_days(num))"
   ],
   "metadata": {
    "collapsed": false,
    "pycharm": {
     "name": "#%%\n"
    }
   }
  },
  {
   "cell_type": "raw",
   "source": [
    "Напишите функцию get_factors(num), принимающую в качестве аргумента натуральное число и возвращающую список всех делителей данного числа."
   ],
   "metadata": {
    "collapsed": false,
    "pycharm": {
     "name": "#%% raw\n"
    }
   }
  },
  {
   "cell_type": "code",
   "execution_count": null,
   "outputs": [],
   "source": [
    "# объявление функции\n",
    "def get_factors(num):\n",
    "    return [i for i in range(1, num + 1) if num % i == 0]\n",
    "\n",
    "# считываем данные\n",
    "n = int(input())\n",
    "\n",
    "# вызываем функцию\n",
    "print(get_factors(n))"
   ],
   "metadata": {
    "collapsed": false,
    "pycharm": {
     "name": "#%%\n"
    }
   }
  },
  {
   "cell_type": "raw",
   "source": [
    "Напишите функцию number_of_factors(num), принимающую в качестве аргумента число и возвращающую количество делителей данного числа.\n",
    "\n",
    "Примечание 1. Используйте уже реализованную функцию get_factors(num) из предыдущей задачи."
   ],
   "metadata": {
    "collapsed": false,
    "pycharm": {
     "name": "#%% raw\n"
    }
   }
  },
  {
   "cell_type": "code",
   "execution_count": null,
   "outputs": [],
   "source": [
    "# объявление функции\n",
    "def number_of_factors(num):\n",
    "    return len([i for i in range(1, num + 1) if num % i == 0])\n",
    "\n",
    "# считываем данные\n",
    "n = int(input())\n",
    "\n",
    "# вызываем функцию\n",
    "print(number_of_factors(n))"
   ],
   "metadata": {
    "collapsed": false,
    "pycharm": {
     "name": "#%%\n"
    }
   }
  },
  {
   "cell_type": "raw",
   "source": [
    "Напомним, что строковый метод find('a') возвращает местоположение первого вхождения символа a в строке. Проблема заключается в том, что данный метод не находит местоположение всех символов а.\n",
    "\n",
    "Напишите функцию с именем find_all(target, symbol), которая принимает два аргумента: строку target и символ symbol и возвращает список, содержащий все местоположения этого символа в строке.\n",
    "\n",
    "Примечание 1. Если указанный символ не встречается в строке, то следует вернуть пустой список."
   ],
   "metadata": {
    "collapsed": false,
    "pycharm": {
     "name": "#%% raw\n"
    }
   }
  },
  {
   "cell_type": "code",
   "execution_count": 8,
   "outputs": [
    {
     "name": "stdout",
     "output_type": "stream",
     "text": [
      "[0, 1, 2]\n"
     ]
    }
   ],
   "source": [
    "# объявление функции\n",
    "def find_all(target, symbol):\n",
    "    return [i for i in range(len(target)) if target[i] == symbol]\n",
    "\n",
    "# считываем данные\n",
    "s = input()\n",
    "char = input()\n",
    "\n",
    "# вызываем функцию\n",
    "print(find_all(s, char))"
   ],
   "metadata": {
    "collapsed": false,
    "pycharm": {
     "name": "#%%\n"
    }
   }
  },
  {
   "cell_type": "raw",
   "source": [
    "Напишите функцию merge(list1, list2), которая принимает в качестве аргументов два отсортированных по возрастанию списка, состоящих из целых чисел, и объединяет их в один отсортированный список.\n",
    "\n",
    "Примечание 1. Списки list1 и list2 могут иметь разную длину.\n",
    "\n",
    "Примечание 2. Можно использовать списочный метод sort(), а можно обойтись и без него. 😎"
   ],
   "metadata": {
    "collapsed": false,
    "pycharm": {
     "name": "#%% raw\n"
    }
   }
  },
  {
   "cell_type": "code",
   "execution_count": null,
   "outputs": [],
   "source": [
    "# объявление функции\n",
    "def merge(list1, list2):\n",
    "    return sorted(list1 + list2)\n",
    "\n",
    "# считываем данные\n",
    "numbers1 = [int(c) for c in input().split()]\n",
    "numbers2 = [int(c) for c in input().split()]\n",
    "\n",
    "# вызываем функцию\n",
    "print(merge(numbers1, numbers2))"
   ],
   "metadata": {
    "collapsed": false,
    "pycharm": {
     "name": "#%%\n"
    }
   }
  },
  {
   "cell_type": "raw",
   "source": [
    "Пусть мы имеем два уже отсортированных по возрастанию списка list1 и list2.\n",
    "\n",
    "Алгоритм быстрого слияния следующий:\n",
    "\n",
    "Создаем численные указатели p1 = 0 и p2 = 0 на начала обоих списков list1 и list2 соответственно;\n",
    "На каждом шаге берем меньший из двух элементов list1[p1] и list2[p2];\n",
    "Записываем его в результирующий список;\n",
    "Увеличиваем на\n",
    "1\n",
    "1 указатель на первый элемент списка (p1 или p2), из которого был взят элемент;\n",
    "Когда один из начальных списков закончился, добавляем все оставшиеся элементы второго списка в результирующий список."
   ],
   "metadata": {
    "collapsed": false,
    "pycharm": {
     "name": "#%% raw\n"
    }
   }
  },
  {
   "cell_type": "code",
   "execution_count": 9,
   "outputs": [],
   "source": [
    "def quick_merge(list1, list2):\n",
    "    result = []\n",
    "\n",
    "    p1 = 0  # указатель на первый элемент списка list1\n",
    "    p2 = 0  # указатель на первый элемент списка list2\n",
    "\n",
    "    while p1 < len(list1) and p2 < len(list2):  # пока не закончился какой-нибудь из списков\n",
    "        if list1[p1] <= list2[p2]:\n",
    "            result.append(list1[p1])\n",
    "            p1 += 1\n",
    "        else:\n",
    "            result.append(list2[p2])\n",
    "            p2 += 1\n",
    "\n",
    "    if p1 < len(list1):   # прицепление остатка\n",
    "        result += list1[p1:]\n",
    "    else:                 # иначе прицепляем остаток другого списка\n",
    "        result += list2[p2:]\n",
    "\n",
    "    return result"
   ],
   "metadata": {
    "collapsed": false,
    "pycharm": {
     "name": "#%%\n"
    }
   }
  },
  {
   "cell_type": "code",
   "execution_count": 10,
   "outputs": [
    {
     "name": "stdout",
     "output_type": "stream",
     "text": [
      "[0, 3, 10, 11, 11, 12, 12, 20, 24, 26, 47, 47, 48, 53, 57, 58, 63, 65, 70, 77, 79, 80, 81, 84, 84, 90, 95]\n"
     ]
    }
   ],
   "source": [
    "list1 = [3, 10, 11, 12, 47, 57, 58, 63, 77, 79, 80, 95]\n",
    "list2 = [0, 11, 12, 20, 24, 26, 47, 48, 53, 65, 70, 81, 84, 84, 90]\n",
    "list3 = quick_merge(list1, list2)\n",
    "print(list3)"
   ],
   "metadata": {
    "collapsed": false,
    "pycharm": {
     "name": "#%%\n"
    }
   }
  },
  {
   "cell_type": "raw",
   "source": [
    "На вход программе подается число n, а затем n строк, содержащих целые числа в порядке возрастания. Из данных строк формируются списки чисел. Напишите программу, которая объединяет указанные списки в один отсортированный список с помощью функции quick_merge(), а затем выводит его.\n",
    "\n",
    "Формат входных данных\n",
    "На вход программе подается натуральное число n, а затем n строк, содержащих целые числа в порядке возрастания, разделенные символом пробела.\n",
    "\n",
    "Формат выходных данных\n",
    "Программа должна вывести элементы окончательного отсортированного списка каждое через пробел."
   ],
   "metadata": {
    "collapsed": false,
    "pycharm": {
     "name": "#%% raw\n"
    }
   }
  },
  {
   "cell_type": "code",
   "execution_count": null,
   "outputs": [],
   "source": [
    "n = int(input())\n",
    "combined_list = []\n",
    "numbers = [i.split() for i in [input() for i in range(n)]]\n",
    "# Объединяем все списки в один и преобразуем элементы в целые числа\n",
    "combined_list = [int(i) for sublist in numbers for i in sublist]\n",
    "print(sorted(combined_list))"
   ],
   "metadata": {
    "collapsed": false,
    "pycharm": {
     "name": "#%%\n"
    }
   }
  },
  {
   "cell_type": "code",
   "execution_count": null,
   "outputs": [],
   "source": [
    "n = int(input())\n",
    "\n",
    "s = []\n",
    "x = []\n",
    "for i in range(n):\n",
    "    s += input().split(' ')\n",
    "for i in s:\n",
    "    x.append(int(i))\n",
    "x.sort()\n",
    "print(*x)"
   ],
   "metadata": {
    "collapsed": false,
    "pycharm": {
     "name": "#%%\n"
    }
   }
  },
  {
   "cell_type": "code",
   "execution_count": null,
   "outputs": [],
   "source": [
    "print(*sorted([int(i) for i in range(int(input())) for i in input().split()]))"
   ],
   "metadata": {
    "collapsed": false,
    "pycharm": {
     "name": "#%%\n"
    }
   }
  },
  {
   "cell_type": "code",
   "execution_count": null,
   "outputs": [],
   "source": [
    "def quick_merge(sorted_lists):\n",
    "    import heapq    # специальный объект heap (куча), идеальный для организации приоритетных очередей - см.\n",
    "                    # https://docs.python.org/3/library/heapq.html\n",
    "    return heapq.merge(*sorted_lists)\n",
    "\n",
    "n = int(input())\n",
    "lists = [list(map(int, input().split())) for _ in range(n)]\n",
    "\n",
    "print(*quick_merge(lists))"
   ],
   "metadata": {
    "collapsed": false,
    "pycharm": {
     "name": "#%%\n"
    }
   }
  },
  {
   "cell_type": "code",
   "execution_count": null,
   "outputs": [],
   "source": [
    "n = int(input())\n",
    "list = []\n",
    "for i in range(n):\n",
    "    s = [int(i) for i in input().split()]\n",
    "    list.extend(s)\n",
    "list.sort()\n",
    "print(*list)"
   ],
   "metadata": {
    "collapsed": false,
    "pycharm": {
     "name": "#%%\n"
    }
   }
  }
 ],
 "metadata": {
  "kernelspec": {
   "display_name": "Python 3",
   "language": "python",
   "name": "python3"
  },
  "language_info": {
   "codemirror_mode": {
    "name": "ipython",
    "version": 2
   },
   "file_extension": ".py",
   "mimetype": "text/x-python",
   "name": "python",
   "nbconvert_exporter": "python",
   "pygments_lexer": "ipython2",
   "version": "2.7.6"
  }
 },
 "nbformat": 4,
 "nbformat_minor": 0
}