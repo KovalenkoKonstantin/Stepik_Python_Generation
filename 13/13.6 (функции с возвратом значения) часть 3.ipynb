﻿{
 "cells": [
  {
   "cell_type": "raw",
   "source": [
    "В Python функции не ограничены возвратом всего одного значения. После инструкции return можно определить много выражений, разделенных запятыми:"
   ],
   "metadata": {
    "collapsed": false,
    "pycharm": {
     "name": "#%% raw\n"
    }
   }
  },
  {
   "cell_type": "raw",
   "source": [
    "return выражение 1, выражение 2, выражение 3 ..."
   ],
   "metadata": {
    "collapsed": false,
    "pycharm": {
     "name": "#%% raw\n"
    }
   }
  },
  {
   "cell_type": "code",
   "execution_count": 2,
   "outputs": [
    {
     "data": {
      "text/plain": "(4, 8, 16)"
     },
     "execution_count": 2,
     "metadata": {},
     "output_type": "execute_result"
    }
   ],
   "source": [
    "def get_powers(num):\n",
    "    return num**2, num**3, num**4\n",
    "\n",
    "get_powers(2)"
   ],
   "metadata": {
    "collapsed": false,
    "pycharm": {
     "name": "#%%\n"
    }
   }
  },
  {
   "cell_type": "code",
   "execution_count": 3,
   "outputs": [
    {
     "name": "stdout",
     "output_type": "stream",
     "text": [
      "4\n",
      "8\n",
      "16\n"
     ]
    }
   ],
   "source": [
    "a, b, c = get_powers(2)\n",
    "print(a)\n",
    "print(b)\n",
    "print(c)"
   ],
   "metadata": {
    "collapsed": false,
    "pycharm": {
     "name": "#%%\n"
    }
   }
  },
  {
   "cell_type": "raw",
   "source": [
    "Возвращающие несколько значений функции – исключительная особенность языка Python. В большинстве языков программирования для возврата нескольких значений используется результирующий тип данных – список, который может содержать несколько значений."
   ],
   "metadata": {
    "collapsed": false,
    "pycharm": {
     "name": "#%% raw\n"
    }
   }
  },
  {
   "cell_type": "code",
   "execution_count": 1,
   "outputs": [
    {
     "name": "stdout",
     "output_type": "stream",
     "text": [
      "Решением системы являются числа x = 1.3 y = -0.2\n"
     ]
    }
   ],
   "source": [
    "def solve(a, b, c, d, e, f):\n",
    "    x = (d * e - b * f)/(a * d - b * c)\n",
    "    y = (a * f - c * e)/(a * d - b * c)\n",
    "    return x, y\n",
    "\n",
    "xsol, ysol = solve(2, 3, 4, 1, 2, 5)\n",
    "print('Решением системы являются числа', 'x =', xsol, 'y =', ysol)"
   ],
   "metadata": {
    "collapsed": false,
    "pycharm": {
     "name": "#%%\n"
    }
   }
  },
  {
   "cell_type": "raw",
   "source": [
    "Напишите функцию get_middle_point(x1, y1, x2, y2), которая принимает в качестве аргументов координаты концов отрезка(𝑥1;𝑦1) и(𝑥2;𝑦2) и возвращает координаты точки являющейся серединой данного отрезка."
   ],
   "metadata": {
    "collapsed": false,
    "pycharm": {
     "name": "#%% raw\n"
    }
   }
  },
  {
   "cell_type": "code",
   "execution_count": null,
   "outputs": [],
   "source": [
    "# объявление функции\n",
    "def get_middle_point(x1, y1, x2, y2):\n",
    "    x = (x1 + x2)/2\n",
    "    y = (y1 + y2)/2\n",
    "    return x, y\n",
    "\n",
    "# считываем данные\n",
    "x_1, y_1 = int(input()), int(input())\n",
    "x_2, y_2 = int(input()), int(input())\n",
    "\n",
    "# вызываем функцию\n",
    "x, y = get_middle_point(x_1, y_1, x_2, y_2)\n",
    "print(x, y)"
   ],
   "metadata": {
    "collapsed": false,
    "pycharm": {
     "name": "#%%\n"
    }
   }
  },
  {
   "cell_type": "raw",
   "source": [
    "Напишите функцию get_circle(radius), которая принимает в качестве аргумента радиус окружности и возвращает два значения: длину окружности и площадь круга, ограниченного данной окружностью.\n",
    "\n",
    "Примечание 1. Длина окружности и площадь круга радиуса r вычисляются по формулам:\n",
    "С=2πr,S=πr в степени 2 .\n",
    "Примечание 2. Для числа\n",
    "π используйте глобальную константу из модуля math."
   ],
   "metadata": {
    "collapsed": false,
    "pycharm": {
     "name": "#%% raw\n"
    }
   }
  },
  {
   "cell_type": "code",
   "execution_count": null,
   "outputs": [],
   "source": [
    "from math import pi\n",
    "# объявление функции\n",
    "def get_circle(radius):\n",
    "    length = 2 * pi * radius\n",
    "    square = pi * radius **2\n",
    "    return length, square\n",
    "\n",
    "# считываем данные\n",
    "r = float(input())\n",
    "\n",
    "# вызываем функцию\n",
    "length, square = get_circle(r)\n",
    "print(length, square)"
   ],
   "metadata": {
    "collapsed": false,
    "pycharm": {
     "name": "#%%\n"
    }
   }
  },
  {
   "cell_type": "raw",
   "source": [
    "Напишите функцию solve(a, b, c), которая принимает в качестве аргументов три целых числа a, b, c – коэффициенты квадратного уравнения\n",
    "ax в степени 2 +bx+c=0 и возвращает его корни в порядке возрастания.\n",
    "\n",
    "Примечание 1. С подобной задачей мы уже сталкивались.\n",
    "\n",
    "Примечание 2. Гарантируется, что квадратное уравнение имеет хотя бы один корень."
   ],
   "metadata": {
    "collapsed": false,
    "pycharm": {
     "name": "#%% raw\n"
    }
   }
  },
  {
   "cell_type": "code",
   "execution_count": 4,
   "outputs": [
    {
     "name": "stdout",
     "output_type": "stream",
     "text": [
      "-1.0\n"
     ]
    }
   ],
   "source": [
    "import math\n",
    "\n",
    "a = float(input())\n",
    "b = float(input())\n",
    "c = float(input())\n",
    "discriminant = b ** 2 - 4 * a * c\n",
    "if discriminant > 0:\n",
    "    x1 = (-b - math.sqrt(discriminant)) / (2 * a)\n",
    "    x2 = (-b + math.sqrt(discriminant)) / (2 * a)\n",
    "    print(min(x1, x2))\n",
    "    print(max(x1, x2))\n",
    "elif discriminant == 0:\n",
    "    x = -b / (2 * a)\n",
    "    print(x)\n",
    "else:\n",
    "    print(\"Нет корней\")"
   ],
   "metadata": {
    "collapsed": false,
    "pycharm": {
     "name": "#%%\n"
    }
   }
  },
  {
   "cell_type": "code",
   "execution_count": null,
   "outputs": [],
   "source": [
    "from math import sqrt\n",
    "# объявление функции\n",
    "def solve(a, b, c):\n",
    "    discriminant = b ** 2 - 4 * a * c\n",
    "    if discriminant > 0:\n",
    "        x1 = (-b - sqrt(discriminant)) / (2 * a)\n",
    "        x2 = (-b + sqrt(discriminant)) / (2 * a)\n",
    "        return min(x1, x2), max(x1, x2)\n",
    "    elif discriminant == 0:\n",
    "        x = -b / (2 * a)\n",
    "        return x, x\n",
    "\n",
    "# считываем данные\n",
    "a, b, c = int(input()), int(input()), int(input())\n",
    "\n",
    "# вызываем функцию\n",
    "x1, x2 = solve(a, b, c)\n",
    "print(x1, x2)"
   ],
   "metadata": {
    "collapsed": false,
    "pycharm": {
     "name": "#%%\n"
    }
   }
  },
  {
   "cell_type": "raw",
   "source": [
    "Преимущества использования функций\n",
    "Разбивая программы на функции получаем:\n",
    "\n",
    "Более простой код. Разбитый на функции код программы проще и легче для понимания.  Несколько небольших функций намного легче читать, чем одну длинную последовательность инструкций;\n",
    "Повторное использование кода. Функции позволяют избежать многократного повторения кода в программе. Если какая-то операция в программе выполняется в нескольких местах, то можно один раз написать для нее функцию и затем исполнять ее, когда понадобится.\n",
    "Более простое тестирование.  Когда каждая задача в программе содержится в собственной функции, программисты могут индивидуально протестировать каждую функцию и определить, выполняет ли она свою задачу правильно.\n",
    "Более быстрая разработка. Предположим, что программист или команда программистов разрабатывает много программ. Они обнаруживают общие задачи у разных программ, например выяснение имени пользователя и пароля, вывод текущего времени. Каждый раз писать программный код для этих задач не имеет смысла. Для часто встречающихся задач пишут функции, и включают в состав любой нуждающейся в них программы.\n",
    "Упрощение командной работы. Когда программа разрабатывается как набор функций, разным программистам можно поручить написание отдельных функций."
   ],
   "metadata": {
    "collapsed": false,
    "pycharm": {
     "name": "#%% raw\n"
    }
   }
  },
  {
   "cell_type": "raw",
   "source": [
    "Что выделять в функции?\n",
    "В функцию можно выделить любой законченный фрагмент программы. Можно ориентироваться на рекомендации:\n",
    "\n",
    "Когда несколько раз пишете в программе одну и ту же последовательность команд, необходимость введения функции приобретает характер острой внутренней потребности;\n",
    "Иногда обилие мелочей заслоняет главное и полезно убрать в функцию подробности, скрывающие смысл основной программы;\n",
    "Полезно разбить длинную программу на составные части, как книгу разбивают на главы, при этом основная программа становится похожей на оглавление;\n",
    "Сложные частные алгоритмы бывает полезно отладить отдельно в небольших тестирующих программах. Включить их в основную программу будет легко, если они оформлены в виде функций. Например, функций сортировок;\n",
    "Сделанное хорошо в одной программе, хочется перенести в новые. Для повторного использования лучше сразу выделять в программе полезные алгоритмы в отдельные функции, а функции собирать в пакеты."
   ],
   "metadata": {
    "collapsed": false,
    "pycharm": {
     "name": "#%% raw\n"
    }
   }
  },
  {
   "cell_type": "code",
   "execution_count": null,
   "outputs": [],
   "source": [],
   "metadata": {
    "collapsed": false,
    "pycharm": {
     "name": "#%%\n"
    }
   }
  }
 ],
 "metadata": {
  "kernelspec": {
   "display_name": "Python 3",
   "language": "python",
   "name": "python3"
  },
  "language_info": {
   "codemirror_mode": {
    "name": "ipython",
    "version": 2
   },
   "file_extension": ".py",
   "mimetype": "text/x-python",
   "name": "python",
   "nbconvert_exporter": "python",
   "pygments_lexer": "ipython2",
   "version": "2.7.6"
  }
 },
 "nbformat": 4,
 "nbformat_minor": 0
}