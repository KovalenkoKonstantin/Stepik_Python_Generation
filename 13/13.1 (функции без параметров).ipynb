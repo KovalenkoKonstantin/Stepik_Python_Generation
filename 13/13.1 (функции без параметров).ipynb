﻿{
 "cells": [
  {
   "cell_type": "raw",
   "source": [
    "Помни: Python — регистрочувствительный язык. Для именования переменных и функций принято использовать стиль lower_case_with_underscores (слова из маленьких букв с подчеркиваниями)."
   ],
   "metadata": {
    "collapsed": false,
    "pycharm": {
     "name": "#%% raw\n"
    }
   }
  },
  {
   "cell_type": "raw",
   "source": [
    "Поскольку функции выполняют действия, большинство программистов предпочитает в именах функций использовать глаголы. Например:\n",
    "\n",
    "функцию, которая рисует прямоугольник, можно назвать draw_box();\n",
    "функцию, которая печатает чек, можно назвать print_check();\n",
    "функцию, которая вычисляет заработную плату до удержаний, можно назвать calculate_gross_рау().\n",
    "Каждое из этих имен дает описание того, что функция делает."
   ],
   "metadata": {
    "collapsed": false,
    "pycharm": {
     "name": "#%% raw\n"
    }
   }
  },
  {
   "cell_type": "raw",
   "source": [
    "Иногда, при объявлении функции требуется сделать своего рода заглушку, чтобы функция ничего не выполняла. Тогда мы используем ключевое слово pass:"
   ],
   "metadata": {
    "collapsed": false,
    "pycharm": {
     "name": "#%% raw\n"
    }
   }
  },
  {
   "cell_type": "code",
   "execution_count": 1,
   "outputs": [],
   "source": [
    "def do_nothing():\n",
    "    pass"
   ],
   "metadata": {
    "collapsed": false,
    "pycharm": {
     "name": "#%%\n"
    }
   }
  },
  {
   "cell_type": "raw",
   "source": [
    "Мы объявили функцию с именем do_nothing(). Тело такой функции содержит единственную строку кода, которая ничего не делает."
   ],
   "metadata": {
    "collapsed": false,
    "pycharm": {
     "name": "#%% raw\n"
    }
   }
  },
  {
   "cell_type": "raw",
   "source": [
    "В ходе исполнения оператора pass ничего не происходит, поэтому он может использоваться в качестве заглушки в тех местах, где это синтаксически необходимо, например, в инструкциях, где тело является обязательным, таких как def. Таким образом, оператор pass используется там, где код пока ещё не появился, но планируется."
   ],
   "metadata": {
    "collapsed": false,
    "pycharm": {
     "name": "#%% raw\n"
    }
   }
  },
  {
   "cell_type": "raw",
   "source": [
    "Напишите функцию draw_box(), которая выводит звездный прямоугольник с размерами\n",
    "\n",
    "14×10 в соответствии с образцом:"
   ],
   "metadata": {
    "collapsed": false,
    "pycharm": {
     "name": "#%% raw\n"
    }
   }
  },
  {
   "cell_type": "code",
   "execution_count": 27,
   "outputs": [
    {
     "name": "stdout",
     "output_type": "stream",
     "text": [
      "**********\n",
      "*        *\n",
      "*        *\n",
      "*        *\n",
      "*        *\n",
      "*        *\n",
      "*        *\n",
      "*        *\n",
      "*        *\n",
      "*        *\n",
      "*        *\n",
      "*        *\n",
      "*        *\n",
      "**********\n"
     ]
    }
   ],
   "source": [
    "def draw_box():\n",
    "    for i in range(14):\n",
    "        if i in (0, 13):\n",
    "            print('*' * 10)\n",
    "        else:\n",
    "            print('*' + ' ' * 8 + '*', sep='')\n",
    "\n",
    "\n",
    "draw_box()"
   ],
   "metadata": {
    "collapsed": false,
    "pycharm": {
     "name": "#%%\n"
    }
   }
  },
  {
   "cell_type": "code",
   "execution_count": 28,
   "outputs": [
    {
     "name": "stdout",
     "output_type": "stream",
     "text": [
      "**********\n",
      "*        *\n",
      "*        *\n",
      "*        *\n",
      "*        *\n",
      "*        *\n",
      "*        *\n",
      "*        *\n",
      "*        *\n",
      "*        *\n",
      "*        *\n",
      "*        *\n",
      "*        *\n",
      "**********\n"
     ]
    }
   ],
   "source": [
    "# объявление функции\n",
    "def draw_box():\n",
    "    print('*'*10 + '\\n' + ('*' + ' '*8 + '*\\n')*12 + '*'*10)\n",
    "# основная программа\n",
    "draw_box()  # вызов функции"
   ],
   "metadata": {
    "collapsed": false,
    "pycharm": {
     "name": "#%%\n"
    }
   }
  },
  {
   "cell_type": "code",
   "execution_count": 29,
   "outputs": [
    {
     "name": "stdout",
     "output_type": "stream",
     "text": [
      "**********\n",
      "*        *\n",
      "*        *\n",
      "*        *\n",
      "*        *\n",
      "*        *\n",
      "*        *\n",
      "*        *\n",
      "*        *\n",
      "*        *\n",
      "*        *\n",
      "*        *\n",
      "*        *\n",
      "**********\n"
     ]
    }
   ],
   "source": [
    "def draw_box():\n",
    "    print(*['*        *' if line not in [0, 13] else '*' * 10 for line in range(14)], sep='\\n')\n",
    "\n",
    "    # основная программа\n",
    "draw_box()  # вызов функции"
   ],
   "metadata": {
    "collapsed": false,
    "pycharm": {
     "name": "#%%\n"
    }
   }
  },
  {
   "cell_type": "raw",
   "source": [
    "Напишите функцию draw_triangle(), которая выводит звездный прямоугольный треугольник с катетами, равными 10 в соответствии с образцом:"
   ],
   "metadata": {
    "collapsed": false,
    "pycharm": {
     "name": "#%% raw\n"
    }
   }
  },
  {
   "cell_type": "code",
   "execution_count": 30,
   "outputs": [
    {
     "name": "stdout",
     "output_type": "stream",
     "text": [
      "*\n",
      "**\n",
      "***\n",
      "****\n",
      "*****\n",
      "******\n",
      "*******\n",
      "********\n",
      "*********\n",
      "**********\n"
     ]
    }
   ],
   "source": [
    "# объявление функции\n",
    "def draw_triangle():\n",
    "    for i in range(1, 11):\n",
    "        print('*' * i)\n",
    "    pass\n",
    "\n",
    "# основная программа\n",
    "draw_triangle()  # вызов функции"
   ],
   "metadata": {
    "collapsed": false,
    "pycharm": {
     "name": "#%%\n"
    }
   }
  }
 ],
 "metadata": {
  "kernelspec": {
   "display_name": "Python 3",
   "language": "python",
   "name": "python3"
  },
  "language_info": {
   "codemirror_mode": {
    "name": "ipython",
    "version": 2
   },
   "file_extension": ".py",
   "mimetype": "text/x-python",
   "name": "python",
   "nbconvert_exporter": "python",
   "pygments_lexer": "ipython2",
   "version": "2.7.6"
  }
 },
 "nbformat": 4,
 "nbformat_minor": 0
}