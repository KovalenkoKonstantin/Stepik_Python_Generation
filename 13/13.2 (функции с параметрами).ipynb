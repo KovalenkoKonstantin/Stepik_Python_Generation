﻿{
 "cells": [
  {
   "cell_type": "raw",
   "source": [
    "Аргумент – это любая порция данных, которая передается в функцию, когда функция вызывается.\n",
    "Параметр – это переменная, которая получает аргумент, переданный в функцию."
   ],
   "metadata": {
    "collapsed": false,
    "pycharm": {
     "name": "#%% raw\n"
    }
   }
  },
  {
   "cell_type": "raw",
   "source": [
    "Для функции draw_box(height, width):"
   ],
   "metadata": {
    "collapsed": false,
    "pycharm": {
     "name": "#%% raw\n"
    }
   }
  },
  {
   "cell_type": "code",
   "execution_count": null,
   "outputs": [],
   "source": [
    "def draw_box(height, width):\n",
    "    for i in range(height):\n",
    "        print('*' * width)"
   ],
   "metadata": {
    "collapsed": false,
    "pycharm": {
     "name": "#%%\n"
    }
   }
  },
  {
   "cell_type": "raw",
   "source": [
    "параметрами являются переменные height и width.\n",
    "\n",
    "В момент вызова функции draw_box(height, width):"
   ],
   "metadata": {
    "collapsed": false,
    "pycharm": {
     "name": "#%% raw\n"
    }
   }
  },
  {
   "cell_type": "code",
   "execution_count": null,
   "outputs": [],
   "source": [
    "height = 10\n",
    "draw_box(height, 9)"
   ],
   "metadata": {
    "collapsed": false,
    "pycharm": {
     "name": "#%%\n"
    }
   }
  },
  {
   "cell_type": "raw",
   "source": [
    "аргументами являются height и 9."
   ],
   "metadata": {
    "collapsed": false,
    "pycharm": {
     "name": "#%% raw\n"
    }
   }
  },
  {
   "cell_type": "raw",
   "source": [
    "Параметры функций часто называют параметрическими переменными."
   ],
   "metadata": {
    "collapsed": false,
    "pycharm": {
     "name": "#%% raw\n"
    }
   }
  },
  {
   "cell_type": "raw",
   "source": [
    "Когда аргумент передается в функцию, параметрическая переменная функции будет ссылаться на значение этого аргумента. Однако любые изменения, которые вносятся в параметрическую переменную, не будут влиять на аргумент."
   ],
   "metadata": {
    "collapsed": false,
    "pycharm": {
     "name": "#%% raw\n"
    }
   }
  },
  {
   "cell_type": "code",
   "execution_count": 1,
   "outputs": [
    {
     "name": "stdout",
     "output_type": "stream",
     "text": [
      "**********\n",
      "**********\n",
      "5 7\n"
     ]
    }
   ],
   "source": [
    "def draw_box(height, width):\n",
    "    height = 2\n",
    "    width = 10\n",
    "    for i in range(height):\n",
    "        print('*' * width)\n",
    "\n",
    "n = 5\n",
    "m = 7\n",
    "draw_box(n, m)\n",
    "print(n, m)"
   ],
   "metadata": {
    "collapsed": false,
    "pycharm": {
     "name": "#%%\n"
    }
   }
  },
  {
   "cell_type": "raw",
   "source": [
    "В теле функции вносятся изменения в значения параметрических переменных height и width, однако это никак не повлияло на значение переменных n и m из основной программы, которые передавались в качестве аргументов в функцию draw_box()."
   ],
   "metadata": {
    "collapsed": false,
    "pycharm": {
     "name": "#%% raw\n"
    }
   }
  },
  {
   "cell_type": "raw",
   "source": [
    "Функции в Python могут принимать сколько угодно параметров."
   ],
   "metadata": {
    "collapsed": false,
    "pycharm": {
     "name": "#%% raw\n"
    }
   }
  },
  {
   "cell_type": "raw",
   "source": [
    "Иногда вместо параметров и аргументов говорят о формальных параметрах и фактических параметрах. Формальные параметры – переменные, которые мы пишем при описании функции. Фактические параметры – то, что реально подставляется при вызове функции."
   ],
   "metadata": {
    "collapsed": false,
    "pycharm": {
     "name": "#%% raw\n"
    }
   }
  },
  {
   "cell_type": "code",
   "execution_count": 2,
   "outputs": [
    {
     "name": "stdout",
     "output_type": "stream",
     "text": [
      "4\n"
     ]
    }
   ],
   "source": [
    "def print_number(a, b, c):\n",
    "    d = (a + c) // b\n",
    "    print(d)\n",
    "\n",
    "print_number(2, 3, 11)"
   ],
   "metadata": {
    "collapsed": false,
    "pycharm": {
     "name": "#%%\n"
    }
   }
  },
  {
   "cell_type": "code",
   "execution_count": 3,
   "outputs": [
    {
     "name": "stdout",
     "output_type": "stream",
     "text": [
      "1 7\n",
      "0 0\n",
      "1 7\n"
     ]
    }
   ],
   "source": [
    "def change_us(a, b):\n",
    "    a = 0\n",
    "    b = 0\n",
    "    print(a, b)\n",
    "\n",
    "x = 1\n",
    "y = 7\n",
    "print(x, y)\n",
    "change_us(x, y)\n",
    "print(x, y)"
   ],
   "metadata": {
    "collapsed": false,
    "pycharm": {
     "name": "#%%\n"
    }
   }
  },
  {
   "cell_type": "code",
   "execution_count": 4,
   "outputs": [
    {
     "name": "stdout",
     "output_type": "stream",
     "text": [
      "PythonPythonPythonPython"
     ]
    }
   ],
   "source": [
    "def print_text(text, num):\n",
    "    while num > 0:\n",
    "        print(text, end='')\n",
    "        num -= 1\n",
    "\n",
    "print_text('Python', 4)"
   ],
   "metadata": {
    "collapsed": false,
    "pycharm": {
     "name": "#%%\n"
    }
   }
  },
  {
   "cell_type": "raw",
   "source": [
    "Напишите функцию draw_triangle(fill, base), которая принимает два параметра:\n",
    "\n",
    "fill – символ заполнитель;\n",
    "base – величина основания равнобедренного треугольника;\n",
    "а затем выводит его.\n",
    "\n",
    "Примечание. Гарантируется, что основание треугольника – нечетное число."
   ],
   "metadata": {
    "collapsed": false,
    "pycharm": {
     "name": "#%% raw\n"
    }
   }
  },
  {
   "cell_type": "code",
   "execution_count": 5,
   "outputs": [
    {
     "name": "stdout",
     "output_type": "stream",
     "text": [
      "*\n",
      "**\n",
      "***\n",
      "****\n",
      "*****\n",
      "****\n",
      "***\n",
      "**\n",
      "*\n"
     ]
    }
   ],
   "source": [
    "# объявление функции\n",
    "def draw_triangle(fill, base):\n",
    "    # Вычисляем среднюю точку (середину треугольника)\n",
    "    half_base = base // 2 + 1\n",
    "\n",
    "    # Верхняя часть треугольника + середина\n",
    "    for i in range(1, half_base + 1):\n",
    "        print(fill * i)\n",
    "\n",
    "    # Нижняя часть треугольника\n",
    "    for i in range(half_base - 1, 0, -1):\n",
    "        print(fill * i)\n",
    "\n",
    "# считываем данные\n",
    "fill = '*'\n",
    "base = 9\n",
    "\n",
    "# вызываем функцию\n",
    "draw_triangle(fill, base)"
   ],
   "metadata": {
    "collapsed": false,
    "pycharm": {
     "name": "#%%\n"
    }
   }
  },
  {
   "cell_type": "raw",
   "source": [
    "Напишите функцию print_fio(name, surname, patronymic), которая принимает три параметра:\n",
    "\n",
    "name – имя человека;\n",
    "surname – фамилия человека;\n",
    "patronymic – отчество человека;\n",
    "а затем выводит на печать ФИО человека.\n",
    "\n",
    "Примечание. Предусмотрите тот факт, что все три буквы в ФИО должны иметь верхний регистр."
   ],
   "metadata": {
    "collapsed": false,
    "pycharm": {
     "name": "#%% raw\n"
    }
   }
  },
  {
   "cell_type": "code",
   "execution_count": null,
   "outputs": [],
   "source": [
    "# объявление функции\n",
    "def print_fio(name, surname, patronymic):\n",
    "    print(surname[0].upper(), name[0].upper(), patronymic[0].upper(), sep='')\n",
    "\n",
    "# считываем данные\n",
    "name, surname, patronymic = input(), input(), input()\n",
    "\n",
    "# вызываем функцию\n",
    "print_fio(name, surname, patronymic)"
   ],
   "metadata": {
    "collapsed": false,
    "pycharm": {
     "name": "#%%\n"
    }
   }
  },
  {
   "cell_type": "raw",
   "source": [
    "Напишите функцию print_digit_sum(), которая принимает одно натуральное число num и выводит на печать сумму его цифр."
   ],
   "metadata": {
    "collapsed": false,
    "pycharm": {
     "name": "#%% raw\n"
    }
   }
  },
  {
   "cell_type": "code",
   "execution_count": null,
   "outputs": [],
   "source": [
    "# объявление функции\n",
    "def print_digit_sum(num):\n",
    "    print(sum([int(i) for i in str(num)]))\n",
    "\n",
    "# считываем данные\n",
    "n = int(input())\n",
    "\n",
    "# вызываем функцию\n",
    "print_digit_sum(n)"
   ],
   "metadata": {
    "collapsed": false,
    "pycharm": {
     "name": "#%%\n"
    }
   }
  }
 ],
 "metadata": {
  "kernelspec": {
   "display_name": "Python 3",
   "language": "python",
   "name": "python3"
  },
  "language_info": {
   "codemirror_mode": {
    "name": "ipython",
    "version": 2
   },
   "file_extension": ".py",
   "mimetype": "text/x-python",
   "name": "python",
   "nbconvert_exporter": "python",
   "pygments_lexer": "ipython2",
   "version": "2.7.6"
  }
 },
 "nbformat": 4,
 "nbformat_minor": 0
}