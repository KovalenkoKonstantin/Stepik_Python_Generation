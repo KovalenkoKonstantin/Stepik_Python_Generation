﻿{
 "cells": [
  {
   "cell_type": "code",
   "execution_count": 1,
   "metadata": {
    "collapsed": true,
    "pycharm": {
     "name": "#%%\n"
    }
   },
   "outputs": [
    {
     "name": "stdout",
     "output_type": "stream",
     "text": [
      "1\n",
      "0\n"
     ]
    }
   ],
   "source": [
    "def do_something():\n",
    "    a = 1\n",
    "    print(a)\n",
    "\n",
    "a = 0\n",
    "do_something()\n",
    "print(a)"
   ]
  },
  {
   "cell_type": "code",
   "execution_count": 2,
   "outputs": [
    {
     "name": "stdout",
     "output_type": "stream",
     "text": [
      "0\n"
     ]
    }
   ],
   "source": [
    "def do_something():\n",
    "    a = 1\n",
    "\n",
    "do_something()\n",
    "print(a)"
   ],
   "metadata": {
    "collapsed": false,
    "pycharm": {
     "name": "#%%\n"
    }
   }
  },
  {
   "cell_type": "code",
   "execution_count": 3,
   "outputs": [
    {
     "name": "stdout",
     "output_type": "stream",
     "text": [
      "1\n"
     ]
    }
   ],
   "source": [
    "a = 1\n",
    "\n",
    "def do_something():\n",
    "    print(a)\n",
    "\n",
    "do_something()"
   ],
   "metadata": {
    "collapsed": false,
    "pycharm": {
     "name": "#%%\n"
    }
   }
  },
  {
   "cell_type": "raw",
   "source": [
    "Напишите функцию draw_triangle(), которая выводит звездный равнобедренный треугольник с основанием и высотой равными 15 и 8 соответственно:\n",
    "Примечание 1. Для вывода треугольника используйте цикл for.\n",
    "\n",
    "Примечание 2. Справа от звездочек пробелов нет."
   ],
   "metadata": {
    "collapsed": false,
    "pycharm": {
     "name": "#%% raw\n"
    }
   }
  },
  {
   "cell_type": "code",
   "execution_count": null,
   "outputs": [],
   "source": [
    "# объявление функции\n",
    "def draw_triangle():\n",
    "    height = 8\n",
    "    base = 15\n",
    "\n",
    "    for i in range(height):\n",
    "        # Количество звездочек в текущей строке\n",
    "        stars = 1 + 2 * i\n",
    "\n",
    "        # Количество пробелов перед звездочками в текущей строке\n",
    "        spaces = (base - stars) // 2\n",
    "\n",
    "        # Формирование строки с пробелами и звездочками\n",
    "        line = ' ' * spaces + '*' * stars\n",
    "\n",
    "        # Вывод строки\n",
    "        print(line)\n",
    "\n",
    "# основная программа\n",
    "draw_triangle()  # вызов функции"
   ],
   "metadata": {
    "collapsed": false,
    "pycharm": {
     "name": "#%%\n"
    }
   }
  },
  {
   "cell_type": "raw",
   "source": [
    "Интернет-магазин осуществляет экспресс доставку для своих товаров по цене 1000 рублей за первый товар и 120 рублей за каждый последующий товар. Напишите функцию get_shipping_cost(quantity), которая принимает в качестве аргумента натуральное число quantity – количество товаров в заказе – и возвращает стоимость доставки."
   ],
   "metadata": {
    "collapsed": false,
    "pycharm": {
     "name": "#%% raw\n"
    }
   }
  },
  {
   "cell_type": "code",
   "execution_count": null,
   "outputs": [],
   "source": [
    "# объявление функции\n",
    "def get_shipping_cost(quantity):\n",
    "    # Стоимость доставки для первого товара\n",
    "    cost_first_item = 1000\n",
    "    # Стоимость доставки для каждого последующего товара\n",
    "    cost_additional_item = 120\n",
    "\n",
    "    if quantity == 1:\n",
    "        return cost_first_item\n",
    "    else:\n",
    "        return cost_first_item + (quantity - 1) * cost_additional_item\n",
    "\n",
    "# считываем данные\n",
    "n = int(input())\n",
    "\n",
    "# вызываем функцию\n",
    "print(get_shipping_cost(n))"
   ],
   "metadata": {
    "collapsed": false,
    "pycharm": {
     "name": "#%%\n"
    }
   }
  },
  {
   "cell_type": "raw",
   "source": [
    "Напишите функцию compute_binom(n, k), которая принимает в качестве аргументов два натуральных числа n и k и возвращает значение биномиального коэффициента, равного\n",
    "k!(n−k)!/n!.\n",
    "\n",
    "Примечание 1. Факториалом натурального числа n, называется произведение всех натуральных чисел от 1 до n, то есть\n",
    "n!=1⋅2⋅3⋅...⋅n\n",
    "\n",
    "Примечание 2. Реализуйте вспомогательную функцию factorial(n), вычисляющую факториал числа, или воспользуйтесь уже готовой функцией из модуля math. Обратите внимание, что функция compute_binom(n, k) должна возвращать целое число."
   ],
   "metadata": {
    "collapsed": false,
    "pycharm": {
     "name": "#%% raw\n"
    }
   }
  },
  {
   "cell_type": "code",
   "execution_count": null,
   "outputs": [],
   "source": [
    "import math\n",
    "\n",
    "# объявление функции\n",
    "def compute_binom(n, k):\n",
    "    return math.factorial(n) // (math.factorial(k) * math.factorial(n - k))\n",
    "\n",
    "# считываем данные\n",
    "n = int(input())\n",
    "k = int(input())\n",
    "\n",
    "# вызываем функцию\n",
    "print(compute_binom(n, k))"
   ],
   "metadata": {
    "collapsed": false,
    "pycharm": {
     "name": "#%%\n"
    }
   }
  },
  {
   "cell_type": "raw",
   "source": [
    "Напишите функцию number_to_words(num), которая принимает в качестве аргумента натуральное число num и возвращает его словесное описание на русском языке.\n",
    "\n",
    "Примечание 1. Считайте, что число 1≤num ≤99."
   ],
   "metadata": {
    "collapsed": false,
    "pycharm": {
     "name": "#%% raw\n"
    }
   }
  },
  {
   "cell_type": "code",
   "execution_count": null,
   "outputs": [],
   "source": [
    "# объявление функции\n",
    "def number_to_words(num):\n",
    "    # Словарь для чисел от 1 до 19\n",
    "    units = {\n",
    "        1: \"один\", 2: \"два\", 3: \"три\", 4: \"четыре\", 5: \"пять\",\n",
    "        6: \"шесть\", 7: \"семь\", 8: \"восемь\", 9: \"девять\",\n",
    "        10: \"десять\", 11: \"одиннадцать\", 12: \"двенадцать\", 13: \"тринадцать\",\n",
    "        14: \"четырнадцать\", 15: \"пятнадцать\", 16: \"шестнадцать\",\n",
    "        17: \"семнадцать\", 18: \"восемнадцать\", 19: \"девятнадцать\"\n",
    "    }\n",
    "\n",
    "    # Словарь для десятков\n",
    "    tens = {\n",
    "        20: \"двадцать\", 30: \"тридцать\", 40: \"сорок\", 50: \"пятьдесят\",\n",
    "        60: \"шестьдесят\", 70: \"семьдесят\", 80: \"восемьдесят\", 90: \"девяносто\"\n",
    "    }\n",
    "\n",
    "    # Если число в диапазоне от 1 до 19, просто возвращаем его из словаря\n",
    "    if 1 <= num <= 19:\n",
    "        return units[num]\n",
    "\n",
    "    # Если число является круглым десятком, возвращаем его из словаря десятков\n",
    "    if num in tens:\n",
    "        return tens[num]\n",
    "\n",
    "    # В остальных случаях, разбиваем число на десятки и единицы\n",
    "    ten = (num // 10) * 10  # Десятки\n",
    "    unit = num % 10         # Единицы\n",
    "\n",
    "    # Возвращаем число как комбинацию строк из словарей десятков и единиц\n",
    "    return tens[ten] + \" \" + units[unit]\n",
    "\n",
    "# считываем данные\n",
    "n = int(input())\n",
    "\n",
    "# вызываем функцию\n",
    "print(number_to_words(n))"
   ],
   "metadata": {
    "collapsed": false,
    "pycharm": {
     "name": "#%%\n"
    }
   }
  },
  {
   "cell_type": "raw",
   "source": [
    "Напишите функцию get_month(language, number), которая принимает на вход два аргумента language – язык ru или en и number – номер месяца (от 1 до 12) и возвращает название месяца на русском или английском языке."
   ],
   "metadata": {
    "collapsed": false,
    "pycharm": {
     "name": "#%% raw\n"
    }
   }
  },
  {
   "cell_type": "code",
   "execution_count": 4,
   "outputs": [
    {
     "name": "stdout",
     "output_type": "stream",
     "text": [
      "January\n"
     ]
    }
   ],
   "source": [
    "# объявление функции\n",
    "def get_month(language, number):\n",
    "    # Словари с названиями месяцев на русском и английском языках\n",
    "    months_ru = {\n",
    "        1: \"январь\", 2: \"февраль\", 3: \"март\", 4: \"апрель\", 5: \"май\", 6: \"июнь\",\n",
    "        7: \"июль\", 8: \"август\", 9: \"сентябрь\", 10: \"октябрь\", 11: \"ноябрь\", 12: \"декабрь\"\n",
    "    }\n",
    "\n",
    "    months_en = {\n",
    "        1: \"january\", 2: \"february\", 3: \"march\", 4: \"april\", 5: \"may\", 6: \"june\",\n",
    "        7: \"july\", 8: \"august\", 9: \"september\", 10: \"october\", 11: \"november\", 12: \"december\"\n",
    "    }\n",
    "\n",
    "    if language == \"ru\":\n",
    "        return months_ru.get(number, \"Некорректный номер месяца\")\n",
    "    elif language == \"en\":\n",
    "        return months_en.get(number, \"Invalid month number\")\n",
    "    else:\n",
    "        return \"Некорректный язык\"\n",
    "\n",
    "# считываем данные\n",
    "lan = input()\n",
    "num = int(input())\n",
    "\n",
    "# вызываем функцию\n",
    "print(get_month(lan, num))"
   ],
   "metadata": {
    "collapsed": false,
    "pycharm": {
     "name": "#%%\n"
    }
   }
  },
  {
   "cell_type": "raw",
   "source": [
    "Магическая дата – это дата, когда день, умноженный на месяц, равен числу, образованному последними двумя цифрами года.\n",
    "\n",
    "Напишите функцию is_magic(date), которая принимает в качестве аргумента строковое представление корректной даты и возвращает значение True, если дата является магической и False - в противном случае."
   ],
   "metadata": {
    "collapsed": false,
    "pycharm": {
     "name": "#%% raw\n"
    }
   }
  },
  {
   "cell_type": "code",
   "execution_count": null,
   "outputs": [],
   "source": [
    "# объявление функции\n",
    "def is_magic(date):\n",
    "    # Разбиваем строку даты на составляющие\n",
    "    day, month, year = map(int, date.split('.'))\n",
    "\n",
    "    # Проверяем условие магической даты\n",
    "    return day * month == year % 100\n",
    "\n",
    "# считываем данные\n",
    "date = input()\n",
    "\n",
    "# вызываем функцию\n",
    "print(is_magic(date))"
   ],
   "metadata": {
    "collapsed": false,
    "pycharm": {
     "name": "#%%\n"
    }
   }
  },
  {
   "cell_type": "code",
   "execution_count": null,
   "outputs": [],
   "source": [
    "# объявление функции\n",
    "def is_magic(date):\n",
    "    seq = date.split(\".\")\n",
    "    day, month, year = int(seq[0]), int(seq[1]), int(seq[2])\n",
    "\n",
    "    return day * month == year % 100\n",
    "\n",
    "# считываем данные\n",
    "date = input()\n",
    "\n",
    "# вызываем функцию\n",
    "print(is_magic(date))"
   ],
   "metadata": {
    "collapsed": false,
    "pycharm": {
     "name": "#%%\n"
    }
   }
  },
  {
   "cell_type": "code",
   "execution_count": null,
   "outputs": [],
   "source": [
    "def is_magic(date):\n",
    "    return int(date[:2]) * int(date[3:5]) == int(date[-2:])\n",
    "\n",
    "date = input()\n",
    "\n",
    "print(is_magic(date))"
   ],
   "metadata": {
    "collapsed": false,
    "pycharm": {
     "name": "#%%\n"
    }
   }
  },
  {
   "cell_type": "raw",
   "source": [
    "Панграмма – это фраза, содержащая в себе все буквы алфавита. Обычно панграммы используют для презентации шрифтов, чтобы можно было в одной фразе рассмотреть все глифы.\n",
    "\n",
    "Напишите функцию, is_pangram(text) которая принимает в качестве аргумента строку текста на английском языке и возвращает значение True если текст является панграммой и False в противном случае.\n",
    "\n",
    "Примечание 1. Гарантируется, что введенная строка содержит только буквы английского алфавита и пробелы."
   ],
   "metadata": {
    "collapsed": false,
    "pycharm": {
     "name": "#%% raw\n"
    }
   }
  },
  {
   "cell_type": "code",
   "execution_count": 12,
   "outputs": [
    {
     "name": "stdout",
     "output_type": "stream",
     "text": [
      "True\n"
     ]
    }
   ],
   "source": [
    "# объявление функции\n",
    "def is_pangram(text):\n",
    "    # Преобразуем текст к нижнему регистру для корректного сравнения\n",
    "    text = text.lower()\n",
    "\n",
    "    # Множество всех букв английского алфавита\n",
    "    alphabet = set('abcdefghijklmnopqrstuvwxyz')\n",
    "\n",
    "    # Множество букв, встречающихся в тексте\n",
    "    text_set = set(text)\n",
    "\n",
    "    # Проверяем, содержит ли текст каждую букву алфавита\n",
    "    # Проверяем, является ли множество `alphabet` подмножеством множества `text_set` при помощи метода `issubset`.\n",
    "    return alphabet.issubset(text_set)\n",
    "\n",
    "# считываем данные\n",
    "text = 'Jackdaws love my big sphinx of quartz'\n",
    "\n",
    "# вызываем функцию\n",
    "print(is_pangram(text))"
   ],
   "metadata": {
    "collapsed": false,
    "pycharm": {
     "name": "#%%\n"
    }
   }
  }
 ],
 "metadata": {
  "kernelspec": {
   "display_name": "Python 3",
   "language": "python",
   "name": "python3"
  },
  "language_info": {
   "codemirror_mode": {
    "name": "ipython",
    "version": 2
   },
   "file_extension": ".py",
   "mimetype": "text/x-python",
   "name": "python",
   "nbconvert_exporter": "python",
   "pygments_lexer": "ipython2",
   "version": "2.7.6"
  }
 },
 "nbformat": 4,
 "nbformat_minor": 0
}