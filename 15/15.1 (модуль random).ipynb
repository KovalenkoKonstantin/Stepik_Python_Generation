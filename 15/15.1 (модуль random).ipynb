﻿{
 "cells": [
  {
   "cell_type": "code",
   "execution_count": 1,
   "outputs": [
    {
     "name": "stdout",
     "output_type": "stream",
     "text": [
      "17\n",
      "2\n"
     ]
    }
   ],
   "source": [
    "import random\n",
    "\n",
    "num1 = random.randint(0, 17)\n",
    "num2 = random.randint(-5, 5)\n",
    "\n",
    "print(num1)\n",
    "print(num2)"
   ],
   "metadata": {
    "collapsed": false,
    "pycharm": {
     "name": "#%%\n"
    }
   }
  },
  {
   "cell_type": "raw",
   "source": [
    "Важно: левая и правая граница a и b включаются в диапазон генерируемых случайных чисел."
   ],
   "metadata": {
    "collapsed": false,
    "pycharm": {
     "name": "#%% raw\n"
    }
   }
  },
  {
   "cell_type": "code",
   "execution_count": 2,
   "outputs": [
    {
     "name": "stdout",
     "output_type": "stream",
     "text": [
      "98\n",
      "21\n",
      "5\n",
      "95\n",
      "99\n",
      "86\n",
      "4\n",
      "3\n",
      "45\n",
      "30\n"
     ]
    }
   ],
   "source": [
    "import random\n",
    "\n",
    "for _ in range(10):\n",
    "    print(random.randint(1, 100))"
   ],
   "metadata": {
    "collapsed": false,
    "pycharm": {
     "name": "#%%\n"
    }
   }
  },
  {
   "cell_type": "raw",
   "source": [
    "Среди этих чисел возможны повторения, поскольку каждый раз выбирается случайное."
   ],
   "metadata": {
    "collapsed": false,
    "pycharm": {
     "name": "#%% raw\n"
    }
   }
  },
  {
   "cell_type": "raw",
   "source": [
    "Функция randrange() принимает такие же аргументы, что и функция range(). Различие состоит в том, что функция randrange()\n",
    "не возвращает саму последовательность чисел. Вместо этого она возвращает случайно выбранное число из последовательности чисел."
   ],
   "metadata": {
    "collapsed": false,
    "pycharm": {
     "name": "#%% raw\n"
    }
   }
  },
  {
   "cell_type": "code",
   "execution_count": 7,
   "outputs": [
    {
     "name": "stdout",
     "output_type": "stream",
     "text": [
      "5\n"
     ]
    }
   ],
   "source": [
    "import random\n",
    "\n",
    "num = random.randrange(10)\n",
    "print(num)"
   ],
   "metadata": {
    "collapsed": false,
    "pycharm": {
     "name": "#%%\n"
    }
   }
  },
  {
   "cell_type": "code",
   "execution_count": 8,
   "outputs": [
    {
     "name": "stdout",
     "output_type": "stream",
     "text": [
      "8\n"
     ]
    }
   ],
   "source": [
    "import random\n",
    "\n",
    "num = random.randrange(5, 10)\n",
    "print(num)"
   ],
   "metadata": {
    "collapsed": false,
    "pycharm": {
     "name": "#%%\n"
    }
   }
  },
  {
   "cell_type": "code",
   "execution_count": 9,
   "outputs": [
    {
     "name": "stdout",
     "output_type": "stream",
     "text": [
      "100\n"
     ]
    }
   ],
   "source": [
    "import random\n",
    "\n",
    "num = random.randrange(0, 101, 10)\n",
    "print(num)"
   ],
   "metadata": {
    "collapsed": false,
    "pycharm": {
     "name": "#%%\n"
    }
   }
  },
  {
   "cell_type": "raw",
   "source": [
    "Функции randint() и randrange() возвращают случайное целое число. А вот функция random() возвращает случайное число с плавающей точкой (вещественное число). В функцию random() никаких аргументов не передается. Функция random() возвращает случайное число с плавающей точкой в диапазоне от 0.0 до 1.0 (исключая 1.0)."
   ],
   "metadata": {
    "collapsed": false,
    "pycharm": {
     "name": "#%% raw\n"
    }
   }
  },
  {
   "cell_type": "code",
   "execution_count": 6,
   "outputs": [
    {
     "name": "stdout",
     "output_type": "stream",
     "text": [
      "0.34389289680351587\n"
     ]
    }
   ],
   "source": [
    "import random\n",
    "\n",
    "num = random.random()\n",
    "print(num)"
   ],
   "metadata": {
    "collapsed": false,
    "pycharm": {
     "name": "#%%\n"
    }
   }
  },
  {
   "cell_type": "raw",
   "source": [
    "Когда модуль random импортируется, он получает системное время из внутреннего генератора тактовых импульсов компьютера и использует его как начальное значение."
   ],
   "metadata": {
    "collapsed": false,
    "pycharm": {
     "name": "#%% raw\n"
    }
   }
  },
  {
   "cell_type": "raw",
   "source": [
    " Системное время - целое число, представляющее текущую дату и время вплоть до одной сотой секунды. Если бы всегда использовалось одно и то же начальное значение, функции генерации случайных чисел всегда  возвращали бы один и тот же ряд псевдослучайных чисел. Поскольку системное время меняется каждую сотую долю секунды, можно без опасений утверждать, что всякий раз, когда импортируется модуль random, будет сгенерирована отличающаяся от предыдущих последовательность случайных чисел."
   ],
   "metadata": {
    "collapsed": false,
    "pycharm": {
     "name": "#%% raw\n"
    }
   }
  },
  {
   "cell_type": "raw",
   "source": [
    "Вместе с тем, могут иметься некоторые программы, где требуется всегда генерировать одну и ту же последовательность случайных чисел. При необходимости для этого можно вызвать функцию seed(), задав начальное значение."
   ],
   "metadata": {
    "collapsed": false,
    "pycharm": {
     "name": "#%% raw\n"
    }
   }
  },
  {
   "cell_type": "code",
   "execution_count": 10,
   "outputs": [
    {
     "name": "stdout",
     "output_type": "stream",
     "text": [
      "67\n",
      "54\n",
      "39\n",
      "47\n",
      "38\n",
      "23\n",
      "99\n",
      "91\n",
      "91\n",
      "70\n"
     ]
    }
   ],
   "source": [
    "import random\n",
    "\n",
    "random.seed(17)   # явно устанавливаем начальное значение для генератора случайных чисел\n",
    "\n",
    "for _ in range(10):\n",
    "    print(random.randint(1, 100))"
   ],
   "metadata": {
    "collapsed": false,
    "pycharm": {
     "name": "#%%\n"
    }
   }
  },
  {
   "cell_type": "code",
   "execution_count": 11,
   "outputs": [
    {
     "name": "stdout",
     "output_type": "stream",
     "text": [
      "67\n",
      "54\n",
      "39\n",
      "47\n",
      "38\n",
      "23\n",
      "99\n",
      "91\n",
      "91\n",
      "70\n"
     ]
    }
   ],
   "source": [
    "import random\n",
    "\n",
    "random.seed(17)   # явно устанавливаем начальное значение для генератора случайных чисел\n",
    "\n",
    "for _ in range(10):\n",
    "    print(random.randint(1, 100))"
   ],
   "metadata": {
    "collapsed": false,
    "pycharm": {
     "name": "#%%\n"
    }
   }
  },
  {
   "cell_type": "raw",
   "source": [
    "Профессор Тимур преподает вводный курс статистики и попросил вас написать программу, которую он мог бы использовать на занятиях для имитации бросания игральных кубиков. Программа должна случайным образом генерировать два числа в диапазоне от 1 до 6 и показывать их."
   ],
   "metadata": {
    "collapsed": false,
    "pycharm": {
     "name": "#%% raw\n"
    }
   }
  },
  {
   "cell_type": "code",
   "execution_count": 16,
   "outputs": [
    {
     "name": "stdout",
     "output_type": "stream",
     "text": [
      "Бросаем кубики... \n",
      "Значения граней:\n",
      "6\n",
      "3\n"
     ]
    }
   ],
   "source": [
    "import random\n",
    "\n",
    "print('Бросаем кубики... ')\n",
    "print('Значения граней:')\n",
    "print(random.randint(1, 6))\n",
    "print(random.randint(1, 6))"
   ],
   "metadata": {
    "collapsed": false,
    "pycharm": {
     "name": "#%%\n"
    }
   }
  },
  {
   "cell_type": "raw",
   "source": [
    "В интервью с профессором Тимуром вы выясняете, что он хотел бы использовать программу для имитации нескольких поочередных бросаний кубика."
   ],
   "metadata": {
    "collapsed": false,
    "pycharm": {
     "name": "#%% raw\n"
    }
   }
  },
  {
   "cell_type": "raw",
   "source": [
    "Будем использовать цикл while, который имитирует один бросок кубиков и затем спрашивает пользователя,\n",
    "следует ли сделать еще один бросок. Цикл будет повторяться до тех пор, пока пользователь отвечает \"да\", набирая букву \"д\":"
   ],
   "metadata": {
    "collapsed": false,
    "pycharm": {
     "name": "#%% raw\n"
    }
   }
  },
  {
   "cell_type": "code",
   "execution_count": 17,
   "outputs": [
    {
     "name": "stdout",
     "output_type": "stream",
     "text": [
      "Бросаем кубики... \n",
      "Значения граней:\n",
      "1\n",
      "1\n"
     ]
    }
   ],
   "source": [
    "import random\n",
    "\n",
    "again = 'д'\n",
    "while again.lower() == 'д':\n",
    "    print('Бросаем кубики... ')\n",
    "    print('Значения граней:')\n",
    "    print(random.randint(1, 6))\n",
    "    print(random.randint(1, 6))\n",
    "    again = input('Бросить кубики еще раз? (д = да, н = нет): ')"
   ],
   "metadata": {
    "collapsed": false,
    "pycharm": {
     "name": "#%%\n"
    }
   }
  },
  {
   "cell_type": "raw",
   "source": [
    "Профессор Тимур был так доволен написанным вами симулятором бросания кубиков, что попросил вас разработать еще одну программу. Он хотел бы иметь симулятор десятикратного поочередного подбрасывания монеты. Всякий раз, когда программа имитирует подбрасывание монеты, она должна случайным образом показывать \"орла\" или \"решку\"."
   ],
   "metadata": {
    "collapsed": false,
    "pycharm": {
     "name": "#%% raw\n"
    }
   }
  },
  {
   "cell_type": "raw",
   "source": [
    "Мы можем сымитировать бросание монеты путем генерации случайного числа в диапазоне от 0 до 1. Для генерации целых чисел мы будем использовать функцию randint()"
   ],
   "metadata": {
    "collapsed": false,
    "pycharm": {
     "name": "#%% raw\n"
    }
   }
  },
  {
   "cell_type": "code",
   "execution_count": 18,
   "outputs": [
    {
     "name": "stdout",
     "output_type": "stream",
     "text": [
      "Орел\n",
      "Решка\n",
      "Решка\n",
      "Решка\n",
      "Решка\n",
      "Решка\n",
      "Орел\n",
      "Орел\n",
      "Орел\n",
      "Орел\n"
     ]
    }
   ],
   "source": [
    "import random\n",
    "\n",
    "for _ in range(10):\n",
    "    num = random.randint(0, 1)\n",
    "    if num == 0:\n",
    "        print('Орел')\n",
    "    else:\n",
    "        print('Решка')"
   ],
   "metadata": {
    "collapsed": false,
    "pycharm": {
     "name": "#%%\n"
    }
   }
  },
  {
   "cell_type": "raw",
   "source": [
    "Функция shuffle() принимает список в качестве обязательного аргумента и перемешивает его случайным образом.\n",
    "\n",
    "Следующий код перемешивает список numbers случайным образом, а затем выводит его содержимое:"
   ],
   "metadata": {
    "collapsed": false,
    "pycharm": {
     "name": "#%% raw\n"
    }
   }
  },
  {
   "cell_type": "code",
   "execution_count": 19,
   "outputs": [
    {
     "name": "stdout",
     "output_type": "stream",
     "text": [
      "[8, 1, 4, 2, 7, 5, 6, 3]\n"
     ]
    }
   ],
   "source": [
    "import random\n",
    "\n",
    "numbers = [1, 2, 3, 4, 5, 6, 7, 8]\n",
    "random.shuffle(numbers)\n",
    "print(numbers)"
   ],
   "metadata": {
    "collapsed": false,
    "pycharm": {
     "name": "#%%\n"
    }
   }
  },
  {
   "cell_type": "raw",
   "source": [
    "Функция choice() принимает список (строку) в качестве обязательного аргумента и возвращает один случайный элемент из переданного списка (строки)."
   ],
   "metadata": {
    "collapsed": false,
    "pycharm": {
     "name": "#%% raw\n"
    }
   }
  },
  {
   "cell_type": "code",
   "execution_count": 20,
   "outputs": [
    {
     "name": "stdout",
     "output_type": "stream",
     "text": [
      "E\n",
      "1\n",
      "c\n"
     ]
    }
   ],
   "source": [
    "import random\n",
    "\n",
    "print(random.choice('BEEGEEK'))\n",
    "print(random.choice([1, 2, 3, 4]))\n",
    "print(random.choice(['a', 'b', 'c', 'd']))"
   ],
   "metadata": {
    "collapsed": false,
    "pycharm": {
     "name": "#%%\n"
    }
   }
  },
  {
   "cell_type": "raw",
   "source": [
    "Функция sample() принимает два обязательных аргумента: список (строку) и количество случайных элементов, а возвращает список случайных элементов в указанном количестве."
   ],
   "metadata": {
    "collapsed": false,
    "pycharm": {
     "name": "#%% raw\n"
    }
   }
  },
  {
   "cell_type": "raw",
   "source": [
    "Количество случайных элементов не должно превышать длину начального списка (строки)."
   ],
   "metadata": {
    "collapsed": false,
    "pycharm": {
     "name": "#%% raw\n"
    }
   }
  },
  {
   "cell_type": "code",
   "execution_count": 22,
   "outputs": [
    {
     "name": "stdout",
     "output_type": "stream",
     "text": [
      "[12]\n",
      "[2, 8]\n",
      "[2, 9, 5]\n",
      "[12, 2, 5, 9, 8]\n"
     ]
    },
    {
     "ename": "ValueError",
     "evalue": "Sample larger than population or is negative",
     "output_type": "error",
     "traceback": [
      "\u001B[1;31m---------------------------------------------------------------------------\u001B[0m",
      "\u001B[1;31mValueError\u001B[0m                                Traceback (most recent call last)",
      "Cell \u001B[1;32mIn[22], line 9\u001B[0m\n\u001B[0;32m      7\u001B[0m \u001B[38;5;28mprint\u001B[39m(random\u001B[38;5;241m.\u001B[39msample(numbers, \u001B[38;5;241m3\u001B[39m))\n\u001B[0;32m      8\u001B[0m \u001B[38;5;28mprint\u001B[39m(random\u001B[38;5;241m.\u001B[39msample(numbers, \u001B[38;5;241m5\u001B[39m))\n\u001B[1;32m----> 9\u001B[0m \u001B[38;5;28mprint\u001B[39m(\u001B[43mrandom\u001B[49m\u001B[38;5;241;43m.\u001B[39;49m\u001B[43msample\u001B[49m\u001B[43m(\u001B[49m\u001B[43mnumbers\u001B[49m\u001B[43m,\u001B[49m\u001B[43m \u001B[49m\u001B[38;5;241;43m15\u001B[39;49m\u001B[43m)\u001B[49m)\n",
      "File \u001B[1;32m~\\AppData\\Local\\Programs\\Python\\Python311\\Lib\\random.py:456\u001B[0m, in \u001B[0;36mRandom.sample\u001B[1;34m(self, population, k, counts)\u001B[0m\n\u001B[0;32m    454\u001B[0m randbelow \u001B[38;5;241m=\u001B[39m \u001B[38;5;28mself\u001B[39m\u001B[38;5;241m.\u001B[39m_randbelow\n\u001B[0;32m    455\u001B[0m \u001B[38;5;28;01mif\u001B[39;00m \u001B[38;5;129;01mnot\u001B[39;00m \u001B[38;5;241m0\u001B[39m \u001B[38;5;241m<\u001B[39m\u001B[38;5;241m=\u001B[39m k \u001B[38;5;241m<\u001B[39m\u001B[38;5;241m=\u001B[39m n:\n\u001B[1;32m--> 456\u001B[0m     \u001B[38;5;28;01mraise\u001B[39;00m \u001B[38;5;167;01mValueError\u001B[39;00m(\u001B[38;5;124m\"\u001B[39m\u001B[38;5;124mSample larger than population or is negative\u001B[39m\u001B[38;5;124m\"\u001B[39m)\n\u001B[0;32m    457\u001B[0m result \u001B[38;5;241m=\u001B[39m [\u001B[38;5;28;01mNone\u001B[39;00m] \u001B[38;5;241m*\u001B[39m k\n\u001B[0;32m    458\u001B[0m setsize \u001B[38;5;241m=\u001B[39m \u001B[38;5;241m21\u001B[39m        \u001B[38;5;66;03m# size of a small set minus size of an empty list\u001B[39;00m\n",
      "\u001B[1;31mValueError\u001B[0m: Sample larger than population or is negative"
     ]
    }
   ],
   "source": [
    "import random\n",
    "\n",
    "numbers = [2, 5, 8, 9, 12]\n",
    "\n",
    "print(random.sample(numbers, 1))\n",
    "print(random.sample(numbers, 2))\n",
    "print(random.sample(numbers, 3))\n",
    "print(random.sample(numbers, 5))\n",
    "print(random.sample(numbers, 15))"
   ],
   "metadata": {
    "collapsed": false,
    "pycharm": {
     "name": "#%%\n"
    }
   }
  },
  {
   "cell_type": "code",
   "execution_count": null,
   "outputs": [],
   "source": [],
   "metadata": {
    "collapsed": false,
    "pycharm": {
     "name": "#%%\n"
    }
   }
  }
 ],
 "metadata": {
  "kernelspec": {
   "display_name": "Python 3",
   "language": "python",
   "name": "python3"
  },
  "language_info": {
   "codemirror_mode": {
    "name": "ipython",
    "version": 2
   },
   "file_extension": ".py",
   "mimetype": "text/x-python",
   "name": "python",
   "nbconvert_exporter": "python",
   "pygments_lexer": "ipython2",
   "version": "2.7.6"
  }
 },
 "nbformat": 4,
 "nbformat_minor": 0
}