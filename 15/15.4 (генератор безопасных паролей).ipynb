﻿{
 "cells": [
  {
   "cell_type": "raw",
   "source": [
    "1. Заголовок программы:"
   ],
   "metadata": {
    "collapsed": false,
    "pycharm": {
     "name": "#%% raw\n"
    }
   }
  },
  {
   "cell_type": "code",
   "execution_count": 1,
   "outputs": [],
   "source": [
    "import random\n",
    "\n",
    "digits = '0123456789'\n",
    "lowercase_letters = 'abcdefghijklmnopqrstuvwxyz'\n",
    "uppercase_letters = 'ABCDEFGHIJKLMNOPQRSTUVWXYZ'\n",
    "punctuation = '!#$%&*+-=?@^_'\n",
    "\n",
    "chars = ''"
   ],
   "metadata": {
    "collapsed": false,
    "pycharm": {
     "name": "#%%\n"
    }
   }
  },
  {
   "cell_type": "raw",
   "source": [
    "2.  Считывание пользовательских данных:"
   ],
   "metadata": {
    "collapsed": false,
    "pycharm": {
     "name": "#%% raw\n"
    }
   }
  },
  {
   "cell_type": "code",
   "execution_count": 2,
   "outputs": [],
   "source": [
    "n = int(input('Введите количество паролей для генерации: '))\n",
    "length = int(input('Введите длину пароля: '))\n",
    "add_digit = input('Включить цифры? (д = да, н = нет) ').strip()\n",
    "add_lowercase = input('Включить прописные буквы? (д = да, н = нет) ').strip()\n",
    "add_uppercase = input('Включить строчные буквы? (д = да, н = нет) ').strip()\n",
    "add_punctuation = input('Включить символы, такие как !#$%&*+-=?@^_? (д = да, н = нет) ').strip()\n",
    "remove_badsymbols = input('Исключить символы il1Lo0O? (д = да, н = нет)').strip()"
   ],
   "metadata": {
    "collapsed": false,
    "pycharm": {
     "name": "#%%\n"
    }
   }
  },
  {
   "cell_type": "raw",
   "source": [
    "3. Настройка генерируемых паролей:"
   ],
   "metadata": {
    "collapsed": false,
    "pycharm": {
     "name": "#%% raw\n"
    }
   }
  },
  {
   "cell_type": "code",
   "execution_count": 3,
   "outputs": [],
   "source": [
    "if add_digit.lower() == 'д':\n",
    "    chars += digits\n",
    "if add_lowercase.lower() == 'д':\n",
    "    chars += lowercase_letters\n",
    "if add_uppercase.lower() == 'д':\n",
    "    chars += uppercase_letters\n",
    "if add_punctuation.lower() == 'д':\n",
    "    chars += punctuation\n",
    "if remove_badsymbols.lower() == 'д':\n",
    "    for c in 'il1Lo0O':\n",
    "        chars = chars.replace(c, '')"
   ],
   "metadata": {
    "collapsed": false,
    "pycharm": {
     "name": "#%%\n"
    }
   }
  },
  {
   "cell_type": "raw",
   "source": [
    "4. Функция генерации пароля:"
   ],
   "metadata": {
    "collapsed": false,
    "pycharm": {
     "name": "#%% raw\n"
    }
   }
  },
  {
   "cell_type": "code",
   "execution_count": 4,
   "outputs": [],
   "source": [
    "def generate_password(length, chars):\n",
    "    password = ''\n",
    "    for j in range(length):\n",
    "        password += random.choice(chars)\n",
    "    return password"
   ],
   "metadata": {
    "collapsed": false,
    "pycharm": {
     "name": "#%%\n"
    }
   }
  },
  {
   "cell_type": "raw",
   "source": [
    "5. Генерация нужного количества паролей:"
   ],
   "metadata": {
    "collapsed": false,
    "pycharm": {
     "name": "#%% raw\n"
    }
   }
  },
  {
   "cell_type": "code",
   "execution_count": 6,
   "outputs": [
    {
     "name": "stdout",
     "output_type": "stream",
     "text": [
      "IrNf^nNxK$aR\n",
      "#ZGY_mzfk$A@\n",
      "R&9T_gSM&yV%\n",
      "$EB72M7v-@r&\n",
      "@btp33rX2?Wc\n"
     ]
    }
   ],
   "source": [
    "for _ in range(n):\n",
    "    print(generate_password(length, chars))"
   ],
   "metadata": {
    "collapsed": false,
    "pycharm": {
     "name": "#%%\n"
    }
   }
  },
  {
   "cell_type": "code",
   "execution_count": null,
   "outputs": [],
   "source": [
    "from random import randint; print(\"\".join([chr( randint(1, 127)) for i in range(int(input(\"Enter length of pass: \")))]))"
   ],
   "metadata": {
    "collapsed": false,
    "pycharm": {
     "name": "#%%\n"
    }
   }
  },
  {
   "cell_type": "code",
   "execution_count": 8,
   "outputs": [
    {
     "name": "stdout",
     "output_type": "stream",
     "text": [
      "LAzf8dHVic=#*Y=\n"
     ]
    }
   ],
   "source": [
    "from random import choice\n",
    "\n",
    "# функции на запрос данных у пользователя\n",
    "def count():\n",
    "    n = input('Сколько нужно паролей? Укажи цифру: ')\n",
    "    while n.isdigit() == False:\n",
    "        print('Нужно вводить цифу, дубина!')\n",
    "        n = input('Сколько нужно паролей? Укажи цифру: ')\n",
    "    return int(n)\n",
    "\n",
    "def long():\n",
    "    l = input('Введи длину пароля: ')\n",
    "    while l.isdigit() == False:\n",
    "        print('Нужно вводить цифу, дубина!')\n",
    "        l = input('Введи длину пароля: ')\n",
    "    return int(l)\n",
    "\n",
    "def is_number():\n",
    "    isn = input('Нужны ли в пароле цифры 0123456789? Напиши \"да\" или \"нет\": ')\n",
    "    while isn.lower() not in ['да', 'нет']:\n",
    "        print('Нужно вводить \"да\" или \"нет\".')\n",
    "        isn = input('Нужны ли в пароле цифры 0123456789? Напиши \"да\" или \"нет\": ')\n",
    "    return isn\n",
    "\n",
    "def is_upper():\n",
    "    isup = input('Нужны ли в пароле заглавные буквы? Напиши \"да\" или \"нет\": ')\n",
    "    while isup.lower() not in ['да', 'нет']:\n",
    "        print('Нужно вводить \"да\" или \"нет\".')\n",
    "        isup = input('Нужны ли в пароле заглавные буквы? Напиши \"да\" или \"нет\": ')\n",
    "    return isup\n",
    "\n",
    "def is_lower():\n",
    "    islw = input('Нужны ли в пароле строчные буквы? Напиши \"да\" или \"нет\": ')\n",
    "    while islw.lower() not in ['да', 'нет']:\n",
    "        print('Нужно вводить \"да\" или \"нет\".')\n",
    "        islw = input('Нужны ли в пароле строчные буквы? Напиши \"да\" или \"нет\": ')\n",
    "    return islw\n",
    "\n",
    "def is_symbol():\n",
    "    issmb = input('Нужны ли в пароле символы? Напиши \"да\" или \"нет\": ')\n",
    "    while issmb.lower() not in ['да', 'нет']:\n",
    "        print('Нужно вводить \"да\" или \"нет\".')\n",
    "        issmb = input('Нужны ли в пароле символы? Напиши \"да\" или \"нет\": ')\n",
    "    return issmb\n",
    "\n",
    "def is_ambiguous():\n",
    "    amb = input('Будут ли в пароле неоднозначные символы \"il1Lo0O\"? Напиши \"да\" или \"нет\": ')\n",
    "    while amb.lower() not in ['да', 'нет']:\n",
    "        print('Нужно вводить \"да\" или \"нет\".')\n",
    "        amb = input('Могут ли быть в пароле неоднозначные символы \"il1Lo0O\"? Напиши \"да\" или \"нет\": ')\n",
    "    return amb\n",
    "\n",
    "# собираем возможные для пользователя символы в кучу\n",
    "def gen_chars():\n",
    "    chars = ''\n",
    "    if isn == 'да':\n",
    "        chars += '0123456789'\n",
    "    if isup == 'да':\n",
    "        chars += 'ABCDEFGHIJKLMNOPQRSTUVWXYZ'\n",
    "    if islw == 'да':\n",
    "        chars += 'abcdefghijklmnopqrstuvwxyz'\n",
    "    if issmb == 'да':\n",
    "        chars += '!#$%&*+-=?@^_'\n",
    "    if amb == 'нет':\n",
    "        for c in 'il1Lo0O':\n",
    "            chars.replace(c,'') # заменить символ на пустой текст.\n",
    "    return chars\n",
    "\n",
    "# делаем пароли\n",
    "def build_password():\n",
    "    for i in range(n):\n",
    "        password = []\n",
    "        for i in range(l):\n",
    "            password.append(choice(chars))\n",
    "        print(''.join(password))\n",
    "\n",
    "# старт программы\n",
    "n = count()\n",
    "l = long()\n",
    "isn = is_number()\n",
    "isup = is_upper()\n",
    "islw = is_lower()\n",
    "issmb = is_symbol()\n",
    "amb = is_ambiguous()\n",
    "chars = gen_chars()\n",
    "build_password()"
   ],
   "metadata": {
    "collapsed": false,
    "pycharm": {
     "name": "#%%\n"
    }
   }
  },
  {
   "cell_type": "code",
   "execution_count": 10,
   "outputs": [
    {
     "name": "stdout",
     "output_type": "stream",
     "text": [
      "jN$cG8Sr72J+#?\n"
     ]
    }
   ],
   "source": [
    "import random\n",
    "\n",
    "kolvo = int(input('Количество паролей для генерации:'))\n",
    "len_parol = int(input('Длину паролей:'))\n",
    "digit = '23456789' if input('Включать ли цифры:').lower() == '1' else ''\n",
    "big = 'ABCDEFGHIJKMNPQRSTUVWXYZ' if input('Включать ли прописные буквы:').lower() == '1' else ''\n",
    "small = 'abcdefghjklmnpqrstuvwxyz' if input('Включать ли строчные буквы').lower() == '1' else ''\n",
    "symvols = '!#$%&*+-=?@^_' if input('Включать ли символы !#$%&*+-=?@^_?').lower() == '1' else ''\n",
    "neformal = 'il1Lo0O' if input('Исключать ли неоднозначные символы il1Lo0O?').lower() == '1' else ''\n",
    "chars = digit + big + small + symvols + neformal\n",
    "\n",
    "for _ in range(kolvo):\n",
    "    for _ in range(len_parol):\n",
    "        print(random.choice(chars), end='')\n",
    "    print()"
   ],
   "metadata": {
    "collapsed": false,
    "pycharm": {
     "name": "#%%\n"
    }
   }
  }
 ],
 "metadata": {
  "kernelspec": {
   "display_name": "Python 3",
   "language": "python",
   "name": "python3"
  },
  "language_info": {
   "codemirror_mode": {
    "name": "ipython",
    "version": 2
   },
   "file_extension": ".py",
   "mimetype": "text/x-python",
   "name": "python",
   "nbconvert_exporter": "python",
   "pygments_lexer": "ipython2",
   "version": "2.7.6"
  }
 },
 "nbformat": 4,
 "nbformat_minor": 0
}