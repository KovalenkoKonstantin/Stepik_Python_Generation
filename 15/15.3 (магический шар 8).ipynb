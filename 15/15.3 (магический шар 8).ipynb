﻿{
 "cells": [
  {
   "cell_type": "raw",
   "source": [
    "1. Заголовок программы:"
   ],
   "metadata": {
    "collapsed": false,
    "pycharm": {
     "name": "#%% raw\n"
    }
   }
  },
  {
   "cell_type": "code",
   "execution_count": 1,
   "outputs": [],
   "source": [
    "import random\n",
    "\n",
    "answers = ['Бесспорно', 'Мне кажется - да', 'Пока не ясно, попробуй снова', 'Даже не думай',\n",
    "'Предрешено', 'Вероятнее всего', 'Спроси позже', 'Мой ответ - нет', 'Никаких сомнений',\n",
    "'Хорошие перспективы', 'Лучше не рассказывать', 'По моим данным - нет', 'Определённо да',\n",
    "'Знаки говорят - да', 'Сейчас нельзя предсказать', 'Перспективы не очень хорошие',\n",
    "'Можешь быть уверен в этом', 'Да', 'Сконцентрируйся и спроси опять', 'Весьма сомнительно']"
   ],
   "metadata": {
    "collapsed": false,
    "pycharm": {
     "name": "#%%\n"
    }
   }
  },
  {
   "cell_type": "raw",
   "source": [
    "2. Приветствие пользователя:"
   ],
   "metadata": {
    "collapsed": false,
    "pycharm": {
     "name": "#%% raw\n"
    }
   }
  },
  {
   "cell_type": "code",
   "execution_count": null,
   "outputs": [],
   "source": [
    "print('Привет Мир, Я магический шар, и я знаю ответ на любой твой вопрос.')\n",
    "\n",
    "name = input('Как тебя зовут?')\n",
    "print('Привет',  name)"
   ],
   "metadata": {
    "collapsed": false,
    "pycharm": {
     "name": "#%%\n",
     "is_executing": true
    }
   }
  },
  {
   "cell_type": "raw",
   "source": [
    "3. Основной цикл программы:"
   ],
   "metadata": {
    "collapsed": false,
    "pycharm": {
     "name": "#%% raw\n"
    }
   }
  },
  {
   "cell_type": "code",
   "execution_count": null,
   "outputs": [],
   "source": [
    "again = 'д'\n",
    "\n",
    "while again.lower() == 'д':\n",
    "    question = input('Задай мне свой вопрос: ')\n",
    "    print(random.choice(answers))\n",
    "    again = input('Задать еще один вопрос? (д = да, н = нет): ')\n",
    "\n",
    "    if not again.lower() == 'д':\n",
    "        print('Возвращайся если возникнут вопросы!')"
   ],
   "metadata": {
    "collapsed": false,
    "pycharm": {
     "name": "#%%\n"
    }
   }
  },
  {
   "cell_type": "code",
   "execution_count": null,
   "outputs": [],
   "source": [],
   "metadata": {
    "collapsed": false,
    "pycharm": {
     "name": "#%%\n"
    }
   }
  }
 ],
 "metadata": {
  "kernelspec": {
   "display_name": "Python 3",
   "language": "python",
   "name": "python3"
  },
  "language_info": {
   "codemirror_mode": {
    "name": "ipython",
    "version": 2
   },
   "file_extension": ".py",
   "mimetype": "text/x-python",
   "name": "python",
   "nbconvert_exporter": "python",
   "pygments_lexer": "ipython2",
   "version": "2.7.6"
  }
 },
 "nbformat": 4,
 "nbformat_minor": 0
}