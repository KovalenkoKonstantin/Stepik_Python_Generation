﻿{
 "cells": [
  {
   "cell_type": "code",
   "execution_count": 2,
   "metadata": {
    "collapsed": true,
    "pycharm": {
     "name": "#%%\n"
    }
   },
   "outputs": [
    {
     "data": {
      "text/plain": "63"
     },
     "execution_count": 2,
     "metadata": {},
     "output_type": "execute_result"
    }
   ],
   "source": [
    "int('111111', 2)"
   ]
  },
  {
   "cell_type": "code",
   "execution_count": null,
   "outputs": [],
   "source": [
    "print('Перевод из 2-й системы счисления в 10-ю')\n",
    "value = input('Введите число системе счисления ')\n",
    "osn = int(input('Введите основание системы счисления '))\n",
    "value = value[::-1]\n",
    "itog = 0\n",
    "for i in range(len(value)):\n",
    "    itog += int(value[i]) * (osn ** i)\n",
    "print(itog)"
   ],
   "metadata": {
    "collapsed": false,
    "pycharm": {
     "name": "#%%\n"
    }
   }
  },
  {
   "cell_type": "code",
   "execution_count": 4,
   "outputs": [
    {
     "data": {
      "text/plain": "6898"
     },
     "execution_count": 4,
     "metadata": {},
     "output_type": "execute_result"
    }
   ],
   "source": [
    "int('1AF2', 16)"
   ],
   "metadata": {
    "collapsed": false,
    "pycharm": {
     "name": "#%%\n"
    }
   }
  },
  {
   "cell_type": "code",
   "execution_count": 11,
   "outputs": [
    {
     "name": "stdout",
     "output_type": "stream",
     "text": [
      "1000000001\n"
     ]
    }
   ],
   "source": [
    "n = int(input(\"Начальное число в десятичной системе: \"))\n",
    "m = int(input(\"В какую систему переводим: \"))\n",
    "s = \"\"\n",
    "vol = [0, 1, 2, 3, 4, 5, 6, 7, 8, 9, \"A\", \"B\", \"C\", \"D\", \"E\", \"F\"]  #Это код из десятичной в любую\n",
    "while n != 0:\n",
    "    ch = n % m\n",
    "    s = str(vol[ch]) + s\n",
    "    n //= m\n",
    "print(s)"
   ],
   "metadata": {
    "collapsed": false,
    "pycharm": {
     "name": "#%%\n"
    }
   }
  },
  {
   "cell_type": "raw",
   "source": [
    "Функция bin() возвращает строку с двоичным представлением указанного целого числа."
   ],
   "metadata": {
    "collapsed": false,
    "pycharm": {
     "name": "#%% raw\n"
    }
   }
  },
  {
   "cell_type": "code",
   "execution_count": 12,
   "outputs": [
    {
     "name": "stdout",
     "output_type": "stream",
     "text": [
      "0b1010\n",
      "0b10000000\n",
      "0b10010110\n",
      "0b100100101001101\n"
     ]
    }
   ],
   "source": [
    "print(bin(10))\n",
    "print(bin(128))\n",
    "print(bin(150))\n",
    "print(bin(18765))"
   ],
   "metadata": {
    "collapsed": false,
    "pycharm": {
     "name": "#%%\n"
    }
   }
  },
  {
   "cell_type": "raw",
   "source": [
    "Важно: обратите внимание на приставку 0b, которая сигнализирует о том, что число представлено в двоичной системе счисления."
   ],
   "metadata": {
    "collapsed": false,
    "pycharm": {
     "name": "#%% raw\n"
    }
   }
  },
  {
   "cell_type": "raw",
   "source": [
    "Функция oct() возвращает строку с восьмеричным представлением указанного целого числа."
   ],
   "metadata": {
    "collapsed": false,
    "pycharm": {
     "name": "#%% raw\n"
    }
   }
  },
  {
   "cell_type": "code",
   "execution_count": 13,
   "outputs": [
    {
     "name": "stdout",
     "output_type": "stream",
     "text": [
      "0o12\n",
      "0o200\n",
      "0o226\n",
      "0o44515\n"
     ]
    }
   ],
   "source": [
    "print(oct(10))\n",
    "print(oct(128))\n",
    "print(oct(150))\n",
    "print(oct(18765))"
   ],
   "metadata": {
    "collapsed": false,
    "pycharm": {
     "name": "#%%\n"
    }
   }
  },
  {
   "cell_type": "raw",
   "source": [
    "Важно: обратите внимание на приставку 0o, которая сигнализирует о том, что число представлено в восьмеричной системе счисления."
   ],
   "metadata": {
    "collapsed": false,
    "pycharm": {
     "name": "#%% raw\n"
    }
   }
  },
  {
   "cell_type": "raw",
   "source": [
    "Функция hex() возвращает строку с шестнадцатеричным представлением указанного целого числа."
   ],
   "metadata": {
    "collapsed": false,
    "pycharm": {
     "name": "#%% raw\n"
    }
   }
  },
  {
   "cell_type": "code",
   "execution_count": 14,
   "outputs": [
    {
     "name": "stdout",
     "output_type": "stream",
     "text": [
      "0xa\n",
      "0x80\n",
      "0x96\n",
      "0x494d\n"
     ]
    }
   ],
   "source": [
    "print(hex(10))\n",
    "print(hex(128))\n",
    "print(hex(150))\n",
    "print(hex(18765))"
   ],
   "metadata": {
    "collapsed": false,
    "pycharm": {
     "name": "#%%\n"
    }
   }
  },
  {
   "cell_type": "raw",
   "source": [
    "Важно: обратите внимание на приставку 0x, которая сигнализирует о том, что число представлено в шестнадцатеричной системе счисления."
   ],
   "metadata": {
    "collapsed": false,
    "pycharm": {
     "name": "#%% raw\n"
    }
   }
  },
  {
   "cell_type": "raw",
   "source": [
    "Если нам требуется избавиться от приставок 0b, 0o, 0x, то мы можем воспользоваться строковым срезом:"
   ],
   "metadata": {
    "collapsed": false,
    "pycharm": {
     "name": "#%% raw\n"
    }
   }
  },
  {
   "cell_type": "code",
   "execution_count": 15,
   "outputs": [
    {
     "name": "stdout",
     "output_type": "stream",
     "text": [
      "1111111\n",
      "177\n",
      "7f\n"
     ]
    }
   ],
   "source": [
    "num = 127\n",
    "\n",
    "bin_num = bin(num)  # 0b1111111\n",
    "oct_num = oct(num)  # 0o177\n",
    "hex_num = hex(num)  # 0x7f\n",
    "\n",
    "print(bin_num[2:])  # 1111111\n",
    "print(oct_num[2:])  # 177\n",
    "print(hex_num[2:])  # 7f"
   ],
   "metadata": {
    "collapsed": false,
    "pycharm": {
     "name": "#%%\n"
    }
   }
  },
  {
   "cell_type": "raw",
   "source": [
    "Обратите внимание, что функция hex() возвращает шестнадцатеричное число с маленькими символами a, b, c, d, e, f. Для преобразования к верхнему регистру можно использовать строковый метод upper():"
   ],
   "metadata": {
    "collapsed": false,
    "pycharm": {
     "name": "#%% raw\n"
    }
   }
  },
  {
   "cell_type": "code",
   "execution_count": 16,
   "outputs": [
    {
     "name": "stdout",
     "output_type": "stream",
     "text": [
      "1F1C8\n"
     ]
    }
   ],
   "source": [
    "num = 127432\n",
    "\n",
    "hex_num = hex(num)          # 0x1f1c8\n",
    "print(hex_num[2:].upper())  # 1F1C8"
   ],
   "metadata": {
    "collapsed": false,
    "pycharm": {
     "name": "#%%\n"
    }
   }
  },
  {
   "cell_type": "raw",
   "source": [
    "На вход программе подается натуральное число в десятичной системе счисления. Напишите программу, которая переводит его в двоичную, восьмеричную и шестнадцатеричную системы счисления.\n",
    "\n",
    "Формат входных данных\n",
    "На вход программе подается натуральное число.\n",
    "\n",
    "Формат выходных данных\n",
    "Программа должна вывести текст в соответствии с условием задачи.\n",
    "\n",
    "Примечание 1. Используйте встроенные функции bin(), oct(), hex().\n",
    "\n",
    "Примечание 2. Для шестнадцатеричной системы счисления используйте заглавные буквы A, B, C, D, E, F.\n",
    "\n",
    "Примечание 3. BOH = Binary, Octal, Hex."
   ],
   "metadata": {
    "collapsed": false,
    "pycharm": {
     "name": "#%% raw\n"
    }
   }
  },
  {
   "cell_type": "code",
   "execution_count": null,
   "outputs": [],
   "source": [
    "num = int(input())\n",
    "\n",
    "bin_num = bin(num)\n",
    "oct_num = oct(num)\n",
    "hex_num = hex(num)\n",
    "\n",
    "print(bin_num[2:])\n",
    "print(oct_num[2:])\n",
    "print(hex_num[2:].upper())"
   ],
   "metadata": {
    "collapsed": false,
    "pycharm": {
     "name": "#%%\n"
    }
   }
  }
 ],
 "metadata": {
  "kernelspec": {
   "display_name": "Python 3",
   "language": "python",
   "name": "python3"
  },
  "language_info": {
   "codemirror_mode": {
    "name": "ipython",
    "version": 2
   },
   "file_extension": ".py",
   "mimetype": "text/x-python",
   "name": "python",
   "nbconvert_exporter": "python",
   "pygments_lexer": "ipython2",
   "version": "2.7.6"
  }
 },
 "nbformat": 4,
 "nbformat_minor": 0
}