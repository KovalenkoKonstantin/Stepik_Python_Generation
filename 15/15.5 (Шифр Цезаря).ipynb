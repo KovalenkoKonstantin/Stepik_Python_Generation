﻿{
 "cells": [
  {
   "cell_type": "raw",
   "source": [
    "Зашифруйте текст \"Блажен, кто верует, тепло ему на свете!\" алгоритмом Цезаря с сдвигом вправо на 10 символов.\n",
    "\n",
    "Примечание. Считайте, что русский алфавит состоит из 32 букв (буква ё отсутствует)."
   ],
   "metadata": {
    "collapsed": false,
    "pycharm": {
     "name": "#%% raw\n"
    }
   }
  },
  {
   "cell_type": "code",
   "execution_count": 8,
   "metadata": {
    "collapsed": true,
    "pycharm": {
     "name": "#%%\n"
    }
   },
   "outputs": [
    {
     "name": "stdout",
     "output_type": "stream",
     "text": [
      "The grass is always greener on the other side of the fence.\""
     ]
    }
   ],
   "source": [
    "# Задаем четыре вопроса пользователю: шифр-дешифр, язык, шаг, текст.\n",
    "# За каждым вопросом стоит while-проверка, что введенный ответ является корректным значением.\n",
    "\n",
    "whats_direction = input('Что мы должны сделать: шифровать или дешифровать? \\n').lower()\n",
    "while whats_direction != 'шифровать' and whats_direction != 'дешифровать':\n",
    "    whats_direction = input('Что-то не то ты ввёл. Напиши \"шифровать\" либо \"дешифровать\". \\n').lower()\n",
    "\n",
    "\n",
    "\n",
    "whats_language = input('Какой нужен язык: русский или английский? \\n').lower()\n",
    "while whats_language != 'русский' and whats_language != 'английский':\n",
    "    whats_language = input('Что-то не то ты ввёл. Напиши \"русский\" либо \"английский\". \\n').lower()\n",
    "\n",
    "\n",
    "\n",
    "whats_step = input('На сколько символовов мы сдвигаем буквы по алфавиту? Ответ напиши числом. \\n')\n",
    "while whats_step.isdigit() != True:\n",
    "    whats_step = input('Что-то не то ты ввёл. Напиши число. \\n')\n",
    "\n",
    "\n",
    "\n",
    "whats_text = input('Какой текст нужно использовать сейчас? \\n')\n",
    "while whats_text.isspace() == True:\n",
    "    whats_text = input('Что-то не то ты ввёл. Введи текст. \\n')\n",
    "\n",
    "\n",
    "\n",
    "# Объявляем функцию с четырьмя аргументами – соответственно четырем вопросам.\n",
    "def caesar(direction, language, step, text):\n",
    "\n",
    "\n",
    "    # Четыре словаря под русские и английские символы, большие и маленькие.\n",
    "    # В теории можно обойтись без них и обращаться к таблице Unicode.\n",
    "    # Но мне было удобнее создать свои словари.\n",
    "\n",
    "    upper_eng_alphabet = 'ABCDEFGHIJKLMNOPQRSTUVWXYZ'\n",
    "    lower_eng_alphabet = 'abcdefghijklmnopqrstuvwxyz'\n",
    "    upper_rus_alphabet = 'АБВГДЕЖЗИЙКЛМНОПРСТУФХЦЧШЩЪЫЬЭЮЯ'\n",
    "    lower_rus_alphabet = 'абвгдежзийклмнопрстуфхцчшщъыьэюя'\n",
    "\n",
    "    # Объявляем цикл for. Количество итераций равно длине строки text.\n",
    "    for i in range(len(text)):\n",
    "\n",
    "\n",
    "        # Задаем локальные переменные: длину алфавита и значения словарей.\n",
    "        if language == 'русский':\n",
    "            alphas = 32\n",
    "            low_alphabet = lower_rus_alphabet\n",
    "            upp_alphabet = upper_rus_alphabet\n",
    "        if language == 'английский':\n",
    "            alphas = 26\n",
    "            low_alphabet = lower_eng_alphabet\n",
    "            upp_alphabet = upper_eng_alphabet\n",
    "\n",
    "\n",
    "        # Если text[i] является буквой:\n",
    "        if text[i].isalpha():\n",
    "\n",
    "            # Находим место символа text[i] в словаре upp_alphabet либо low_alphabet.\n",
    "            if text[i] == text[i].lower():\n",
    "                place = low_alphabet.index(text[i])\n",
    "            if text[i] == text[i].upper():\n",
    "                place = upp_alphabet.index(text[i])\n",
    "\n",
    "            # Если нужно дешифровать, то:\n",
    "            if direction == 'дешифровать':\n",
    "                # Находим индекс для измененного символа.\n",
    "                # Новый ндекс = Старый индекс - Шаг % Длина алфавита\n",
    "                index = (place - int(step)) % alphas\n",
    "\n",
    "\n",
    "            # Если нужно зашифровать, то:\n",
    "            elif direction == 'шифровать':\n",
    "                # Находим индекс для измененного символа.\n",
    "                # Новый ндекс = Старый индекс + Шаг % Длина алфавита\n",
    "                index = (place + int(step)) % alphas\n",
    "\n",
    "\n",
    "            # Выводим измененный символ.\n",
    "            if text[i] == text[i].lower():\n",
    "                print(low_alphabet[index], end='')\n",
    "            if text[i] == text[i].upper():\n",
    "                print(upp_alphabet[index], end='')\n",
    "\n",
    "\n",
    "\n",
    "        # Если text[i] не является буквой:\n",
    "        else:\n",
    "            # Делаем print этого символа без изменений.\n",
    "            print(text[i], end='')\n",
    "\n",
    "\n",
    "# Вызываем функцию, передавая в аргументы четыре input`а из начала кода.\n",
    "caesar(whats_direction, whats_language, whats_step, whats_text)"
   ]
  },
  {
   "cell_type": "code",
   "execution_count": null,
   "outputs": [],
   "source": [
    "text = 'Блажен, кто верует, тепло ему на свете!'\n",
    "\n",
    "code_text = ''\n",
    "for char in text:\n",
    "    if char.isalpha():\n",
    "        code_text += (chr(ord(char) + 10))\n",
    "    else:\n",
    "        code_text += char\n",
    "\n",
    "\n",
    "print(code_text)"
   ],
   "metadata": {
    "collapsed": false,
    "pycharm": {
     "name": "#%%\n"
    }
   }
  },
  {
   "cell_type": "raw",
   "source": [
    "Зашифруйте текст \"To be, or not to be, that is the question!\" алгоритмом Цезаря с сдвигом вправо на 17 символов."
   ],
   "metadata": {
    "collapsed": false,
    "pycharm": {
     "name": "#%% raw\n"
    }
   }
  },
  {
   "cell_type": "code",
   "execution_count": 9,
   "outputs": [
    {
     "name": "stdout",
     "output_type": "stream",
     "text": [
      "e sv,    sv, yr z yv vz!\n"
     ]
    }
   ],
   "source": [
    "text = 'To be, or not to be, that is the question!'\n",
    "\n",
    "code_text = ''\n",
    "for char in text:\n",
    "    if char.isalpha():\n",
    "        code_text += (chr(ord(char) + 17))\n",
    "    else:\n",
    "        code_text += char\n",
    "\n",
    "\n",
    "print(code_text)"
   ],
   "metadata": {
    "collapsed": false,
    "pycharm": {
     "name": "#%%\n"
    }
   }
  },
  {
   "cell_type": "raw",
   "source": [
    "Текст \"Шсъцхр щмчжмщ йшм, нмтзж йшм лхшщзщг.\" был получен в результате шифрования алгоритмом Цезаря с сдвигом вправо на 7 символов. Расшифруйте данный текст.\n",
    "\n",
    "Примечание. Считайте, что русский алфавит состоит из 32 букв (буква ё отсутствует)."
   ],
   "metadata": {
    "collapsed": false,
    "pycharm": {
     "name": "#%% raw\n"
    }
   }
  },
  {
   "cell_type": "raw",
   "source": [
    "Текст \"Hawnj pk swhg xabkna ukq nqj.\" был получен в результате шифрования алгоритмом Цезаря с сдвигом вправо на n символов. Расшифруйте данный текст.\n",
    "\n",
    "Примечание. Считайте, что n∈[0;25]."
   ],
   "metadata": {
    "collapsed": false,
    "pycharm": {
     "name": "#%% raw\n"
    }
   }
  },
  {
   "cell_type": "code",
   "execution_count": null,
   "outputs": [],
   "source": [
    "text = 'Hawnj pk swhg xabkna ukq nqj.'\n",
    "whats_range = 26\n",
    "def caesar(whats_range, text):\n",
    "    low_alphabet = 'abcdefghijklmnopqrstuvwxyz'\n",
    "    upp_alphabet = 'ABCDEFGHIJKLMNOPQRSTUVWXYZ'\n",
    "    alphas = 26\n",
    "\n",
    "    for j in range(whats_range + 1):\n",
    "        decrypted_text = []\n",
    "\n",
    "        for i in range(len(text)):\n",
    "            if text[i].isalpha():\n",
    "                if text[i].islower():\n",
    "                    place = low_alphabet.index(text[i])\n",
    "                    index = (place - j) % alphas\n",
    "                    decrypted_text.append(low_alphabet[index])\n",
    "                elif text[i].isupper():\n",
    "                    place = upp_alphabet.index(text[i])\n",
    "                    index = (place - j) % alphas\n",
    "                    decrypted_text.append(upp_alphabet[index])\n",
    "            else:\n",
    "                decrypted_text.append(text[i])\n",
    "\n",
    "        print('Shift {}: {}'.format(j, ''.join(decrypted_text)))\n",
    "\n",
    "# Вызываем функцию.\n",
    "caesar(whats_range, text)"
   ],
   "metadata": {
    "collapsed": false,
    "pycharm": {
     "name": "#%%\n",
     "is_executing": true
    }
   }
  },
  {
   "cell_type": "raw",
   "source": [
    "На вход программе подается строка текста на английском языке, в которой нужно зашифровать все слова. Каждое слово строки следует зашифровать с помощью шифра Цезаря (циклического сдвига на длину этого слова). Строчные буквы при этом остаются строчными, а прописные – прописными. Гарантируется, что между различными словами присутствует один пробел.\n",
    "\n",
    "Формат входных данных\n",
    "На вход программе подается строка текста на английском языке.\n",
    "\n",
    "Формат выходных данных\n",
    "Программа должна вывести зашифрованный текст в соответствии с условием задачи.\n",
    "\n",
    "Примечание. Символы, не являющиеся английскими буквами, не изменяются."
   ],
   "metadata": {
    "collapsed": false,
    "pycharm": {
     "name": "#%% raw\n"
    }
   }
  },
  {
   "cell_type": "code",
   "execution_count": 59,
   "outputs": [
    {
     "name": "stdout",
     "output_type": "stream",
     "text": [
      "Gdb, qmgi. \"Ciev\" ku b tpzahrl! \n"
     ]
    }
   ],
   "source": [
    "text = 'Day, mice. \"Year\" is a mistake!'\n",
    "\n",
    "low_alphabet = 'abcdefghijklmnopqrstuvwxyz'\n",
    "upp_alphabet = 'ABCDEFGHIJKLMNOPQRSTUVWXYZ'\n",
    "alphas = 26\n",
    "\n",
    "def caesar(text):\n",
    "\n",
    "    l = text.split()\n",
    "    length = 0\n",
    "    encrypted_text = []\n",
    "    for i in l:\n",
    "        for j in i:\n",
    "            if j.isalpha():\n",
    "                length += 1\n",
    "        for k in i:\n",
    "            if k.isalpha():\n",
    "                # encrypted_text += chr(ord(k) + length)\n",
    "                if k.islower():\n",
    "                    place = low_alphabet.index(k)\n",
    "                    index = (place + length) % alphas\n",
    "                    encrypted_text.append(low_alphabet[index])\n",
    "                elif k.isupper():\n",
    "                    place = upp_alphabet.index(k)\n",
    "                    index = (place + length) % alphas\n",
    "                    encrypted_text.append(upp_alphabet[index])\n",
    "            else:\n",
    "                encrypted_text.append(k)\n",
    "        encrypted_text.append(' ')\n",
    "        length = 0\n",
    "\n",
    "    # return print(encrypted_text)\n",
    "    return print('{}'.format(''.join(encrypted_text)))\n",
    "\n",
    "# text = input()\n",
    "\n",
    "# Вызываем функцию.\n",
    "caesar(text)"
   ],
   "metadata": {
    "collapsed": false,
    "pycharm": {
     "name": "#%%\n"
    }
   }
  },
  {
   "cell_type": "raw",
   "source": [
    "1. разбила предложения на слова с помощью split()\n",
    "\n",
    "2. начинаем цикл по кодировке отдельного слова, в нем любой символ, не только буква.\n",
    "\n",
    "     2.1 внутренний цикл считает число букв в слове - это смещение для шифра.\n",
    "\n",
    "     2.2 начинает работу второй внутренний цикл посимвольного кодирования:\n",
    "\n",
    "           - если символ буква, то шифруем с помощью chr() и ord(), как в уроке 9.6\n",
    "\n",
    "          - если символ не буква, то не кодируем, \"пристегиваем\" как есть.\n",
    "\n",
    "     2.3 старое данное слово меняем на зашифрованное.\n",
    "\n",
    "3. и наконец, выводим на печать через пробел зашифрованные слова"
   ],
   "metadata": {
    "collapsed": false,
    "pycharm": {
     "name": "#%% raw\n"
    }
   }
  },
  {
   "cell_type": "code",
   "execution_count": null,
   "outputs": [],
   "source": [
    "for i in range(len(text)):\n",
    "            if text[i].isalpha():\n",
    "                if text[i].islower():\n",
    "                    place = low_alphabet.index(text[i])\n",
    "                    index = (place - j) % alphas\n",
    "                    decrypted_text.append(low_alphabet[index])\n",
    "                elif text[i].isupper():\n",
    "                    place = upp_alphabet.index(text[i])\n",
    "                    index = (place - j) % alphas\n",
    "                    decrypted_text.append(upp_alphabet[index])\n",
    "            else:\n",
    "                decrypted_text.append(text[i])\n",
    "\n",
    "        print('Shift {}: {}'.format(j, ''.join(decrypted_text)))"
   ],
   "metadata": {
    "collapsed": false,
    "pycharm": {
     "name": "#%%\n",
     "is_executing": true
    }
   }
  }
 ],
 "metadata": {
  "kernelspec": {
   "display_name": "Python 3",
   "language": "python",
   "name": "python3"
  },
  "language_info": {
   "codemirror_mode": {
    "name": "ipython",
    "version": 2
   },
   "file_extension": ".py",
   "mimetype": "text/x-python",
   "name": "python",
   "nbconvert_exporter": "python",
   "pygments_lexer": "ipython2",
   "version": "2.7.6"
  }
 },
 "nbformat": 4,
 "nbformat_minor": 0
}