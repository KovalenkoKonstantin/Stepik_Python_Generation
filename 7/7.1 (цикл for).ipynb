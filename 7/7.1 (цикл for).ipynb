﻿{
 "cells": [
  {
   "cell_type": "markdown",
   "source": [
    "Напишите программу, которая выводит слова «Python is awesome!» (без кавычек) 10 раз.\n",
    "\n",
    "Формат входных данных\n",
    "\n",
    "Формат выходных данных\n",
    "Программа должна вывести 10 раз текст «Python is awesome!», каждый на отдельной строке."
   ],
   "metadata": {
    "collapsed": false,
    "pycharm": {
     "name": "#%% md\n"
    }
   }
  },
  {
   "cell_type": "code",
   "execution_count": null,
   "outputs": [],
   "source": [
    "print('Python is awesome!')\n",
    "print('Python is awesome!')\n",
    "print('Python is awesome!')\n",
    "print('Python is awesome!')\n",
    "print('Python is awesome!')\n",
    "print('Python is awesome!')\n",
    "print('Python is awesome!')\n",
    "print('Python is awesome!')\n",
    "print('Python is awesome!')\n",
    "print('Python is awesome!')"
   ],
   "metadata": {
    "collapsed": false,
    "pycharm": {
     "name": "#%%\n"
    }
   }
  },
  {
   "cell_type": "code",
   "execution_count": null,
   "outputs": [],
   "source": [
    "print('Python awesome!\\n' * 10)"
   ],
   "metadata": {
    "collapsed": false,
    "pycharm": {
     "name": "#%%\n"
    }
   }
  },
  {
   "cell_type": "code",
   "execution_count": null,
   "outputs": [],
   "source": [
    "[print('Python is awesome!') for _ in 'десять раз']"
   ],
   "metadata": {
    "collapsed": false,
    "pycharm": {
     "name": "#%%\n"
    }
   }
  },
  {
   "cell_type": "code",
   "execution_count": null,
   "outputs": [],
   "source": [
    "for _ in range(10):\n",
    "    print('Python is awesome!')"
   ],
   "metadata": {
    "collapsed": false,
    "pycharm": {
     "name": "#%%\n"
    }
   }
  },
  {
   "cell_type": "markdown",
   "source": [
    "Дано предложение и количество раз, сколько его надо повторить. Напишите программу, которая повторяет данное предложение нужное количество раз.\n",
    "\n",
    "Формат входных данных\n",
    "В первой строке записано текстовое предложение, во второй — количество повторений.\n",
    "\n",
    "Формат выходных данных\n",
    "Программа должна вывести указанное текстовое предложение нужное количество раз. Каждое повторение должно начинаться с новой строки."
   ],
   "metadata": {
    "collapsed": false,
    "pycharm": {
     "name": "#%% md\n"
    }
   }
  },
  {
   "cell_type": "code",
   "execution_count": null,
   "outputs": [],
   "source": [
    "s = input()\n",
    "n = int(input())\n",
    "\n",
    "for _ in range(n):\n",
    "    print(s)"
   ],
   "metadata": {
    "collapsed": false,
    "pycharm": {
     "name": "#%%\n"
    }
   }
  },
  {
   "cell_type": "code",
   "execution_count": null,
   "outputs": [],
   "source": [
    "print((input() + '\\n') * int(input()))"
   ],
   "metadata": {
    "collapsed": false,
    "pycharm": {
     "name": "#%%\n"
    }
   }
  },
  {
   "cell_type": "code",
   "execution_count": null,
   "outputs": [],
   "source": [
    "a, b = input(), int(input())\n",
    "[print(a) for _ in range(b)]"
   ],
   "metadata": {
    "collapsed": false,
    "pycharm": {
     "name": "#%%\n"
    }
   }
  },
  {
   "cell_type": "code",
   "execution_count": null,
   "outputs": [],
   "source": [
    "print(f'{input()}\\n' * int(input()))"
   ],
   "metadata": {
    "collapsed": false,
    "pycharm": {
     "name": "#%%\n"
    }
   }
  },
  {
   "cell_type": "markdown",
   "source": [
    "Напишите программу, которая использует ровно три цикла for для печати следующей последовательности символов:\n",
    "\n",
    "AAA\n",
    "AAA\n",
    "AAA\n",
    "AAA\n",
    "AAA\n",
    "AAA\n",
    "BBBB\n",
    "BBBB\n",
    "BBBB\n",
    "BBBB\n",
    "BBBB\n",
    "E\n",
    "TTTTT\n",
    "TTTTT\n",
    "TTTTT\n",
    "TTTTT\n",
    "TTTTT\n",
    "TTTTT\n",
    "TTTTT\n",
    "TTTTT\n",
    "TTTTT\n",
    "G"
   ],
   "metadata": {
    "collapsed": false,
    "pycharm": {
     "name": "#%% md\n"
    }
   }
  },
  {
   "cell_type": "code",
   "execution_count": null,
   "outputs": [],
   "source": [
    "for _ in range(6):\n",
    "    print('A' * 3)\n",
    "for _ in range(5):\n",
    "    print('B' * 4)\n",
    "print('E')\n",
    "for _ in range(9):\n",
    "    print('T' * 5)\n",
    "print('G')"
   ],
   "metadata": {
    "collapsed": false,
    "pycharm": {
     "name": "#%%\n",
     "is_executing": true
    }
   }
  },
  {
   "cell_type": "code",
   "execution_count": null,
   "outputs": [],
   "source": [
    "print('AAA\\n' * 6 + 'BBBB\\n' * 5 + 'E\\n' + 'TTTTT\\n' * 9 + 'G')"
   ],
   "metadata": {
    "collapsed": false,
    "pycharm": {
     "name": "#%%\n"
    }
   }
  },
  {
   "cell_type": "code",
   "execution_count": null,
   "outputs": [],
   "source": [
    "print(*['AAA' for _ in range(6)], *['BBBB' for _ in range(5)], 'E', *['TTTTT' for _ in range(9)], 'G', sep='\\n')"
   ],
   "metadata": {
    "collapsed": false,
    "pycharm": {
     "name": "#%%\n"
    }
   }
  },
  {
   "cell_type": "code",
   "execution_count": null,
   "outputs": [],
   "source": [
    "for i in 'A36 B45 E11 T59 G11'.split():\n",
    "    for j in range(int(i[2])):\n",
    "        for k in range(int(i[1])):\n",
    "            print(i[0], end='')\n",
    "        print()"
   ],
   "metadata": {
    "collapsed": false,
    "pycharm": {
     "name": "#%%\n"
    }
   }
  },
  {
   "cell_type": "code",
   "execution_count": null,
   "outputs": [],
   "source": [
    "(lambda L: [print((L[i][0] * L[i][1])) for i in range(len(L)) for _ in range(L[i][2])])(\n",
    "    list(zip('ABETG', (3, 4, 1, 5, 1), (6, 5, 1, 9, 1))))"
   ],
   "metadata": {
    "collapsed": false,
    "pycharm": {
     "name": "#%%\n"
    }
   }
  },
  {
   "cell_type": "code",
   "execution_count": null,
   "outputs": [],
   "source": [
    "liter = {'AAA': 6, 'BBBB': 5, 'E': 1, 'TTTTT': 9, 'G': 1}\n",
    "[print((i + '\\n') * j, end='') for i, j in liter.items()]"
   ],
   "metadata": {
    "collapsed": false,
    "pycharm": {
     "name": "#%%\n"
    }
   }
  },
  {
   "cell_type": "markdown",
   "source": [
    "На вход программе подается натуральное число 𝑛.\n",
    "\n",
    "Напишите программу, которая печатает звездный прямоугольник размерами 𝑛×19.\n",
    "\n",
    "Формат входных данных\n",
    "На вход программе подаётся натуральное число 𝑛∈[1;20] — высота звездного прямоугольника.\n",
    "\n",
    "Формат выходных данных\n",
    "Программа должна вывести звездный прямоугольник размерами 𝑛×19.\n",
    "\n",
    "Подсказка. Для печати звездной линии используйте умножение строки на число."
   ],
   "metadata": {
    "collapsed": false,
    "pycharm": {
     "name": "#%% md\n"
    }
   }
  },
  {
   "cell_type": "code",
   "execution_count": null,
   "outputs": [],
   "source": [
    "n = int(input())\n",
    "\n",
    "for _ in range(n):\n",
    "    print('*' * 19)"
   ],
   "metadata": {
    "collapsed": false,
    "pycharm": {
     "name": "#%%\n",
     "is_executing": true
    }
   }
  },
  {
   "cell_type": "code",
   "execution_count": null,
   "outputs": [],
   "source": [
    "print(*['*' * 19 for i in range(int(input()))], sep='\\n')"
   ],
   "metadata": {
    "collapsed": false,
    "pycharm": {
     "name": "#%%\n"
    }
   }
  },
  {
   "cell_type": "code",
   "execution_count": null,
   "outputs": [],
   "source": [
    "[print('*' * 19) for i in range(int(input()))]"
   ],
   "metadata": {
    "collapsed": false,
    "pycharm": {
     "name": "#%%\n",
     "is_executing": true
    }
   }
  },
  {
   "cell_type": "markdown",
   "source": [
    "Напишите программу, которая считывает одну строку текста и выводит 10 строк, пронумерованных от 0 до 9, каждая с указанной строкой текста.\n",
    "\n",
    "Формат входных данных\n",
    "На вход программе подается одна строка текста.\n",
    "\n",
    "Формат выходных данных\n",
    "Программа должна вывести десять строк в соответствии с условием задачи."
   ],
   "metadata": {
    "collapsed": false,
    "pycharm": {
     "name": "#%% md\n"
    }
   }
  },
  {
   "cell_type": "code",
   "execution_count": null,
   "outputs": [],
   "source": [
    "s = input()\n",
    "\n",
    "for i in range(10):\n",
    "    print(i, s)"
   ],
   "metadata": {
    "collapsed": false,
    "pycharm": {
     "name": "#%%\n"
    }
   }
  },
  {
   "cell_type": "code",
   "execution_count": null,
   "outputs": [],
   "source": [
    "s = input()\n",
    "[print(i, s) for i in range(10)]"
   ],
   "metadata": {
    "collapsed": false,
    "pycharm": {
     "name": "#%%\n"
    }
   }
  },
  {
   "cell_type": "code",
   "execution_count": null,
   "outputs": [],
   "source": [
    "[[print(i, n) for i in range(10)] for n in [input()]]"
   ],
   "metadata": {
    "collapsed": false,
    "pycharm": {
     "name": "#%%\n"
    }
   }
  },
  {
   "cell_type": "code",
   "execution_count": null,
   "outputs": [],
   "source": [
    "(lambda s: [print(i, s) for i in range(10)])(input())"
   ],
   "metadata": {
    "collapsed": false,
    "pycharm": {
     "name": "#%%\n"
    }
   }
  },
  {
   "cell_type": "markdown",
   "source": [
    "На вход программе подается натуральное число 𝑛. Напишите программу, которая для каждого из чисел от 0 до 𝑛 (включительно) выводит фразу: «Квадрат числа [число] равен [число]» (без кавычек).\n",
    "\n",
    "Формат входных данных\n",
    "На вход программе подается натуральное число n.\n",
    "\n",
    "Формат выходных данных\n",
    "Программа должна вывести текст в соответствии с условием задачи."
   ],
   "metadata": {
    "collapsed": false,
    "pycharm": {
     "name": "#%% md\n"
    }
   }
  },
  {
   "cell_type": "code",
   "execution_count": null,
   "outputs": [],
   "source": [
    "n = int(input())\n",
    "\n",
    "[print(f'Квадрат числа {i} равен {i ** 2}') for i in range(n + 1)]"
   ],
   "metadata": {
    "collapsed": false,
    "pycharm": {
     "name": "#%%\n"
    }
   }
  },
  {
   "cell_type": "code",
   "execution_count": null,
   "outputs": [],
   "source": [
    "[print('Квадрат числа', i, 'равен', i ** 2) for i in range(int(input()) + 1)]"
   ],
   "metadata": {
    "collapsed": false,
    "pycharm": {
     "name": "#%%\n"
    }
   }
  },
  {
   "cell_type": "code",
   "execution_count": null,
   "outputs": [],
   "source": [
    "print(*[f'Квадрат числа {i} равен {i ** 2}' for i in range(int(input()) + 1)], sep='\\n')"
   ],
   "metadata": {
    "collapsed": false,
    "pycharm": {
     "name": "#%%\n"
    }
   }
  },
  {
   "cell_type": "markdown",
   "source": [
    "На вход программе подается натуральное число 𝑛(𝑛≥2)– катет прямоугольного равнобедренного треугольника.\n",
    "\n",
    "Напишите программу, которая выводит звездный треугольник в соответствии с примером.\n",
    "\n",
    "Формат входных данных\n",
    "На вход программе подается одно натуральное число 𝑛(𝑛≥2).\n",
    "\n",
    "Формат выходных данных\n",
    "Программа должна вывести треугольник в соответствии с условием задачи."
   ],
   "metadata": {
    "collapsed": false,
    "pycharm": {
     "name": "#%% md\n"
    }
   }
  },
  {
   "cell_type": "code",
   "execution_count": null,
   "outputs": [],
   "source": [
    "n = int(input())\n",
    "\n",
    "for i in range(n):\n",
    "    print('*' * n)\n",
    "    n -= 1"
   ],
   "metadata": {
    "collapsed": false,
    "pycharm": {
     "name": "#%%\n"
    }
   }
  },
  {
   "cell_type": "code",
   "execution_count": null,
   "outputs": [],
   "source": [
    "n = int(input())\n",
    "\n",
    "for i in range(n):\n",
    "    print(\"*\" * (n - i))"
   ],
   "metadata": {
    "collapsed": false,
    "pycharm": {
     "name": "#%%\n"
    }
   }
  },
  {
   "cell_type": "code",
   "execution_count": null,
   "outputs": [],
   "source": [
    "for i in range(int(input()), 0, -1):\n",
    "    print(\"*\" * i)"
   ],
   "metadata": {
    "collapsed": false,
    "pycharm": {
     "name": "#%%\n"
    }
   }
  },
  {
   "cell_type": "code",
   "execution_count": null,
   "outputs": [],
   "source": [
    "[print('*' * i) for i in range(int(input()), 0, -1)]"
   ],
   "metadata": {
    "collapsed": false,
    "pycharm": {
     "name": "#%%\n"
    }
   }
  },
  {
   "cell_type": "markdown",
   "source": [
    "На вход программе подается три натуральных числа 𝑚,𝑝,𝑛:\n",
    "\n",
    "𝑚: стартовое количество организмов;\n",
    "𝑝: среднесуточное увеличение в %;\n",
    "𝑛: количество дней для размножения.\n",
    "Напишите программу, которая предсказывает размер популяции организмов с 1-го по n-й день (включительно). Программа должна выводить номер дня, а затем через пробел размер популяции в этот день.\n",
    "\n",
    "Формат входных данных\n",
    "На вход программе подается три натуральных числа.\n",
    "\n",
    "Формат выходных данных\n",
    "Программа должна вывести текст в соответствии с условием задачи.\n",
    "\n",
    "Примечание. Задача решается через сложный процент."
   ],
   "metadata": {
    "collapsed": false,
    "pycharm": {
     "name": "#%% md\n"
    }
   }
  },
  {
   "cell_type": "code",
   "execution_count": null,
   "outputs": [],
   "source": [
    "m = int(input())\n",
    "p = int(input())\n",
    "n = int(input())\n",
    "# m = 10\n",
    "# p = 50\n",
    "# n = 6\n",
    "\n",
    "for i in range(n):\n",
    "    print(i + 1, m * (p / 100 + 1) ** i)"
   ],
   "metadata": {
    "collapsed": false,
    "pycharm": {
     "name": "#%%\n",
     "is_executing": true
    }
   }
  },
  {
   "cell_type": "code",
   "execution_count": null,
   "outputs": [],
   "source": [
    "m, p, n = int(input()), int(input()) * 0.01 + 1, int(input())\n",
    "for i in range(n):\n",
    "    print(i + 1, m)\n",
    "    m = m * p"
   ],
   "metadata": {
    "collapsed": false,
    "pycharm": {
     "name": "#%%\n"
    }
   }
  },
  {
   "cell_type": "code",
   "execution_count": null,
   "outputs": [],
   "source": [
    "m, p, n = int(input()), int(input()), int(input())\n",
    "[print(i + 1, m * (1 + p / 100) ** i) for i in range(n)]"
   ],
   "metadata": {
    "collapsed": false,
    "pycharm": {
     "name": "#%%\n"
    }
   }
  },
  {
   "cell_type": "code",
   "execution_count": null,
   "outputs": [],
   "source": [
    "[[print(i + 1, m * ((p + 100) / 100) ** i) for i in range(n)] for m in [int(input())]for p in [int(input())]for n in [int(input())]]"
   ],
   "metadata": {
    "collapsed": false,
    "pycharm": {
     "name": "#%%\n"
    }
   }
  }
 ],
 "metadata": {
  "kernelspec": {
   "display_name": "Python 3",
   "language": "python",
   "name": "python3"
  },
  "language_info": {
   "codemirror_mode": {
    "name": "ipython",
    "version": 2
   },
   "file_extension": ".py",
   "mimetype": "text/x-python",
   "name": "python",
   "nbconvert_exporter": "python",
   "pygments_lexer": "ipython2",
   "version": "2.7.6"
  }
 },
 "nbformat": 4,
 "nbformat_minor": 0
}