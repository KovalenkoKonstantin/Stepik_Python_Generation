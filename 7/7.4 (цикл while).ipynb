﻿{
 "cells": [
  {
   "cell_type": "code",
   "execution_count": 1,
   "metadata": {
    "collapsed": true,
    "pycharm": {
     "name": "#%%\n"
    }
   },
   "outputs": [
    {
     "name": "stdout",
     "output_type": "stream",
     "text": [
      "21\n"
     ]
    }
   ],
   "source": [
    "i = 7\n",
    "a = 5\n",
    "while i < 11:\n",
    "    a += i\n",
    "    i += 2\n",
    "print(a)"
   ]
  },
  {
   "cell_type": "markdown",
   "source": [
    "На вход программе подается последовательность слов, каждое слово на отдельной строке. Концом последовательности является слово «КОНЕЦ» (без кавычек). При этом само слово «КОНЕЦ» не входит в последовательность, лишь символизируя её окончание. Напишите программу, которая выводит члены данной последовательности.\n",
    "\n",
    "Формат входных данных\n",
    "На вход программе подается последовательность слов, каждое слово на отдельной строке.\n",
    "\n",
    "Формат выходных данных\n",
    "Программа должна вывести члены данной последовательности."
   ],
   "metadata": {
    "collapsed": false,
    "pycharm": {
     "name": "#%% md\n"
    }
   }
  },
  {
   "cell_type": "code",
   "execution_count": null,
   "outputs": [],
   "source": [
    "s = input()\n",
    "\n",
    "while s != 'КОНЕЦ':\n",
    "    print(s)\n",
    "    s = input()"
   ],
   "metadata": {
    "collapsed": false,
    "pycharm": {
     "name": "#%%\n"
    }
   }
  },
  {
   "cell_type": "code",
   "execution_count": null,
   "outputs": [],
   "source": [
    "while True:\n",
    "    s = input()\n",
    "    if s == 'КОНЕЦ':\n",
    "        break\n",
    "    print(s)"
   ],
   "metadata": {
    "collapsed": false,
    "pycharm": {
     "name": "#%%\n"
    }
   }
  },
  {
   "cell_type": "code",
   "execution_count": null,
   "outputs": [],
   "source": [
    "while (n := input()) != 'КОНЕЦ':\n",
    "    print(n)"
   ],
   "metadata": {
    "collapsed": false,
    "pycharm": {
     "name": "#%%\n"
    }
   }
  },
  {
   "cell_type": "code",
   "execution_count": null,
   "outputs": [],
   "source": [
    "# Функция `iter()` в Python используется для создания итератора из итерируемого объекта. Итераторы в Python позволяют последовательно перебирать элементы итерируемого объекта без необходимости хранения всех элементов в памяти.\n",
    "# функция `iter()` может принимать два аргумента. Второй аргумент – это значение, которое указывает, когда превратиться второй аргумент в исключение `StopIteration`\n",
    "\n",
    "print(*iter(input, 'КОНЕЦ'), sep='\\n')"
   ],
   "metadata": {
    "collapsed": false,
    "pycharm": {
     "name": "#%%\n"
    }
   }
  },
  {
   "cell_type": "markdown",
   "source": [
    "На вход программе подается последовательность слов, каждое слово на отдельной строке. Концом последовательности является слово «КОНЕЦ» или «конец» (большими или маленькими буквами, без кавычек). При этом сами слова «КОНЕЦ» и «конец» не входят в последовательность, лишь символизируя её окончание. Напишите программу, которая выводит члены данной последовательности.\n",
    "\n",
    "Формат входных данных\n",
    "На вход программе подается последовательность слов, каждое слово на отдельной строке.\n",
    "\n",
    "Формат выходных данных\n",
    "Программа должна вывести члены данной последовательности."
   ],
   "metadata": {
    "collapsed": false,
    "pycharm": {
     "name": "#%% md\n"
    }
   }
  },
  {
   "cell_type": "code",
   "execution_count": null,
   "outputs": [],
   "source": [
    "l = []\n",
    "s = input()\n",
    "while s != 'КОНЕЦ' and s != 'конец':\n",
    "    l.append(s)\n",
    "    s = input()\n",
    "\n",
    "for item in l:\n",
    "    print(item)"
   ],
   "metadata": {
    "collapsed": false,
    "pycharm": {
     "name": "#%%\n"
    }
   }
  },
  {
   "cell_type": "code",
   "execution_count": null,
   "outputs": [],
   "source": [
    "word = input()\n",
    "while not (word == \"КОНЕЦ\" or word == \"конец\"):\n",
    "    print(word)\n",
    "    word = input()"
   ],
   "metadata": {
    "collapsed": false,
    "pycharm": {
     "name": "#%%\n"
    }
   }
  },
  {
   "cell_type": "code",
   "execution_count": null,
   "outputs": [],
   "source": [
    "x = input()\n",
    "while x not in ('КОНЕЦ', 'конец'):\n",
    "    print(x)\n",
    "    x = input()"
   ],
   "metadata": {
    "collapsed": false,
    "pycharm": {
     "name": "#%%\n"
    }
   }
  },
  {
   "cell_type": "code",
   "execution_count": null,
   "outputs": [],
   "source": [
    "x = input()\n",
    "while x.lower() != 'конец':\n",
    "    print(x)\n",
    "    x = input()"
   ],
   "metadata": {
    "collapsed": false,
    "pycharm": {
     "name": "#%%\n"
    }
   }
  },
  {
   "cell_type": "code",
   "execution_count": null,
   "outputs": [],
   "source": [
    "while True:\n",
    "    tmp = input()\n",
    "    if tmp == 'конец' or tmp == 'КОНЕЦ': break\n",
    "    print(tmp)"
   ],
   "metadata": {
    "collapsed": false,
    "pycharm": {
     "name": "#%%\n"
    }
   }
  },
  {
   "cell_type": "code",
   "execution_count": null,
   "outputs": [],
   "source": [
    "while (word := input()).upper() != 'КОНЕЦ':\n",
    "    print(word)"
   ],
   "metadata": {
    "collapsed": false,
    "pycharm": {
     "name": "#%%\n"
    }
   }
  },
  {
   "cell_type": "code",
   "execution_count": null,
   "outputs": [],
   "source": [
    "text = input()\n",
    "while 'КОНЕЦ' != text != 'конец':\n",
    "    print(text)\n",
    "    text = input()"
   ],
   "metadata": {
    "collapsed": false,
    "pycharm": {
     "name": "#%%\n"
    }
   }
  },
  {
   "cell_type": "markdown",
   "source": [
    "На вход программе подается последовательность слов, каждое слово на отдельной строке. Концом последовательности является одно из трех слов: «стоп», «хватит», «достаточно» (маленькими буквами, без кавычек). Сами эти слова в последовательность не входят, лишь символизируя её окончание. Напишите программу, которая выводит общее количество членов данной последовательности.\n",
    "\n",
    "Формат входных данных\n",
    "На вход программе подается последовательность слов, каждое слово на отдельной строке.\n",
    "\n",
    "Формат выходных данных\n",
    "Программа должна вывести общее количество членов данной последовательности."
   ],
   "metadata": {
    "collapsed": false,
    "pycharm": {
     "name": "#%% md\n"
    }
   }
  },
  {
   "cell_type": "code",
   "execution_count": null,
   "outputs": [],
   "source": [
    "s = input()\n",
    "cnt = 0\n",
    "\n",
    "while s not in ('стоп', 'хватит', 'достаточно'):\n",
    "    cnt += 1\n",
    "    s = input()\n",
    "\n",
    "print(cnt)"
   ],
   "metadata": {
    "collapsed": false,
    "pycharm": {
     "name": "#%%\n"
    }
   }
  },
  {
   "cell_type": "code",
   "execution_count": null,
   "outputs": [],
   "source": [
    "a = ['стоп', 'хватит', 'достаточно', 0]\n",
    "while input() not in a:\n",
    "    a[-1] += 1\n",
    "print(a[-1])"
   ],
   "metadata": {
    "collapsed": false,
    "pycharm": {
     "name": "#%%\n"
    }
   }
  },
  {
   "cell_type": "markdown",
   "source": [
    "На вход программе подается последовательность целых чисел делящихся на 7, каждое число на отдельной строке. Концом последовательности является любое число, не делящееся на 7 (само это число в последовательность не входит, лишь символизируя её конец). Напишите программу, которая выводит члены данной последовательности.\n",
    "\n",
    "Формат входных данных\n",
    "На вход программе подается последовательность чисел, каждое число на отдельной строке.\n",
    "\n",
    "Формат выходных данных\n",
    "Программа должна вывести члены данной последовательности."
   ],
   "metadata": {
    "collapsed": false,
    "pycharm": {
     "name": "#%% md\n"
    }
   }
  },
  {
   "cell_type": "code",
   "execution_count": null,
   "outputs": [],
   "source": [
    "x = int(input())\n",
    "while x % 7 == 0:\n",
    "    print(x)\n",
    "    x = int(input())"
   ],
   "metadata": {
    "collapsed": false,
    "pycharm": {
     "name": "#%%\n"
    }
   }
  },
  {
   "cell_type": "code",
   "execution_count": null,
   "outputs": [],
   "source": [
    "while not (x := int(input())) % 7:\n",
    "    print(x)"
   ],
   "metadata": {
    "collapsed": false,
    "pycharm": {
     "name": "#%%\n",
     "is_executing": true
    }
   }
  },
  {
   "cell_type": "markdown",
   "source": [
    "На вход программе подается последовательность целых чисел, каждое число на отдельной строке. Признаком окончания последовательности является любое отрицательное число, при этом в саму последовательность оно не входит. Напишите программу, которая выводит сумму всех членов данной последовательности.\n",
    "\n",
    "Формат входных данных\n",
    "На вход программе подается последовательность чисел, каждое число на отдельной строке.\n",
    "\n",
    "Формат выходных данных\n",
    "Программа должна вывести сумму членов данной последовательности.\n",
    "\n",
    "Примечание. Число 0 не является признаком окончания последовательности."
   ],
   "metadata": {
    "collapsed": false,
    "pycharm": {
     "name": "#%% md\n"
    }
   }
  },
  {
   "cell_type": "code",
   "execution_count": null,
   "outputs": [],
   "source": [
    "x = int(input())\n",
    "tt = 0\n",
    "while x >= 0:\n",
    "    tt +=x\n",
    "    x = int(input())\n",
    "\n",
    "print(tt)"
   ],
   "metadata": {
    "collapsed": false,
    "pycharm": {
     "name": "#%%\n",
     "is_executing": true
    }
   }
  },
  {
   "cell_type": "code",
   "execution_count": null,
   "outputs": [],
   "source": [
    "# 1. При помощи `iter()` создается итератор, который будет получать ввод пользователя с помощью `input()`.\n",
    "# 2. Лямбда-функция `lambda: (t if (t := int(input())) >= 0 else None)` используется для преобразования вводимых пользователем строк в целые числа.\n",
    "# 3. Если введенное значение больше или равно нулю, оно сохраняется в переменную `t`, иначе возвращается `None`.\n",
    "# 4. Функция `sum()` складывает все числа, полученные в результате ввода пользователя, и выводит сумму.\n",
    "\n",
    "print(sum(iter(lambda: (t if (t := int(input())) >= 0 else None), None)))"
   ],
   "metadata": {
    "collapsed": false,
    "pycharm": {
     "name": "#%%\n"
    }
   }
  },
  {
   "cell_type": "markdown",
   "source": [
    "На вход программе подается последовательность целых чисел от 1 до 5, характеризующее оценку ученика, каждое число на отдельной строке. Концом последовательности является любое неположительное число либо число, большее 5. Напишите программу, которая выводит количество пятерок.\n",
    "\n",
    "Формат входных данных\n",
    "На вход программе подается последовательность чисел, каждое число на отдельной строке.\n",
    "\n",
    "Формат выходных данных\n",
    "Программа должна вывести количество пятерок.\n",
    "\n",
    "Примечание. Не забываем, что неположительными числами являются все отрицательные числа и число 0."
   ],
   "metadata": {
    "collapsed": false,
    "pycharm": {
     "name": "#%% md\n"
    }
   }
  },
  {
   "cell_type": "code",
   "execution_count": null,
   "outputs": [],
   "source": [
    "s = int(input())\n",
    "\n",
    "cnt = 0\n",
    "\n",
    "while s in range(1, 6):\n",
    "    if s == 5:\n",
    "        cnt += 1\n",
    "    s = int(input())\n",
    "\n",
    "print(cnt)"
   ],
   "metadata": {
    "collapsed": false,
    "pycharm": {
     "name": "#%%\n"
    }
   }
  },
  {
   "cell_type": "markdown",
   "source": [
    "Всем известно, что ведьмак способен одолеть любых чудовищ, однако его услуги обойдутся недешево. К тому же ведьмак не принимает купюры, он принимает только чеканные монеты. В мире ведьмака существуют монеты с номиналами\n",
    "1,5,10,25.\n",
    "Напишите программу, которая определяет, какое минимальное количество чеканных монет нужно заплатить ведьмаку.\n",
    "\n",
    "Формат входных данных\n",
    "На вход программе подается одно натуральное число - цена за услугу ведьмака.\n",
    "\n",
    "Формат выходных данных\n",
    "Программа должна вывести минимально возможное количество чеканных монет для оплаты."
   ],
   "metadata": {
    "collapsed": false,
    "pycharm": {
     "name": "#%% md\n"
    }
   }
  },
  {
   "cell_type": "code",
   "execution_count": 3,
   "outputs": [
    {
     "name": "stdout",
     "output_type": "stream",
     "text": [
      "0\n"
     ]
    }
   ],
   "source": [
    "# жадный алгоритм\n",
    "\n",
    "num = int(input())\n",
    "coins = [25, 10, 5, 1]\n",
    "count = 0\n",
    "for coin in coins:\n",
    "    while num >= coin:\n",
    "        num -= coin\n",
    "        count += 1\n",
    "    if num == 0:\n",
    "        break\n",
    "\n",
    "print(count)\n",
    "\n",
    "# В этом коде список `coins` содержит номиналы доступных чеканных монет, а затем осуществляется итерация по ним, начиная с самого крупного номинала. Для каждой монеты проверяется, сколько раз она может поместиться в оставшуюся сумму `n`, и количество таких монет добавляется к общему количеству `count`."
   ],
   "metadata": {
    "collapsed": false,
    "pycharm": {
     "name": "#%%\n"
    }
   }
  }
 ],
 "metadata": {
  "kernelspec": {
   "display_name": "Python 3",
   "language": "python",
   "name": "python3"
  },
  "language_info": {
   "codemirror_mode": {
    "name": "ipython",
    "version": 2
   },
   "file_extension": ".py",
   "mimetype": "text/x-python",
   "name": "python",
   "nbconvert_exporter": "python",
   "pygments_lexer": "ipython2",
   "version": "2.7.6"
  }
 },
 "nbformat": 4,
 "nbformat_minor": 0
}