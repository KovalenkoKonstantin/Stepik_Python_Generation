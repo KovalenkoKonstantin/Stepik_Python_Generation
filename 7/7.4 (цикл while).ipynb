﻿{
 "cells": [
  {
   "cell_type": "code",
   "execution_count": 1,
   "metadata": {
    "collapsed": true,
    "pycharm": {
     "name": "#%%\n"
    }
   },
   "outputs": [
    {
     "name": "stdout",
     "output_type": "stream",
     "text": [
      "21\n"
     ]
    }
   ],
   "source": [
    "i = 7\n",
    "a = 5\n",
    "while i < 11:\n",
    "    a += i\n",
    "    i += 2\n",
    "print(a)"
   ]
  },
  {
   "cell_type": "markdown",
   "source": [
    "На вход программе подается последовательность слов, каждое слово на отдельной строке. Концом последовательности является слово «КОНЕЦ» (без кавычек). При этом само слово «КОНЕЦ» не входит в последовательность, лишь символизируя её окончание. Напишите программу, которая выводит члены данной последовательности.\n",
    "\n",
    "Формат входных данных\n",
    "На вход программе подается последовательность слов, каждое слово на отдельной строке.\n",
    "\n",
    "Формат выходных данных\n",
    "Программа должна вывести члены данной последовательности."
   ],
   "metadata": {
    "collapsed": false,
    "pycharm": {
     "name": "#%% md\n"
    }
   }
  },
  {
   "cell_type": "code",
   "execution_count": null,
   "outputs": [],
   "source": [
    "s = input()\n",
    "\n",
    "while s != 'КОНЕЦ':\n",
    "    print(s)\n",
    "    s = input()"
   ],
   "metadata": {
    "collapsed": false,
    "pycharm": {
     "name": "#%%\n"
    }
   }
  },
  {
   "cell_type": "code",
   "execution_count": null,
   "outputs": [],
   "source": [
    "while True:\n",
    "    s = input()\n",
    "    if s == 'КОНЕЦ':\n",
    "        break\n",
    "    print(s)"
   ],
   "metadata": {
    "collapsed": false,
    "pycharm": {
     "name": "#%%\n"
    }
   }
  },
  {
   "cell_type": "code",
   "execution_count": null,
   "outputs": [],
   "source": [
    "while (n:=input()) != 'КОНЕЦ':\n",
    "    print(n)"
   ],
   "metadata": {
    "collapsed": false,
    "pycharm": {
     "name": "#%%\n"
    }
   }
  },
  {
   "cell_type": "code",
   "execution_count": null,
   "outputs": [],
   "source": [
    "# Функция `iter()` в Python используется для создания итератора из итерируемого объекта. Итераторы в Python позволяют последовательно перебирать элементы итерируемого объекта без необходимости хранения всех элементов в памяти.\n",
    "# функция `iter()` может принимать два аргумента. Второй аргумент – это значение, которое указывает, когда превратиться второй аргумент в исключение `StopIteration`\n",
    "\n",
    "print(*iter(input, 'КОНЕЦ'), sep='\\n')"
   ],
   "metadata": {
    "collapsed": false,
    "pycharm": {
     "name": "#%%\n"
    }
   }
  },
  {
   "cell_type": "markdown",
   "source": [
    "На вход программе подается последовательность слов, каждое слово на отдельной строке. Концом последовательности является слово «КОНЕЦ» или «конец» (большими или маленькими буквами, без кавычек). При этом сами слова «КОНЕЦ» и «конец» не входят в последовательность, лишь символизируя её окончание. Напишите программу, которая выводит члены данной последовательности.\n",
    "\n",
    "Формат входных данных\n",
    "На вход программе подается последовательность слов, каждое слово на отдельной строке.\n",
    "\n",
    "Формат выходных данных\n",
    "Программа должна вывести члены данной последовательности."
   ],
   "metadata": {
    "collapsed": false,
    "pycharm": {
     "name": "#%% md\n"
    }
   }
  },
  {
   "cell_type": "code",
   "execution_count": null,
   "outputs": [],
   "source": [
    "l = []\n",
    "s = input()\n",
    "while s != 'КОНЕЦ' and s != 'конец':\n",
    "    l.append(s)\n",
    "    s = input()\n",
    "\n",
    "for item in l:\n",
    "    print(item)"
   ],
   "metadata": {
    "collapsed": false,
    "pycharm": {
     "name": "#%%\n"
    }
   }
  },
  {
   "cell_type": "code",
   "execution_count": null,
   "outputs": [],
   "source": [
    "word = input()\n",
    "while not (word == \"КОНЕЦ\" or word == \"конец\"):\n",
    "    print(word)\n",
    "    word = input()"
   ],
   "metadata": {
    "collapsed": false,
    "pycharm": {
     "name": "#%%\n"
    }
   }
  },
  {
   "cell_type": "code",
   "execution_count": null,
   "outputs": [],
   "source": [
    "x = input()\n",
    "while x not in ('КОНЕЦ', 'конец'):\n",
    "  print(x)\n",
    "  x = input()"
   ],
   "metadata": {
    "collapsed": false,
    "pycharm": {
     "name": "#%%\n"
    }
   }
  },
  {
   "cell_type": "code",
   "execution_count": null,
   "outputs": [],
   "source": [
    "x = input()\n",
    "while x.lower() != 'конец':\n",
    "    print(x)\n",
    "    x = input()"
   ],
   "metadata": {
    "collapsed": false,
    "pycharm": {
     "name": "#%%\n"
    }
   }
  },
  {
   "cell_type": "code",
   "execution_count": null,
   "outputs": [],
   "source": [
    "while True:\n",
    "    tmp = input()\n",
    "    if tmp == 'конец' or tmp == 'КОНЕЦ': break\n",
    "    print(tmp)"
   ],
   "metadata": {
    "collapsed": false,
    "pycharm": {
     "name": "#%%\n"
    }
   }
  },
  {
   "cell_type": "code",
   "execution_count": null,
   "outputs": [],
   "source": [
    "while (word := input()).upper() != 'КОНЕЦ':\n",
    "    print(word)"
   ],
   "metadata": {
    "collapsed": false,
    "pycharm": {
     "name": "#%%\n"
    }
   }
  },
  {
   "cell_type": "code",
   "execution_count": null,
   "outputs": [],
   "source": [
    "text = input()\n",
    "while 'КОНЕЦ' != text != 'конец':\n",
    "    print(text)\n",
    "    text = input()"
   ],
   "metadata": {
    "collapsed": false,
    "pycharm": {
     "name": "#%%\n"
    }
   }
  }
 ],
 "metadata": {
  "kernelspec": {
   "display_name": "Python 3",
   "language": "python",
   "name": "python3"
  },
  "language_info": {
   "codemirror_mode": {
    "name": "ipython",
    "version": 2
   },
   "file_extension": ".py",
   "mimetype": "text/x-python",
   "name": "python",
   "nbconvert_exporter": "python",
   "pygments_lexer": "ipython2",
   "version": "2.7.6"
  }
 },
 "nbformat": 4,
 "nbformat_minor": 0
}