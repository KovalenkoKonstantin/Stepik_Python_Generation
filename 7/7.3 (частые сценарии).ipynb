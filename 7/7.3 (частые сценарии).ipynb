﻿{
 "cells": [
  {
   "cell_type": "raw",
   "source": [
    "Обмен значений переменных"
   ],
   "metadata": {
    "collapsed": false,
    "pycharm": {
     "name": "#%% raw\n"
    }
   }
  },
  {
   "cell_type": "markdown",
   "source": [
    "в Python есть и более простой способ. Мы можем написать так:\n",
    "\n",
    "x, y = y, x\n",
    "В результате выполнения такого кода Python поменяет значения переменных x и y местами."
   ],
   "metadata": {
    "collapsed": false,
    "pycharm": {
     "name": "#%% md\n"
    }
   }
  },
  {
   "cell_type": "code",
   "execution_count": null,
   "outputs": [],
   "source": [
    "num = int(input())\n",
    "flag = True\n",
    "\n",
    "for i in range(2, num):\n",
    "    if num % i == 0:  #  если исходное число делится на какое-либо отличное от 1 и самого себя\n",
    "        flag = False\n",
    "\n",
    "if num == 1:\n",
    "    print('Это единица, она не простая и не составная')\n",
    "elif flag == True:\n",
    "    print('Число простое')\n",
    "else:\n",
    "    print('Число составное')"
   ],
   "metadata": {
    "collapsed": false,
    "pycharm": {
     "name": "#%%\n",
     "is_executing": true
    }
   }
  },
  {
   "cell_type": "markdown",
   "source": [
    "Распространен подход, когда в качестве начального значения переменной сразу принимается первый элемент последовательности. Напишем программу, которая считывает\n",
    "10\n",
    "10 чисел (необязательно положительных) и находит среди них наибольшее:"
   ],
   "metadata": {
    "collapsed": false,
    "pycharm": {
     "name": "#%% md\n"
    }
   }
  },
  {
   "cell_type": "code",
   "execution_count": null,
   "outputs": [],
   "source": [
    "largest = int(input())  # принимаем первое число за максимальное\n",
    "for _ in range(9):\n",
    "    num = int(input())\n",
    "    if num > largest:\n",
    "        largest = num\n",
    "\n",
    "print('Наибольшее число равно', largest)"
   ],
   "metadata": {
    "collapsed": false,
    "pycharm": {
     "name": "#%%\n"
    }
   }
  },
  {
   "cell_type": "markdown",
   "source": [
    "можно менять местами значения трех и более переменных."
   ],
   "metadata": {
    "collapsed": false,
    "pycharm": {
     "name": "#%% md\n"
    }
   }
  },
  {
   "cell_type": "code",
   "execution_count": null,
   "outputs": [],
   "source": [
    "a, b, c, d = b, c, d, a"
   ],
   "metadata": {
    "collapsed": false,
    "pycharm": {
     "name": "#%%\n"
    }
   }
  },
  {
   "cell_type": "code",
   "execution_count": 2,
   "outputs": [
    {
     "name": "stdout",
     "output_type": "stream",
     "text": [
      "100\n"
     ]
    }
   ],
   "source": [
    "num1 = 4\n",
    "num2 = 6\n",
    "num1 += num2\n",
    "num1 *= num1\n",
    "print(num1)"
   ],
   "metadata": {
    "collapsed": false,
    "pycharm": {
     "name": "#%%\n"
    }
   }
  },
  {
   "cell_type": "code",
   "execution_count": 3,
   "outputs": [
    {
     "name": "stdout",
     "output_type": "stream",
     "text": [
      "15\n"
     ]
    }
   ],
   "source": [
    "total = 0\n",
    "for i in range(1, 6):\n",
    "    total += i\n",
    "print(total)"
   ],
   "metadata": {
    "collapsed": false,
    "pycharm": {
     "name": "#%%\n"
    }
   }
  },
  {
   "cell_type": "code",
   "execution_count": 4,
   "outputs": [
    {
     "name": "stdout",
     "output_type": "stream",
     "text": [
      "1361015"
     ]
    }
   ],
   "source": [
    "total = 0\n",
    "for i in range(1, 6):\n",
    "    total += i\n",
    "    print(total, end=\"\")"
   ],
   "metadata": {
    "collapsed": false,
    "pycharm": {
     "name": "#%%\n"
    }
   }
  },
  {
   "cell_type": "markdown",
   "source": [
    "На вход программе подаются два целых числа 𝑎 и 𝑏(𝑎≤𝑏). Напишите программу, которая подсчитывает количество чисел в диапазоне от 𝑎 до 𝑏 (включительно), куб которых оканчивается на 4 или 9.\n",
    "\n",
    "Формат входных данных\n",
    "На вход программе подаются два целых числа 𝑎 и 𝑏 (𝑎≤𝑏).\n",
    "\n",
    "Формат выходных данных\n",
    "Программа должна вывести одно целое число в соответствии с условием программы.\n",
    "\n",
    "Примечание. Куб числа 𝑎 – это его третья степень (𝑎3)."
   ],
   "metadata": {
    "collapsed": false,
    "pycharm": {
     "name": "#%% md\n"
    }
   }
  },
  {
   "cell_type": "code",
   "execution_count": null,
   "outputs": [],
   "source": [
    "a = int(input())\n",
    "b = int(input())\n",
    "count = 0\n",
    "\n",
    "for i in range(a, b + 1):\n",
    "    if i ** 3 % 10 == 4 or i ** 3 % 10 == 9:\n",
    "        count += 1\n",
    "\n",
    "print(count)"
   ],
   "metadata": {
    "collapsed": false,
    "pycharm": {
     "name": "#%%\n"
    }
   }
  },
  {
   "cell_type": "code",
   "execution_count": null,
   "outputs": [],
   "source": [
    "# Здесь, все что внутри [...] - это генератор списка, так как внутри есть условие if его следует читать так \"Создай список. На каждую итерацию цикла, где значение i пробегает в диапазоне от a до b... Если значение (остаток от деления на 10 (от i в степени 3)) входит в список 4, 9... Добавь в список единицу А дальше можно посчитать сумму этих единиц - sum(список) или вычислить длину этого списка - len(список) Потом просто принт всего этого Все вместе очень похоже на матрешку\n",
    "print(sum([1 for i in range(int(input()), int(input()) + 1) if i ** 3 % 10 in [4, 9]]))"
   ],
   "metadata": {
    "collapsed": false,
    "pycharm": {
     "name": "#%%\n"
    }
   }
  },
  {
   "cell_type": "code",
   "execution_count": null,
   "outputs": [],
   "source": [
    "print(len([n for n in range(int(input()), int(input()) + 1) if n ** 3 % 10 in [4, 9]]))"
   ],
   "metadata": {
    "collapsed": false,
    "pycharm": {
     "name": "#%%\n"
    }
   }
  },
  {
   "cell_type": "markdown",
   "source": [
    "На вход программе подается натуральное число 𝑛, а затем 𝑛 целых чисел, каждое на отдельной строке. Напишите программу, которая подсчитывает сумму введенных чисел (не включая само число 𝑛).\n",
    "\n",
    "Формат входных данных\n",
    "На вход программе подаются натуральное число 𝑛, а затем 𝑛 целых чисел, каждое на отдельной строке.\n",
    "\n",
    "Формат выходных данных\n",
    "Программа должна вывести сумму введенных чисел (не включая само число 𝑛).\n",
    "\n",
    "Примечание. Для большей ясности разберем 1-й тест. Первым числом поступает 𝑛, которое сигнализирует нам, сколько еще чисел мы должны принять на вход. В нашем случае 𝑛=5. Далее мы принимаем пять чисел (каждое на отдельной строке): 3,2,1,0,−1. Ищем сумму этих чисел:\n",
    "\n",
    "3+2+1+0+(−1)=5\n",
    "\n",
    "Это число и нужно вывести в качестве ответа на задачу."
   ],
   "metadata": {
    "collapsed": false,
    "pycharm": {
     "name": "#%% md\n"
    }
   }
  },
  {
   "cell_type": "code",
   "execution_count": null,
   "outputs": [],
   "source": [
    "sm = 0\n",
    "\n",
    "for _ in range(int(input())):\n",
    "    x = int(input())\n",
    "    sm += x\n",
    "\n",
    "print(sm)"
   ],
   "metadata": {
    "collapsed": false,
    "pycharm": {
     "name": "#%%\n"
    }
   }
  },
  {
   "cell_type": "code",
   "execution_count": null,
   "outputs": [],
   "source": [
    "print(sum(int(input()) for _ in range(int(input()))))"
   ],
   "metadata": {
    "collapsed": false,
    "pycharm": {
     "name": "#%%\n"
    }
   }
  },
  {
   "cell_type": "markdown",
   "source": [
    "На вход программе подается натуральное число 𝑛. Напишите программу, которая вычисляет значение выражения\n",
    "(1+1/2+1/3+...+1/𝑛)−ln(𝑛).\n",
    "Примечание. Для вычисления натурального логарифма воспользуйтесь функцией log(n), которая находится в модуле math."
   ],
   "metadata": {
    "collapsed": false,
    "pycharm": {
     "name": "#%% md\n"
    }
   }
  },
  {
   "cell_type": "code",
   "execution_count": 15,
   "outputs": [
    {
     "name": "stdout",
     "output_type": "stream",
     "text": [
      "0.6263831609742079\n"
     ]
    }
   ],
   "source": [
    "from math import log\n",
    "\n",
    "n = int(input())\n",
    "tt = 0\n",
    "\n",
    "for i in range(1, n + 1):\n",
    "    tt += 1 / i\n",
    "\n",
    "print(tt - log(n))"
   ],
   "metadata": {
    "collapsed": false,
    "pycharm": {
     "name": "#%%\n"
    }
   }
  },
  {
   "cell_type": "code",
   "execution_count": null,
   "outputs": [],
   "source": [
    "from math import log\n",
    "\n",
    "n = int(input())\n",
    "print(sum(1 / i for i in range(1, n + 1)) - log(n))"
   ],
   "metadata": {
    "collapsed": false,
    "pycharm": {
     "name": "#%%\n"
    }
   }
  },
  {
   "cell_type": "code",
   "execution_count": 17,
   "outputs": [
    {
     "name": "stdout",
     "output_type": "stream",
     "text": [
      "0.6263831609742079\n"
     ]
    }
   ],
   "source": [
    "print(sum([1 / i for i in range(1, n + 1)]) - __import__(\"math\").log(int(input())))"
   ],
   "metadata": {
    "collapsed": false,
    "pycharm": {
     "name": "#%%\n"
    }
   }
  },
  {
   "cell_type": "code",
   "execution_count": null,
   "outputs": [],
   "source": [
    "print((lambda n: sum([1 / i for i in range(1, n + 1)]) - __import__(\"math\").log(n))(int(input())))"
   ],
   "metadata": {
    "collapsed": false,
    "pycharm": {
     "name": "#%%\n"
    }
   }
  },
  {
   "cell_type": "markdown",
   "source": [
    "На вход программе подается натуральное число 𝑛. Напишите программу, которая подсчитывает сумму тех чисел от 1 до 𝑛 (включительно), квадрат которых оканчивается на 2,5 или 8.\n",
    "\n",
    "Формат входных данных\n",
    "На вход программе подается натуральное число 𝑛.\n",
    "\n",
    "Формат выходных данных\n",
    "Программа должна вывести единственное число в соответствии с условием задачи.\n",
    "\n",
    "Примечание. Если таких чисел нет в указанном диапазоне, то следует вывести 0."
   ],
   "metadata": {
    "collapsed": false,
    "pycharm": {
     "name": "#%% md\n"
    }
   }
  },
  {
   "cell_type": "code",
   "execution_count": null,
   "outputs": [],
   "source": [
    "n = int(input())\n",
    "\n",
    "tt = 0\n",
    "\n",
    "for i in range(1, n + 1):\n",
    "    if i ** 2 % 10 in [2, 5]:\n",
    "        tt += i\n",
    "\n",
    "print(tt)"
   ],
   "metadata": {
    "collapsed": false,
    "pycharm": {
     "name": "#%%\n"
    }
   }
  },
  {
   "cell_type": "code",
   "execution_count": 22,
   "outputs": [
    {
     "name": "stdout",
     "output_type": "stream",
     "text": [
      "0\n"
     ]
    }
   ],
   "source": [
    "print(sum([i for i in range(1, int(input()) + 1) if i ** 2 % 10 in (2, 5)]))"
   ],
   "metadata": {
    "collapsed": false,
    "pycharm": {
     "name": "#%%\n"
    }
   }
  }
 ],
 "metadata": {
  "kernelspec": {
   "display_name": "Python 3",
   "language": "python",
   "name": "python3"
  },
  "language_info": {
   "codemirror_mode": {
    "name": "ipython",
    "version": 2
   },
   "file_extension": ".py",
   "mimetype": "text/x-python",
   "name": "python",
   "nbconvert_exporter": "python",
   "pygments_lexer": "ipython2",
   "version": "2.7.6"
  }
 },
 "nbformat": 4,
 "nbformat_minor": 0
}