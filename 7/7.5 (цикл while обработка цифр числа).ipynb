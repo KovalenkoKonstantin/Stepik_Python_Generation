﻿{
 "cells": [
  {
   "cell_type": "code",
   "execution_count": 1,
   "metadata": {
    "collapsed": true,
    "pycharm": {
     "name": "#%%\n"
    }
   },
   "outputs": [
    {
     "name": "stdout",
     "output_type": "stream",
     "text": [
      "120\n"
     ]
    }
   ],
   "source": [
    "num = 12345\n",
    "product = 1\n",
    "while num != 0:\n",
    "    last_digit = num % 10\n",
    "    product = product * last_digit\n",
    "    num = num // 10\n",
    "print(product)"
   ]
  },
  {
   "cell_type": "code",
   "execution_count": 2,
   "outputs": [
    {
     "name": "stdout",
     "output_type": "stream",
     "text": [
      "5\n"
     ]
    }
   ],
   "source": [
    "num = 123456789\n",
    "total = 0\n",
    "while num != 0:\n",
    "    last_digit = num % 10\n",
    "    if last_digit > 4:\n",
    "        total += 1\n",
    "\n",
    "    num = num // 10\n",
    "\n",
    "print(total)"
   ],
   "metadata": {
    "collapsed": false,
    "pycharm": {
     "name": "#%%\n"
    }
   }
  },
  {
   "cell_type": "markdown",
   "source": [
    "Дано натуральное число. Напишите программу, которая выводит его цифры в столбик в обратном порядке.\n",
    "\n",
    "Формат входных данных\n",
    "На вход программе подается одно натуральное число.\n",
    "\n",
    "Формат выходных данных\n",
    "Программа должна вывести цифры введенного числа в столбик в обратном порядке."
   ],
   "metadata": {
    "collapsed": false,
    "pycharm": {
     "name": "#%% md\n"
    }
   }
  },
  {
   "cell_type": "code",
   "execution_count": 16,
   "outputs": [
    {
     "name": "stdout",
     "output_type": "stream",
     "text": [
      "4\n",
      "5\n",
      "4\n",
      "0\n",
      "9\n",
      "6\n",
      "5\n",
      "5\n"
     ]
    }
   ],
   "source": [
    "s = input()\n",
    "l = list(s)[::-1]\n",
    "for i in l:\n",
    "    print(i)"
   ],
   "metadata": {
    "collapsed": false,
    "pycharm": {
     "name": "#%%\n"
    }
   }
  },
  {
   "cell_type": "code",
   "execution_count": null,
   "outputs": [],
   "source": [
    "n = int(input())\n",
    "\n",
    "while n:\n",
    "    print(n % 10)\n",
    "    n //= 10"
   ],
   "metadata": {
    "collapsed": false,
    "pycharm": {
     "name": "#%%\n"
    }
   }
  },
  {
   "cell_type": "code",
   "execution_count": null,
   "outputs": [],
   "source": [
    "[print(i) for i in input()[::-1]]"
   ],
   "metadata": {
    "collapsed": false,
    "pycharm": {
     "name": "#%%\n"
    }
   }
  },
  {
   "cell_type": "code",
   "execution_count": null,
   "outputs": [],
   "source": [
    "print(*reversed(input()), sep='\\n')"
   ],
   "metadata": {
    "collapsed": false,
    "pycharm": {
     "name": "#%%\n"
    }
   }
  },
  {
   "cell_type": "markdown",
   "source": [
    "Дано натуральное число. Напишите программу, которая меняет порядок цифр числа на обратный.\n",
    "\n",
    "Формат входных данных\n",
    "На вход программе подается одно натуральное число.\n",
    "\n",
    "Формат выходных данных\n",
    "Программа должна вывести число, записанное в обратном порядке."
   ],
   "metadata": {
    "collapsed": false,
    "pycharm": {
     "name": "#%% md\n"
    }
   }
  },
  {
   "cell_type": "code",
   "execution_count": null,
   "outputs": [],
   "source": [
    "[print(i, end='') for i in input()[::-1]]"
   ],
   "metadata": {
    "collapsed": false,
    "pycharm": {
     "name": "#%%\n"
    }
   }
  },
  {
   "cell_type": "code",
   "execution_count": null,
   "outputs": [],
   "source": [
    "print(input()[::-1])"
   ],
   "metadata": {
    "collapsed": false,
    "pycharm": {
     "name": "#%%\n"
    }
   }
  },
  {
   "cell_type": "markdown",
   "source": [
    "Дано натуральное число n,(n≥10). Напишите программу, которая определяет его максимальную и минимальную цифры.\n",
    "\n",
    "Формат входных данных\n",
    "На вход программе подается одно натуральное число.\n",
    "\n",
    "Формат выходных данных\n",
    "Программа должна вывести максимальную и минимальную цифры введенного числа (с поясняющей надписью)."
   ],
   "metadata": {
    "collapsed": false,
    "pycharm": {
     "name": "#%% md\n"
    }
   }
  },
  {
   "cell_type": "code",
   "execution_count": null,
   "outputs": [],
   "source": [
    "n = input()\n",
    "print(f'Максимальная цифра равна {max(n)}')\n",
    "print(f'Минимальная цифра равна {min(n)}')"
   ],
   "metadata": {
    "collapsed": false,
    "pycharm": {
     "name": "#%%\n",
     "is_executing": true
    }
   }
  },
  {
   "cell_type": "code",
   "execution_count": null,
   "outputs": [],
   "source": [
    "print((lambda x: f'Максимальная цифра равна {max(x)}\\nМинимальная цифра равна {min(x)}')([int(i) for i in input()]))"
   ],
   "metadata": {
    "collapsed": false,
    "pycharm": {
     "name": "#%%\n"
    }
   }
  },
  {
   "cell_type": "markdown",
   "source": [
    "Дано натуральное число. Напишите программу, которая вычисляет:\n",
    "\n",
    "сумму его цифр;\n",
    "количество цифр в нем;\n",
    "произведение его цифр;\n",
    "среднее арифметическое его цифр;\n",
    "его первую цифру;\n",
    "сумму его первой и последней цифры.\n",
    "Формат входных данных\n",
    "На вход программе подается одно натуральное число.\n",
    "\n",
    "Формат выходных данных\n",
    "Программа должна вывести значения указанных величин в указанном порядке."
   ],
   "metadata": {
    "collapsed": false,
    "pycharm": {
     "name": "#%% md\n"
    }
   }
  },
  {
   "cell_type": "code",
   "execution_count": 32,
   "outputs": [
    {
     "name": "stdout",
     "output_type": "stream",
     "text": [
      "26\n",
      "4\n",
      "1680\n",
      "6.5\n",
      "5\n",
      "13\n"
     ]
    }
   ],
   "source": [
    "import pandas as pd\n",
    "\n",
    "n = input()\n",
    "\n",
    "print(pd.Series(list(n)).astype(int).sum())\n",
    "print(len(n))\n",
    "print(pd.Series(list(n)).astype(int).prod())\n",
    "print(pd.Series(list(n)).astype(int).mean())\n",
    "print(n[0])\n",
    "print(int(n[0]) + int(n[-1]))"
   ],
   "metadata": {
    "collapsed": false,
    "pycharm": {
     "name": "#%%\n"
    }
   }
  },
  {
   "cell_type": "code",
   "execution_count": null,
   "outputs": [],
   "source": [
    "import numpy\n",
    "\n",
    "nums = [int(i) for i in input()]\n",
    "print(sum(nums), len(nums), numpy.prod(nums), numpy.mean(nums), nums[0], nums[0] + nums[-1], sep='\\n')"
   ],
   "metadata": {
    "collapsed": false,
    "pycharm": {
     "name": "#%%\n"
    }
   }
  },
  {
   "cell_type": "markdown",
   "source": [
    "Дано натуральное число n(n>9). Напишите программу, которая определяет его вторую (с начала) цифру.\n",
    "\n",
    "Формат входных данных\n",
    "На вход программе подается одно натуральное число, состоящее как минимум из двух цифр.\n",
    "\n",
    "Формат выходных данных\n",
    "Программа должна вывести его вторую (с начала) цифру."
   ],
   "metadata": {
    "collapsed": false,
    "pycharm": {
     "name": "#%% md\n"
    }
   }
  },
  {
   "cell_type": "code",
   "execution_count": null,
   "outputs": [],
   "source": [
    "print(input()[1])"
   ],
   "metadata": {
    "collapsed": false,
    "pycharm": {
     "name": "#%%\n"
    }
   }
  },
  {
   "cell_type": "markdown",
   "source": [
    "Дано натуральное число. Напишите программу, которая определяет, состоит ли указанное число из одинаковых цифр.\n",
    "\n",
    "Формат входных данных\n",
    "На вход программе подается одно натуральное число.\n",
    "\n",
    "Формат выходных данных\n",
    "Программа должна вывести «YES» если число состоит из одинаковых цифр и «NO» в противном случае."
   ],
   "metadata": {
    "collapsed": false,
    "pycharm": {
     "name": "#%% md\n"
    }
   }
  },
  {
   "cell_type": "code",
   "execution_count": 37,
   "outputs": [
    {
     "name": "stdout",
     "output_type": "stream",
     "text": [
      "NO\n"
     ]
    },
    {
     "data": {
      "text/plain": "[None]"
     },
     "execution_count": 37,
     "metadata": {},
     "output_type": "execute_result"
    }
   ],
   "source": [
    "(lambda n: [print('YES' if all([i == n[0] for i in n]) else 'NO')])(input())"
   ],
   "metadata": {
    "collapsed": false,
    "pycharm": {
     "name": "#%%\n"
    }
   }
  },
  {
   "cell_type": "code",
   "execution_count": null,
   "outputs": [],
   "source": [
    "x = input()\n",
    "print('YES' if max(x) == min(x) else 'NO')"
   ],
   "metadata": {
    "collapsed": false,
    "pycharm": {
     "name": "#%%\n"
    }
   }
  },
  {
   "cell_type": "code",
   "execution_count": null,
   "outputs": [],
   "source": [
    "# `set(input())` - преобразует введенную строку во множество, удаляя повторяющиеся символы, таким образом оставляет только уникальные цифры\n",
    "print(\"YES\" if len(set(input())) == 1 else \"NO\")"
   ],
   "metadata": {
    "collapsed": false,
    "pycharm": {
     "name": "#%%\n"
    }
   }
  },
  {
   "cell_type": "code",
   "execution_count": null,
   "outputs": [],
   "source": [
    "# сравнение количества первого элемента в строке с длиной строки :)\n",
    "numbers = input()\n",
    "print('YES' if numbers.count(numbers[0]) == len(numbers) else 'NO')"
   ],
   "metadata": {
    "collapsed": false,
    "pycharm": {
     "name": "#%%\n"
    }
   }
  },
  {
   "cell_type": "markdown",
   "source": [
    "Дано натуральное число. Напишите программу, которая определяет, является ли последовательность его цифр при просмотре справа налево упорядоченной по неубыванию.\n",
    "\n",
    "Формат входных данных\n",
    "На вход программе подается одно натуральное число.\n",
    "\n",
    "Формат выходных данных\n",
    "Программа должна вывести «YES», если последовательность его цифр при просмотре справа налево является упорядоченной по неубыванию, или «NO» в противном случае."
   ],
   "metadata": {
    "collapsed": false,
    "pycharm": {
     "name": "#%% md\n"
    }
   }
  },
  {
   "cell_type": "code",
   "execution_count": 38,
   "outputs": [
    {
     "name": "stdout",
     "output_type": "stream",
     "text": [
      "NO\n"
     ]
    }
   ],
   "source": [
    "s = input()\n",
    "print('YES' if ''.join(sorted(s, reverse=True)) == s else 'NO')"
   ],
   "metadata": {
    "collapsed": false,
    "pycharm": {
     "name": "#%%\n"
    }
   }
  },
  {
   "cell_type": "code",
   "execution_count": null,
   "outputs": [],
   "source": [
    "n = list(input())\n",
    "print(('NO', 'YES')[n == sorted(n, reverse=True)])"
   ],
   "metadata": {
    "collapsed": false,
    "pycharm": {
     "name": "#%%\n",
     "is_executing": true
    }
   }
  },
  {
   "cell_type": "code",
   "execution_count": null,
   "outputs": [],
   "source": [
    "l = list(input())\n",
    "print('YES' if l == sorted(l)[::-1] else 'NO')"
   ],
   "metadata": {
    "collapsed": false,
    "pycharm": {
     "name": "#%%\n"
    }
   }
  }
 ],
 "metadata": {
  "kernelspec": {
   "display_name": "Python 3",
   "language": "python",
   "name": "python3"
  },
  "language_info": {
   "codemirror_mode": {
    "name": "ipython",
    "version": 2
   },
   "file_extension": ".py",
   "mimetype": "text/x-python",
   "name": "python",
   "nbconvert_exporter": "python",
   "pygments_lexer": "ipython2",
   "version": "2.7.6"
  }
 },
 "nbformat": 4,
 "nbformat_minor": 0
}