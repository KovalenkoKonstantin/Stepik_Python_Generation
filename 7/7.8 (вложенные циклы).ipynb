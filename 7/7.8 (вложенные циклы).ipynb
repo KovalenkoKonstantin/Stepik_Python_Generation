﻿{
 "cells": [
  {
   "cell_type": "code",
   "execution_count": 1,
   "metadata": {
    "collapsed": true,
    "pycharm": {
     "name": "#%%\n"
    }
   },
   "outputs": [
    {
     "name": "stdout",
     "output_type": "stream",
     "text": [
      "1 3\n",
      "1 4\n",
      "1 5\n",
      "2 3\n",
      "2 4\n",
      "2 5\n",
      "3 3\n",
      "3 4\n",
      "3 5\n"
     ]
    }
   ],
   "source": [
    "for i in range(1, 4):\n",
    "    for j in range(3, 6):\n",
    "        print(i, j)"
   ]
  },
  {
   "cell_type": "code",
   "execution_count": 2,
   "outputs": [
    {
     "name": "stdout",
     "output_type": "stream",
     "text": [
      "455667"
     ]
    }
   ],
   "source": [
    "for i in range(1, 4):\n",
    "    for j in range(3, 5):\n",
    "        print(i + j, end='')"
   ],
   "metadata": {
    "collapsed": false,
    "pycharm": {
     "name": "#%%\n"
    }
   }
  },
  {
   "cell_type": "code",
   "execution_count": 3,
   "outputs": [
    {
     "name": "stdout",
     "output_type": "stream",
     "text": [
      "8\n"
     ]
    }
   ],
   "source": [
    "counter = 0\n",
    "for i in range(99, 102):\n",
    "    temp = i\n",
    "    while temp > 0:\n",
    "        counter += 1\n",
    "        temp //= 10\n",
    "print(counter)"
   ],
   "metadata": {
    "collapsed": false,
    "pycharm": {
     "name": "#%%\n"
    }
   }
  },
  {
   "cell_type": "markdown",
   "source": [
    "Дано натуральное число n (n≤ 9). Напишите программу, которая печатает таблицу размером n×3, состоящую из данного числа (числа отделены одним пробелом).\n",
    "\n",
    "Формат входных данных\n",
    "На вход программе подается одно натуральное число.\n",
    "\n",
    "Формат выходных данных\n",
    "Программа должна вывести таблицу размером n×3, состоящую из данного числа.\n",
    "\n",
    "Примечание. В конце строки может быть пробел."
   ],
   "metadata": {
    "collapsed": false,
    "pycharm": {
     "name": "#%% md\n"
    }
   }
  },
  {
   "cell_type": "code",
   "execution_count": 7,
   "outputs": [
    {
     "name": "stdout",
     "output_type": "stream",
     "text": [
      "8 8 8\n",
      "8 8 8\n",
      "8 8 8\n",
      "8 8 8\n",
      "8 8 8\n",
      "8 8 8\n",
      "8 8 8\n",
      "8 8 8\n"
     ]
    }
   ],
   "source": [
    "n = input()\n",
    "\n",
    "for _ in range(int(n)):\n",
    "    print(n, n, n)"
   ],
   "metadata": {
    "collapsed": false,
    "pycharm": {
     "name": "#%%\n"
    }
   }
  },
  {
   "cell_type": "markdown",
   "source": [
    "Дано натуральное число n (n≤ 9). Напишите программу, которая печатает таблицу размером n×5, где в i-ой строке указано число i (числа отделены одним пробелом).\n",
    "\n",
    "Формат входных данных\n",
    "На вход программе подается одно натуральное число.\n",
    "\n",
    "Формат выходных данных\n",
    "Программа должна вывести таблицу размером n×5 в соответствии с условием.\n",
    "\n",
    "Примечание. В конце строки может быть пробел."
   ],
   "metadata": {
    "collapsed": false,
    "pycharm": {
     "name": "#%% md\n"
    }
   }
  },
  {
   "cell_type": "code",
   "execution_count": 9,
   "outputs": [
    {
     "name": "stdout",
     "output_type": "stream",
     "text": [
      "1 1 1 1 1\n",
      "2 2 2 2 2\n",
      "3 3 3 3 3\n"
     ]
    }
   ],
   "source": [
    "n = input()\n",
    "\n",
    "for i in range(1, int(n) + 1):\n",
    "    print(i, i, i, i, i)"
   ],
   "metadata": {
    "collapsed": false,
    "pycharm": {
     "name": "#%%\n"
    }
   }
  },
  {
   "cell_type": "markdown",
   "source": [
    "Дано натуральное число n (n≤ 9). Напишите программу, которая печатает таблицу сложения для всех чисел от n (включительно) в соответствии с примером.\n",
    "\n",
    "Формат входных данных\n",
    "На вход программе подается одно натуральное число.\n",
    "\n",
    "Формат выходных данных\n",
    "Программа должна вывести таблицу сложения для всех чисел от 1 до n.\n",
    "\n",
    "Примечание 1. Таблицу сложения подразумеваем от 1 до 9 (включительно).\n",
    "\n",
    "Примечание 2. В конце строки может быть пробел."
   ],
   "metadata": {
    "collapsed": false,
    "pycharm": {
     "name": "#%% md\n"
    }
   }
  },
  {
   "cell_type": "code",
   "execution_count": 17,
   "outputs": [
    {
     "name": "stdout",
     "output_type": "stream",
     "text": [
      "1 + 1 = 2\n",
      "1 + 2 = 3\n",
      "1 + 3 = 4\n",
      "1 + 4 = 5\n",
      "1 + 5 = 6\n",
      "1 + 6 = 7\n",
      "1 + 7 = 8\n",
      "1 + 8 = 9\n",
      "1 + 9 = 10\n",
      "\n",
      "2 + 1 = 2\n",
      "2 + 2 = 3\n",
      "2 + 3 = 4\n",
      "2 + 4 = 5\n",
      "2 + 5 = 6\n",
      "2 + 6 = 7\n",
      "2 + 7 = 8\n",
      "2 + 8 = 9\n",
      "2 + 9 = 10\n",
      "\n",
      "3 + 1 = 2\n",
      "3 + 2 = 3\n",
      "3 + 3 = 4\n",
      "3 + 4 = 5\n",
      "3 + 5 = 6\n",
      "3 + 6 = 7\n",
      "3 + 7 = 8\n",
      "3 + 8 = 9\n",
      "3 + 9 = 10\n",
      "\n"
     ]
    }
   ],
   "source": [
    "for i in range(1, int(input()) + 1):\n",
    "    for j in range(1, 10):\n",
    "        print(f'{i} + {j} = {i + j}')\n",
    "    print()"
   ],
   "metadata": {
    "collapsed": false,
    "pycharm": {
     "name": "#%%\n"
    }
   }
  },
  {
   "cell_type": "markdown",
   "source": [
    "Дано нечетное натуральное число n. Напишите программу, которая печатает равнобедренный звездный треугольник с основанием, равным n в соответствии с примером:\n",
    "\n",
    "*\n",
    "**\n",
    "***\n",
    "****\n",
    "***\n",
    "**\n",
    "*\n",
    "Формат входных данных\n",
    "На вход программе подается одно нечетное натуральное число.\n",
    "\n",
    "Формат выходных данных\n",
    "Программа должна вывести треугольник в соответствии с условием.\n",
    "\n",
    "Примечание. Используйте вложенный цикл for."
   ],
   "metadata": {
    "collapsed": false,
    "pycharm": {
     "name": "#%% md\n"
    }
   }
  },
  {
   "cell_type": "code",
   "execution_count": 22,
   "outputs": [
    {
     "name": "stdout",
     "output_type": "stream",
     "text": [
      "*\n",
      "**\n",
      "***\n",
      "****\n",
      "***\n",
      "**\n",
      "*\n"
     ]
    }
   ],
   "source": [
    "n = int(input())\n",
    "\n",
    "# Верхняя часть равнобедренного треугольника\n",
    "for i in range(1, (n // 2) + 2):\n",
    "    print('*' * i)\n",
    "\n",
    "# Нижняя часть равнобедренного треугольника\n",
    "for i in range((n // 2), 0, -1):\n",
    "    print('*' * i)"
   ],
   "metadata": {
    "collapsed": false,
    "pycharm": {
     "name": "#%%\n"
    }
   }
  },
  {
   "cell_type": "markdown",
   "source": [
    "Дано натуральное число n. Напишите программу, которая печатает численный треугольник в соответствии с примером:\n",
    "\n",
    "1\n",
    "22\n",
    "333\n",
    "4444\n",
    "55555\n",
    "...\n",
    "Формат входных данных\n",
    "На вход программе подается одно натуральное число.\n",
    "\n",
    "Формат выходных данных\n",
    "Программа должна вывести треугольник в соответствии с условием.\n",
    "\n",
    "Примечание. Используйте вложенный цикл for."
   ],
   "metadata": {
    "collapsed": false,
    "pycharm": {
     "name": "#%% md\n"
    }
   }
  },
  {
   "cell_type": "code",
   "execution_count": 27,
   "outputs": [
    {
     "name": "stdout",
     "output_type": "stream",
     "text": [
      "1\n",
      "22\n",
      "333\n",
      "4444\n",
      "55555\n"
     ]
    }
   ],
   "source": [
    "n = int(input())\n",
    "\n",
    "for i in range(1, n + 1):\n",
    "    print(str(i) * i)"
   ],
   "metadata": {
    "collapsed": false,
    "pycharm": {
     "name": "#%%\n"
    }
   }
  },
  {
   "cell_type": "code",
   "execution_count": 28,
   "outputs": [
    {
     "name": "stdout",
     "output_type": "stream",
     "text": [
      "x = 3 y = 57\n",
      "x = 16 y = 45\n",
      "x = 29 y = 33\n",
      "x = 42 y = 21\n",
      "x = 55 y = 9\n",
      "Общее количество натуральных решений = 5\n"
     ]
    }
   ],
   "source": [
    "total = 0\n",
    "for x in range(1, 65):\n",
    "    for y in range(1, 60):\n",
    "        if 12 * x + 13 * y == 777:\n",
    "            total += 1\n",
    "            print('x =', x, 'y =', y)\n",
    "print('Общее количество натуральных решений =', total)"
   ],
   "metadata": {
    "collapsed": false,
    "pycharm": {
     "name": "#%%\n"
    }
   }
  },
  {
   "cell_type": "code",
   "execution_count": 29,
   "outputs": [
    {
     "name": "stdout",
     "output_type": "stream",
     "text": [
      "x = 18 y = 20 z = 36\n",
      "x = 18 y = 36 z = 20\n",
      "x = 20 y = 18 z = 36\n",
      "x = 20 y = 36 z = 18\n",
      "x = 36 y = 18 z = 20\n",
      "x = 36 y = 20 z = 18\n",
      "Общее количество натуральных решений = 6\n"
     ]
    }
   ],
   "source": [
    "total = 0\n",
    "for x in range(1, 45):\n",
    "    for y in range(1, 45):\n",
    "        for z in range(1, 45):\n",
    "            if x ** 2 + y ** 2 + z ** 2 == 2020:\n",
    "                total += 1\n",
    "                print('x =', x, 'y =', y, 'z =', z)\n",
    "print('Общее количество натуральных решений =', total)"
   ],
   "metadata": {
    "collapsed": false,
    "pycharm": {
     "name": "#%%\n"
    }
   }
  },
  {
   "cell_type": "markdown",
   "source": [
    "Решите уравнение в натуральных числах 28n+30k+31m=365.\n",
    "\n",
    "Примечание. Используйте вложенный цикл for. В первую очередь запишите решение с наименьшим значением n."
   ],
   "metadata": {
    "collapsed": false,
    "pycharm": {
     "name": "#%% md\n"
    }
   }
  },
  {
   "cell_type": "code",
   "execution_count": 30,
   "outputs": [
    {
     "name": "stdout",
     "output_type": "stream",
     "text": [
      "n=1, k=4, m=7\n",
      "n=2, k=1, m=9\n"
     ]
    }
   ],
   "source": [
    "for n in range(1, 13):\n",
    "    for k in range(1, 13):\n",
    "        for m in range(1, 13):\n",
    "            if 28 * n + 30 * k + 31 * m == 365:\n",
    "                print(f'n={n}, k={k}, m={m}')\n",
    "                break"
   ],
   "metadata": {
    "collapsed": false,
    "pycharm": {
     "name": "#%%\n"
    }
   }
  },
  {
   "cell_type": "markdown",
   "source": [
    "Имеется 100 рублей. Сколько быков, коров и телят можно купить на все эти деньги, если плата за быка – 10 рублей, за корову – 5 рублей, за теленка – 0.5 рубля и надо купить 100 голов скота?\n",
    "\n",
    "Примечание. Используйте вложенный цикл for."
   ],
   "metadata": {
    "collapsed": false,
    "pycharm": {
     "name": "#%% md\n"
    }
   }
  },
  {
   "cell_type": "code",
   "execution_count": 34,
   "outputs": [
    {
     "name": "stdout",
     "output_type": "stream",
     "text": [
      "Количество быков: 1, Количество коров: 9, Количество телят: 90\n"
     ]
    }
   ],
   "source": [
    "for n in range(1, 101):  # Перебор количества быков от 1 до 100\n",
    "    for k in range(1, 101 - n):  # Перебор количества коров от 1 до 100-n\n",
    "        m = 100 - n - k  # Вычисление количества телят\n",
    "        if 10*n + 5*k + 0.5*m == 100:\n",
    "            print(f\"Количество быков: {n}, Количество коров: {k}, Количество телят: {m}\")"
   ],
   "metadata": {
    "collapsed": false,
    "pycharm": {
     "name": "#%%\n"
    }
   }
  },
  {
   "cell_type": "markdown",
   "source": [
    "В 1769 году Леонард Эйлер сформулировал обобщенную версию Великой теоремы Ферма, предполагая, что по крайней мере n энных степеней необходимо для получения суммы, которая сама является энной степенью для n>2. Напишите программу для опровержения гипотезы Эйлера (продержавшейся до 1967 года) и найдите четыре положительных целых числа, сумма 5-х степеней которых равна 5-й степени другого положительного целого числа.\n",
    "\n",
    "Таким образом, найдите пять натуральных чисел a,b,c,d,e, удовлетворяющих условию:\n",
    "\n",
    "a в 5 степени + b в 5 степени + c в 5 степени + d в 5 степени = e в 5 степени.\n",
    "В ответе укажите сумму\n",
    "a+b+c+d+e.\n",
    "\n",
    "Примечание 1. Используйте вложенный цикл for.\n",
    "\n",
    "Примечание 2. Считайте, что числа\n",
    "\n",
    "a,b,c,d,e не превосходят 150.\n",
    "\n",
    "Примечание 3. Программа может работать дольше чем обычно. В зависимости от способа решения задачи на выполнение программы может уходить до нескольких минут. Попробуйте сократить количество вложенных циклов."
   ],
   "metadata": {
    "collapsed": false,
    "pycharm": {
     "name": "#%% md\n"
    }
   }
  },
  {
   "cell_type": "code",
   "execution_count": null,
   "outputs": [],
   "source": [
    "for a in range(1, 151):\n",
    "    for b in range(1, 151):\n",
    "        for c in range(1, 151):\n",
    "            for d in range(1, 151):\n",
    "                e = int((a**5 + b**5 + c**5 + d**5) ** (1/5))  # Вычисляем e как целочисленный корень пятой степени\n",
    "                if e <= 150 and a**5 + b**5 + c**5 + d**5 == e**5:\n",
    "                    print(f\"a={a}, b={b}, c={c}, d={d}, e={e}\")\n",
    "                    print(\"Сумма:\", a + b + c + d + e)"
   ],
   "metadata": {
    "collapsed": false,
    "pycharm": {
     "name": "#%%\n",
     "is_executing": true
    }
   }
  }
 ],
 "metadata": {
  "kernelspec": {
   "display_name": "Python 3",
   "language": "python",
   "name": "python3"
  },
  "language_info": {
   "codemirror_mode": {
    "name": "ipython",
    "version": 2
   },
   "file_extension": ".py",
   "mimetype": "text/x-python",
   "name": "python",
   "nbconvert_exporter": "python",
   "pygments_lexer": "ipython2",
   "version": "2.7.6"
  }
 },
 "nbformat": 4,
 "nbformat_minor": 0
}