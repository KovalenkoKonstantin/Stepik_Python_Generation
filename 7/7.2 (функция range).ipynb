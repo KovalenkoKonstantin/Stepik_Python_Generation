﻿{
 "cells": [
  {
   "cell_type": "markdown",
   "source": [
    "Даны два целых числа 𝑚 и n (𝑚≤𝑛). Напишите программу, которая выводит все целые числа от𝑚 до 𝑛 включительно.\n",
    "\n",
    "Формат входных данных\n",
    "На вход программе подаются два целых числа 𝑚 и 𝑛, каждое на отдельной строке.\n",
    "\n",
    "Формат выходных данных\n",
    "Программа должна вывести числа в соответствии с условием задачи."
   ],
   "metadata": {
    "collapsed": false,
    "pycharm": {
     "name": "#%% md\n"
    }
   }
  },
  {
   "cell_type": "code",
   "execution_count": null,
   "outputs": [],
   "source": [
    "m = int(input())\n",
    "n = int(input())\n",
    "\n",
    "for i in range(m, n + 1):\n",
    "    print(i)"
   ],
   "metadata": {
    "collapsed": false,
    "pycharm": {
     "name": "#%%\n",
     "is_executing": true
    }
   }
  },
  {
   "cell_type": "code",
   "execution_count": 3,
   "outputs": [
    {
     "name": "stdout",
     "output_type": "stream",
     "text": [
      "1\n",
      "2\n",
      "3\n",
      "4\n",
      "5\n",
      "6\n",
      "7\n",
      "8\n",
      "9\n"
     ]
    },
    {
     "data": {
      "text/plain": "[None, None, None, None, None, None, None, None, None]"
     },
     "execution_count": 3,
     "metadata": {},
     "output_type": "execute_result"
    }
   ],
   "source": [
    "[print(i) for i in range(int(input()), int(input()) + 1)]"
   ],
   "metadata": {
    "collapsed": false,
    "pycharm": {
     "name": "#%%\n"
    }
   }
  },
  {
   "cell_type": "code",
   "execution_count": 4,
   "outputs": [
    {
     "name": "stdout",
     "output_type": "stream",
     "text": [
      "1\n",
      "2\n",
      "3\n",
      "4\n",
      "5\n",
      "6\n",
      "7\n",
      "8\n",
      "9\n"
     ]
    }
   ],
   "source": [
    "print(*[i for i in range(int(input()), int(input()) + 1)], sep='\\n')"
   ],
   "metadata": {
    "collapsed": false,
    "pycharm": {
     "name": "#%%\n"
    }
   }
  },
  {
   "cell_type": "markdown",
   "source": [
    "Даны два целых числа 𝑚 и 𝑛. Напишите программу, которая выводит все целые числа от 𝑚\n",
    "до 𝑛 включительно в порядке возрастания, если 𝑚<𝑛, или в порядке убывания в противном случае.\n",
    "\n",
    "Формат входных данных\n",
    "На вход программе подаются два целых числа 𝑚 и 𝑛, каждое на отдельной строке.\n",
    "\n",
    "Формат выходных данных\n",
    "Программа должна вывести числа в соответствии с условием задачи."
   ],
   "metadata": {
    "collapsed": false,
    "pycharm": {
     "name": "#%% md\n"
    }
   }
  },
  {
   "cell_type": "code",
   "execution_count": null,
   "outputs": [],
   "source": [
    "m = int(input())\n",
    "n = int(input())\n",
    "\n",
    "print(*[i for i in range(m, n + 1)] if m < n else [i for i in range(m, n - 1, -1)], sep='\\n')"
   ],
   "metadata": {
    "collapsed": false,
    "pycharm": {
     "name": "#%%\n",
     "is_executing": true
    }
   }
  },
  {
   "cell_type": "code",
   "execution_count": null,
   "outputs": [],
   "source": [
    "m, n = int(input()), int(input())\n",
    "print(*[range(m, n - 1, -1), range(m, n + 1)][m < n], sep='\\n')"
   ],
   "metadata": {
    "collapsed": false,
    "pycharm": {
     "name": "#%%\n"
    }
   }
  },
  {
   "cell_type": "markdown",
   "source": [
    "Даны два целых числа 𝑚 и 𝑛 (𝑚>𝑛). Напишите программу, которая выводит все нечетные целые числа от 𝑚 до 𝑛 включительно в порядке убывания.\n",
    "\n",
    "Формат входных данных\n",
    "На вход программе подаются два целых числа 𝑚 и 𝑛, каждое на отдельной строке.\n",
    "\n",
    "Формат выходных данных\n",
    "Программа должна вывести числа в соответствии с условием задачи.\n",
    "\n",
    "Примечание. Попробуйте решить задачу двумя способами: с использованием условного оператора if и без него."
   ],
   "metadata": {
    "collapsed": false,
    "pycharm": {
     "name": "#%% md\n"
    }
   }
  },
  {
   "cell_type": "code",
   "execution_count": null,
   "outputs": [],
   "source": [
    "m = int(input())\n",
    "n = int(input())\n",
    "\n",
    "print(*range(m - (m % 2 == 0), n - 1, -2), sep='\\n')"
   ],
   "metadata": {
    "collapsed": false,
    "pycharm": {
     "name": "#%%\n"
    }
   }
  },
  {
   "cell_type": "code",
   "execution_count": null,
   "outputs": [],
   "source": [
    "[print(i) for i in range(int(input()), int(input()) - 1, -1) if i % 2]"
   ],
   "metadata": {
    "collapsed": false,
    "pycharm": {
     "name": "#%%\n"
    }
   }
  },
  {
   "cell_type": "markdown",
   "source": [
    "Даны два натуральных числа 𝑚 и 𝑛 (𝑚≤𝑛). Напишите программу, которая выводит все целые числа от 𝑚 до 𝑛 (включительно), удовлетворяющие хотя бы одному из условий:\n",
    "\n",
    "число кратно 17\n",
    "число оканчивается на 9\n",
    "число кратно 3 и 5 одновременно\n",
    "Формат входных данных\n",
    "На вход программе подаются два натуральных числа 𝑚 и 𝑛 (𝑚≤𝑛), каждое на отдельной строке.\n",
    "\n",
    "Формат выходных данных\n",
    "Программа должна вывести числа в соответствии с условием задачи.\n",
    "\n",
    "Примечание. Если нет чисел, удовлетворяющих условию, выводить ничего не надо."
   ],
   "metadata": {
    "collapsed": false,
    "pycharm": {
     "name": "#%% md\n"
    }
   }
  },
  {
   "cell_type": "code",
   "execution_count": null,
   "outputs": [],
   "source": [
    "[print(i) for i in range(int(input()), int(input()) + 1) if i % 17 == 0 or i % 10 == 9 or (i % 3 == 0 and i % 5 == 0)]"
   ],
   "metadata": {
    "collapsed": false,
    "pycharm": {
     "name": "#%%\n"
    }
   }
  },
  {
   "cell_type": "code",
   "execution_count": null,
   "outputs": [],
   "source": [
    "[print(i) for i in range(int(input()), int(input()) + 1) if not i % 17 or str(i)[-1] == '9' or not i % 15]"
   ],
   "metadata": {
    "collapsed": false,
    "pycharm": {
     "name": "#%%\n"
    }
   }
  },
  {
   "cell_type": "markdown",
   "source": [
    "Дано натуральное число 𝑛. Напишите программу, которая выводит таблицу умножения на 𝑛 (от 1 до 10 включительно).\n",
    "\n",
    "Формат входных данных\n",
    "На вход программе подается натуральное число.\n",
    "\n",
    "Формат выходных данных\n",
    "Программа должна вывести таблицу умножения на введенное число.\n",
    "\n",
    "Примечание. В качестве знака умножения используйте английскую букву x."
   ],
   "metadata": {
    "collapsed": false,
    "pycharm": {
     "name": "#%% md\n"
    }
   }
  },
  {
   "cell_type": "code",
   "execution_count": 19,
   "outputs": [
    {
     "name": "stdout",
     "output_type": "stream",
     "text": [
      "5 x 1 = 5\n",
      "5 x 2 = 10\n",
      "5 x 3 = 15\n",
      "5 x 4 = 20\n",
      "5 x 5 = 25\n",
      "5 x 6 = 30\n",
      "5 x 7 = 35\n",
      "5 x 8 = 40\n",
      "5 x 9 = 45\n",
      "5 x 10 = 50\n"
     ]
    },
    {
     "data": {
      "text/plain": "[None, None, None, None, None, None, None, None, None, None]"
     },
     "execution_count": 19,
     "metadata": {},
     "output_type": "execute_result"
    }
   ],
   "source": [
    "n = int(input())\n",
    "[print(f'{n} x {i + 1} = {n * (i + 1)}') for i in range(10)]"
   ],
   "metadata": {
    "collapsed": false,
    "pycharm": {
     "name": "#%%\n"
    }
   }
  },
  {
   "cell_type": "code",
   "execution_count": null,
   "outputs": [],
   "source": [
    "n = int(input())\n",
    "\n",
    "for i in range(1, 11):\n",
    "    print(n, 'x', i, '=', n * i)"
   ],
   "metadata": {
    "collapsed": false,
    "pycharm": {
     "name": "#%%\n"
    }
   }
  },
  {
   "cell_type": "code",
   "execution_count": null,
   "outputs": [],
   "source": [
    "(lambda n: [print(f'{n} x {i} = {n * i}') for i in range(1, 11)])(int(input()))"
   ],
   "metadata": {
    "collapsed": false,
    "pycharm": {
     "name": "#%%\n"
    }
   }
  },
  {
   "cell_type": "code",
   "execution_count": null,
   "outputs": [],
   "source": [
    "[[print(f'{i} x {j} = {i * j}') for j in range(1, 11)] for i in [int(input())]]"
   ],
   "metadata": {
    "collapsed": false,
    "pycharm": {
     "name": "#%%\n"
    }
   }
  },
  {
   "cell_type": "code",
   "execution_count": 22,
   "outputs": [
    {
     "name": "stdout",
     "output_type": "stream",
     "text": [
      "5 x 1 = 5\n",
      "5 x 2 = 10\n",
      "5 x 3 = 15\n",
      "5 x 4 = 20\n",
      "5 x 5 = 25\n",
      "5 x 6 = 30\n",
      "5 x 7 = 35\n",
      "5 x 8 = 40\n",
      "5 x 9 = 45\n",
      "5 x 10 = 50\n"
     ]
    },
    {
     "data": {
      "text/plain": "[[None, None, None, None, None, None, None, None, None, None]]"
     },
     "execution_count": 22,
     "metadata": {},
     "output_type": "execute_result"
    }
   ],
   "source": [
    "# n = int(input())\n",
    "[[print(f'{n} x {i + 1} = {n * (i + 1)}') for i in range(10)] for n in [(int(input()))]]"
   ],
   "metadata": {
    "collapsed": false,
    "pycharm": {
     "name": "#%%\n"
    }
   }
  }
 ],
 "metadata": {
  "kernelspec": {
   "display_name": "Python 3",
   "language": "python",
   "name": "python3"
  },
  "language_info": {
   "codemirror_mode": {
    "name": "ipython",
    "version": 2
   },
   "file_extension": ".py",
   "mimetype": "text/x-python",
   "name": "python",
   "nbconvert_exporter": "python",
   "pygments_lexer": "ipython2",
   "version": "2.7.6"
  }
 },
 "nbformat": 4,
 "nbformat_minor": 0
}