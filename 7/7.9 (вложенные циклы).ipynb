﻿{
 "cells": [
  {
   "cell_type": "markdown",
   "source": [
    "Дано натуральное число n. Напишите программу, которая печатает численный треугольник с высотой равной n, в соответствии с примером:\n",
    "\n",
    "1\n",
    "2 3\n",
    "4 5 6\n",
    "7 8 9 10\n",
    "11 12 13 14 15\n",
    "16 17 18 19 20 21\n",
    "...\n",
    "\n",
    "Формат входных данных\n",
    "На вход программе подается одно натуральное число.\n",
    "\n",
    "Формат выходных данных\n",
    "Программа должна вывести треугольник в соответствии с условием.\n",
    "\n",
    "Примечание. Используйте вложенный цикл for."
   ],
   "metadata": {
    "collapsed": false,
    "pycharm": {
     "name": "#%% md\n"
    }
   }
  },
  {
   "cell_type": "code",
   "execution_count": 1,
   "outputs": [
    {
     "name": "stdout",
     "output_type": "stream",
     "text": [
      "1 \n",
      "2 3 \n",
      "4 5 6 \n",
      "7 8 9 10 \n",
      "11 12 13 14 15 \n",
      "16 17 18 19 20 21 \n"
     ]
    }
   ],
   "source": [
    "def print_numeric_triangle(n):\n",
    "    num = 1\n",
    "    for i in range(1, n + 1):\n",
    "        for j in range(i):\n",
    "            print(num, end=\" \")\n",
    "            num += 1\n",
    "        print()\n",
    "\n",
    "\n",
    "# Вызов функции для печати численного треугольника с высотой n\n",
    "n = int(input())\n",
    "print_numeric_triangle(n)"
   ],
   "metadata": {
    "collapsed": false,
    "pycharm": {
     "name": "#%%\n"
    }
   }
  },
  {
   "cell_type": "markdown",
   "source": [
    "Дано натуральное число n. Напишите программу, которая печатает численный треугольник с высотой равной n, в соответствии с примером:\n",
    "\n",
    "1\n",
    "121\n",
    "12321\n",
    "1234321\n",
    "123454321\n",
    "...\n",
    "Формат входных данных\n",
    "На вход программе подается одно натуральное число.\n",
    "\n",
    "Формат выходных данных\n",
    "Программа должна вывести треугольник в соответствии с условием.\n",
    "\n",
    "Примечание. Используйте вложенный цикл for."
   ],
   "metadata": {
    "collapsed": false,
    "pycharm": {
     "name": "#%% md\n"
    }
   }
  },
  {
   "cell_type": "code",
   "execution_count": 3,
   "outputs": [
    {
     "name": "stdout",
     "output_type": "stream",
     "text": [
      "1\n",
      "121\n",
      "12321\n",
      "1234321\n",
      "123454321\n"
     ]
    }
   ],
   "source": [
    "def print_numeric_triangle(n):\n",
    "    num = 1\n",
    "    for i in range(1, n + 1):\n",
    "        # Печать чисел от 1 до i по возрастанию\n",
    "        for j in range(1, i + 1):\n",
    "            print(num, end='')\n",
    "            num += 1\n",
    "        num -= 1\n",
    "        # Печать чисел от i-1 до 1 по убыванию\n",
    "        for j in range(1, i):\n",
    "            num -= 1\n",
    "            print(num, end='')\n",
    "        print()\n",
    "\n",
    "\n",
    "# Пример вызова функции для печати численного треугольника с высотой n\n",
    "n = int(input())\n",
    "print_numeric_triangle(n)"
   ],
   "metadata": {
    "collapsed": false,
    "pycharm": {
     "name": "#%%\n"
    }
   }
  },
  {
   "cell_type": "markdown",
   "source": [
    "На вход программе подаются два натуральных числа a и b (a< b). Напишите программу, которая находит натуральное число из отрезка [a;b] (от a до b включительно) с максимальной суммой делителей. Если чисел с максимальной суммой делителей несколько, то искомым числом является наибольшее из них. Ваша программа должны выводить ответ в следующем формате:\n",
    "\n",
    "<число с максимальной суммой делителей> <сумма делителей этого числа>\n",
    "Формат входных данных\n",
    "На вход программе подаются два числа, каждое на отдельной строке.\n",
    "\n",
    "Формат выходных данных\n",
    "Программа должна вывести два числа на одной строке, разделенных пробелом: число с максимальной суммой делителей и сумму его делителей."
   ],
   "metadata": {
    "collapsed": false,
    "pycharm": {
     "name": "#%% md\n"
    }
   }
  },
  {
   "cell_type": "code",
   "execution_count": null,
   "outputs": [],
   "source": [
    "def sum_of_divisors(num):\n",
    "    sum_divisors = 0\n",
    "    for i in range(1, num + 1):\n",
    "        if num % i == 0:\n",
    "            sum_divisors += i\n",
    "    return sum_divisors\n",
    "\n",
    "\n",
    "def max_sum_of_divisors(a, b):\n",
    "    max_num = a\n",
    "    max_sum = sum_of_divisors(a)\n",
    "\n",
    "    for i in range(a + 1, b + 1):\n",
    "        current_sum = sum_of_divisors(i)\n",
    "        if current_sum >= max_sum:\n",
    "            max_sum = current_sum\n",
    "            max_num = i\n",
    "\n",
    "    return max_num, max_sum\n",
    "\n",
    "\n",
    "a = int(input())\n",
    "b = int(input())\n",
    "\n",
    "result = max_sum_of_divisors(a, b)\n",
    "print(result[0], result[1])"
   ],
   "metadata": {
    "collapsed": false,
    "pycharm": {
     "name": "#%%\n"
    }
   }
  },
  {
   "cell_type": "markdown",
   "source": [
    "На вход программе подается натуральное число n. Напишите программу, выводящую графическое изображение делимости чисел от 1 до n включительно. В каждой строке надо напечатать очередное число и столько символов «+», сколько делителей у этого числа.\n",
    "\n",
    "Формат входных данных\n",
    "На вход программе подается одно натуральное число.\n",
    "\n",
    "Формат выходных данных\n",
    "Программа должна вывести графическое изображение чисел от 1 до n, каждое на отдельной строке."
   ],
   "metadata": {
    "collapsed": false,
    "pycharm": {
     "name": "#%% md\n"
    }
   }
  },
  {
   "cell_type": "code",
   "execution_count": 8,
   "outputs": [
    {
     "name": "stdout",
     "output_type": "stream",
     "text": [
      "1+\n",
      "2++\n",
      "3++\n",
      "4+++\n",
      "5++\n"
     ]
    }
   ],
   "source": [
    "def print_divisibility_graph(n):\n",
    "    for i in range(1, n + 1):\n",
    "        divisors = [j for j in range(1, i + 1) if i % j == 0]\n",
    "        print(f\"{i}{''.join(['+' for _ in divisors])}\")\n",
    "\n",
    "\n",
    "n = int(input())\n",
    "print_divisibility_graph(n)"
   ],
   "metadata": {
    "collapsed": false,
    "pycharm": {
     "name": "#%%\n"
    }
   }
  },
  {
   "cell_type": "markdown",
   "source": [
    "На вход программе подается натуральное число n. Напишите программу, которая находит цифровой корень данного числа. Цифровой корень числа n получается следующим образом: если сложить все цифры этого числа, затем все цифры найденной суммы и повторять этот процесс до тех пор, пока в результате не будет получено однозначное число (цифра), которое и называется цифровым корнем первоначального числа n.\n",
    "\n",
    "Формат входных данных\n",
    "На вход программе подается одно натуральное число.\n",
    "\n",
    "Формат выходных данных\n",
    "Программа должна вывести цифровой корень введенного числа.\n",
    "\n",
    "Примечание. Используйте вложенные циклы while."
   ],
   "metadata": {
    "collapsed": false,
    "pycharm": {
     "name": "#%% md\n"
    }
   }
  },
  {
   "cell_type": "code",
   "execution_count": null,
   "outputs": [],
   "source": [
    "def digital_root(n):\n",
    "    while n >= 10:\n",
    "        n = sum(int(digit) for digit in str(n))\n",
    "    return n\n",
    "\n",
    "\n",
    "n = int(input())\n",
    "result = digital_root(n)\n",
    "print(result)"
   ],
   "metadata": {
    "collapsed": false,
    "pycharm": {
     "name": "#%%\n"
    }
   }
  },
  {
   "cell_type": "markdown",
   "source": [
    "Дано натуральное число n. Напишите программу, которая выводит значение суммы:\n",
    "1!+2!+3!+...+n!\n",
    "\n",
    "Формат входных данных\n",
    "На вход программе подается одно натуральное число.\n",
    "\n",
    "Формат выходных данных\n",
    "Программа должна вывести значение суммы 1!+2!+3!+...+n!.\n",
    "\n",
    "Примечание 1. Факториалом натурального числа n, называется произведение всех натуральных чисел от 1 до n, то есть\n",
    "n!=1⋅2⋅3⋅...⋅n\n",
    "\n",
    "Примечание 2. Задачу можно решить без вложенного цикла. Напишите две версии программы =)"
   ],
   "metadata": {
    "collapsed": false,
    "pycharm": {
     "name": "#%% md\n"
    }
   }
  },
  {
   "cell_type": "code",
   "execution_count": null,
   "outputs": [],
   "source": [
    "def factorial(num):\n",
    "    if num == 0:\n",
    "        return 1\n",
    "    else:\n",
    "        return num * factorial(num - 1)\n",
    "\n",
    "\n",
    "def sum_of_factorials(n):\n",
    "    return sum(factorial(i) for i in range(1, n + 1))\n",
    "\n",
    "\n",
    "n = int(input())\n",
    "result = sum_of_factorials(n)\n",
    "print(result)"
   ],
   "metadata": {
    "collapsed": false,
    "pycharm": {
     "name": "#%%\n"
    }
   }
  },
  {
   "cell_type": "markdown",
   "source": [
    "На вход программе подается два натуральных числа a и b (a< b). Напишите программу, которая находит все простые числа от a до b включительно.\n",
    "\n",
    "Формат входных данных\n",
    "На вход программе подаются два числа, каждое на отдельной строке.\n",
    "\n",
    "Формат выходных данных\n",
    "Программа должна вывести все простые числа от a до b включительно, каждое на отдельной строке.\n",
    "\n",
    "Примечание 1. Простое число – это натуральное число, единственными делителями которого являются только оно само и 1.\n",
    "\n",
    "Примечание 2. Число 1 простым не является."
   ],
   "metadata": {
    "collapsed": false,
    "pycharm": {
     "name": "#%% md\n"
    }
   }
  },
  {
   "cell_type": "code",
   "execution_count": null,
   "outputs": [],
   "source": [
    "def is_prime(num):\n",
    "    if num < 2:\n",
    "        return False\n",
    "    for i in range(2, int(num ** 0.5) + 1):\n",
    "        if num % i == 0:\n",
    "            return False\n",
    "    return True\n",
    "\n",
    "\n",
    "def prime_numbers_in_range(a, b):\n",
    "    if a >= b:\n",
    "        print(\"a должно быть меньше b\")\n",
    "        return []\n",
    "\n",
    "    prime_numbers = []\n",
    "    for num in range(a, b + 1):\n",
    "        if is_prime(num):\n",
    "            prime_numbers.append(num)\n",
    "    return prime_numbers\n",
    "\n",
    "\n",
    "a = int(input())\n",
    "b = int(input())\n",
    "result = prime_numbers_in_range(a, b)\n",
    "\n",
    "for i in result:\n",
    "    print(i)"
   ],
   "metadata": {
    "collapsed": false,
    "pycharm": {
     "name": "#%%\n"
    }
   }
  },
  {
   "cell_type": "code",
   "execution_count": 13,
   "outputs": [
    {
     "name": "stdout",
     "output_type": "stream",
     "text": [
      "0\n",
      "100\n",
      "200\n",
      "300\n",
      "400\n",
      "500\n"
     ]
    }
   ],
   "source": [
    "for i in range(0, 501, 100):\n",
    "    print(i)"
   ],
   "metadata": {
    "collapsed": false,
    "pycharm": {
     "name": "#%%\n"
    }
   }
  },
  {
   "cell_type": "code",
   "execution_count": 14,
   "outputs": [
    {
     "name": "stdout",
     "output_type": "stream",
     "text": [
      "Python awesome!\n",
      "Python awesome!\n",
      "Python awesome!\n",
      "Python awesome!\n",
      "Python awesome!\n",
      "Python awesome!\n",
      "Python awesome!\n",
      "Python awesome!\n",
      "Python awesome!\n",
      "Python awesome!\n",
      "Python awesome!\n",
      "Python awesome!\n",
      "Python awesome!\n",
      "Python awesome!\n",
      "Python awesome!\n"
     ]
    }
   ],
   "source": [
    "for i in range(10, 25):\n",
    "    print('Python awesome!')"
   ],
   "metadata": {
    "collapsed": false,
    "pycharm": {
     "name": "#%%\n"
    }
   }
  },
  {
   "cell_type": "code",
   "execution_count": 16,
   "outputs": [
    {
     "name": "stdout",
     "output_type": "stream",
     "text": [
      "1\n"
     ]
    }
   ],
   "source": [
    "n = int(input())\n",
    "counter = 0\n",
    "\n",
    "for i in range(1, n + 1):\n",
    "    if i % 3 == 0 and i % 7 != 0:\n",
    "        counter += 1\n",
    "\n",
    "print(counter)"
   ],
   "metadata": {
    "collapsed": false,
    "pycharm": {
     "name": "#%%\n"
    }
   }
  },
  {
   "cell_type": "code",
   "execution_count": null,
   "outputs": [],
   "source": [
    "def sum_of_even_digits(num):\n",
    "    even_sum = 0\n",
    "    for digit in str(num):\n",
    "        if int(digit) % 2 == 0:\n",
    "            even_sum += int(digit)\n",
    "    return even_sum\n",
    "\n",
    "\n",
    "num = int(input(\"Введите натуральное число: \"))\n",
    "result = sum_of_even_digits(num)\n",
    "\n",
    "if result == 0:\n",
    "    print(0)\n",
    "else:\n",
    "    print(\"Сумма четных цифр:\", result)"
   ],
   "metadata": {
    "collapsed": false,
    "pycharm": {
     "name": "#%%\n"
    }
   }
  },
  {
   "cell_type": "code",
   "execution_count": null,
   "outputs": [],
   "source": [
    "n = input()\n",
    "s = 0\n",
    "while n > 10:\n",
    "    if n % 2 == 1:\n",
    "        s = n % 10\n",
    "    n //= 10\n",
    "print(s)"
   ],
   "metadata": {
    "collapsed": false,
    "pycharm": {
     "name": "#%%\n"
    }
   }
  },
  {
   "cell_type": "code",
   "execution_count": null,
   "outputs": [],
   "source": [
    "n = 7\n",
    "count = 0\n",
    "maximum = 1000\n",
    "for i in range(1, n + 1):\n",
    "    x = int(input())\n",
    "    if x // 4 == 0:\n",
    "        count += 1\n",
    "        if x < maximum:\n",
    "            maximum = x\n",
    "if count > 0:\n",
    "    print(count)\n",
    "    print(maximum)\n",
    "else:\n",
    "    print('NO')"
   ],
   "metadata": {
    "collapsed": false,
    "pycharm": {
     "name": "#%%\n"
    }
   }
  },
  {
   "cell_type": "markdown",
   "source": [
    "На обработку поступает последовательность из 8 целых чисел. Известно, что вводимые числа по абсолютной величине не превышают 10 в 12 степени\n",
    " . Нужно написать программу, которая выводит на экран количество делящихся нацело на 4 чисел в исходной последовательности и максимальное делящееся нацело на 4 число. Если делящихся нацело на 4 чисел нет, на экран требуется вывести «NO»."
   ],
   "metadata": {
    "collapsed": false,
    "pycharm": {
     "name": "#%% md\n"
    }
   }
  },
  {
   "cell_type": "code",
   "execution_count": null,
   "outputs": [],
   "source": [
    "n = 8\n",
    "count = 0\n",
    "maximum = -10 ** 6 - 1\n",
    "for _ in range(n):\n",
    "    x = int(input())\n",
    "    if x % 4 == 0:\n",
    "        count += 1\n",
    "        if x > maximum:\n",
    "            maximum = x\n",
    "if count > 0:\n",
    "    print(count)\n",
    "    print(maximum)\n",
    "else:\n",
    "    print('NO')"
   ],
   "metadata": {
    "collapsed": false,
    "pycharm": {
     "name": "#%%\n"
    }
   }
  },
  {
   "cell_type": "markdown",
   "source": [
    "На обработку поступает последовательность из\n",
    "4 целых чисел. Известно, что вводимые числа по абсолютной величине не превышают 10 в степени 8. Нужно написать программу, которая выводит на экран количество нечетных чисел в исходной последовательности и максимальное нечетное число. Если нечетных чисел нет, требуется на экран вывести «NO». Программист торопился и написал программу неправильно.\n",
    "\n",
    "Найдите все ошибки в этой программе (их может быть одна или несколько). Известно, что каждая ошибка затрагивает только одну строку и может быть исправлена без изменения других строк.\n",
    "\n",
    "Примечание. Обратите внимание, что требуется найти ошибки в имеющейся программе, а не написать свою, возможно, использующую другой алгоритм решения."
   ],
   "metadata": {
    "collapsed": false,
    "pycharm": {
     "name": "#%% md\n"
    }
   }
  },
  {
   "cell_type": "code",
   "execution_count": null,
   "outputs": [],
   "source": [
    "n = 4\n",
    "count = 0\n",
    "maximum = 999\n",
    "for i in range(1, n + 1):\n",
    "    x = int(input())\n",
    "    if x % 2 != 0:\n",
    "        count += 1\n",
    "        if x > maximum:\n",
    "            maximum = i\n",
    "            break\n",
    "if count > 0:\n",
    "    print(count)\n",
    "    print(maximum)\n",
    "else:\n",
    "    print('NO')"
   ],
   "metadata": {
    "collapsed": false,
    "pycharm": {
     "name": "#%%\n"
    }
   }
  },
  {
   "cell_type": "markdown",
   "source": [
    "На вход программе подается натуральное число n. Напишите программу, которая печатает звездную рамку размерами n×19.\n",
    "\n",
    "Формат входных данных\n",
    "На вход программе подаётся натуральное число n∈[3;19] — высота звездной рамки.\n",
    "\n",
    "Формат выходных данных\n",
    "Программа должна вывести звездную рамку размерами n×19.\n",
    "\n",
    "Подсказка. Для печати звездной линии используйте умножение строки на число."
   ],
   "metadata": {
    "collapsed": false,
    "pycharm": {
     "name": "#%% md\n"
    }
   }
  },
  {
   "cell_type": "code",
   "execution_count": 17,
   "outputs": [
    {
     "name": "stdout",
     "output_type": "stream",
     "text": [
      "*******************\n",
      "*                 *\n",
      "*******************\n"
     ]
    }
   ],
   "source": [
    "n = int(input())\n",
    "\n",
    "for i in range(n):\n",
    "    if i == 0 or i == n - 1:\n",
    "        print('*' * 19)\n",
    "    else:\n",
    "        print('*' + ' ' * 17 + '*')"
   ],
   "metadata": {
    "collapsed": false,
    "pycharm": {
     "name": "#%%\n"
    }
   }
  },
  {
   "cell_type": "markdown",
   "source": [
    "Дано натуральное число n(n>99). Напишите программу, которая определяет его третью (с начала) цифру.\n",
    "\n",
    "Формат входных данных\n",
    "На вход программе подается одно натуральное число, состоящее как минимум из трех цифр.\n",
    "\n",
    "Формат выходных данных\n",
    "Программа должна вывести его третью (с начала) цифру."
   ],
   "metadata": {
    "collapsed": false,
    "pycharm": {
     "name": "#%% md\n"
    }
   }
  },
  {
   "cell_type": "code",
   "execution_count": null,
   "outputs": [],
   "source": [
    "n = int(input())\n",
    "\n",
    "# Преобразуем число в строку, чтобы легче работать с цифрами\n",
    "n_str = str(n)\n",
    "\n",
    "# Используем индексацию для доступа к третьей цифре (по индексу 2)\n",
    "third_digit = n_str[2]\n",
    "\n",
    "print(third_digit)"
   ],
   "metadata": {
    "collapsed": false,
    "pycharm": {
     "name": "#%%\n"
    }
   }
  },
  {
   "cell_type": "markdown",
   "source": [
    "Дано натуральное число. Напишите программу, которая вычисляет:\n",
    "\n",
    "количество цифр 3 в нем;\n",
    "сколько раз в нем встречается последняя цифра;\n",
    "количество четных цифр;\n",
    "сумму его цифр, больших пяти;\n",
    "произведение цифр, больших семи (если цифр больших семи нет, то вывести 1, если такая цифра одна, то вывести ее);\n",
    "сколько раз в нем встречаются цифры 0 и 5 (всего суммарно).\n",
    "Формат входных данных\n",
    "На вход программе подается одно натуральное число.\n",
    "\n",
    "Формат выходных данных\n",
    "Программа должна вывести значения указанных величин в указанном порядке."
   ],
   "metadata": {
    "collapsed": false,
    "pycharm": {
     "name": "#%% md\n"
    }
   }
  },
  {
   "cell_type": "code",
   "execution_count": 18,
   "outputs": [
    {
     "name": "stdout",
     "output_type": "stream",
     "text": [
      "0\n",
      "2\n",
      "1\n",
      "0\n",
      "1\n",
      "2\n"
     ]
    }
   ],
   "source": [
    "n = int(input())\n",
    "\n",
    "n_str = str(n)\n",
    "# Количество цифр 3 в числе\n",
    "count_3 = n_str.count(\"3\")\n",
    "\n",
    "# Сколько раз в числе встречается последняя цифра\n",
    "last_digit = n_str[-1]\n",
    "count_last_digit = n_str.count(last_digit)\n",
    "\n",
    "# Количество четных цифр\n",
    "count_even = sum([1 for digit in n_str if int(digit) % 2 == 0])\n",
    "\n",
    "# Сумма цифр, больших 5\n",
    "sum_gt_5 = sum([int(digit) for digit in n_str if int(digit) > 5])\n",
    "\n",
    "# Произведение цифр, больших 7\n",
    "product_gt_7 = 1\n",
    "for digit in n_str:\n",
    "    if int(digit) > 7:\n",
    "        product_gt_7 *= int(digit)\n",
    "\n",
    "# Количество цифр 0 и 5\n",
    "count_zeros_fives = n_str.count(\"0\") + n_str.count(\"5\")\n",
    "\n",
    "print(count_3)\n",
    "print(count_last_digit)\n",
    "print(count_even)\n",
    "print(sum_gt_5)\n",
    "print(product_gt_7)\n",
    "print(count_zeros_fives)"
   ],
   "metadata": {
    "collapsed": false,
    "pycharm": {
     "name": "#%%\n"
    }
   }
  },
  {
   "cell_type": "markdown",
   "source": [
    "Сриниваса Рамануджан – индийский математик, славившийся своей интуицией в области чисел. Когда английский математик Годфри Харди навестил его однажды в больнице, он обмолвился, что номером такси, на котором он приехал, было 1729, такое скучное и заурядное число. На что Рамануджан ответил: \"Нет, нет! Это очень интересное число. Это наименьшее число, выражаемое как сумма двух кубов двумя разными способами\". Другими словами:\n",
    "\n",
    "1729 = 1 в степени 3 + 12 в степени 3 = 9 в степени 3 + 10 в степени 3.\n",
    "\n",
    "Напишите программу, которая находит аналогичные интересные числа. В ответе запишите первые 5 чисел в порядке возрастания, включая число 1729.\n",
    "\n",
    "Примечание. Используйте вложенный цикл."
   ],
   "metadata": {
    "collapsed": false,
    "pycharm": {
     "name": "#%% md\n"
    }
   }
  },
  {
   "cell_type": "code",
   "execution_count": 19,
   "outputs": [
    {
     "name": "stdout",
     "output_type": "stream",
     "text": [
      "2\n",
      "9\n",
      "28\n",
      "65\n",
      "126\n"
     ]
    }
   ],
   "source": [
    "interesting_numbers = []\n",
    "count = 0\n",
    "\n",
    "for i in range(1, 1000):\n",
    "    for j in range(i, 1000):\n",
    "        sum1 = i ** 3 + j ** 3\n",
    "        sum2 = j ** 3 + i ** 3\n",
    "\n",
    "        if sum1 == sum2 and sum1 not in interesting_numbers:\n",
    "            interesting_numbers.append(sum1)\n",
    "            count += 1\n",
    "            if count == 5:\n",
    "                break\n",
    "        if count == 5:\n",
    "            break\n",
    "    if count == 5:\n",
    "        break\n",
    "\n",
    "interesting_numbers.sort()\n",
    "for number in interesting_numbers:\n",
    "    print(number)"
   ],
   "metadata": {
    "collapsed": false,
    "pycharm": {
     "name": "#%%\n"
    }
   }
  },
  {
   "cell_type": "code",
   "execution_count": 20,
   "outputs": [
    {
     "name": "stdout",
     "output_type": "stream",
     "text": [
      "1729\n",
      "1729\n",
      "4104\n",
      "4104\n",
      "13832\n",
      "13832\n",
      "20683\n",
      "20683\n",
      "32832\n",
      "32832\n"
     ]
    }
   ],
   "source": [
    "interesting_numbers = []\n",
    "\n",
    "for a in range(1, 34):\n",
    "    for b in range(a, 34):\n",
    "        for c in range(1, 34):\n",
    "            for d in range(c, 34):\n",
    "                if a != b and a != c and a != d and b != c and b != d and c != d:\n",
    "                    if a ** 3 + b ** 3 == c ** 3 + d ** 3:\n",
    "                        interesting_numbers.append(a ** 3 + b ** 3)\n",
    "\n",
    "interesting_numbers.sort()\n",
    "for number in interesting_numbers:\n",
    "    print(number)"
   ],
   "metadata": {
    "collapsed": false,
    "pycharm": {
     "name": "#%%\n"
    }
   }
  }
 ],
 "metadata": {
  "kernelspec": {
   "display_name": "Python 3",
   "language": "python",
   "name": "python3"
  },
  "language_info": {
   "codemirror_mode": {
    "name": "ipython",
    "version": 2
   },
   "file_extension": ".py",
   "mimetype": "text/x-python",
   "name": "python",
   "nbconvert_exporter": "python",
   "pygments_lexer": "ipython2",
   "version": "2.7.6"
  }
 },
 "nbformat": 4,
 "nbformat_minor": 0
}