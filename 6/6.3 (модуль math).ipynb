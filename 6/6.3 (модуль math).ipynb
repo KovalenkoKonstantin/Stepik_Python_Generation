﻿{
 "cells": [
  {
   "cell_type": "markdown",
   "source": [
    "На плоскости евклидово расстояние между двумя точками\n",
    "(𝑥1;𝑦1) и (𝑥2;𝑦2)определяется так\n",
    "𝜌=(𝑥1−𝑥2)2+(𝑦1−𝑦2).\n",
    "\n",
    "Напишите программу определяющую евклидово расстояние между двумя точками, координаты которых заданы.\n",
    "\n",
    "Формат входных данных\n",
    "На вход программе подается четыре вещественных числа, каждое на отдельной строке –\n",
    "𝑥1,𝑦1,𝑥2,𝑦2.\n",
    "\n",
    "Формат выходных данных\n",
    "Программа должна вывести одно число – евклидово расстояние."
   ],
   "metadata": {
    "collapsed": false,
    "pycharm": {
     "name": "#%% md\n"
    }
   }
  },
  {
   "cell_type": "code",
   "execution_count": null,
   "outputs": [],
   "source": [
    "import math\n",
    "\n",
    "x1 = float(input())\n",
    "y1 = float(input())\n",
    "x2 = float(input())\n",
    "y2 = float(input())\n",
    "\n",
    "distance = math.sqrt((x1 - x2) ** 2 + (y1 - y2) ** 2)\n",
    "print(distance)"
   ],
   "metadata": {
    "collapsed": false,
    "pycharm": {
     "name": "#%%\n"
    }
   }
  },
  {
   "cell_type": "markdown",
   "source": [
    "Напишите программу, определяющую площадь круга и длину окружности по заданному радиусу R.\n",
    "\n",
    "Формат входных данных\n",
    "На вход программе подаётся одно действительное число 𝑅.\n",
    "\n",
    "Формат выходных данных\n",
    "Программа должна вывести два числа (каждое на новой строке) – площадь круга и длину окружности радиуса R.\n",
    "\n",
    "Примечание. Используйте константу math.pi."
   ],
   "metadata": {
    "collapsed": false,
    "pycharm": {
     "name": "#%% md\n"
    }
   }
  },
  {
   "cell_type": "code",
   "execution_count": null,
   "outputs": [],
   "source": [
    "import math\n",
    "\n",
    "R = float(input())\n",
    "\n",
    "area = math.pi * R ** 2\n",
    "circumference = 2 * math.pi * R\n",
    "\n",
    "print(area)\n",
    "print(circumference)"
   ],
   "metadata": {
    "collapsed": false,
    "pycharm": {
     "name": "#%%\n"
    }
   }
  },
  {
   "cell_type": "markdown",
   "source": [
    "В математике выделяют следующие средние значения:\n",
    "\n",
    "среднее арифметическое чисел 𝑎 и 𝑏:𝑎+𝑏/2;\n",
    "\n",
    "среднее геометрическое чисел\n",
    "𝑎 и 𝑏:𝑎⋅𝑏;\n",
    "\n",
    "среднее гармоническое чисел\n",
    "𝑎 и 𝑏:2𝑎*𝑏/𝑎+𝑏;\n",
    "\n",
    "среднее квадратичное чисел\n",
    "𝑎 и 𝑏:𝑎2+𝑏2/2.\n",
    "Формат входных данных\n",
    "На вход программе подается два вещественных числа\n",
    "𝑎 и 𝑏, каждое на отдельной строке.\n",
    "\n",
    "Формат выходных данных\n",
    "Программа должна вывести 4 числа – среднее арифметическое, геометрическое, гармоническое и квадратичное."
   ],
   "metadata": {
    "collapsed": false,
    "pycharm": {
     "name": "#%% md\n"
    }
   }
  },
  {
   "cell_type": "code",
   "execution_count": null,
   "outputs": [],
   "source": [
    "a = float(input())\n",
    "b = float(input())\n",
    "\n",
    "average_arithmetic = (a + b) / 2\n",
    "average_geometric = (a * b) ** 0.5\n",
    "average_harmonic = 2 * a * b / (a + b)\n",
    "average_quadratic = ((a ** 2 + b ** 2) / 2) ** 0.5\n",
    "\n",
    "print(average_arithmetic)\n",
    "print(average_geometric)\n",
    "print(average_harmonic)\n",
    "print(average_quadratic)"
   ],
   "metadata": {
    "collapsed": false,
    "pycharm": {
     "name": "#%%\n"
    }
   }
  },
  {
   "cell_type": "markdown",
   "source": [
    "Напишите программу, вычисляющую значение тригонометрического выражения\n",
    "sin𝑥+cos𝑥+tan2𝑥\n",
    "по заданному числу градусов 𝑥.\n",
    "\n",
    "Формат входных данных\n",
    "На вход программе подается одно вещественное число x измеряемое в градусах.\n",
    "\n",
    "Формат выходных данных\n",
    "Программа должна вывести одно число – значение тригонометрического выражения.\n",
    "\n",
    "Примечание 1. Тригонометрические функции принимают аргумент в радианах. Чтобы перевести градусы в радианы, воспользуйтесь формулой\n",
    "𝑟=𝑥⋅𝜋/180\n",
    "\n",
    "Примечание 2. Модуль math содержит встроенную функцию radians(), которая переводит угол из градусов в угол в радианах."
   ],
   "metadata": {
    "collapsed": false,
    "pycharm": {
     "name": "#%% md\n"
    }
   }
  },
  {
   "cell_type": "code",
   "execution_count": null,
   "outputs": [],
   "source": [
    "import math\n",
    "\n",
    "x_deg = float(input())\n",
    "\n",
    "x_rad = math.radians(x_deg)\n",
    "result = math.sin(x_rad) + math.cos(x_rad) + math.tan(x_rad) ** 2\n",
    "\n",
    "print(result)"
   ],
   "metadata": {
    "collapsed": false,
    "pycharm": {
     "name": "#%%\n"
    }
   }
  },
  {
   "cell_type": "markdown",
   "source": [
    "Напишите программу, которая принимает на вход действительное число\n",
    "𝑥 и вычисляет по нему значение:\n",
    "⌊𝑥⌋+⌈𝑥⌉\n",
    "Формат входных данных\n",
    "На вход программе подается одно действительное числоx.\n",
    "\n",
    "Формат выходных данных\n",
    "Программа должна вывести одно число – значение указанного выражения.\n",
    "\n",
    "Примечание 1.\n",
    "⌊𝑥⌋ – пол числа (округление x до ближайшего целого в меньшую сторону),\n",
    "⌈𝑥⌉ – потолок числа (округление 𝑥 до ближайшего целого в большую сторону).\n",
    "\n",
    "Примечание 2. Для большей ясности разберем\n",
    "1\n",
    "1-й тест. На вход поступает число 5.5. Полом и потолком для числа 5.5 будут числа:\n",
    "⌊5.5⌋=5\n",
    "⌈5.5⌉=6\n",
    "\n",
    "Сумма 5 и 6 дает нам 11. Это и есть ответ на задачу."
   ],
   "metadata": {
    "collapsed": false,
    "pycharm": {
     "name": "#%% md\n"
    }
   }
  },
  {
   "cell_type": "code",
   "execution_count": null,
   "outputs": [],
   "source": [
    "import math\n",
    "\n",
    "x = float(input())\n",
    "\n",
    "floor_x = math.floor(x)\n",
    "ceil_x = math.ceil(x)\n",
    "\n",
    "result = floor_x + ceil_x\n",
    "\n",
    "print(result)"
   ],
   "metadata": {
    "collapsed": false,
    "pycharm": {
     "name": "#%%\n"
    }
   }
  },
  {
   "cell_type": "markdown",
   "source": [
    "Даны три вещественных числа 𝑎,𝑏,𝑐. Напишите программу, которая находит вещественные корни квадратного уравнения:\n",
    "𝑎𝑥2+𝑏𝑥+𝑐=0\n",
    "Если уравнение имеет два корня, то следует вывести их в порядке возрастания.\n",
    "\n",
    "Формат входных данных\n",
    "На вход программе подается три действительных числа\n",
    "𝑎≠0,𝑏,𝑐\n",
    "каждое на отдельной строке.\n",
    "\n",
    "Формат выходных данных\n",
    "Программа должна вывести действительные числа – корни уравнения  каждый на отдельной строке, если они существуют, или текст «Нет корней» в противном случае.\n",
    "\n",
    "Примечание. Корни квадратного уравнения\n",
    "𝑎𝑥2+𝑏𝑥+𝑐=0\n",
    "находятся по следующим формулам:\n",
    "𝑥1=−𝑏−𝑏2−4𝑎𝑐/2𝑎,𝑥2=−𝑏+𝑏2−4𝑎𝑐/2𝑎"
   ],
   "metadata": {
    "collapsed": false,
    "pycharm": {
     "name": "#%% md\n"
    }
   }
  },
  {
   "cell_type": "code",
   "execution_count": null,
   "outputs": [],
   "source": [
    "import math\n",
    "\n",
    "a = float(input())\n",
    "b = float(input())\n",
    "c = float(input())\n",
    "discriminant = b ** 2 - 4 * a * c\n",
    "if discriminant > 0:\n",
    "    x1 = (-b - math.sqrt(discriminant)) / (2 * a)\n",
    "    x2 = (-b + math.sqrt(discriminant)) / (2 * a)\n",
    "    print(min(x1, x2))\n",
    "    print(max(x1, x2))\n",
    "elif discriminant == 0:\n",
    "    x = -b / (2 * a)\n",
    "    print(x)\n",
    "else:\n",
    "    print(\"Нет корней\")"
   ],
   "metadata": {
    "collapsed": false,
    "pycharm": {
     "name": "#%%\n"
    }
   }
  },
  {
   "cell_type": "code",
   "execution_count": null,
   "outputs": [],
   "source": [
    "a = float(input())\n",
    "b = float(input())\n",
    "c = float(input())\n",
    "d = b ** 2 - 4 * a * c\n",
    "if d < 0:\n",
    "    print(\"Нет корней\")"
   ],
   "metadata": {
    "collapsed": false,
    "pycharm": {
     "name": "#%%\n"
    }
   }
  },
  {
   "cell_type": "markdown",
   "source": [
    "Правильный многоугольник — выпуклый многоугольник, у которого равны все стороны и все углы между смежными сторонами. Площадь правильного многоугольника с длиной стороны 𝑎 и количеством сторон 𝑛 вычисляется по формуле:\n",
    "𝑆=𝑛⋅𝑎2/4tg(𝜋/𝑛)\n",
    "Даны два числа: натуральное число 𝑛 и вещественное число 𝑎. Напишите программу, которая находит площадь указанного правильного многоугольника.\n",
    "\n",
    "Формат входных данных\n",
    "На вход программе подается два числа 𝑛 и 𝑎, каждое на отдельной строке.\n",
    "\n",
    "Формат выходных данных\n",
    "Программа должна вывести вещественное число – площадь многоугольника."
   ],
   "metadata": {
    "collapsed": false,
    "pycharm": {
     "name": "#%% md\n"
    }
   }
  },
  {
   "cell_type": "code",
   "execution_count": null,
   "outputs": [],
   "source": [
    "import math\n",
    "\n",
    "n = int(input())\n",
    "a = float(input())\n",
    "\n",
    "area = (n * a ** 2) / (4 * math.tan(math.pi / n))\n",
    "\n",
    "print(area)"
   ],
   "metadata": {
    "collapsed": false,
    "pycharm": {
     "name": "#%%\n"
    }
   }
  }
 ],
 "metadata": {
  "kernelspec": {
   "display_name": "Python 3",
   "language": "python",
   "name": "python3"
  },
  "language_info": {
   "codemirror_mode": {
    "name": "ipython",
    "version": 2
   },
   "file_extension": ".py",
   "mimetype": "text/x-python",
   "name": "python",
   "nbconvert_exporter": "python",
   "pygments_lexer": "ipython2",
   "version": "2.7.6"
  }
 },
 "nbformat": 4,
 "nbformat_minor": 0
}