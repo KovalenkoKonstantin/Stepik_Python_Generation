﻿{
 "cells": [
  {
   "cell_type": "markdown",
   "source": [
    "Напишите программу, которая считывает длины двух катетов в прямоугольном треугольнике и выводит его площадь.\n",
    "\n",
    "\n",
    "\n",
    "Формат входных данных\n",
    "На вход программе подаётся два числа с плавающей точкой – длины катетов, каждое на отдельной строке.\n",
    "\n",
    "Формат выходных данных\n",
    "Программа должна вывести одно число – площадь треугольника."
   ],
   "metadata": {
    "collapsed": false,
    "pycharm": {
     "name": "#%% md\n"
    }
   }
  },
  {
   "cell_type": "code",
   "execution_count": null,
   "outputs": [],
   "source": [
    "a, b = float(input()), float(input())\n",
    "\n",
    "s = a * b * 0.5\n",
    "print(s)"
   ],
   "metadata": {
    "collapsed": false,
    "pycharm": {
     "name": "#%%\n"
    }
   }
  },
  {
   "cell_type": "markdown",
   "source": [
    "Две старушки идут навстречу друг другу с постоянными скоростями 𝑉1 и 𝑉2 км/ч. Определите, через какое время (в часах) старушки встретятся, если расстояние между ними равно S км.\n",
    "\n",
    "Формат входных данных\n",
    "На вход программе подаются три числа с плавающей точкой 𝑆,𝑉1,𝑉2, каждое на отдельной строке.\n",
    "\n",
    "Формат выходных данных\n",
    "Программа должна вывести одно число в соответствии с условием задачи.\n",
    "\n",
    "Примечание. Это очень быстрые старушки."
   ],
   "metadata": {
    "collapsed": false,
    "pycharm": {
     "name": "#%% md\n"
    }
   }
  },
  {
   "cell_type": "code",
   "execution_count": null,
   "outputs": [],
   "source": [
    "s, v1, v2 = float(input()), float(input()), float(input())\n",
    "\n",
    "t = s / (v1 + v2)\n",
    "print(t)"
   ],
   "metadata": {
    "collapsed": false,
    "pycharm": {
     "name": "#%%\n"
    }
   }
  },
  {
   "cell_type": "markdown",
   "source": [
    "Напишите программу, которая считывает с клавиатуры одно число и выводит обратное ему. Если при этом введённое с клавиатуры число – ноль, то вывести «Обратного числа не существует» (без кавычек).\n",
    "\n",
    "Формат входных данных\n",
    "На вход программе подается одно действительное число.\n",
    "\n",
    "Формат выходных данных\n",
    "Программа должна вывести действительное число обратное данному, либо текст в соответствии с условием задачи."
   ],
   "metadata": {
    "collapsed": false,
    "pycharm": {
     "name": "#%% md\n"
    }
   }
  },
  {
   "cell_type": "code",
   "execution_count": null,
   "outputs": [],
   "source": [
    "x = float(input())\n",
    "\n",
    "print('Обратного числа не существует' if not x else x ** (-1))"
   ],
   "metadata": {
    "collapsed": false,
    "pycharm": {
     "name": "#%%\n"
    }
   }
  },
  {
   "cell_type": "markdown",
   "source": [
    "У известного американского писателя Рэя Бредбери есть роман «451 градус по Фаренгейту». Напишите программу, которая определяет, какой температуре по шкале Цельсия соответствует указанное значение по шкале Фаренгейта.\n",
    "\n",
    "Для получения градусов по Цельсию из градусов по Фаренгейту используйте следующую формулу:\n",
    "𝑡𝐶=5/9*(𝑡𝐹−32)\n",
    "где tF – температура в градусах по Фаренгейту.\n",
    "\n",
    "Формат входных данных\n",
    "На вход программе подаётся одно действительное число: температура в градусах по шкале Фаренгейта.\n",
    "\n",
    "Формат выходных данных\n",
    "Программа должна вывести одно действительное число: температуру в градусах по шкале Цельсия."
   ],
   "metadata": {
    "collapsed": false,
    "pycharm": {
     "name": "#%% md\n"
    }
   }
  },
  {
   "cell_type": "code",
   "execution_count": null,
   "outputs": [],
   "source": [
    "x = float(input())\n",
    "\n",
    "celsius = 5 / 9 * (x - 32)\n",
    "print(celsius)"
   ],
   "metadata": {
    "collapsed": false,
    "pycharm": {
     "name": "#%%\n"
    }
   }
  },
  {
   "cell_type": "markdown",
   "source": [
    "На вход программе подаётся число n – количество собачьих лет. Напишите программу, которая вычисляет возраст собаки в человеческих годах по следующему алгоритму: в течение первых двух лет собачий год равен 10.5 человеческим годам, после этого каждый год собаки равен 4 человеческим годам.\n",
    "\n",
    "Формат входных данных\n",
    "На вход программе подаётся натуральное число – количество собачьих лет.\n",
    "\n",
    "Формат выходных данных\n",
    "Программа должна вывести возраст собаки в человеческих годах."
   ],
   "metadata": {
    "collapsed": false,
    "pycharm": {
     "name": "#%% md\n"
    }
   }
  },
  {
   "cell_type": "code",
   "execution_count": 8,
   "outputs": [
    {
     "name": "stdout",
     "output_type": "stream",
     "text": [
      "33.0\n"
     ]
    }
   ],
   "source": [
    "dog_age = float(input())\n",
    "\n",
    "dog_in_human_age = [dog_age * 10.5 if dog_age <= 2 else 2 * 10.5 + (dog_age - 2) * 4]\n",
    "print(*dog_in_human_age)"
   ],
   "metadata": {
    "collapsed": false,
    "pycharm": {
     "name": "#%%\n"
    }
   }
  },
  {
   "cell_type": "code",
   "execution_count": 7,
   "outputs": [
    {
     "name": "stdout",
     "output_type": "stream",
     "text": [
      "33\n"
     ]
    }
   ],
   "source": [
    "y = int(input())\n",
    "print(min(10.5 * y, 13 + 4 * y))"
   ],
   "metadata": {
    "collapsed": false,
    "pycharm": {
     "name": "#%%\n"
    }
   }
  },
  {
   "cell_type": "code",
   "execution_count": 6,
   "outputs": [
    {
     "name": "stdout",
     "output_type": "stream",
     "text": [
      "41.0\n"
     ]
    }
   ],
   "source": [
    "n = int(input())\n",
    "print(10.5 * (n == 1) + (21 + 4 * (n - 2)) * (n > 1))"
   ],
   "metadata": {
    "collapsed": false,
    "pycharm": {
     "name": "#%%\n"
    }
   }
  },
  {
   "cell_type": "code",
   "execution_count": 9,
   "outputs": [
    {
     "name": "stdout",
     "output_type": "stream",
     "text": [
      "33\n"
     ]
    }
   ],
   "source": [
    "n = int(input())\n",
    "print(n * 10.5 if 0 < n < 3 else 21 + 4 * (n - 2))"
   ],
   "metadata": {
    "collapsed": false,
    "pycharm": {
     "name": "#%%\n"
    }
   }
  },
  {
   "cell_type": "markdown",
   "source": [
    "Дано положительное действительное число. Выведите его первую цифру после десятичной точки.\n",
    "\n",
    "Формат входных данных\n",
    "На вход программе подается положительное действительное число.\n",
    "\n",
    "Формат выходных данных\n",
    "Программа должна вывести цифру в соответствии с условием задачи."
   ],
   "metadata": {
    "collapsed": false,
    "pycharm": {
     "name": "#%% md\n"
    }
   }
  },
  {
   "cell_type": "code",
   "execution_count": 25,
   "outputs": [
    {
     "data": {
      "text/plain": "2"
     },
     "execution_count": 25,
     "metadata": {},
     "output_type": "execute_result"
    }
   ],
   "source": [
    "print(int(float(input()) * 10 % 10))"
   ],
   "metadata": {
    "collapsed": false,
    "pycharm": {
     "name": "#%%\n"
    }
   }
  },
  {
   "cell_type": "code",
   "execution_count": null,
   "outputs": [],
   "source": [
    "print(input().split('.')[1][0])"
   ],
   "metadata": {
    "collapsed": false,
    "pycharm": {
     "name": "#%%\n"
    }
   }
  },
  {
   "cell_type": "markdown",
   "source": [
    "Дано положительное действительное число. Выведите его дробную часть.\n",
    "\n",
    "Формат входных данных\n",
    "На вход программе подается положительное действительное число.\n",
    "\n",
    "Формат выходных данных\n",
    "Программа должна вывести дробную часть числа в соответствии с условием задачи.\n",
    "\n",
    "Примечание. Числа с плавающей точкой (тип float) в Python хранятся в неточном виде, что связано с ограниченным количеством выделенных для них байт в памяти. Поэтому ваша программа может выдавать дробную часть от числа не в ожидаемом виде. Например, для числа 44.45 остаток может выглядеть как:\n",
    "\n",
    "0.45000000000000284\n",
    "Наша проверяющая система засчитает как 0.45, так и 0.45000000000000284 правильными ответами."
   ],
   "metadata": {
    "collapsed": false,
    "pycharm": {
     "name": "#%% md\n"
    }
   }
  },
  {
   "cell_type": "code",
   "execution_count": null,
   "outputs": [],
   "source": [
    "n = float(input())\n",
    "\n",
    "print(abs(int(n)-n))"
   ],
   "metadata": {
    "collapsed": false,
    "pycharm": {
     "name": "#%%\n"
    }
   }
  },
  {
   "cell_type": "code",
   "execution_count": null,
   "outputs": [],
   "source": [
    "n = float(input())\n",
    "\n",
    "print(n % 1)"
   ],
   "metadata": {
    "collapsed": false,
    "pycharm": {
     "name": "#%%\n"
    }
   }
  },
  {
   "cell_type": "code",
   "execution_count": null,
   "outputs": [],
   "source": [
    "a = float(input ())\n",
    "print(a - a // 1)"
   ],
   "metadata": {
    "collapsed": false,
    "pycharm": {
     "name": "#%%\n"
    }
   }
  },
  {
   "cell_type": "code",
   "execution_count": null,
   "outputs": [],
   "source": [
    "print('0.' + input().split('.')[1])"
   ],
   "metadata": {
    "collapsed": false,
    "pycharm": {
     "name": "#%%\n"
    }
   }
  },
  {
   "cell_type": "code",
   "execution_count": null,
   "outputs": [],
   "source": [
    "n = input()\n",
    "k = n.find('.')\n",
    "print('0' + n[k:])"
   ],
   "metadata": {
    "collapsed": false,
    "pycharm": {
     "name": "#%%\n"
    }
   }
  },
  {
   "cell_type": "code",
   "execution_count": null,
   "outputs": [],
   "source": [
    "a = float(input())\n",
    "print(float(a * 10)% 10 * 0.1)"
   ],
   "metadata": {
    "collapsed": false,
    "pycharm": {
     "name": "#%%\n"
    }
   }
  },
  {
   "cell_type": "code",
   "execution_count": 26,
   "outputs": [
    {
     "name": "stdout",
     "output_type": "stream",
     "text": [
      "16\n"
     ]
    }
   ],
   "source": [
    "num = max(1, 3, -5, 7) + min(-3, 6, -8, -1) + abs(-17)\n",
    "print(num)"
   ],
   "metadata": {
    "collapsed": false,
    "pycharm": {
     "name": "#%%\n"
    }
   }
  },
  {
   "cell_type": "markdown",
   "source": [
    "Напишите программу, которая находит наименьшее и наибольшее из пяти чисел.\n",
    "\n",
    "Формат входных данных\n",
    "На вход программе подается пять целых чисел, каждое на отдельной строке.\n",
    "\n",
    "Формат выходных данных\n",
    "Программа должна вывести наименьшее и наибольшее число с поясняющей надписью."
   ],
   "metadata": {
    "collapsed": false,
    "pycharm": {
     "name": "#%% md\n"
    }
   }
  },
  {
   "cell_type": "code",
   "execution_count": 28,
   "outputs": [
    {
     "name": "stdout",
     "output_type": "stream",
     "text": [
      "Наименьшее число =  1\n",
      "Наибольшее число =  5\n"
     ]
    }
   ],
   "source": [
    "l = []\n",
    "\n",
    "for i in range(5):\n",
    "    l.append(int(input()))\n",
    "\n",
    "\n",
    "print('Наименьшее число =', min(l))\n",
    "print('Наибольшее число =', max(l))"
   ],
   "metadata": {
    "collapsed": false,
    "pycharm": {
     "name": "#%%\n"
    }
   }
  },
  {
   "cell_type": "code",
   "execution_count": null,
   "outputs": [],
   "source": [
    "nums = [int(input()) for _ in range(5)]\n",
    "print(f'Наименьшее число = {min(nums)}', f'Наибольшее число = {max(nums)}', sep='\\n')"
   ],
   "metadata": {
    "collapsed": false,
    "pycharm": {
     "name": "#%%\n"
    }
   }
  },
  {
   "cell_type": "code",
   "execution_count": null,
   "outputs": [],
   "source": [
    "print(*[f'Наименьшее число = {min(x)}\\nНаибольшее число = {max(x)}' for x in [[int(input()) for _ in range(5)]]])"
   ],
   "metadata": {
    "collapsed": false,
    "pycharm": {
     "name": "#%%\n"
    }
   }
  },
  {
   "cell_type": "code",
   "execution_count": null,
   "outputs": [],
   "source": [
    "l = list(map(int, open(0))) ; print(f'Наименьшее число = {min(l)}\\nНаибольшее число = {max(l)}')"
   ],
   "metadata": {
    "collapsed": false,
    "pycharm": {
     "name": "#%%\n"
    }
   }
  },
  {
   "cell_type": "markdown",
   "source": [
    "Напишите программу, которая упорядочивает три числа от большего к меньшему.\n",
    "\n",
    "Формат входных данных\n",
    "На вход программе подается три целых числа, каждое на отдельной строке.\n",
    "\n",
    "Формат выходных данных\n",
    "Программа должна вывести три числа, каждое на отдельной строке, упорядоченных от большего к меньшему.\n",
    "\n",
    "Примечание. Учитывайте, что числа могут быть равны."
   ],
   "metadata": {
    "collapsed": false,
    "pycharm": {
     "name": "#%% md\n"
    }
   }
  },
  {
   "cell_type": "code",
   "execution_count": 35,
   "outputs": [
    {
     "name": "stdout",
     "output_type": "stream",
     "text": [
      "1\n",
      "2\n",
      "3\n"
     ]
    }
   ],
   "source": [
    "l = []\n",
    "\n",
    "for _ in range(3):\n",
    "    l.append(int(input()))\n",
    "\n",
    "for i in range(3):\n",
    "    print(sorted(l)[i])"
   ],
   "metadata": {
    "collapsed": false,
    "pycharm": {
     "name": "#%%\n"
    }
   }
  },
  {
   "cell_type": "code",
   "execution_count": 42,
   "outputs": [
    {
     "name": "stdout",
     "output_type": "stream",
     "text": [
      "1\n",
      "2\n",
      "3\n"
     ]
    }
   ],
   "source": [
    "for num in sorted([int(input()) for _ in range(3)])[::-1]:\n",
    "    print(num)"
   ],
   "metadata": {
    "collapsed": false,
    "pycharm": {
     "name": "#%%\n"
    }
   }
  },
  {
   "cell_type": "code",
   "execution_count": null,
   "outputs": [],
   "source": [
    "print('\\n'.join(sorted([input() for _ in range(3)], reverse=True)))"
   ],
   "metadata": {
    "collapsed": false,
    "pycharm": {
     "name": "#%%\n"
    }
   }
  },
  {
   "cell_type": "code",
   "execution_count": null,
   "outputs": [],
   "source": [
    "p = [int(input()),int(input()),int(input())]\n",
    "p.sort(reverse=True)\n",
    "print(*p, sep=\"\\n\")"
   ],
   "metadata": {
    "collapsed": false,
    "pycharm": {
     "name": "#%%\n"
    }
   }
  },
  {
   "cell_type": "markdown",
   "source": [
    "Назовём число интересным, если в нём разность максимальной и минимальной цифры равняется средней по величине цифре. Напишите программу, которая определяет, интересное число или нет. Если число интересное, следует вывести «Число интересное», иначе – «Число неинтересное».\n",
    "\n",
    "Формат входных данных\n",
    "На вход программе подается целое трёхзначное число.\n",
    "\n",
    "Формат выходных данных\n",
    "Программа должна вывести текст в соответствии с условием задачи."
   ],
   "metadata": {
    "collapsed": false,
    "pycharm": {
     "name": "#%% md\n"
    }
   }
  },
  {
   "cell_type": "code",
   "execution_count": null,
   "outputs": [],
   "source": [
    "# Ввод трехзначного числа\n",
    "num = input()\n",
    "\n",
    "# Получение отдельных цифр\n",
    "digits = [int(d) for d in str(num)]\n",
    "\n",
    "# Нахождение максимальной, минимальной и средней цифры\n",
    "max_digit = max(digits)\n",
    "min_digit = min(digits)\n",
    "average_digit = sum(digits) - max_digit - min_digit\n",
    "\n",
    "# Проверка условия интересности числа\n",
    "if max_digit - min_digit == average_digit:\n",
    "    print(\"Число интересное\")\n",
    "else:\n",
    "    print(\"Число неинтересное\")"
   ],
   "metadata": {
    "collapsed": false,
    "pycharm": {
     "name": "#%%\n"
    }
   }
  },
  {
   "cell_type": "code",
   "execution_count": null,
   "outputs": [],
   "source": [
    "n = int(input())\n",
    "a, b, c = n // 100, n // 10 % 10, n % 10\n",
    "print('Число интересное' if max(a, b, c) == a + b + c - max(a, b, c) else 'Число неинтересное')"
   ],
   "metadata": {
    "collapsed": false,
    "pycharm": {
     "name": "#%%\n"
    }
   }
  },
  {
   "cell_type": "code",
   "execution_count": null,
   "outputs": [],
   "source": [
    "n = list(input())\n",
    "if str(int(max(n)) - int(min(n))) in n:\n",
    "    print(\"Число интересное\")\n",
    "else:\n",
    "    print(\"Число неинтересное\")"
   ],
   "metadata": {
    "collapsed": false,
    "pycharm": {
     "name": "#%%\n"
    }
   }
  },
  {
   "cell_type": "code",
   "execution_count": null,
   "outputs": [],
   "source": [
    "s=[int(i) for i in input()]\n",
    "print(('Число неинтересное','Число интересное')[(max(s)-min(s))==sorted(s)[1]])"
   ],
   "metadata": {
    "collapsed": false,
    "pycharm": {
     "name": "#%%\n"
    }
   }
  },
  {
   "cell_type": "markdown",
   "source": [
    "Даны пять чисел 𝑎1,𝑎2,𝑎3,𝑎4,𝑎5. Напишите программу, которая вычисляет сумму их модулей ∣𝑎1∣+∣𝑎2∣+∣𝑎3∣+∣𝑎4∣+∣𝑎5∣.\n",
    "\n",
    "Формат входных данных\n",
    "На вход программе подаются пять действительных чисел\n",
    "𝑎1,𝑎2,𝑎3,𝑎4,𝑎5, каждое на отдельной строке.\n",
    "\n",
    "Формат выходных данных\n",
    "Программа должна вывести одно число – сумму модулей введённых чисел."
   ],
   "metadata": {
    "collapsed": false,
    "pycharm": {
     "name": "#%% md\n"
    }
   }
  },
  {
   "cell_type": "code",
   "execution_count": null,
   "outputs": [],
   "source": [
    "# Считываем пять чисел\n",
    "a1 = float(input())\n",
    "a2 = float(input())\n",
    "a3 = float(input())\n",
    "a4 = float(input())\n",
    "a5 = float(input())\n",
    "\n",
    "# Вычисляем сумму модулей чисел\n",
    "total_sum = abs(a1) + abs(a2) + abs(a3) + abs(a4) + abs(a5)\n",
    "\n",
    "# Выводим результат\n",
    "print(total_sum)"
   ],
   "metadata": {
    "collapsed": false,
    "pycharm": {
     "name": "#%%\n"
    }
   }
  },
  {
   "cell_type": "code",
   "execution_count": null,
   "outputs": [],
   "source": [
    "lst = map(float, [input() for _ in range(5)])\n",
    "print(sum(map(abs, lst)))"
   ],
   "metadata": {
    "collapsed": false,
    "pycharm": {
     "name": "#%%\n"
    }
   }
  },
  {
   "cell_type": "code",
   "execution_count": null,
   "outputs": [],
   "source": [
    "print(sum([abs(float(input())) for _ in range(5)]))"
   ],
   "metadata": {
    "collapsed": false,
    "pycharm": {
     "name": "#%%\n"
    }
   }
  },
  {
   "cell_type": "markdown",
   "source": [
    "Прогуливаясь по Манхэттену, вы не можете попасть из точки А в точку Б по кратчайшему пути. Если только вы не умеете проходить сквозь стены, вам обязательно придется идти вдоль его параллельно-перпендикулярных улиц.\n",
    "\n",
    "На плоскости манхэттенское расстояние между двумя точками\n",
    "(𝑝1;𝑝2) и (𝑞1;𝑞2) определяется так:∣𝑝1−𝑞1∣+∣𝑝2−𝑞2∣.\n",
    "\n",
    "Напишите программу, определяющую манхэттенское расстояние между двумя точками, координаты которых заданы.\n",
    "\n",
    "Формат входных данных\n",
    "На вход программе подается четыре целых числа, каждое на отдельной строке –\n",
    "𝑝1,𝑝2,𝑞1,𝑞2.\n",
    "\n",
    "Формат выходных данных\n",
    "Программа должна вывести одно число – манхэттенское расстояние."
   ],
   "metadata": {
    "collapsed": false,
    "pycharm": {
     "name": "#%% md\n"
    }
   }
  },
  {
   "cell_type": "code",
   "execution_count": null,
   "outputs": [],
   "source": [
    "# Считываем координаты точек\n",
    "p1 = int(input())\n",
    "p2 = int(input())\n",
    "q1 = int(input())\n",
    "q2 = int(input())\n",
    "\n",
    "# Вычисляем Манхэттенское расстояние\n",
    "manhattan_distance = abs(p1 - q1) + abs(p2 - q2)\n",
    "\n",
    "# Выводим результат\n",
    "print(manhattan_distance)"
   ],
   "metadata": {
    "collapsed": false,
    "pycharm": {
     "name": "#%%\n"
    }
   }
  },
  {
   "cell_type": "code",
   "execution_count": null,
   "outputs": [],
   "source": [
    "[print(abs(a-c)+abs(b-d))for a,b,c,d in[[int(input())for i in'abcd']]]"
   ],
   "metadata": {
    "collapsed": false,
    "pycharm": {
     "name": "#%%\n"
    }
   }
  },
  {
   "cell_type": "code",
   "execution_count": null,
   "outputs": [],
   "source": [
    "l = [int(input()) for _ in range(4)]\n",
    "\n",
    "print(abs(l[0] - l[2]) + abs(l[1] - l[3]))"
   ],
   "metadata": {
    "collapsed": false,
    "pycharm": {
     "name": "#%%\n"
    }
   }
  }
 ],
 "metadata": {
  "kernelspec": {
   "display_name": "Python 3",
   "language": "python",
   "name": "python3"
  },
  "language_info": {
   "codemirror_mode": {
    "name": "ipython",
    "version": 2
   },
   "file_extension": ".py",
   "mimetype": "text/x-python",
   "name": "python",
   "nbconvert_exporter": "python",
   "pygments_lexer": "ipython2",
   "version": "2.7.6"
  }
 },
 "nbformat": 4,
 "nbformat_minor": 0
}