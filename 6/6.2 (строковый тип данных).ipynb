﻿{
 "cells": [
  {
   "cell_type": "code",
   "execution_count": 1,
   "outputs": [
    {
     "name": "stdout",
     "output_type": "stream",
     "text": [
      "данетда\n"
     ]
    }
   ],
   "source": [
    "mystr = 'да'\n",
    "mystr = mystr + 'нет'\n",
    "mystr = mystr + 'да'\n",
    "print(mystr)"
   ],
   "metadata": {
    "collapsed": false,
    "pycharm": {
     "name": "#%%\n"
    }
   }
  },
  {
   "cell_type": "code",
   "execution_count": 2,
   "outputs": [
    {
     "name": "stdout",
     "output_type": "stream",
     "text": [
      "121312141213121\n"
     ]
    }
   ],
   "source": [
    "str1 = '1'\n",
    "str2 = str1 + '2' + str1\n",
    "str3 = str2 + '3' + str2\n",
    "str4 = str3 + '4' + str3\n",
    "print(str4)"
   ],
   "metadata": {
    "collapsed": false,
    "pycharm": {
     "name": "#%%\n"
    }
   }
  },
  {
   "cell_type": "code",
   "execution_count": 3,
   "outputs": [
    {
     "name": "stdout",
     "output_type": "stream",
     "text": [
      "123123123456456789\n"
     ]
    }
   ],
   "source": [
    "mystr = '123' * 3 + '456' * 2 + '789' * 1\n",
    "print(mystr)"
   ],
   "metadata": {
    "collapsed": false,
    "pycharm": {
     "name": "#%%\n"
    }
   }
  },
  {
   "cell_type": "markdown",
   "source": [
    "Напишите программу, которая выводит текст:\n",
    "\n",
    "\"Python is a great language!\", said Fred. \"I don't ever remember having this much fun before.\"\n",
    "Примечание. Используйте конкатенацию строк."
   ],
   "metadata": {
    "collapsed": false,
    "pycharm": {
     "name": "#%% md\n"
    }
   }
  },
  {
   "cell_type": "code",
   "execution_count": null,
   "outputs": [],
   "source": [
    "print('\"Python is a great language!\", said Fred. \"' + \"I don't ever remember having this much fun\" + ' before.\"')"
   ],
   "metadata": {
    "collapsed": false,
    "pycharm": {
     "name": "#%%\n"
    }
   }
  },
  {
   "cell_type": "markdown",
   "source": [
    "Напишите программу, которая считывает с клавиатуры две строки – имя и фамилию пользователя и выводит фразу:\n",
    "\n",
    "Hello <введённое имя> <введённая фамилия>! You have just delved into Python\n",
    "Формат входных данных\n",
    "На вход программе подаются две строки (имя и фамилия), каждая на отдельной строке.\n",
    "\n",
    "Формат выходных данных\n",
    "Программа должна вывести текст в соответствии с условием задачи."
   ],
   "metadata": {
    "collapsed": false,
    "pycharm": {
     "name": "#%% md\n"
    }
   }
  },
  {
   "cell_type": "code",
   "execution_count": null,
   "outputs": [],
   "source": [
    "# name = input()\n",
    "# surname = input()\n",
    "\n",
    "print(f'Hello {input()} {input()}! You have just delved into Python')"
   ],
   "metadata": {
    "collapsed": false,
    "pycharm": {
     "name": "#%%\n"
    }
   }
  },
  {
   "cell_type": "markdown",
   "source": [
    "Напишите программу, которая считывает с клавиатуры название футбольной команды и выводит информацию о ней в следующем формате:\n",
    "\n",
    "Футбольная команда <название футбольной команды> имеет длину <длина названия футбольной команды> символов\n",
    "Формат входных данных\n",
    "На вход программе подаётся одна строка: название футбольной команды.\n",
    "\n",
    "Формат выходных данных\n",
    "Программа должна вывести текст в соответствии с условием задачи."
   ],
   "metadata": {
    "collapsed": false,
    "pycharm": {
     "name": "#%% md\n"
    }
   }
  },
  {
   "cell_type": "code",
   "execution_count": null,
   "outputs": [],
   "source": [
    "comand_name = input()\n",
    "print(f'Футбольная команда {comand_name} имеет длину {len(comand_name)} символов')"
   ],
   "metadata": {
    "collapsed": false,
    "pycharm": {
     "name": "#%%\n"
    }
   }
  },
  {
   "cell_type": "markdown",
   "source": [
    "Даны названия трёх городов. Напишите программу, которая определяет самое короткое и самое длинное название города.\n",
    "\n",
    "Формат входных данных\n",
    "На вход программе подаются названия трёх городов, каждое на отдельной строке.\n",
    "\n",
    "Формат выходных данных\n",
    "Программа должна вывести самое короткое и длинное название города, каждое на отдельной строке.\n",
    "\n",
    "Примечание. Гарантируется, что длины названий всех трёх городов различны."
   ],
   "metadata": {
    "collapsed": false,
    "pycharm": {
     "name": "#%% md\n"
    }
   }
  },
  {
   "cell_type": "code",
   "execution_count": 7,
   "outputs": [
    {
     "name": "stdout",
     "output_type": "stream",
     "text": [
      "3\n"
     ]
    }
   ],
   "source": [
    "l = []\n",
    "for i in range(3):\n",
    "    l.append(input())\n",
    "\n",
    "lengths = [len(x) for x in l]\n",
    "\n",
    "for city in l:\n",
    "    if len(city) == min(lengths):\n",
    "        min_ = city\n",
    "    if len(city) == max(lengths):\n",
    "        max_ = city\n",
    "\n",
    "print(min_)\n",
    "print(max_)"
   ],
   "metadata": {
    "collapsed": false,
    "pycharm": {
     "name": "#%%\n"
    }
   }
  },
  {
   "cell_type": "markdown",
   "source": [
    "у функций мин и макс есть ключи"
   ],
   "metadata": {
    "collapsed": false,
    "pycharm": {
     "name": "#%% md\n"
    }
   }
  },
  {
   "cell_type": "code",
   "execution_count": null,
   "outputs": [],
   "source": [
    "a, b, c = input(), input(), input()\n",
    "print(min(a, b, c, key=len))\n",
    "print(max(a, b, c, key=len))"
   ],
   "metadata": {
    "collapsed": false,
    "pycharm": {
     "name": "#%%\n"
    }
   }
  },
  {
   "cell_type": "code",
   "execution_count": null,
   "outputs": [],
   "source": [
    "print(*sorted((input() for _ in range(3)), key=len)[::2], sep='\\n')"
   ],
   "metadata": {
    "collapsed": false,
    "pycharm": {
     "name": "#%%\n"
    }
   }
  },
  {
   "cell_type": "code",
   "execution_count": null,
   "outputs": [],
   "source": [
    "a, b, c = input(), input(), input()\n",
    "d = {len(a): a, len(b): b, len(c): c}\n",
    "print(d[min(d)], d[max(d)], sep='\\n')"
   ],
   "metadata": {
    "collapsed": false,
    "pycharm": {
     "name": "#%%\n"
    }
   }
  },
  {
   "cell_type": "markdown",
   "source": [
    "Вводятся 3 строки в случайном порядке. Напишите программу, которая выясняет, можно ли из длин этих строк построить арифметическую прогрессию.\n",
    "\n",
    "Формат входных данных\n",
    "На вход программе подаются три строки, каждая на отдельной строке.\n",
    "\n",
    "Формат выходных данных\n",
    "Программа должна вывести строку «YES», если из длин введенных слов можно построить арифметическую прогрессию, или «NO» в противном случае."
   ],
   "metadata": {
    "collapsed": false,
    "pycharm": {
     "name": "#%% md\n"
    }
   }
  },
  {
   "cell_type": "code",
   "execution_count": null,
   "outputs": [],
   "source": [
    "l = sorted((input() for _ in range(3)), key=len)\n",
    "lengths = [len(city) for city in l]\n",
    "# print(lengths)\n",
    "# sorted(lengths)\n",
    "\n",
    "if lengths[2] - lengths[1] == lengths[1] - lengths[0]:\n",
    "    print('YES')\n",
    "else:\n",
    "    print('NO')"
   ],
   "metadata": {
    "collapsed": false,
    "pycharm": {
     "name": "#%%\n"
    }
   }
  },
  {
   "cell_type": "code",
   "execution_count": null,
   "outputs": [],
   "source": [
    "a, b, c = len(input()), len(input()), len(input())\n",
    "print(\"YES\" if (2 * b - c - a) == 0 or (2 * c - b - a) == 0 or (2 * a - b - c) == 0 else \"NO\")"
   ],
   "metadata": {
    "collapsed": false,
    "pycharm": {
     "name": "#%%\n"
    }
   }
  },
  {
   "cell_type": "code",
   "execution_count": null,
   "outputs": [],
   "source": [
    "a = sorted([len(input()), len(input()), len(input())])\n",
    "print('YES' if a[2] - a[1] == a[1] - a[0] else 'NO')"
   ],
   "metadata": {
    "collapsed": false,
    "pycharm": {
     "name": "#%%\n"
    }
   }
  },
  {
   "cell_type": "code",
   "execution_count": 8,
   "outputs": [
    {
     "name": "stdout",
     "output_type": "stream",
     "text": [
      "False\n",
      "True\n"
     ]
    }
   ],
   "source": [
    "language1 = 'JavaScript'\n",
    "language2 = 'Java'\n",
    "\n",
    "print(language1 in language2)\n",
    "print(language2 in language1)"
   ],
   "metadata": {
    "collapsed": false,
    "pycharm": {
     "name": "#%%\n"
    }
   }
  },
  {
   "cell_type": "code",
   "execution_count": 9,
   "outputs": [
    {
     "name": "stdout",
     "output_type": "stream",
     "text": [
      "True\n",
      "False\n"
     ]
    }
   ],
   "source": [
    "digits = '0123456789'\n",
    "\n",
    "print('45' in digits)\n",
    "print('09' in digits)"
   ],
   "metadata": {
    "collapsed": false,
    "pycharm": {
     "name": "#%%\n"
    }
   }
  },
  {
   "cell_type": "markdown",
   "source": [
    "Напишите программу, которая считывает одну строку, после чего выводит «YES», если во введённой строке есть подстрока «синий», или «NO» в противном случае.\n",
    "\n",
    "Формат входных данных\n",
    "На вход программе подаётся одна строка.\n",
    "\n",
    "Формат выходных данных\n",
    "Программа должна вывести текст в соответствии с условием задачи."
   ],
   "metadata": {
    "collapsed": false,
    "pycharm": {
     "name": "#%% md\n"
    }
   }
  },
  {
   "cell_type": "code",
   "execution_count": null,
   "outputs": [],
   "source": [
    "print('YES' if 'синий' in input() else 'NO')"
   ],
   "metadata": {
    "collapsed": false,
    "pycharm": {
     "name": "#%%\n"
    }
   }
  },
  {
   "cell_type": "code",
   "execution_count": null,
   "outputs": [],
   "source": [
    "print(('YES', 'NO')['синий' not in input()])"
   ],
   "metadata": {
    "collapsed": false,
    "pycharm": {
     "name": "#%%\n"
    }
   }
  },
  {
   "cell_type": "markdown",
   "source": [
    "Напишите программу, которая считывает одну строку, после чего выводит «YES» (без кавычек), если во введённой строке есть подстрока «суббота» или «воскресенье», или «NO» (без кавычек) в противном случае.\n",
    "\n",
    "Формат входных данных\n",
    "На вход программе подаётся одна строка.\n",
    "\n",
    "Формат выходных данных\n",
    "Программа должна вывести текст в соответствии с условием задачи."
   ],
   "metadata": {
    "collapsed": false,
    "pycharm": {
     "name": "#%% md\n"
    }
   }
  },
  {
   "cell_type": "code",
   "execution_count": 11,
   "outputs": [
    {
     "name": "stdout",
     "output_type": "stream",
     "text": [
      "NO\n"
     ]
    }
   ],
   "source": [
    "s = input()\n",
    "print('YES' if 'суббота' in s or 'воскресенье' in s else 'NO')\n"
   ],
   "metadata": {
    "collapsed": false,
    "pycharm": {
     "name": "#%%\n"
    }
   }
  },
  {
   "cell_type": "code",
   "execution_count": null,
   "outputs": [],
   "source": [
    "print('YES' if 'суббота' in (i := input()) or 'воскресенье' in i else 'NO')"
   ],
   "metadata": {
    "collapsed": false,
    "pycharm": {
     "name": "#%%\n"
    }
   }
  },
  {
   "cell_type": "code",
   "execution_count": null,
   "outputs": [],
   "source": [
    "[print('YES' if 'воскресенье' in i or 'суббота' in i else 'NO') for i in [input()]]"
   ],
   "metadata": {
    "collapsed": false,
    "pycharm": {
     "name": "#%%\n"
    }
   }
  },
  {
   "cell_type": "markdown",
   "source": [
    "Будем считать email адрес корректным, если в нём есть символы собачки (@) и точки (.). Напишите программу, проверяющую корректность email адреса.\n",
    "\n",
    "Формат входных данных\n",
    "На вход программе подаётся одна строка: email адрес.\n",
    "\n",
    "Формат выходных данных\n",
    "Программа должна вывести строку «YES», если email адрес является корректным, или «NO» в противном случае.\n",
    "\n",
    "Примечание. Для настоящих email адресов недостаточно наличия символов @ и ., однако их отсутствие гарантировано влечёт за собой неверный email."
   ],
   "metadata": {
    "collapsed": false,
    "pycharm": {
     "name": "#%% md\n"
    }
   }
  },
  {
   "cell_type": "code",
   "execution_count": 15,
   "outputs": [
    {
     "name": "stdout",
     "output_type": "stream",
     "text": [
      "YES\n"
     ]
    }
   ],
   "source": [
    "print('YES' if '@' in (i := input()) and '.' in i else 'NO')"
   ],
   "metadata": {
    "collapsed": false,
    "pycharm": {
     "name": "#%%\n"
    }
   }
  },
  {
   "cell_type": "code",
   "execution_count": 16,
   "outputs": [
    {
     "name": "stdout",
     "output_type": "stream",
     "text": [
      "YES\n"
     ]
    }
   ],
   "source": [
    "print('YES' if '@' in (i := input()) and '.' in i else 'NO')"
   ],
   "metadata": {
    "collapsed": false,
    "pycharm": {
     "name": "#%%\n"
    }
   }
  }
 ],
 "metadata": {
  "kernelspec": {
   "display_name": "Python 3",
   "language": "python",
   "name": "python3"
  },
  "language_info": {
   "codemirror_mode": {
    "name": "ipython",
    "version": 2
   },
   "file_extension": ".py",
   "mimetype": "text/x-python",
   "name": "python",
   "nbconvert_exporter": "python",
   "pygments_lexer": "ipython2",
   "version": "2.7.6"
  }
 },
 "nbformat": 4,
 "nbformat_minor": 0
}